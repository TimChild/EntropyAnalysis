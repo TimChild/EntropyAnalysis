{
 "cells": [
  {
   "cell_type": "code",
   "execution_count": 1,
   "metadata": {},
   "outputs": [],
   "source": [
    "from JupyterImport import *\n",
    "from src.DataStandardize.ExpSpecific.Sep20 import Fixes\n",
    "root_logger.setLevel(logging.WARNING)"
   ]
  },
  {
   "cell_type": "code",
   "execution_count": 35,
   "metadata": {},
   "outputs": [
    {
     "name": "stderr",
     "output_type": "stream",
     "text": [
      "100% (452 of 452) |######################| Elapsed Time: 0:00:00 Time:  0:00:00\n"
     ]
    }
   ],
   "source": [
    "# dats = get_dats((2986, 2993+1))  # Testing Entropy with RCSQ/RCSS HQPC. 50mK, 0mT, 125mV bias\n",
    "\n",
    "# dats = get_dats((2994, 3161+1))  # Entropy vs temp using RCSQ/RCSS HQPC, 0mT, 50, 100, 175, 250mK\n",
    "\n",
    "# dats = get_dats((3162, 3221+1)) # Same as above with -50mT one full set, another up to 100mK\n",
    "\n",
    "# dats = get_dats((3230, 3417+1))  # Small steps in field around -50mT\n",
    "# dats.extend(get_dats((3418, 3455+1)))  # Start of next loop through\n",
    "\n",
    "dats = get_dats((3456, 3907+1))  # 0.1mT steps in field around -20mT at 100mK\n",
    "# dats = get_dats((3456, 3665+1))\n",
    "\n",
    "for dat in dats:\n",
    "    Fixes.fix_magy(dat)\n",
    "    \n",
    "dat_dict = {dat.datnum: dat for dat in dats}\n",
    "p1_dats = dats[::2]\n",
    "dat_pairs = [(dat, dat_dict[dat.datnum+1]) for dat in p1_dats]"
   ]
  },
  {
   "cell_type": "code",
   "execution_count": 29,
   "metadata": {
    "collapsed": true,
    "jupyter": {
     "outputs_hidden": true
    }
   },
   "outputs": [
    {
     "name": "stdout",
     "output_type": "stream",
     "text": [
      "Dat3456: Field=-20.98mT\n",
      "Dat3457: Field=-20.98mT\n",
      "Dat3458: Field=-20.98mT\n",
      "Dat3459: Field=-20.98mT\n",
      "Dat3460: Field=-20.98mT\n",
      "Dat3461: Field=-20.98mT\n",
      "Dat3462: Field=-20.98mT\n",
      "Dat3463: Field=-20.98mT\n",
      "Dat3464: Field=-20.98mT\n",
      "Dat3465: Field=-20.98mT\n",
      "Dat3466: Field=-20.88mT\n",
      "Dat3467: Field=-20.88mT\n",
      "Dat3468: Field=-20.88mT\n",
      "Dat3469: Field=-20.88mT\n",
      "Dat3470: Field=-20.88mT\n",
      "Dat3471: Field=-20.88mT\n",
      "Dat3472: Field=-20.88mT\n",
      "Dat3473: Field=-20.88mT\n",
      "Dat3474: Field=-20.88mT\n",
      "Dat3475: Field=-20.88mT\n",
      "Dat3476: Field=-20.78mT\n",
      "Dat3477: Field=-20.78mT\n",
      "Dat3478: Field=-20.78mT\n",
      "Dat3479: Field=-20.78mT\n",
      "Dat3480: Field=-20.78mT\n",
      "Dat3481: Field=-20.78mT\n",
      "Dat3482: Field=-20.78mT\n",
      "Dat3483: Field=-20.78mT\n",
      "Dat3484: Field=-20.78mT\n",
      "Dat3485: Field=-20.78mT\n",
      "Dat3486: Field=-20.67mT\n",
      "Dat3487: Field=-20.67mT\n",
      "Dat3488: Field=-20.67mT\n",
      "Dat3489: Field=-20.67mT\n",
      "Dat3490: Field=-20.67mT\n",
      "Dat3491: Field=-20.67mT\n",
      "Dat3492: Field=-20.67mT\n",
      "Dat3493: Field=-20.67mT\n",
      "Dat3494: Field=-20.67mT\n",
      "Dat3495: Field=-20.67mT\n",
      "Dat3496: Field=-20.58mT\n",
      "Dat3497: Field=-20.58mT\n",
      "Dat3498: Field=-20.58mT\n",
      "Dat3499: Field=-20.58mT\n",
      "Dat3500: Field=-20.58mT\n",
      "Dat3501: Field=-20.58mT\n",
      "Dat3502: Field=-20.58mT\n",
      "Dat3503: Field=-20.58mT\n",
      "Dat3504: Field=-20.58mT\n",
      "Dat3505: Field=-20.58mT\n",
      "Dat3506: Field=-20.48mT\n",
      "Dat3507: Field=-20.48mT\n",
      "Dat3508: Field=-20.48mT\n",
      "Dat3509: Field=-20.48mT\n",
      "Dat3510: Field=-20.48mT\n",
      "Dat3511: Field=-20.48mT\n",
      "Dat3512: Field=-20.48mT\n",
      "Dat3513: Field=-20.48mT\n",
      "Dat3514: Field=-20.48mT\n",
      "Dat3515: Field=-20.48mT\n",
      "Dat3516: Field=-20.38mT\n",
      "Dat3517: Field=-20.38mT\n",
      "Dat3518: Field=-20.38mT\n",
      "Dat3519: Field=-20.38mT\n",
      "Dat3520: Field=-20.38mT\n",
      "Dat3521: Field=-20.38mT\n",
      "Dat3522: Field=-20.38mT\n",
      "Dat3523: Field=-20.38mT\n",
      "Dat3524: Field=-20.38mT\n",
      "Dat3525: Field=-20.38mT\n",
      "Dat3526: Field=-20.28mT\n",
      "Dat3527: Field=-20.28mT\n",
      "Dat3528: Field=-20.28mT\n",
      "Dat3529: Field=-20.28mT\n",
      "Dat3530: Field=-20.28mT\n",
      "Dat3531: Field=-20.28mT\n",
      "Dat3532: Field=-20.28mT\n",
      "Dat3533: Field=-20.28mT\n",
      "Dat3534: Field=-20.28mT\n",
      "Dat3535: Field=-20.28mT\n",
      "Dat3536: Field=-20.17mT\n",
      "Dat3537: Field=-20.17mT\n",
      "Dat3538: Field=-20.17mT\n",
      "Dat3539: Field=-20.17mT\n",
      "Dat3540: Field=-20.17mT\n",
      "Dat3541: Field=-20.17mT\n",
      "Dat3542: Field=-20.17mT\n",
      "Dat3543: Field=-20.17mT\n",
      "Dat3544: Field=-20.17mT\n",
      "Dat3545: Field=-20.17mT\n",
      "Dat3546: Field=-20.08mT\n",
      "Dat3547: Field=-20.08mT\n",
      "Dat3548: Field=-20.08mT\n",
      "Dat3549: Field=-20.08mT\n",
      "Dat3550: Field=-20.08mT\n",
      "Dat3551: Field=-20.08mT\n",
      "Dat3552: Field=-20.08mT\n",
      "Dat3553: Field=-20.08mT\n",
      "Dat3554: Field=-20.08mT\n",
      "Dat3555: Field=-20.08mT\n",
      "Dat3556: Field=-19.98mT\n",
      "Dat3557: Field=-19.98mT\n",
      "Dat3558: Field=-19.98mT\n",
      "Dat3559: Field=-19.98mT\n",
      "Dat3560: Field=-19.98mT\n",
      "Dat3561: Field=-19.98mT\n",
      "Dat3562: Field=-19.98mT\n",
      "Dat3563: Field=-19.98mT\n",
      "Dat3564: Field=-19.98mT\n",
      "Dat3565: Field=-19.98mT\n",
      "Dat3566: Field=-19.87mT\n",
      "Dat3567: Field=-19.87mT\n",
      "Dat3568: Field=-19.87mT\n",
      "Dat3569: Field=-19.87mT\n",
      "Dat3570: Field=-19.87mT\n",
      "Dat3571: Field=-19.87mT\n",
      "Dat3572: Field=-19.87mT\n",
      "Dat3573: Field=-19.87mT\n",
      "Dat3574: Field=-19.87mT\n",
      "Dat3575: Field=-19.87mT\n",
      "Dat3576: Field=-19.78mT\n",
      "Dat3577: Field=-19.78mT\n",
      "Dat3578: Field=-19.78mT\n",
      "Dat3579: Field=-19.78mT\n",
      "Dat3580: Field=-19.78mT\n",
      "Dat3581: Field=-19.78mT\n",
      "Dat3582: Field=-19.78mT\n",
      "Dat3583: Field=-19.78mT\n",
      "Dat3584: Field=-19.78mT\n",
      "Dat3585: Field=-19.78mT\n",
      "Dat3586: Field=-19.67mT\n",
      "Dat3587: Field=-19.68mT\n",
      "Dat3588: Field=-19.68mT\n",
      "Dat3589: Field=-19.68mT\n",
      "Dat3590: Field=-19.67mT\n",
      "Dat3591: Field=-19.68mT\n",
      "Dat3592: Field=-19.68mT\n",
      "Dat3593: Field=-19.67mT\n",
      "Dat3594: Field=-19.67mT\n",
      "Dat3595: Field=-19.68mT\n",
      "Dat3596: Field=-19.58mT\n",
      "Dat3597: Field=-19.58mT\n",
      "Dat3598: Field=-19.58mT\n",
      "Dat3599: Field=-19.58mT\n",
      "Dat3600: Field=-19.58mT\n",
      "Dat3601: Field=-19.58mT\n",
      "Dat3602: Field=-19.58mT\n",
      "Dat3603: Field=-19.58mT\n",
      "Dat3604: Field=-19.58mT\n",
      "Dat3605: Field=-19.58mT\n",
      "Dat3606: Field=-19.48mT\n",
      "Dat3607: Field=-19.48mT\n",
      "Dat3608: Field=-19.48mT\n",
      "Dat3609: Field=-19.48mT\n",
      "Dat3610: Field=-19.48mT\n",
      "Dat3611: Field=-19.48mT\n",
      "Dat3612: Field=-19.48mT\n",
      "Dat3613: Field=-19.48mT\n",
      "Dat3614: Field=-19.48mT\n",
      "Dat3615: Field=-19.48mT\n",
      "Dat3616: Field=-19.38mT\n",
      "Dat3617: Field=-19.38mT\n",
      "Dat3618: Field=-19.38mT\n",
      "Dat3619: Field=-19.38mT\n",
      "Dat3620: Field=-19.38mT\n",
      "Dat3621: Field=-19.38mT\n",
      "Dat3622: Field=-19.38mT\n",
      "Dat3623: Field=-19.38mT\n",
      "Dat3624: Field=-19.38mT\n",
      "Dat3625: Field=-19.38mT\n",
      "Dat3626: Field=-19.29mT\n",
      "Dat3627: Field=-19.29mT\n",
      "Dat3628: Field=-19.29mT\n",
      "Dat3629: Field=-19.29mT\n",
      "Dat3630: Field=-19.29mT\n",
      "Dat3631: Field=-19.29mT\n",
      "Dat3632: Field=-19.29mT\n",
      "Dat3633: Field=-19.29mT\n",
      "Dat3634: Field=-19.29mT\n",
      "Dat3635: Field=-19.29mT\n",
      "Dat3636: Field=-19.18mT\n",
      "Dat3637: Field=-19.18mT\n",
      "Dat3638: Field=-19.18mT\n",
      "Dat3639: Field=-19.18mT\n",
      "Dat3640: Field=-19.18mT\n",
      "Dat3641: Field=-19.18mT\n",
      "Dat3642: Field=-19.18mT\n",
      "Dat3643: Field=-19.18mT\n",
      "Dat3644: Field=-19.18mT\n",
      "Dat3645: Field=-19.18mT\n",
      "Dat3646: Field=-19.07mT\n",
      "Dat3647: Field=-19.07mT\n",
      "Dat3648: Field=-19.07mT\n",
      "Dat3649: Field=-19.07mT\n",
      "Dat3650: Field=-19.07mT\n",
      "Dat3651: Field=-19.07mT\n",
      "Dat3652: Field=-19.07mT\n",
      "Dat3653: Field=-19.07mT\n",
      "Dat3654: Field=-19.07mT\n",
      "Dat3655: Field=-19.07mT\n",
      "Dat3656: Field=-18.98mT\n",
      "Dat3657: Field=-18.98mT\n",
      "Dat3658: Field=-18.98mT\n",
      "Dat3659: Field=-18.98mT\n",
      "Dat3660: Field=-18.98mT\n",
      "Dat3661: Field=-18.98mT\n",
      "Dat3662: Field=-18.98mT\n",
      "Dat3663: Field=-18.98mT\n",
      "Dat3664: Field=-18.98mT\n",
      "Dat3665: Field=-18.98mT\n",
      "Dat3666: Field=-20.98mT\n",
      "Dat3667: Field=-20.98mT\n",
      "Dat3668: Field=-20.98mT\n",
      "Dat3669: Field=-20.98mT\n",
      "Dat3670: Field=-20.98mT\n",
      "Dat3671: Field=-20.98mT\n",
      "Dat3672: Field=-20.98mT\n",
      "Dat3673: Field=-20.98mT\n",
      "Dat3674: Field=-20.98mT\n",
      "Dat3675: Field=-20.98mT\n",
      "Dat3676: Field=-20.88mT\n",
      "Dat3677: Field=-20.88mT\n",
      "Dat3678: Field=-20.88mT\n",
      "Dat3679: Field=-20.88mT\n",
      "Dat3680: Field=-20.88mT\n",
      "Dat3681: Field=-20.88mT\n",
      "Dat3682: Field=-20.88mT\n",
      "Dat3683: Field=-20.88mT\n",
      "Dat3684: Field=-20.88mT\n",
      "Dat3685: Field=-20.88mT\n",
      "Dat3686: Field=-20.77mT\n",
      "Dat3687: Field=-20.78mT\n",
      "Dat3688: Field=-20.78mT\n",
      "Dat3689: Field=-20.78mT\n",
      "Dat3690: Field=-20.78mT\n",
      "Dat3691: Field=-20.78mT\n",
      "Dat3692: Field=-20.78mT\n",
      "Dat3693: Field=-20.78mT\n",
      "Dat3694: Field=-20.78mT\n",
      "Dat3695: Field=-20.78mT\n",
      "Dat3696: Field=-20.67mT\n",
      "Dat3697: Field=-20.67mT\n",
      "Dat3698: Field=-20.67mT\n",
      "Dat3699: Field=-20.67mT\n",
      "Dat3700: Field=-20.67mT\n",
      "Dat3701: Field=-20.67mT\n",
      "Dat3702: Field=-20.67mT\n",
      "Dat3703: Field=-20.67mT\n",
      "Dat3704: Field=-20.67mT\n",
      "Dat3705: Field=-20.67mT\n",
      "Dat3706: Field=-20.58mT\n",
      "Dat3707: Field=-20.58mT\n",
      "Dat3708: Field=-20.58mT\n",
      "Dat3709: Field=-20.58mT\n",
      "Dat3710: Field=-20.58mT\n",
      "Dat3711: Field=-20.58mT\n",
      "Dat3712: Field=-20.58mT\n",
      "Dat3713: Field=-20.58mT\n",
      "Dat3714: Field=-20.58mT\n",
      "Dat3715: Field=-20.58mT\n",
      "Dat3716: Field=-20.48mT\n",
      "Dat3717: Field=-20.48mT\n",
      "Dat3718: Field=-20.48mT\n",
      "Dat3719: Field=-20.48mT\n",
      "Dat3720: Field=-20.48mT\n",
      "Dat3721: Field=-20.48mT\n",
      "Dat3722: Field=-20.48mT\n",
      "Dat3723: Field=-20.48mT\n",
      "Dat3724: Field=-20.48mT\n",
      "Dat3725: Field=-20.48mT\n",
      "Dat3726: Field=-20.38mT\n",
      "Dat3727: Field=-20.38mT\n",
      "Dat3728: Field=-20.38mT\n",
      "Dat3729: Field=-20.38mT\n",
      "Dat3730: Field=-20.38mT\n",
      "Dat3731: Field=-20.38mT\n",
      "Dat3732: Field=-20.38mT\n",
      "Dat3733: Field=-20.38mT\n",
      "Dat3734: Field=-20.38mT\n",
      "Dat3735: Field=-20.38mT\n",
      "Dat3736: Field=-20.28mT\n",
      "Dat3737: Field=-20.28mT\n",
      "Dat3738: Field=-20.28mT\n",
      "Dat3739: Field=-20.28mT\n",
      "Dat3740: Field=-20.28mT\n",
      "Dat3741: Field=-20.28mT\n",
      "Dat3742: Field=-20.28mT\n",
      "Dat3743: Field=-20.28mT\n",
      "Dat3744: Field=-20.28mT\n",
      "Dat3745: Field=-20.28mT\n",
      "Dat3746: Field=-20.17mT\n",
      "Dat3747: Field=-20.17mT\n",
      "Dat3748: Field=-20.17mT\n",
      "Dat3749: Field=-20.17mT\n",
      "Dat3750: Field=-20.17mT\n",
      "Dat3751: Field=-20.17mT\n",
      "Dat3752: Field=-20.17mT\n",
      "Dat3753: Field=-20.17mT\n",
      "Dat3754: Field=-20.17mT\n",
      "Dat3755: Field=-20.17mT\n",
      "Dat3756: Field=-20.08mT\n",
      "Dat3757: Field=-20.08mT\n",
      "Dat3758: Field=-20.08mT\n",
      "Dat3759: Field=-20.08mT\n",
      "Dat3760: Field=-20.08mT\n",
      "Dat3761: Field=-20.08mT\n",
      "Dat3762: Field=-20.08mT\n",
      "Dat3763: Field=-20.08mT\n",
      "Dat3764: Field=-20.08mT\n",
      "Dat3765: Field=-20.08mT\n",
      "Dat3766: Field=-19.98mT\n",
      "Dat3767: Field=-19.98mT\n",
      "Dat3768: Field=-19.98mT\n",
      "Dat3769: Field=-19.98mT\n",
      "Dat3770: Field=-19.98mT\n",
      "Dat3771: Field=-19.98mT\n",
      "Dat3772: Field=-19.98mT\n",
      "Dat3773: Field=-19.98mT\n",
      "Dat3774: Field=-19.98mT\n",
      "Dat3775: Field=-19.98mT\n",
      "Dat3776: Field=-19.87mT\n",
      "Dat3777: Field=-19.87mT\n",
      "Dat3778: Field=-19.87mT\n",
      "Dat3779: Field=-19.87mT\n",
      "Dat3780: Field=-19.87mT\n",
      "Dat3781: Field=-19.87mT\n",
      "Dat3782: Field=-19.87mT\n",
      "Dat3783: Field=-19.87mT\n",
      "Dat3784: Field=-19.87mT\n",
      "Dat3785: Field=-19.87mT\n",
      "Dat3786: Field=-19.78mT\n",
      "Dat3787: Field=-19.78mT\n",
      "Dat3788: Field=-19.78mT\n",
      "Dat3789: Field=-19.78mT\n",
      "Dat3790: Field=-19.78mT\n",
      "Dat3791: Field=-19.78mT\n",
      "Dat3792: Field=-19.78mT\n",
      "Dat3793: Field=-19.78mT\n",
      "Dat3794: Field=-19.78mT\n",
      "Dat3795: Field=-19.78mT\n",
      "Dat3796: Field=-19.68mT\n",
      "Dat3797: Field=-19.68mT\n",
      "Dat3798: Field=-19.68mT\n",
      "Dat3799: Field=-19.68mT\n",
      "Dat3800: Field=-19.68mT\n",
      "Dat3801: Field=-19.68mT\n",
      "Dat3802: Field=-19.68mT\n",
      "Dat3803: Field=-19.68mT\n",
      "Dat3804: Field=-19.68mT\n",
      "Dat3805: Field=-19.68mT\n",
      "Dat3806: Field=-19.58mT\n",
      "Dat3807: Field=-19.58mT\n",
      "Dat3808: Field=-19.58mT\n",
      "Dat3809: Field=-19.58mT\n",
      "Dat3810: Field=-19.58mT\n",
      "Dat3811: Field=-19.58mT\n",
      "Dat3812: Field=-19.58mT\n",
      "Dat3813: Field=-19.58mT\n",
      "Dat3814: Field=-19.58mT\n",
      "Dat3815: Field=-19.58mT\n",
      "Dat3816: Field=-19.48mT\n",
      "Dat3817: Field=-19.48mT\n",
      "Dat3818: Field=-19.48mT\n",
      "Dat3819: Field=-19.48mT\n",
      "Dat3820: Field=-19.48mT\n",
      "Dat3821: Field=-19.48mT\n",
      "Dat3822: Field=-19.48mT\n",
      "Dat3823: Field=-19.48mT\n",
      "Dat3824: Field=-19.48mT\n",
      "Dat3825: Field=-19.48mT\n",
      "Dat3826: Field=-19.38mT\n",
      "Dat3827: Field=-19.38mT\n",
      "Dat3828: Field=-19.38mT\n",
      "Dat3829: Field=-19.38mT\n",
      "Dat3830: Field=-19.38mT\n",
      "Dat3831: Field=-19.38mT\n",
      "Dat3832: Field=-19.38mT\n",
      "Dat3833: Field=-19.38mT\n",
      "Dat3834: Field=-19.38mT\n",
      "Dat3835: Field=-19.38mT\n",
      "Dat3836: Field=-19.29mT\n",
      "Dat3837: Field=-19.29mT\n",
      "Dat3838: Field=-19.29mT\n",
      "Dat3839: Field=-19.29mT\n",
      "Dat3840: Field=-19.29mT\n",
      "Dat3841: Field=-19.29mT\n",
      "Dat3842: Field=-19.29mT\n",
      "Dat3843: Field=-19.29mT\n",
      "Dat3844: Field=-19.29mT\n",
      "Dat3845: Field=-19.29mT\n",
      "Dat3846: Field=-19.18mT\n",
      "Dat3847: Field=-19.18mT\n",
      "Dat3848: Field=-19.18mT\n",
      "Dat3849: Field=-19.18mT\n",
      "Dat3850: Field=-19.18mT\n",
      "Dat3851: Field=-19.18mT\n",
      "Dat3852: Field=-19.18mT\n",
      "Dat3853: Field=-19.18mT\n",
      "Dat3854: Field=-19.18mT\n",
      "Dat3855: Field=-19.18mT\n",
      "Dat3856: Field=-19.07mT\n",
      "Dat3857: Field=-19.07mT\n",
      "Dat3858: Field=-19.07mT\n",
      "Dat3859: Field=-19.07mT\n",
      "Dat3860: Field=-19.07mT\n",
      "Dat3861: Field=-19.07mT\n",
      "Dat3862: Field=-19.08mT\n",
      "Dat3863: Field=-19.07mT\n",
      "Dat3864: Field=-19.08mT\n",
      "Dat3865: Field=-19.08mT\n",
      "Dat3866: Field=-18.98mT\n",
      "Dat3867: Field=-18.98mT\n",
      "Dat3868: Field=-18.98mT\n",
      "Dat3869: Field=-18.98mT\n",
      "Dat3870: Field=-18.98mT\n",
      "Dat3871: Field=-18.98mT\n",
      "Dat3872: Field=-18.98mT\n",
      "Dat3873: Field=-18.98mT\n",
      "Dat3874: Field=-18.98mT\n",
      "Dat3875: Field=-18.98mT\n",
      "Dat3876: Field=-20.98mT\n",
      "Dat3877: Field=-20.98mT\n",
      "Dat3878: Field=-20.98mT\n",
      "Dat3879: Field=-20.98mT\n",
      "Dat3880: Field=-20.98mT\n",
      "Dat3881: Field=-20.98mT\n",
      "Dat3882: Field=-20.98mT\n",
      "Dat3883: Field=-20.98mT\n",
      "Dat3884: Field=-20.98mT\n",
      "Dat3885: Field=-20.98mT\n",
      "Dat3886: Field=-20.88mT\n",
      "Dat3887: Field=-20.88mT\n",
      "Dat3888: Field=-20.88mT\n",
      "Dat3889: Field=-20.88mT\n",
      "Dat3890: Field=-20.88mT\n",
      "Dat3891: Field=-20.88mT\n",
      "Dat3892: Field=-20.88mT\n",
      "Dat3893: Field=-20.88mT\n",
      "Dat3894: Field=-20.88mT\n",
      "Dat3895: Field=-20.88mT\n",
      "Dat3896: Field=-20.78mT\n",
      "Dat3897: Field=-20.78mT\n",
      "Dat3898: Field=-20.78mT\n",
      "Dat3899: Field=-20.78mT\n",
      "Dat3900: Field=-20.78mT\n",
      "Dat3901: Field=-20.78mT\n",
      "Dat3902: Field=-20.78mT\n",
      "Dat3903: Field=-20.78mT\n",
      "Dat3904: Field=-20.78mT\n",
      "Dat3905: Field=-20.78mT\n",
      "Dat3906: Field=-20.67mT\n",
      "Dat3907: Field=-20.67mT\n"
     ]
    }
   ],
   "source": [
    "for dat in dats:\n",
    "    print(f'Dat{dat.datnum}: Field={dat.Logs.magy.field:.2f}mT')"
   ]
  },
  {
   "cell_type": "code",
   "execution_count": 18,
   "metadata": {},
   "outputs": [
    {
     "name": "stderr",
     "output_type": "stream",
     "text": [
      "N/A% (0 of 226) |                        | Elapsed Time: 0:00:00 ETA:  --:--:--WARNING:src.DatObject.Attributes.Transition:LinAlgError encountered, retrying\n",
      "D:\\OneDrive\\UBC LAB\\GitHub\\Python\\PyDatAnalysis\\src\\DatObject\\Attributes\\SquareEntropy.py:522: RuntimeWarning:\n",
      "\n",
      "Mean of empty slice\n",
      "\n",
      " 87% (198 of 226) |###################   | Elapsed Time: 0:00:00 ETA:   0:00:00WARNING:src.DatObject.Attributes.Transition:LinAlgError encountered, retrying\n",
      " 88% (199 of 226) |###################   | Elapsed Time: 0:00:00 ETA:   0:00:00WARNING:src.DatObject.Attributes.Transition:LinAlgError encountered, retrying\n",
      " 88% (200 of 226) |###################   | Elapsed Time: 0:00:01 ETA:   0:00:00WARNING:src.DatObject.Attributes.Transition:LinAlgError encountered, retrying\n",
      " 88% (201 of 226) |###################   | Elapsed Time: 0:00:01 ETA:   0:00:00WARNING:src.DatObject.Attributes.Transition:LinAlgError encountered, retrying\n",
      " 89% (202 of 226) |###################   | Elapsed Time: 0:00:01 ETA:   0:00:00WARNING:src.DatObject.Attributes.Transition:LinAlgError encountered, retrying\n",
      " 89% (203 of 226) |###################   | Elapsed Time: 0:00:01 ETA:   0:00:00WARNING:src.DatObject.Attributes.Transition:LinAlgError encountered, retrying\n",
      " 90% (204 of 226) |###################   | Elapsed Time: 0:00:02 ETA:   0:00:00WARNING:src.DatObject.Attributes.Transition:LinAlgError encountered, retrying\n",
      " 90% (205 of 226) |###################   | Elapsed Time: 0:00:02 ETA:   0:00:00WARNING:src.DatObject.Attributes.Transition:LinAlgError encountered, retrying\n",
      " 98% (223 of 226) |##################### | Elapsed Time: 0:00:07 ETA:   0:00:00WARNING:src.DatObject.Attributes.Transition:LinAlgError encountered, retrying\n",
      " 99% (224 of 226) |##################### | Elapsed Time: 0:00:07 ETA:   0:00:00WARNING:src.DatObject.Attributes.Transition:LinAlgError encountered, retrying\n",
      " 99% (225 of 226) |##################### | Elapsed Time: 0:00:08 ETA:   0:00:00WARNING:src.DatObject.Attributes.Transition:LinAlgError encountered, retrying\n",
      "100% (226 of 226) |######################| Elapsed Time: 0:00:08 Time:  0:00:08\n"
     ]
    }
   ],
   "source": [
    "recalculate = False\n",
    "\n",
    "analysis_params = EA.EA_params(bin_data=False, num_per_row=500,\n",
    "                            sub_line=False, sub_line_range=(-4000, -300),\n",
    "                            int_entropy_range=(400, 1000),\n",
    "                            allowed_amp_range=(0.8, 1.2), default_amp=1.05,\n",
    "                            allowed_dT_range=(1, 50), default_dT=2.7,\n",
    "                            CT_fit_range=(None, None),\n",
    "                            fit_param_edit_kwargs=dict(),\n",
    "                            E_fit_range=(-500, 500))\n",
    "\n",
    "\n",
    "for pair in progressbar(dat_pairs):\n",
    "    if recalculate or not hasattr(pair[0].Other, 'EA_values'):\n",
    "        EA.standard_square_process(pair, analysis_params)"
   ]
  },
  {
   "cell_type": "code",
   "execution_count": null,
   "metadata": {},
   "outputs": [],
   "source": [
    "which = ['transition', 'entropy'] #, 'integrated']\n",
    "# which = ['transition']\n",
    "\n",
    "figt = EA.Plots.waterfall(dats, which='transition', mode='lines', add_fits=False, shift_per=0.025)\n",
    "fige = EA.Plots.waterfall(dats, which='entropy', mode='lines', add_fits=True, shift_per=0.025)\n",
    "\n",
    "\n",
    "figt.show()\n",
    "fige.show()"
   ]
  },
  {
   "cell_type": "code",
   "execution_count": 41,
   "metadata": {},
   "outputs": [
    {
     "data": {
      "application/vnd.plotly.v1+json": {
       "config": {
        "plotlyServerURL": "https://plot.ly"
       },
       "data": [
        {
         "customdata": [
          3464,
          3474,
          3484,
          3494,
          3504,
          3514,
          3524,
          3534,
          3544,
          3554,
          3564,
          3574,
          3584,
          3594,
          3604,
          3614,
          3624,
          3634,
          3644,
          3654,
          3664,
          3674,
          3684,
          3694,
          3704,
          3714,
          3724,
          3734,
          3744,
          3754,
          3764,
          3774,
          3784,
          3794,
          3804,
          3814,
          3824,
          3834,
          3844,
          3854,
          3864,
          3874,
          3884,
          3894,
          3904
         ],
         "hovertemplate": "Datnum: %{customdata}<br>Field /mT: %{x:.4f}<br>Integrated Entropy /kB: %{y:.2f}",
         "mode": "markers",
         "name": "-460.00mV",
         "type": "scatter",
         "x": [
          -20.975,
          -20.883,
          -20.776,
          -20.673,
          -20.578,
          -20.477,
          -20.381,
          -20.281,
          -20.173,
          -20.077,
          -19.975,
          -19.874,
          -19.782,
          -19.673,
          -19.577,
          -19.481,
          -19.378,
          -19.287,
          -19.182,
          -19.075,
          -18.979,
          -20.975,
          -20.883,
          -20.776,
          -20.671,
          -20.578,
          -20.477,
          -20.381,
          -20.281,
          -20.171,
          -20.079,
          -19.975,
          -19.872,
          -19.782,
          -19.675,
          -19.577,
          -19.481,
          -19.378,
          -19.287,
          -19.182,
          -19.077,
          -18.979,
          -20.977,
          -20.884,
          -20.776
         ],
         "y": [
          1.02530474685439,
          0.9364835653612796,
          0.9549236545344129,
          1.020805356632033,
          1.0279990832055372,
          0.9357444601230133,
          0.9239382295478095,
          0.9863720836506155,
          0.876672630996128,
          0.9384134228960701,
          0.898757428233561,
          0.9807176854850779,
          1.0801491390302334,
          0.8884781942937192,
          0.9954738250120096,
          0.9327562209213375,
          0.8708669384055253,
          0.8961404791144553,
          0.9483287356104075,
          1.0168870753495654,
          1.1106649724388442,
          0.9375174032078419,
          0.9949039729809239,
          0.9610573777066573,
          0.977580318423594,
          0.9457825969618513,
          0.8927890750081701,
          1.1031616671577278,
          1.0132319798646308,
          0.9028165107722012,
          1.0702734159870249,
          0.9752594076945243,
          1.002110933979932,
          0.9581544301440421,
          0.8691770387390253,
          0.9571058612788611,
          0.9610610889556098,
          1.0354551267819319,
          0.8946362512108161,
          0.918002311512985,
          0.9312697880172185,
          0.9214771775332282,
          0.9414975225947587,
          0.991033273673813,
          0.9917478195106841
         ]
        },
        {
         "customdata": [
          3462,
          3472,
          3482,
          3492,
          3502,
          3512,
          3522,
          3532,
          3542,
          3552,
          3562,
          3572,
          3582,
          3592,
          3602,
          3612,
          3622,
          3632,
          3642,
          3652,
          3662,
          3672,
          3682,
          3692,
          3702,
          3712,
          3722,
          3732,
          3742,
          3752,
          3762,
          3772,
          3782,
          3792,
          3802,
          3812,
          3822,
          3832,
          3842,
          3852,
          3862,
          3872,
          3882,
          3892,
          3902
         ],
         "hovertemplate": "Datnum: %{customdata}<br>Field /mT: %{x:.4f}<br>Integrated Entropy /kB: %{y:.2f}",
         "mode": "markers",
         "name": "-440.00mV",
         "type": "scatter",
         "x": [
          -20.975,
          -20.883,
          -20.776,
          -20.673,
          -20.578,
          -20.477,
          -20.381,
          -20.281,
          -20.171,
          -20.077,
          -19.975,
          -19.874,
          -19.782,
          -19.675,
          -19.577,
          -19.481,
          -19.378,
          -19.287,
          -19.182,
          -19.075,
          -18.979,
          -20.975,
          -20.883,
          -20.776,
          -20.673,
          -20.578,
          -20.477,
          -20.381,
          -20.281,
          -20.171,
          -20.079,
          -19.975,
          -19.874,
          -19.782,
          -19.675,
          -19.577,
          -19.481,
          -19.378,
          -19.289,
          -19.182,
          -19.077,
          -18.979,
          -20.977,
          -20.884,
          -20.776
         ],
         "y": [
          0.9771837528926095,
          0.976534060772495,
          0.9176084102901373,
          0.9244723434429236,
          0.8819875309888895,
          1.01165103275199,
          0.9346911174060927,
          1.0351645661759856,
          0.9419192056890225,
          1.0139693473044282,
          0.9527156433989173,
          0.9066508173700679,
          0.88545619253642,
          0.8976967264669002,
          0.8687970987250332,
          0.9230235634780244,
          0.9759792046210063,
          0.9045190959259346,
          0.9982880988003081,
          0.9989318922186918,
          0.9075901636758882,
          0.8124608196434591,
          0.888838562493504,
          0.9302851532500739,
          0.9592633134968811,
          0.8758527372382473,
          0.8975319694613723,
          0.9309241540087251,
          1.0189439913341942,
          0.9130753071380944,
          0.9559845932958337,
          0.8244105822674809,
          0.9285122295238789,
          0.9082414151906176,
          0.915270968371926,
          0.9172855987341355,
          0.8194260430833018,
          0.9270562635061459,
          0.9995446426840848,
          0.886474458482916,
          0.9611692600551434,
          0.9807434873323851,
          0.8855284479634429,
          0.9054062276125491,
          0.9413500928332394
         ]
        },
        {
         "customdata": [
          3460,
          3470,
          3480,
          3490,
          3500,
          3510,
          3520,
          3530,
          3540,
          3550,
          3560,
          3570,
          3580,
          3590,
          3600,
          3610,
          3620,
          3630,
          3640,
          3650,
          3660,
          3670,
          3680,
          3690,
          3700,
          3710,
          3720,
          3730,
          3740,
          3750,
          3760,
          3770,
          3780,
          3790,
          3800,
          3810,
          3820,
          3830,
          3840,
          3850,
          3860,
          3870,
          3880,
          3890,
          3900
         ],
         "hovertemplate": "Datnum: %{customdata}<br>Field /mT: %{x:.4f}<br>Integrated Entropy /kB: %{y:.2f}",
         "mode": "markers",
         "name": "-420.00mV",
         "type": "scatter",
         "x": [
          -20.975,
          -20.883,
          -20.776,
          -20.673,
          -20.578,
          -20.477,
          -20.381,
          -20.281,
          -20.171,
          -20.077,
          -19.975,
          -19.872,
          -19.782,
          -19.673,
          -19.577,
          -19.481,
          -19.378,
          -19.287,
          -19.182,
          -19.075,
          -18.979,
          -20.975,
          -20.883,
          -20.776,
          -20.671,
          -20.578,
          -20.477,
          -20.381,
          -20.281,
          -20.171,
          -20.079,
          -19.975,
          -19.872,
          -19.782,
          -19.675,
          -19.577,
          -19.481,
          -19.378,
          -19.289,
          -19.182,
          -19.075,
          -18.979,
          -20.975,
          -20.884,
          -20.776
         ],
         "y": [
          0.8046042961780383,
          0.9690400892095741,
          0.877240925260892,
          0.8730411062237499,
          0.8579784770319114,
          0.9490353636245725,
          0.9822741045888812,
          0.9366896693291424,
          0.9012932685149687,
          0.9054809422178054,
          0.8722467891266522,
          0.8949542901563289,
          0.9174026048754975,
          0.8111846775289002,
          0.9223377897176621,
          0.8293842060637271,
          0.9339985277948334,
          0.8774917277755988,
          0.928118715774919,
          0.9564683500663508,
          0.7709512905525718,
          0.8347876413988121,
          0.8303920489142561,
          0.8668971270324273,
          0.8399372429113202,
          0.9123020302573275,
          0.882294797567209,
          0.8422004631866935,
          0.8385450464302041,
          0.8144478405057862,
          0.8551948710260717,
          0.8962855440995119,
          0.9869531781407825,
          0.8324788240153808,
          0.9127041035499455,
          0.8187742436873607,
          0.8035883965684384,
          0.8334512318252559,
          0.9317093465737111,
          0.9280919454158956,
          0.9508841347377218,
          0.8782485065688675,
          0.8024735441707137,
          0.8445922051682727,
          0.8540078912207648
         ]
        },
        {
         "customdata": [
          3458,
          3468,
          3478,
          3488,
          3498,
          3508,
          3518,
          3528,
          3538,
          3548,
          3558,
          3568,
          3578,
          3588,
          3598,
          3608,
          3618,
          3628,
          3638,
          3648,
          3658,
          3668,
          3678,
          3688,
          3698,
          3708,
          3718,
          3728,
          3738,
          3748,
          3758,
          3768,
          3778,
          3788,
          3798,
          3808,
          3818,
          3828,
          3838,
          3848,
          3858,
          3868,
          3878,
          3888,
          3898
         ],
         "hovertemplate": "Datnum: %{customdata}<br>Field /mT: %{x:.4f}<br>Integrated Entropy /kB: %{y:.2f}",
         "mode": "markers",
         "name": "-400.00mV",
         "type": "scatter",
         "x": [
          -20.975,
          -20.883,
          -20.776,
          -20.673,
          -20.578,
          -20.477,
          -20.379,
          -20.281,
          -20.173,
          -20.077,
          -19.975,
          -19.872,
          -19.78,
          -19.675,
          -19.577,
          -19.481,
          -19.378,
          -19.287,
          -19.182,
          -19.075,
          -18.979,
          -20.975,
          -20.883,
          -20.776,
          -20.673,
          -20.577,
          -20.475,
          -20.381,
          -20.281,
          -20.171,
          -20.079,
          -19.975,
          -19.872,
          -19.782,
          -19.675,
          -19.577,
          -19.481,
          -19.378,
          -19.287,
          -19.182,
          -19.075,
          -18.979,
          -20.975,
          -20.884,
          -20.776
         ],
         "y": [
          0.8254939001835748,
          0.9339573087082712,
          0.9214964542515144,
          0.8869999849204006,
          0.860482157979645,
          0.9110034037147198,
          0.8882875399685808,
          0.9428976073972144,
          0.900669828020935,
          0.8739353459214783,
          0.9480823667215565,
          0.9391205401042636,
          0.7437495235061514,
          0.8899583928432766,
          0.9707580293535468,
          0.9070096239682208,
          0.8743969555940074,
          0.9547039990423081,
          0.8264496788066298,
          0.9252392646679214,
          0.8835319778373908,
          0.8385427522743468,
          0.7616144502311206,
          0.9301735206408677,
          0.9104175793737236,
          0.8903403492413029,
          0.8845461432738738,
          1.024269705878699,
          0.8915466153585421,
          0.8403150598816445,
          0.8404840312461064,
          0.8870627875043369,
          0.9084776266211599,
          0.8419224584994311,
          0.9363436863753887,
          0.9358559197401591,
          0.9538388208582277,
          0.9490738092381569,
          0.8510942267084397,
          0.9358272927707624,
          0.9097300502131526,
          0.9480996208142961,
          0.9959091600072228,
          0.8847765432581335,
          0.8697244385159485
         ]
        },
        {
         "customdata": [
          3456,
          3466,
          3476,
          3486,
          3496,
          3506,
          3516,
          3526,
          3536,
          3546,
          3556,
          3566,
          3576,
          3586,
          3596,
          3606,
          3616,
          3626,
          3636,
          3646,
          3656,
          3666,
          3676,
          3686,
          3696,
          3706,
          3716,
          3726,
          3736,
          3746,
          3756,
          3766,
          3776,
          3786,
          3796,
          3806,
          3816,
          3826,
          3836,
          3846,
          3856,
          3866,
          3876,
          3886,
          3896,
          3906
         ],
         "hovertemplate": "Datnum: %{customdata}<br>Field /mT: %{x:.4f}<br>Integrated Entropy /kB: %{y:.2f}",
         "mode": "markers",
         "name": "-380.00mV",
         "type": "scatter",
         "x": [
          -20.975,
          -20.883,
          -20.776,
          -20.673,
          -20.578,
          -20.477,
          -20.379,
          -20.281,
          -20.171,
          -20.077,
          -19.975,
          -19.874,
          -19.782,
          -19.673,
          -19.577,
          -19.481,
          -19.378,
          -19.287,
          -19.182,
          -19.075,
          -18.979,
          -20.975,
          -20.883,
          -20.774,
          -20.671,
          -20.578,
          -20.475,
          -20.381,
          -20.281,
          -20.173,
          -20.077,
          -19.975,
          -19.872,
          -19.782,
          -19.675,
          -19.577,
          -19.481,
          -19.378,
          -19.287,
          -19.182,
          -19.075,
          -18.979,
          -20.975,
          -20.884,
          -20.776,
          -20.673
         ],
         "y": [
          0.8711235146422208,
          0.9638843138558267,
          0.9160189200564439,
          0.8699738461496617,
          0.9032133936177191,
          0.8516763682709421,
          0.9658564053611046,
          0.8258059539744237,
          1.0004339449350426,
          0.8493329366303058,
          0.8881594358500541,
          0.7337183738957925,
          0.9147494002170384,
          0.8558402495294987,
          1.002888945284384,
          0.9401378206081845,
          1.0041088440660393,
          0.9293215293784094,
          0.9144392682474508,
          0.9048468877411139,
          0.9234572278316668,
          0.9341827628414386,
          0.9794410680753368,
          0.9734119935011238,
          0.9708145311922818,
          0.8579241563180405,
          0.8779221577775759,
          0.8569984500401198,
          0.9064130410359487,
          0.8784760669429199,
          0.8773105578518106,
          0.9169909148197003,
          0.8403283904811245,
          0.8483248696446094,
          1.0221207382550375,
          0.869770981703365,
          0.9198524202682666,
          0.9029189298280622,
          0.9057194458539721,
          0.8240308350735156,
          0.9549031512647053,
          0.921597098026278,
          0.8425991071291707,
          0.8007090161041462,
          0.9720068942311128,
          0.976039376257735
         ]
        }
       ],
       "layout": {
        "autosize": true,
        "template": {
         "data": {
          "bar": [
           {
            "error_x": {
             "color": "#2a3f5f"
            },
            "error_y": {
             "color": "#2a3f5f"
            },
            "marker": {
             "line": {
              "color": "#E5ECF6",
              "width": 0.5
             }
            },
            "type": "bar"
           }
          ],
          "barpolar": [
           {
            "marker": {
             "line": {
              "color": "#E5ECF6",
              "width": 0.5
             }
            },
            "type": "barpolar"
           }
          ],
          "carpet": [
           {
            "aaxis": {
             "endlinecolor": "#2a3f5f",
             "gridcolor": "white",
             "linecolor": "white",
             "minorgridcolor": "white",
             "startlinecolor": "#2a3f5f"
            },
            "baxis": {
             "endlinecolor": "#2a3f5f",
             "gridcolor": "white",
             "linecolor": "white",
             "minorgridcolor": "white",
             "startlinecolor": "#2a3f5f"
            },
            "type": "carpet"
           }
          ],
          "choropleth": [
           {
            "colorbar": {
             "outlinewidth": 0,
             "ticks": ""
            },
            "type": "choropleth"
           }
          ],
          "contour": [
           {
            "colorbar": {
             "outlinewidth": 0,
             "ticks": ""
            },
            "colorscale": [
             [
              0,
              "#0d0887"
             ],
             [
              0.1111111111111111,
              "#46039f"
             ],
             [
              0.2222222222222222,
              "#7201a8"
             ],
             [
              0.3333333333333333,
              "#9c179e"
             ],
             [
              0.4444444444444444,
              "#bd3786"
             ],
             [
              0.5555555555555556,
              "#d8576b"
             ],
             [
              0.6666666666666666,
              "#ed7953"
             ],
             [
              0.7777777777777778,
              "#fb9f3a"
             ],
             [
              0.8888888888888888,
              "#fdca26"
             ],
             [
              1,
              "#f0f921"
             ]
            ],
            "type": "contour"
           }
          ],
          "contourcarpet": [
           {
            "colorbar": {
             "outlinewidth": 0,
             "ticks": ""
            },
            "type": "contourcarpet"
           }
          ],
          "heatmap": [
           {
            "colorbar": {
             "outlinewidth": 0,
             "ticks": ""
            },
            "colorscale": [
             [
              0,
              "#0d0887"
             ],
             [
              0.1111111111111111,
              "#46039f"
             ],
             [
              0.2222222222222222,
              "#7201a8"
             ],
             [
              0.3333333333333333,
              "#9c179e"
             ],
             [
              0.4444444444444444,
              "#bd3786"
             ],
             [
              0.5555555555555556,
              "#d8576b"
             ],
             [
              0.6666666666666666,
              "#ed7953"
             ],
             [
              0.7777777777777778,
              "#fb9f3a"
             ],
             [
              0.8888888888888888,
              "#fdca26"
             ],
             [
              1,
              "#f0f921"
             ]
            ],
            "type": "heatmap"
           }
          ],
          "heatmapgl": [
           {
            "colorbar": {
             "outlinewidth": 0,
             "ticks": ""
            },
            "colorscale": [
             [
              0,
              "#0d0887"
             ],
             [
              0.1111111111111111,
              "#46039f"
             ],
             [
              0.2222222222222222,
              "#7201a8"
             ],
             [
              0.3333333333333333,
              "#9c179e"
             ],
             [
              0.4444444444444444,
              "#bd3786"
             ],
             [
              0.5555555555555556,
              "#d8576b"
             ],
             [
              0.6666666666666666,
              "#ed7953"
             ],
             [
              0.7777777777777778,
              "#fb9f3a"
             ],
             [
              0.8888888888888888,
              "#fdca26"
             ],
             [
              1,
              "#f0f921"
             ]
            ],
            "type": "heatmapgl"
           }
          ],
          "histogram": [
           {
            "marker": {
             "colorbar": {
              "outlinewidth": 0,
              "ticks": ""
             }
            },
            "type": "histogram"
           }
          ],
          "histogram2d": [
           {
            "colorbar": {
             "outlinewidth": 0,
             "ticks": ""
            },
            "colorscale": [
             [
              0,
              "#0d0887"
             ],
             [
              0.1111111111111111,
              "#46039f"
             ],
             [
              0.2222222222222222,
              "#7201a8"
             ],
             [
              0.3333333333333333,
              "#9c179e"
             ],
             [
              0.4444444444444444,
              "#bd3786"
             ],
             [
              0.5555555555555556,
              "#d8576b"
             ],
             [
              0.6666666666666666,
              "#ed7953"
             ],
             [
              0.7777777777777778,
              "#fb9f3a"
             ],
             [
              0.8888888888888888,
              "#fdca26"
             ],
             [
              1,
              "#f0f921"
             ]
            ],
            "type": "histogram2d"
           }
          ],
          "histogram2dcontour": [
           {
            "colorbar": {
             "outlinewidth": 0,
             "ticks": ""
            },
            "colorscale": [
             [
              0,
              "#0d0887"
             ],
             [
              0.1111111111111111,
              "#46039f"
             ],
             [
              0.2222222222222222,
              "#7201a8"
             ],
             [
              0.3333333333333333,
              "#9c179e"
             ],
             [
              0.4444444444444444,
              "#bd3786"
             ],
             [
              0.5555555555555556,
              "#d8576b"
             ],
             [
              0.6666666666666666,
              "#ed7953"
             ],
             [
              0.7777777777777778,
              "#fb9f3a"
             ],
             [
              0.8888888888888888,
              "#fdca26"
             ],
             [
              1,
              "#f0f921"
             ]
            ],
            "type": "histogram2dcontour"
           }
          ],
          "mesh3d": [
           {
            "colorbar": {
             "outlinewidth": 0,
             "ticks": ""
            },
            "type": "mesh3d"
           }
          ],
          "parcoords": [
           {
            "line": {
             "colorbar": {
              "outlinewidth": 0,
              "ticks": ""
             }
            },
            "type": "parcoords"
           }
          ],
          "pie": [
           {
            "automargin": true,
            "type": "pie"
           }
          ],
          "scatter": [
           {
            "marker": {
             "colorbar": {
              "outlinewidth": 0,
              "ticks": ""
             }
            },
            "type": "scatter"
           }
          ],
          "scatter3d": [
           {
            "line": {
             "colorbar": {
              "outlinewidth": 0,
              "ticks": ""
             }
            },
            "marker": {
             "colorbar": {
              "outlinewidth": 0,
              "ticks": ""
             }
            },
            "type": "scatter3d"
           }
          ],
          "scattercarpet": [
           {
            "marker": {
             "colorbar": {
              "outlinewidth": 0,
              "ticks": ""
             }
            },
            "type": "scattercarpet"
           }
          ],
          "scattergeo": [
           {
            "marker": {
             "colorbar": {
              "outlinewidth": 0,
              "ticks": ""
             }
            },
            "type": "scattergeo"
           }
          ],
          "scattergl": [
           {
            "marker": {
             "colorbar": {
              "outlinewidth": 0,
              "ticks": ""
             }
            },
            "type": "scattergl"
           }
          ],
          "scattermapbox": [
           {
            "marker": {
             "colorbar": {
              "outlinewidth": 0,
              "ticks": ""
             }
            },
            "type": "scattermapbox"
           }
          ],
          "scatterpolar": [
           {
            "marker": {
             "colorbar": {
              "outlinewidth": 0,
              "ticks": ""
             }
            },
            "type": "scatterpolar"
           }
          ],
          "scatterpolargl": [
           {
            "marker": {
             "colorbar": {
              "outlinewidth": 0,
              "ticks": ""
             }
            },
            "type": "scatterpolargl"
           }
          ],
          "scatterternary": [
           {
            "marker": {
             "colorbar": {
              "outlinewidth": 0,
              "ticks": ""
             }
            },
            "type": "scatterternary"
           }
          ],
          "surface": [
           {
            "colorbar": {
             "outlinewidth": 0,
             "ticks": ""
            },
            "colorscale": [
             [
              0,
              "#0d0887"
             ],
             [
              0.1111111111111111,
              "#46039f"
             ],
             [
              0.2222222222222222,
              "#7201a8"
             ],
             [
              0.3333333333333333,
              "#9c179e"
             ],
             [
              0.4444444444444444,
              "#bd3786"
             ],
             [
              0.5555555555555556,
              "#d8576b"
             ],
             [
              0.6666666666666666,
              "#ed7953"
             ],
             [
              0.7777777777777778,
              "#fb9f3a"
             ],
             [
              0.8888888888888888,
              "#fdca26"
             ],
             [
              1,
              "#f0f921"
             ]
            ],
            "type": "surface"
           }
          ],
          "table": [
           {
            "cells": {
             "fill": {
              "color": "#EBF0F8"
             },
             "line": {
              "color": "white"
             }
            },
            "header": {
             "fill": {
              "color": "#C8D4E3"
             },
             "line": {
              "color": "white"
             }
            },
            "type": "table"
           }
          ]
         },
         "layout": {
          "annotationdefaults": {
           "arrowcolor": "#2a3f5f",
           "arrowhead": 0,
           "arrowwidth": 1
          },
          "coloraxis": {
           "colorbar": {
            "outlinewidth": 0,
            "ticks": ""
           }
          },
          "colorscale": {
           "diverging": [
            [
             0,
             "#8e0152"
            ],
            [
             0.1,
             "#c51b7d"
            ],
            [
             0.2,
             "#de77ae"
            ],
            [
             0.3,
             "#f1b6da"
            ],
            [
             0.4,
             "#fde0ef"
            ],
            [
             0.5,
             "#f7f7f7"
            ],
            [
             0.6,
             "#e6f5d0"
            ],
            [
             0.7,
             "#b8e186"
            ],
            [
             0.8,
             "#7fbc41"
            ],
            [
             0.9,
             "#4d9221"
            ],
            [
             1,
             "#276419"
            ]
           ],
           "sequential": [
            [
             0,
             "#0d0887"
            ],
            [
             0.1111111111111111,
             "#46039f"
            ],
            [
             0.2222222222222222,
             "#7201a8"
            ],
            [
             0.3333333333333333,
             "#9c179e"
            ],
            [
             0.4444444444444444,
             "#bd3786"
            ],
            [
             0.5555555555555556,
             "#d8576b"
            ],
            [
             0.6666666666666666,
             "#ed7953"
            ],
            [
             0.7777777777777778,
             "#fb9f3a"
            ],
            [
             0.8888888888888888,
             "#fdca26"
            ],
            [
             1,
             "#f0f921"
            ]
           ],
           "sequentialminus": [
            [
             0,
             "#0d0887"
            ],
            [
             0.1111111111111111,
             "#46039f"
            ],
            [
             0.2222222222222222,
             "#7201a8"
            ],
            [
             0.3333333333333333,
             "#9c179e"
            ],
            [
             0.4444444444444444,
             "#bd3786"
            ],
            [
             0.5555555555555556,
             "#d8576b"
            ],
            [
             0.6666666666666666,
             "#ed7953"
            ],
            [
             0.7777777777777778,
             "#fb9f3a"
            ],
            [
             0.8888888888888888,
             "#fdca26"
            ],
            [
             1,
             "#f0f921"
            ]
           ]
          },
          "colorway": [
           "#636efa",
           "#EF553B",
           "#00cc96",
           "#ab63fa",
           "#FFA15A",
           "#19d3f3",
           "#FF6692",
           "#B6E880",
           "#FF97FF",
           "#FECB52"
          ],
          "font": {
           "color": "#2a3f5f"
          },
          "geo": {
           "bgcolor": "white",
           "lakecolor": "white",
           "landcolor": "#E5ECF6",
           "showlakes": true,
           "showland": true,
           "subunitcolor": "white"
          },
          "hoverlabel": {
           "align": "left"
          },
          "hovermode": "closest",
          "mapbox": {
           "style": "light"
          },
          "paper_bgcolor": "white",
          "plot_bgcolor": "#E5ECF6",
          "polar": {
           "angularaxis": {
            "gridcolor": "white",
            "linecolor": "white",
            "ticks": ""
           },
           "bgcolor": "#E5ECF6",
           "radialaxis": {
            "gridcolor": "white",
            "linecolor": "white",
            "ticks": ""
           }
          },
          "scene": {
           "xaxis": {
            "backgroundcolor": "#E5ECF6",
            "gridcolor": "white",
            "gridwidth": 2,
            "linecolor": "white",
            "showbackground": true,
            "ticks": "",
            "zerolinecolor": "white"
           },
           "yaxis": {
            "backgroundcolor": "#E5ECF6",
            "gridcolor": "white",
            "gridwidth": 2,
            "linecolor": "white",
            "showbackground": true,
            "ticks": "",
            "zerolinecolor": "white"
           },
           "zaxis": {
            "backgroundcolor": "#E5ECF6",
            "gridcolor": "white",
            "gridwidth": 2,
            "linecolor": "white",
            "showbackground": true,
            "ticks": "",
            "zerolinecolor": "white"
           }
          },
          "shapedefaults": {
           "line": {
            "color": "#2a3f5f"
           }
          },
          "ternary": {
           "aaxis": {
            "gridcolor": "white",
            "linecolor": "white",
            "ticks": ""
           },
           "baxis": {
            "gridcolor": "white",
            "linecolor": "white",
            "ticks": ""
           },
           "bgcolor": "#E5ECF6",
           "caxis": {
            "gridcolor": "white",
            "linecolor": "white",
            "ticks": ""
           }
          },
          "title": {
           "x": 0.05
          },
          "xaxis": {
           "automargin": true,
           "gridcolor": "white",
           "linecolor": "white",
           "ticks": "",
           "title": {
            "standoff": 15
           },
           "zerolinecolor": "white",
           "zerolinewidth": 2
          },
          "yaxis": {
           "automargin": true,
           "gridcolor": "white",
           "linecolor": "white",
           "ticks": "",
           "title": {
            "standoff": 15
           },
           "zerolinecolor": "white",
           "zerolinewidth": 2
          }
         }
        },
        "title": {
         "text": "Dats3456-3907: Repeats along transition sorted by LCT"
        },
        "xaxis": {
         "autorange": true,
         "range": [
          -21.096854499042756,
          -18.859145500957244
         ],
         "title": {
          "text": "Field /mT"
         },
         "type": "linear"
        },
        "yaxis": {
         "autorange": true,
         "range": [
          0.7061076357859511,
          1.1382757105486856
         ],
         "title": {
          "text": "Integrated Entropy /kB"
         },
         "type": "linear"
        }
       }
      },
      "image/png": "[encoded data removed]",
      "text/html": [
       "<div>\n",
       "        \n",
       "        \n",
       "            <div id=\"791cf9bd-fbe6-4bfe-b45f-f2f21b8c0808\" class=\"plotly-graph-div\" style=\"height:525px; width:100%;\"></div>\n",
       "            <script type=\"text/javascript\">\n",
       "                require([\"plotly\"], function(Plotly) {\n",
       "                    window.PLOTLYENV=window.PLOTLYENV || {};\n",
       "                    \n",
       "                if (document.getElementById(\"791cf9bd-fbe6-4bfe-b45f-f2f21b8c0808\")) {\n",
       "                    Plotly.newPlot(\n",
       "                        '791cf9bd-fbe6-4bfe-b45f-f2f21b8c0808',\n",
       "                        [{\"customdata\": [3464, 3474, 3484, 3494, 3504, 3514, 3524, 3534, 3544, 3554, 3564, 3574, 3584, 3594, 3604, 3614, 3624, 3634, 3644, 3654, 3664, 3674, 3684, 3694, 3704, 3714, 3724, 3734, 3744, 3754, 3764, 3774, 3784, 3794, 3804, 3814, 3824, 3834, 3844, 3854, 3864, 3874, 3884, 3894, 3904], \"hovertemplate\": \"Datnum: %{customdata}<br>Field /mT: %{x:.4f}<br>Integrated Entropy /kB: %{y:.2f}\", \"mode\": \"markers\", \"name\": \"-460.00mV\", \"type\": \"scatter\", \"x\": [-20.975, -20.883, -20.776, -20.673, -20.578, -20.477, -20.381, -20.281, -20.173, -20.077, -19.975, -19.874, -19.782, -19.673, -19.577, -19.481, -19.378, -19.287, -19.182, -19.075, -18.979, -20.975, -20.883, -20.776, -20.671, -20.578, -20.477, -20.381, -20.281, -20.171, -20.079, -19.975, -19.872, -19.782, -19.675, -19.577, -19.481, -19.378, -19.287, -19.182, -19.077, -18.979, -20.977, -20.884, -20.776], \"y\": [1.02530474685439, 0.9364835653612796, 0.9549236545344129, 1.020805356632033, 1.0279990832055372, 0.9357444601230133, 0.9239382295478095, 0.9863720836506155, 0.876672630996128, 0.9384134228960701, 0.898757428233561, 0.9807176854850779, 1.0801491390302334, 0.8884781942937192, 0.9954738250120096, 0.9327562209213375, 0.8708669384055253, 0.8961404791144553, 0.9483287356104075, 1.0168870753495654, 1.1106649724388442, 0.9375174032078419, 0.9949039729809239, 0.9610573777066573, 0.977580318423594, 0.9457825969618513, 0.8927890750081701, 1.1031616671577278, 1.0132319798646308, 0.9028165107722012, 1.0702734159870249, 0.9752594076945243, 1.002110933979932, 0.9581544301440421, 0.8691770387390253, 0.9571058612788611, 0.9610610889556098, 1.0354551267819319, 0.8946362512108161, 0.918002311512985, 0.9312697880172185, 0.9214771775332282, 0.9414975225947587, 0.991033273673813, 0.9917478195106841]}, {\"customdata\": [3462, 3472, 3482, 3492, 3502, 3512, 3522, 3532, 3542, 3552, 3562, 3572, 3582, 3592, 3602, 3612, 3622, 3632, 3642, 3652, 3662, 3672, 3682, 3692, 3702, 3712, 3722, 3732, 3742, 3752, 3762, 3772, 3782, 3792, 3802, 3812, 3822, 3832, 3842, 3852, 3862, 3872, 3882, 3892, 3902], \"hovertemplate\": \"Datnum: %{customdata}<br>Field /mT: %{x:.4f}<br>Integrated Entropy /kB: %{y:.2f}\", \"mode\": \"markers\", \"name\": \"-440.00mV\", \"type\": \"scatter\", \"x\": [-20.975, -20.883, -20.776, -20.673, -20.578, -20.477, -20.381, -20.281, -20.171, -20.077, -19.975, -19.874, -19.782, -19.675, -19.577, -19.481, -19.378, -19.287, -19.182, -19.075, -18.979, -20.975, -20.883, -20.776, -20.673, -20.578, -20.477, -20.381, -20.281, -20.171, -20.079, -19.975, -19.874, -19.782, -19.675, -19.577, -19.481, -19.378, -19.289, -19.182, -19.077, -18.979, -20.977, -20.884, -20.776], \"y\": [0.9771837528926095, 0.976534060772495, 0.9176084102901373, 0.9244723434429236, 0.8819875309888895, 1.01165103275199, 0.9346911174060927, 1.0351645661759856, 0.9419192056890225, 1.0139693473044282, 0.9527156433989173, 0.9066508173700679, 0.88545619253642, 0.8976967264669002, 0.8687970987250332, 0.9230235634780244, 0.9759792046210063, 0.9045190959259346, 0.9982880988003081, 0.9989318922186918, 0.9075901636758882, 0.8124608196434591, 0.888838562493504, 0.9302851532500739, 0.9592633134968811, 0.8758527372382473, 0.8975319694613723, 0.9309241540087251, 1.0189439913341942, 0.9130753071380944, 0.9559845932958337, 0.8244105822674809, 0.9285122295238789, 0.9082414151906176, 0.915270968371926, 0.9172855987341355, 0.8194260430833018, 0.9270562635061459, 0.9995446426840848, 0.886474458482916, 0.9611692600551434, 0.9807434873323851, 0.8855284479634429, 0.9054062276125491, 0.9413500928332394]}, {\"customdata\": [3460, 3470, 3480, 3490, 3500, 3510, 3520, 3530, 3540, 3550, 3560, 3570, 3580, 3590, 3600, 3610, 3620, 3630, 3640, 3650, 3660, 3670, 3680, 3690, 3700, 3710, 3720, 3730, 3740, 3750, 3760, 3770, 3780, 3790, 3800, 3810, 3820, 3830, 3840, 3850, 3860, 3870, 3880, 3890, 3900], \"hovertemplate\": \"Datnum: %{customdata}<br>Field /mT: %{x:.4f}<br>Integrated Entropy /kB: %{y:.2f}\", \"mode\": \"markers\", \"name\": \"-420.00mV\", \"type\": \"scatter\", \"x\": [-20.975, -20.883, -20.776, -20.673, -20.578, -20.477, -20.381, -20.281, -20.171, -20.077, -19.975, -19.872, -19.782, -19.673, -19.577, -19.481, -19.378, -19.287, -19.182, -19.075, -18.979, -20.975, -20.883, -20.776, -20.671, -20.578, -20.477, -20.381, -20.281, -20.171, -20.079, -19.975, -19.872, -19.782, -19.675, -19.577, -19.481, -19.378, -19.289, -19.182, -19.075, -18.979, -20.975, -20.884, -20.776], \"y\": [0.8046042961780383, 0.9690400892095741, 0.877240925260892, 0.8730411062237499, 0.8579784770319114, 0.9490353636245725, 0.9822741045888812, 0.9366896693291424, 0.9012932685149687, 0.9054809422178054, 0.8722467891266522, 0.8949542901563289, 0.9174026048754975, 0.8111846775289002, 0.9223377897176621, 0.8293842060637271, 0.9339985277948334, 0.8774917277755988, 0.928118715774919, 0.9564683500663508, 0.7709512905525718, 0.8347876413988121, 0.8303920489142561, 0.8668971270324273, 0.8399372429113202, 0.9123020302573275, 0.882294797567209, 0.8422004631866935, 0.8385450464302041, 0.8144478405057862, 0.8551948710260717, 0.8962855440995119, 0.9869531781407825, 0.8324788240153808, 0.9127041035499455, 0.8187742436873607, 0.8035883965684384, 0.8334512318252559, 0.9317093465737111, 0.9280919454158956, 0.9508841347377218, 0.8782485065688675, 0.8024735441707137, 0.8445922051682727, 0.8540078912207648]}, {\"customdata\": [3458, 3468, 3478, 3488, 3498, 3508, 3518, 3528, 3538, 3548, 3558, 3568, 3578, 3588, 3598, 3608, 3618, 3628, 3638, 3648, 3658, 3668, 3678, 3688, 3698, 3708, 3718, 3728, 3738, 3748, 3758, 3768, 3778, 3788, 3798, 3808, 3818, 3828, 3838, 3848, 3858, 3868, 3878, 3888, 3898], \"hovertemplate\": \"Datnum: %{customdata}<br>Field /mT: %{x:.4f}<br>Integrated Entropy /kB: %{y:.2f}\", \"mode\": \"markers\", \"name\": \"-400.00mV\", \"type\": \"scatter\", \"x\": [-20.975, -20.883, -20.776, -20.673, -20.578, -20.477, -20.379, -20.281, -20.173, -20.077, -19.975, -19.872, -19.78, -19.675, -19.577, -19.481, -19.378, -19.287, -19.182, -19.075, -18.979, -20.975, -20.883, -20.776, -20.673, -20.577, -20.475, -20.381, -20.281, -20.171, -20.079, -19.975, -19.872, -19.782, -19.675, -19.577, -19.481, -19.378, -19.287, -19.182, -19.075, -18.979, -20.975, -20.884, -20.776], \"y\": [0.8254939001835748, 0.9339573087082712, 0.9214964542515144, 0.8869999849204006, 0.860482157979645, 0.9110034037147198, 0.8882875399685808, 0.9428976073972144, 0.900669828020935, 0.8739353459214783, 0.9480823667215565, 0.9391205401042636, 0.7437495235061514, 0.8899583928432766, 0.9707580293535468, 0.9070096239682208, 0.8743969555940074, 0.9547039990423081, 0.8264496788066298, 0.9252392646679214, 0.8835319778373908, 0.8385427522743468, 0.7616144502311206, 0.9301735206408677, 0.9104175793737236, 0.8903403492413029, 0.8845461432738738, 1.024269705878699, 0.8915466153585421, 0.8403150598816445, 0.8404840312461064, 0.8870627875043369, 0.9084776266211599, 0.8419224584994311, 0.9363436863753887, 0.9358559197401591, 0.9538388208582277, 0.9490738092381569, 0.8510942267084397, 0.9358272927707624, 0.9097300502131526, 0.9480996208142961, 0.9959091600072228, 0.8847765432581335, 0.8697244385159485]}, {\"customdata\": [3456, 3466, 3476, 3486, 3496, 3506, 3516, 3526, 3536, 3546, 3556, 3566, 3576, 3586, 3596, 3606, 3616, 3626, 3636, 3646, 3656, 3666, 3676, 3686, 3696, 3706, 3716, 3726, 3736, 3746, 3756, 3766, 3776, 3786, 3796, 3806, 3816, 3826, 3836, 3846, 3856, 3866, 3876, 3886, 3896, 3906], \"hovertemplate\": \"Datnum: %{customdata}<br>Field /mT: %{x:.4f}<br>Integrated Entropy /kB: %{y:.2f}\", \"mode\": \"markers\", \"name\": \"-380.00mV\", \"type\": \"scatter\", \"x\": [-20.975, -20.883, -20.776, -20.673, -20.578, -20.477, -20.379, -20.281, -20.171, -20.077, -19.975, -19.874, -19.782, -19.673, -19.577, -19.481, -19.378, -19.287, -19.182, -19.075, -18.979, -20.975, -20.883, -20.774, -20.671, -20.578, -20.475, -20.381, -20.281, -20.173, -20.077, -19.975, -19.872, -19.782, -19.675, -19.577, -19.481, -19.378, -19.287, -19.182, -19.075, -18.979, -20.975, -20.884, -20.776, -20.673], \"y\": [0.8711235146422208, 0.9638843138558267, 0.9160189200564439, 0.8699738461496617, 0.9032133936177191, 0.8516763682709421, 0.9658564053611046, 0.8258059539744237, 1.0004339449350426, 0.8493329366303058, 0.8881594358500541, 0.7337183738957925, 0.9147494002170384, 0.8558402495294987, 1.002888945284384, 0.9401378206081845, 1.0041088440660393, 0.9293215293784094, 0.9144392682474508, 0.9048468877411139, 0.9234572278316668, 0.9341827628414386, 0.9794410680753368, 0.9734119935011238, 0.9708145311922818, 0.8579241563180405, 0.8779221577775759, 0.8569984500401198, 0.9064130410359487, 0.8784760669429199, 0.8773105578518106, 0.9169909148197003, 0.8403283904811245, 0.8483248696446094, 1.0221207382550375, 0.869770981703365, 0.9198524202682666, 0.9029189298280622, 0.9057194458539721, 0.8240308350735156, 0.9549031512647053, 0.921597098026278, 0.8425991071291707, 0.8007090161041462, 0.9720068942311128, 0.976039376257735]}],\n",
       "                        {\"template\": {\"data\": {\"bar\": [{\"error_x\": {\"color\": \"#2a3f5f\"}, \"error_y\": {\"color\": \"#2a3f5f\"}, \"marker\": {\"line\": {\"color\": \"#E5ECF6\", \"width\": 0.5}}, \"type\": \"bar\"}], \"barpolar\": [{\"marker\": {\"line\": {\"color\": \"#E5ECF6\", \"width\": 0.5}}, \"type\": \"barpolar\"}], \"carpet\": [{\"aaxis\": {\"endlinecolor\": \"#2a3f5f\", \"gridcolor\": \"white\", \"linecolor\": \"white\", \"minorgridcolor\": \"white\", \"startlinecolor\": \"#2a3f5f\"}, \"baxis\": {\"endlinecolor\": \"#2a3f5f\", \"gridcolor\": \"white\", \"linecolor\": \"white\", \"minorgridcolor\": \"white\", \"startlinecolor\": \"#2a3f5f\"}, \"type\": \"carpet\"}], \"choropleth\": [{\"colorbar\": {\"outlinewidth\": 0, \"ticks\": \"\"}, \"type\": \"choropleth\"}], \"contour\": [{\"colorbar\": {\"outlinewidth\": 0, \"ticks\": \"\"}, \"colorscale\": [[0.0, \"#0d0887\"], [0.1111111111111111, \"#46039f\"], [0.2222222222222222, \"#7201a8\"], [0.3333333333333333, \"#9c179e\"], [0.4444444444444444, \"#bd3786\"], [0.5555555555555556, \"#d8576b\"], [0.6666666666666666, \"#ed7953\"], [0.7777777777777778, \"#fb9f3a\"], [0.8888888888888888, \"#fdca26\"], [1.0, \"#f0f921\"]], \"type\": \"contour\"}], \"contourcarpet\": [{\"colorbar\": {\"outlinewidth\": 0, \"ticks\": \"\"}, \"type\": \"contourcarpet\"}], \"heatmap\": [{\"colorbar\": {\"outlinewidth\": 0, \"ticks\": \"\"}, \"colorscale\": [[0.0, \"#0d0887\"], [0.1111111111111111, \"#46039f\"], [0.2222222222222222, \"#7201a8\"], [0.3333333333333333, \"#9c179e\"], [0.4444444444444444, \"#bd3786\"], [0.5555555555555556, \"#d8576b\"], [0.6666666666666666, \"#ed7953\"], [0.7777777777777778, \"#fb9f3a\"], [0.8888888888888888, \"#fdca26\"], [1.0, \"#f0f921\"]], \"type\": \"heatmap\"}], \"heatmapgl\": [{\"colorbar\": {\"outlinewidth\": 0, \"ticks\": \"\"}, \"colorscale\": [[0.0, \"#0d0887\"], [0.1111111111111111, \"#46039f\"], [0.2222222222222222, \"#7201a8\"], [0.3333333333333333, \"#9c179e\"], [0.4444444444444444, \"#bd3786\"], [0.5555555555555556, \"#d8576b\"], [0.6666666666666666, \"#ed7953\"], [0.7777777777777778, \"#fb9f3a\"], [0.8888888888888888, \"#fdca26\"], [1.0, \"#f0f921\"]], \"type\": \"heatmapgl\"}], \"histogram\": [{\"marker\": {\"colorbar\": {\"outlinewidth\": 0, \"ticks\": \"\"}}, \"type\": \"histogram\"}], \"histogram2d\": [{\"colorbar\": {\"outlinewidth\": 0, \"ticks\": \"\"}, \"colorscale\": [[0.0, \"#0d0887\"], [0.1111111111111111, \"#46039f\"], [0.2222222222222222, \"#7201a8\"], [0.3333333333333333, \"#9c179e\"], [0.4444444444444444, \"#bd3786\"], [0.5555555555555556, \"#d8576b\"], [0.6666666666666666, \"#ed7953\"], [0.7777777777777778, \"#fb9f3a\"], [0.8888888888888888, \"#fdca26\"], [1.0, \"#f0f921\"]], \"type\": \"histogram2d\"}], \"histogram2dcontour\": [{\"colorbar\": {\"outlinewidth\": 0, \"ticks\": \"\"}, \"colorscale\": [[0.0, \"#0d0887\"], [0.1111111111111111, \"#46039f\"], [0.2222222222222222, \"#7201a8\"], [0.3333333333333333, \"#9c179e\"], [0.4444444444444444, \"#bd3786\"], [0.5555555555555556, \"#d8576b\"], [0.6666666666666666, \"#ed7953\"], [0.7777777777777778, \"#fb9f3a\"], [0.8888888888888888, \"#fdca26\"], [1.0, \"#f0f921\"]], \"type\": \"histogram2dcontour\"}], \"mesh3d\": [{\"colorbar\": {\"outlinewidth\": 0, \"ticks\": \"\"}, \"type\": \"mesh3d\"}], \"parcoords\": [{\"line\": {\"colorbar\": {\"outlinewidth\": 0, \"ticks\": \"\"}}, \"type\": \"parcoords\"}], \"pie\": [{\"automargin\": true, \"type\": \"pie\"}], \"scatter\": [{\"marker\": {\"colorbar\": {\"outlinewidth\": 0, \"ticks\": \"\"}}, \"type\": \"scatter\"}], \"scatter3d\": [{\"line\": {\"colorbar\": {\"outlinewidth\": 0, \"ticks\": \"\"}}, \"marker\": {\"colorbar\": {\"outlinewidth\": 0, \"ticks\": \"\"}}, \"type\": \"scatter3d\"}], \"scattercarpet\": [{\"marker\": {\"colorbar\": {\"outlinewidth\": 0, \"ticks\": \"\"}}, \"type\": \"scattercarpet\"}], \"scattergeo\": [{\"marker\": {\"colorbar\": {\"outlinewidth\": 0, \"ticks\": \"\"}}, \"type\": \"scattergeo\"}], \"scattergl\": [{\"marker\": {\"colorbar\": {\"outlinewidth\": 0, \"ticks\": \"\"}}, \"type\": \"scattergl\"}], \"scattermapbox\": [{\"marker\": {\"colorbar\": {\"outlinewidth\": 0, \"ticks\": \"\"}}, \"type\": \"scattermapbox\"}], \"scatterpolar\": [{\"marker\": {\"colorbar\": {\"outlinewidth\": 0, \"ticks\": \"\"}}, \"type\": \"scatterpolar\"}], \"scatterpolargl\": [{\"marker\": {\"colorbar\": {\"outlinewidth\": 0, \"ticks\": \"\"}}, \"type\": \"scatterpolargl\"}], \"scatterternary\": [{\"marker\": {\"colorbar\": {\"outlinewidth\": 0, \"ticks\": \"\"}}, \"type\": \"scatterternary\"}], \"surface\": [{\"colorbar\": {\"outlinewidth\": 0, \"ticks\": \"\"}, \"colorscale\": [[0.0, \"#0d0887\"], [0.1111111111111111, \"#46039f\"], [0.2222222222222222, \"#7201a8\"], [0.3333333333333333, \"#9c179e\"], [0.4444444444444444, \"#bd3786\"], [0.5555555555555556, \"#d8576b\"], [0.6666666666666666, \"#ed7953\"], [0.7777777777777778, \"#fb9f3a\"], [0.8888888888888888, \"#fdca26\"], [1.0, \"#f0f921\"]], \"type\": \"surface\"}], \"table\": [{\"cells\": {\"fill\": {\"color\": \"#EBF0F8\"}, \"line\": {\"color\": \"white\"}}, \"header\": {\"fill\": {\"color\": \"#C8D4E3\"}, \"line\": {\"color\": \"white\"}}, \"type\": \"table\"}]}, \"layout\": {\"annotationdefaults\": {\"arrowcolor\": \"#2a3f5f\", \"arrowhead\": 0, \"arrowwidth\": 1}, \"coloraxis\": {\"colorbar\": {\"outlinewidth\": 0, \"ticks\": \"\"}}, \"colorscale\": {\"diverging\": [[0, \"#8e0152\"], [0.1, \"#c51b7d\"], [0.2, \"#de77ae\"], [0.3, \"#f1b6da\"], [0.4, \"#fde0ef\"], [0.5, \"#f7f7f7\"], [0.6, \"#e6f5d0\"], [0.7, \"#b8e186\"], [0.8, \"#7fbc41\"], [0.9, \"#4d9221\"], [1, \"#276419\"]], \"sequential\": [[0.0, \"#0d0887\"], [0.1111111111111111, \"#46039f\"], [0.2222222222222222, \"#7201a8\"], [0.3333333333333333, \"#9c179e\"], [0.4444444444444444, \"#bd3786\"], [0.5555555555555556, \"#d8576b\"], [0.6666666666666666, \"#ed7953\"], [0.7777777777777778, \"#fb9f3a\"], [0.8888888888888888, \"#fdca26\"], [1.0, \"#f0f921\"]], \"sequentialminus\": [[0.0, \"#0d0887\"], [0.1111111111111111, \"#46039f\"], [0.2222222222222222, \"#7201a8\"], [0.3333333333333333, \"#9c179e\"], [0.4444444444444444, \"#bd3786\"], [0.5555555555555556, \"#d8576b\"], [0.6666666666666666, \"#ed7953\"], [0.7777777777777778, \"#fb9f3a\"], [0.8888888888888888, \"#fdca26\"], [1.0, \"#f0f921\"]]}, \"colorway\": [\"#636efa\", \"#EF553B\", \"#00cc96\", \"#ab63fa\", \"#FFA15A\", \"#19d3f3\", \"#FF6692\", \"#B6E880\", \"#FF97FF\", \"#FECB52\"], \"font\": {\"color\": \"#2a3f5f\"}, \"geo\": {\"bgcolor\": \"white\", \"lakecolor\": \"white\", \"landcolor\": \"#E5ECF6\", \"showlakes\": true, \"showland\": true, \"subunitcolor\": \"white\"}, \"hoverlabel\": {\"align\": \"left\"}, \"hovermode\": \"closest\", \"mapbox\": {\"style\": \"light\"}, \"paper_bgcolor\": \"white\", \"plot_bgcolor\": \"#E5ECF6\", \"polar\": {\"angularaxis\": {\"gridcolor\": \"white\", \"linecolor\": \"white\", \"ticks\": \"\"}, \"bgcolor\": \"#E5ECF6\", \"radialaxis\": {\"gridcolor\": \"white\", \"linecolor\": \"white\", \"ticks\": \"\"}}, \"scene\": {\"xaxis\": {\"backgroundcolor\": \"#E5ECF6\", \"gridcolor\": \"white\", \"gridwidth\": 2, \"linecolor\": \"white\", \"showbackground\": true, \"ticks\": \"\", \"zerolinecolor\": \"white\"}, \"yaxis\": {\"backgroundcolor\": \"#E5ECF6\", \"gridcolor\": \"white\", \"gridwidth\": 2, \"linecolor\": \"white\", \"showbackground\": true, \"ticks\": \"\", \"zerolinecolor\": \"white\"}, \"zaxis\": {\"backgroundcolor\": \"#E5ECF6\", \"gridcolor\": \"white\", \"gridwidth\": 2, \"linecolor\": \"white\", \"showbackground\": true, \"ticks\": \"\", \"zerolinecolor\": \"white\"}}, \"shapedefaults\": {\"line\": {\"color\": \"#2a3f5f\"}}, \"ternary\": {\"aaxis\": {\"gridcolor\": \"white\", \"linecolor\": \"white\", \"ticks\": \"\"}, \"baxis\": {\"gridcolor\": \"white\", \"linecolor\": \"white\", \"ticks\": \"\"}, \"bgcolor\": \"#E5ECF6\", \"caxis\": {\"gridcolor\": \"white\", \"linecolor\": \"white\", \"ticks\": \"\"}}, \"title\": {\"x\": 0.05}, \"xaxis\": {\"automargin\": true, \"gridcolor\": \"white\", \"linecolor\": \"white\", \"ticks\": \"\", \"title\": {\"standoff\": 15}, \"zerolinecolor\": \"white\", \"zerolinewidth\": 2}, \"yaxis\": {\"automargin\": true, \"gridcolor\": \"white\", \"linecolor\": \"white\", \"ticks\": \"\", \"title\": {\"standoff\": 15}, \"zerolinecolor\": \"white\", \"zerolinewidth\": 2}}}, \"title\": {\"text\": \"Dats3456-3907: Repeats along transition sorted by LCT\"}, \"xaxis\": {\"title\": {\"text\": \"Field /mT\"}}, \"yaxis\": {\"title\": {\"text\": \"Integrated Entropy /kB\"}}},\n",
       "                        {\"responsive\": true}\n",
       "                    ).then(function(){\n",
       "                            \n",
       "var gd = document.getElementById('791cf9bd-fbe6-4bfe-b45f-f2f21b8c0808');\n",
       "var x = new MutationObserver(function (mutations, observer) {{\n",
       "        var display = window.getComputedStyle(gd).display;\n",
       "        if (!display || display === 'none') {{\n",
       "            console.log([gd, 'removed!']);\n",
       "            Plotly.purge(gd);\n",
       "            observer.disconnect();\n",
       "        }}\n",
       "}});\n",
       "\n",
       "// Listen for the removal of the full notebook cells\n",
       "var notebookContainer = gd.closest('#notebook-container');\n",
       "if (notebookContainer) {{\n",
       "    x.observe(notebookContainer, {childList: true});\n",
       "}}\n",
       "\n",
       "// Listen for the clearing of the current output cell\n",
       "var outputEl = gd.closest('.output');\n",
       "if (outputEl) {{\n",
       "    x.observe(outputEl, {childList: true});\n",
       "}}\n",
       "\n",
       "                        })\n",
       "                };\n",
       "                });\n",
       "            </script>\n",
       "        </div>"
      ]
     },
     "metadata": {},
     "output_type": "display_data"
    }
   ],
   "source": [
    "fig = go.Figure()\n",
    "\n",
    "which_sort = 'lct'\n",
    "which_x = 'field'\n",
    "which_y = 'int_ds'\n",
    "\n",
    "if which_sort.lower() == 'temp':\n",
    "    name = 'Temp'\n",
    "    units = 'mK'\n",
    "    array = (50, 100, 175, 250)\n",
    "    get_val = lambda dat: dat.Logs.temps.mc*1000\n",
    "    tol = 10\n",
    "elif which_sort.lower() == 'field':\n",
    "    name = 'Field'\n",
    "    units = 'mT'\n",
    "#     array = np.linspace(-188, -212, 25)\n",
    "#     array = np.linspace(-55, -45, 21)\n",
    "#     array = np.linspace(-25, -15, 21)\n",
    "    array = np.linspace(-21, -19, 21)\n",
    "    get_val = lambda dat: dat.Logs.magy.field\n",
    "    tol = 0.05\n",
    "elif which_sort.lower() == 'lct':\n",
    "    name = 'LCT'\n",
    "    units = 'mV'\n",
    "    array = np.linspace(-460, -380, 5)\n",
    "    get_val = lambda dat: dat.Logs.fds['LCT']\n",
    "    tol = 5\n",
    "elif which_sort.lower() == 'hqpc':\n",
    "    name = 'HQPC bias'\n",
    "    units = 'mV'\n",
    "    array = np.linspace(117.5, 122.5, 11)\n",
    "    get_val = lambda dat: dat.AWG.AWs[0][0][1]\n",
    "    tol = 0.2\n",
    "else:\n",
    "    raise ValueError\n",
    "\n",
    "if which_x.lower() == 'lct':\n",
    "    get_x = lambda dat: dat.Logs.fds['LCT']\n",
    "    x_title = 'LCT /mV'\n",
    "elif which_x.lower() == 'field':\n",
    "    get_x = lambda dat: dat.Logs.magy.field\n",
    "    x_title = 'Field /mT'\n",
    "elif which_x.lower() == 'temp':\n",
    "    get_x = lambda dat: dat.Logs.temps.mc*1000\n",
    "    x_title = 'MC Temp /mK'\n",
    "elif which_x.lower() == 'hqpc':\n",
    "    get_x = lambda dat: dat.AWG.AWs[0][0][1]\n",
    "    x_title = 'HQPC bias /mV'\n",
    "else:\n",
    "    raise ValueError\n",
    "    \n",
    "if which_y.lower() == 'dt':\n",
    "    get_y = lambda values: values.dTs\n",
    "    y_title = 'dT /mV'\n",
    "elif which_y.lower() == 'fit_ds':\n",
    "    get_y = lambda values: values.dSs\n",
    "    y_title = 'Fit Entropy /kB'\n",
    "elif which_y.lower() == 'int_ds':\n",
    "    get_y = lambda values: values.int_dSs\n",
    "    y_title = 'Integrated Entropy /kB'\n",
    "else:\n",
    "    raise ValueError\n",
    "\n",
    "for val in array:\n",
    "    ds = [dat for dat in dats if np.isclose(get_val(dat), val, atol=tol)]\n",
    "    dps = [pair for pair in dat_pairs if np.isclose(get_val(pair[0]), val, atol=tol)]\n",
    "    values = EA.EA_values.from_dats(ds)\n",
    "    x = [get_x(p[0]) for p in dps]\n",
    "    y = get_y(values)\n",
    "    datnums = [p[0].datnum for p in dps]\n",
    "    base_hover_template = 'Datnum: %{customdata}<br>'\n",
    "    hover_template = base_hover_template+x_title+': %{x:.4f}<br>'+y_title+': %{y:.2f}'\n",
    "    fig.add_trace(go.Scatter(x=x, y=y, name=f'{val:.2f}{units}', mode='markers', customdata=datnums,  hovertemplate = hover_template))\n",
    "#     fig.add_trace(go.Scatter(x=x, y=values.dTs, mode='markers'))\n",
    "fig.update_layout(title=f'Dats{dats[0].datnum}-{dats[-1].datnum}: Repeats along transition sorted by {name}', xaxis_title=x_title, yaxis_title=y_title)\n",
    "fig.show()\n",
    "    \n"
   ]
  },
  {
   "cell_type": "code",
   "execution_count": null,
   "metadata": {},
   "outputs": [],
   "source": [
    "save_graph=True\n",
    "if save_graph:\n",
    "    fig.write_html(export_path+f'Dats{dats[0].datnum}-{dats[-1].datnum} -- Entropy Repeats along transition various {name}.html')"
   ]
  },
  {
   "cell_type": "code",
   "execution_count": 16,
   "metadata": {},
   "outputs": [
    {
     "data": {
      "text/plain": [
       "array([1, 2])"
      ]
     },
     "execution_count": 16,
     "metadata": {},
     "output_type": "execute_result"
    }
   ],
   "source": [
    "dats[0].Logs.part_of"
   ]
  }
 ],
 "metadata": {
  "kernelspec": {
   "display_name": "PyDatKernel",
   "language": "python",
   "name": "pydatkernel"
  },
  "language_info": {
   "codemirror_mode": {
    "name": "ipython",
    "version": 3
   },
   "file_extension": ".py",
   "mimetype": "text/x-python",
   "name": "python",
   "nbconvert_exporter": "python",
   "pygments_lexer": "ipython3",
   "version": "3.8.5"
  }
 },
 "nbformat": 4,
 "nbformat_minor": 4
}
