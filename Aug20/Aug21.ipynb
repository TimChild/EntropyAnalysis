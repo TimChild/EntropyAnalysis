{
 "cells": [
  {
   "cell_type": "code",
   "execution_count": 5,
   "metadata": {},
   "outputs": [],
   "source": [
    "from JupyterImport import *\n",
    "from plotly.subplots import make_subplots\n",
    "import progressbar\n",
    "from progressbar import progressbar as prog\n",
    "from sys import stdout\n",
    "import plotly.express as px\n",
    "from src.DataStandardize.ExpSpecific.Aug20 import Fixes\n",
    "from src.DatObject.Attributes import Entropy as E, Transition as T, SquareEntropy as SE, DatAttribute as DA\n",
    "root_logger.setLevel(logging.WARNING)"
   ]
  },
  {
   "cell_type": "code",
   "execution_count": 6,
   "metadata": {},
   "outputs": [],
   "source": [
    "save_graphs=False\n",
    "filter_on = True"
   ]
  },
  {
   "cell_type": "code",
   "execution_count": 7,
   "metadata": {},
   "outputs": [
    {
     "name": "stderr",
     "output_type": "stream",
     "text": [
      "N/A% (0 of 159) |                        | Elapsed Time: 0:00:00 ETA:  --:--:--WARNING:src.DataStandardize.BaseClasses:Tried updating local data folder, but still can't find Exp data for dat1144\n"
     ]
    },
    {
     "ename": "FileNotFoundError",
     "evalue": "No experiment data found for dat1144 in:\rD:\\OneDrive\\UBC LAB\\My work\\Fridge_Measurements_and_Devices\\Fridge Measurements with PyDatAnalysis\\Sep20\\Experiment_Data\r",
     "output_type": "error",
     "traceback": [
      "\u001b[1;31m---------------------------------------------------------------------------\u001b[0m",
      "\u001b[1;31mFileNotFoundError\u001b[0m                         Traceback (most recent call last)",
      "\u001b[1;32m<ipython-input-7-311ae5b4886e>\u001b[0m in \u001b[0;36m<module>\u001b[1;34m\u001b[0m\n\u001b[0;32m      3\u001b[0m \u001b[0mdatnums\u001b[0m \u001b[1;33m=\u001b[0m \u001b[0mrange\u001b[0m\u001b[1;33m(\u001b[0m\u001b[1;36m1144\u001b[0m\u001b[1;33m,\u001b[0m \u001b[1;36m1303\u001b[0m\u001b[1;33m)\u001b[0m\u001b[1;33m\u001b[0m\u001b[1;33m\u001b[0m\u001b[0m\n\u001b[0;32m      4\u001b[0m \u001b[1;33m\u001b[0m\u001b[0m\n\u001b[1;32m----> 5\u001b[1;33m \u001b[0mdats\u001b[0m \u001b[1;33m=\u001b[0m \u001b[0mget_dats\u001b[0m\u001b[1;33m(\u001b[0m\u001b[0mdatnums\u001b[0m\u001b[1;33m,\u001b[0m \u001b[0mprogress\u001b[0m \u001b[1;33m=\u001b[0m \u001b[1;32mTrue\u001b[0m\u001b[1;33m)\u001b[0m\u001b[1;33m\u001b[0m\u001b[1;33m\u001b[0m\u001b[0m\n\u001b[0m\u001b[0;32m      6\u001b[0m \u001b[1;33m\u001b[0m\u001b[0m\n\u001b[0;32m      7\u001b[0m \u001b[0mdats\u001b[0m \u001b[1;33m=\u001b[0m \u001b[1;33m[\u001b[0m\u001b[0mdat\u001b[0m \u001b[1;32mfor\u001b[0m \u001b[0mdat\u001b[0m \u001b[1;32min\u001b[0m \u001b[0mdats\u001b[0m \u001b[1;32mif\u001b[0m \u001b[0mdat\u001b[0m\u001b[1;33m.\u001b[0m\u001b[0mAWG\u001b[0m\u001b[1;33m.\u001b[0m\u001b[0minfo\u001b[0m\u001b[1;33m.\u001b[0m\u001b[0mnum_steps\u001b[0m \u001b[1;33m>\u001b[0m \u001b[1;36m80\u001b[0m\u001b[1;33m]\u001b[0m\u001b[1;33m\u001b[0m\u001b[1;33m\u001b[0m\u001b[0m\n",
      "\u001b[1;32mD:\\OneDrive\\UBC LAB\\GitHub\\Python\\PyDatAnalysis\\src\\DatObject\\Make_Dat.py\u001b[0m in \u001b[0;36mget_dats\u001b[1;34m(cls, datnums, datname, overwrite, dattypes, run_fits, ESI_class, progress)\u001b[0m\n\u001b[0;32m     51\u001b[0m             \u001b[1;32mfor\u001b[0m \u001b[0mnum\u001b[0m \u001b[1;32min\u001b[0m \u001b[0mprogressbar\u001b[0m\u001b[1;33m(\u001b[0m\u001b[0mdatnums\u001b[0m\u001b[1;33m)\u001b[0m\u001b[1;33m:\u001b[0m\u001b[1;33m\u001b[0m\u001b[1;33m\u001b[0m\u001b[0m\n\u001b[0;32m     52\u001b[0m                 \u001b[0mstdout\u001b[0m\u001b[1;33m.\u001b[0m\u001b[0mflush\u001b[0m\u001b[1;33m(\u001b[0m\u001b[1;33m)\u001b[0m\u001b[1;33m\u001b[0m\u001b[1;33m\u001b[0m\u001b[0m\n\u001b[1;32m---> 53\u001b[1;33m                 dats.append(cls.get_dat(num, datname=datname, overwrite=overwrite, dattypes=dattypes,\n\u001b[0m\u001b[0;32m     54\u001b[0m                             run_fits=run_fits, ESI_class=ESI_class))\n\u001b[0;32m     55\u001b[0m         \u001b[1;32melse\u001b[0m\u001b[1;33m:\u001b[0m\u001b[1;33m\u001b[0m\u001b[1;33m\u001b[0m\u001b[0m\n",
      "\u001b[1;32mD:\\OneDrive\\UBC LAB\\GitHub\\Python\\PyDatAnalysis\\src\\DatObject\\Make_Dat.py\u001b[0m in \u001b[0;36mget_dat\u001b[1;34m(cls, datnum, datname, overwrite, dattypes, run_fits, ESI_class)\u001b[0m\n\u001b[0;32m     39\u001b[0m         \u001b[0mdat_id\u001b[0m \u001b[1;33m=\u001b[0m \u001b[0mcls\u001b[0m\u001b[1;33m.\u001b[0m\u001b[0m_get_dat_id\u001b[0m\u001b[1;33m(\u001b[0m\u001b[0mdatnum\u001b[0m\u001b[1;33m,\u001b[0m \u001b[0mdatname\u001b[0m\u001b[1;33m,\u001b[0m \u001b[0mESI_class\u001b[0m\u001b[1;33m)\u001b[0m\u001b[1;33m\u001b[0m\u001b[1;33m\u001b[0m\u001b[0m\n\u001b[0;32m     40\u001b[0m         \u001b[1;32mif\u001b[0m \u001b[0mdat_id\u001b[0m \u001b[1;32mnot\u001b[0m \u001b[1;32min\u001b[0m \u001b[0mcls\u001b[0m\u001b[1;33m.\u001b[0m\u001b[0mopen_dats\u001b[0m \u001b[1;32mor\u001b[0m \u001b[0moverwrite\u001b[0m \u001b[1;32mis\u001b[0m \u001b[1;32mTrue\u001b[0m\u001b[1;33m:\u001b[0m\u001b[1;33m\u001b[0m\u001b[1;33m\u001b[0m\u001b[0m\n\u001b[1;32m---> 41\u001b[1;33m             \u001b[0mnew_dat\u001b[0m \u001b[1;33m=\u001b[0m \u001b[0mmake_dat\u001b[0m\u001b[1;33m(\u001b[0m\u001b[0mdatnum\u001b[0m\u001b[1;33m,\u001b[0m \u001b[0mdatname\u001b[0m\u001b[1;33m,\u001b[0m \u001b[0moverwrite\u001b[0m\u001b[1;33m=\u001b[0m\u001b[0moverwrite\u001b[0m\u001b[1;33m,\u001b[0m \u001b[0mdattypes\u001b[0m\u001b[1;33m=\u001b[0m\u001b[0mdattypes\u001b[0m\u001b[1;33m,\u001b[0m \u001b[0mESI_class\u001b[0m\u001b[1;33m=\u001b[0m\u001b[0mESI_class\u001b[0m\u001b[1;33m,\u001b[0m \u001b[0mrun_fits\u001b[0m\u001b[1;33m=\u001b[0m\u001b[0mrun_fits\u001b[0m\u001b[1;33m)\u001b[0m\u001b[1;33m\u001b[0m\u001b[1;33m\u001b[0m\u001b[0m\n\u001b[0m\u001b[0;32m     42\u001b[0m             \u001b[0mcls\u001b[0m\u001b[1;33m.\u001b[0m\u001b[0mopen_dats\u001b[0m\u001b[1;33m[\u001b[0m\u001b[0mdat_id\u001b[0m\u001b[1;33m]\u001b[0m \u001b[1;33m=\u001b[0m \u001b[0mnew_dat\u001b[0m\u001b[1;33m\u001b[0m\u001b[1;33m\u001b[0m\u001b[0m\n\u001b[0;32m     43\u001b[0m         \u001b[1;32mreturn\u001b[0m \u001b[0mcls\u001b[0m\u001b[1;33m.\u001b[0m\u001b[0mopen_dats\u001b[0m\u001b[1;33m[\u001b[0m\u001b[0mdat_id\u001b[0m\u001b[1;33m]\u001b[0m\u001b[1;33m\u001b[0m\u001b[1;33m\u001b[0m\u001b[0m\n",
      "\u001b[1;32mD:\\OneDrive\\UBC LAB\\GitHub\\Python\\PyDatAnalysis\\src\\DatObject\\Make_Dat.py\u001b[0m in \u001b[0;36mmake_dat\u001b[1;34m(datnum, datname, overwrite, dattypes, ESI_class, run_fits)\u001b[0m\n\u001b[0;32m    113\u001b[0m \u001b[1;33m\u001b[0m\u001b[0m\n\u001b[0;32m    114\u001b[0m     \u001b[1;31m# If overwrite/build\u001b[0m\u001b[1;33m\u001b[0m\u001b[1;33m\u001b[0m\u001b[1;33m\u001b[0m\u001b[0m\n\u001b[1;32m--> 115\u001b[1;33m     \u001b[0mbuilder\u001b[0m \u001b[1;33m=\u001b[0m \u001b[0m_make_basic_part\u001b[0m\u001b[1;33m(\u001b[0m\u001b[0mesi\u001b[0m\u001b[1;33m,\u001b[0m \u001b[0mdatnum\u001b[0m\u001b[1;33m,\u001b[0m \u001b[0mdatname\u001b[0m\u001b[1;33m,\u001b[0m \u001b[0moverwrite\u001b[0m\u001b[1;33m)\u001b[0m\u001b[1;33m\u001b[0m\u001b[1;33m\u001b[0m\u001b[0m\n\u001b[0m\u001b[0;32m    116\u001b[0m     \u001b[0mbuilder\u001b[0m \u001b[1;33m=\u001b[0m \u001b[0m_make_other_parts\u001b[0m\u001b[1;33m(\u001b[0m\u001b[0mesi\u001b[0m\u001b[1;33m,\u001b[0m \u001b[0mbuilder\u001b[0m\u001b[1;33m,\u001b[0m \u001b[0mrun_fits\u001b[0m\u001b[1;33m)\u001b[0m\u001b[1;33m\u001b[0m\u001b[1;33m\u001b[0m\u001b[0m\n\u001b[0;32m    117\u001b[0m     \u001b[0mbuilder\u001b[0m\u001b[1;33m.\u001b[0m\u001b[0mset_initialized\u001b[0m\u001b[1;33m(\u001b[0m\u001b[1;33m)\u001b[0m\u001b[1;33m\u001b[0m\u001b[1;33m\u001b[0m\u001b[0m\n",
      "\u001b[1;32mD:\\OneDrive\\UBC LAB\\GitHub\\Python\\PyDatAnalysis\\src\\DatObject\\Make_Dat.py\u001b[0m in \u001b[0;36m_make_basic_part\u001b[1;34m(esi, datnum, datname, overwrite)\u001b[0m\n\u001b[0;32m    127\u001b[0m     \u001b[0mdata_exists\u001b[0m \u001b[1;33m=\u001b[0m \u001b[0mesi\u001b[0m\u001b[1;33m.\u001b[0m\u001b[0mcheck_data_exists\u001b[0m\u001b[1;33m(\u001b[0m\u001b[1;33m)\u001b[0m\u001b[1;33m\u001b[0m\u001b[1;33m\u001b[0m\u001b[0m\n\u001b[0;32m    128\u001b[0m     \u001b[1;32mif\u001b[0m \u001b[1;32mnot\u001b[0m \u001b[0mdata_exists\u001b[0m\u001b[1;33m:\u001b[0m\u001b[1;33m\u001b[0m\u001b[1;33m\u001b[0m\u001b[0m\n\u001b[1;32m--> 129\u001b[1;33m         \u001b[1;32mraise\u001b[0m \u001b[0mFileNotFoundError\u001b[0m\u001b[1;33m(\u001b[0m\u001b[1;34mf'No experiment data found for dat{datnum} in:\\r{esi.get_ddir()}\\r'\u001b[0m\u001b[1;33m)\u001b[0m\u001b[1;33m\u001b[0m\u001b[1;33m\u001b[0m\u001b[0m\n\u001b[0m\u001b[0;32m    130\u001b[0m \u001b[1;33m\u001b[0m\u001b[0m\n\u001b[0;32m    131\u001b[0m     \u001b[0mdattypes\u001b[0m \u001b[1;33m=\u001b[0m \u001b[0mesi\u001b[0m\u001b[1;33m.\u001b[0m\u001b[0mget_dattypes\u001b[0m\u001b[1;33m(\u001b[0m\u001b[1;33m)\u001b[0m\u001b[1;33m\u001b[0m\u001b[1;33m\u001b[0m\u001b[0m\n",
      "\u001b[1;31mFileNotFoundError\u001b[0m: No experiment data found for dat1144 in:\rD:\\OneDrive\\UBC LAB\\My work\\Fridge_Measurements_and_Devices\\Fridge Measurements with PyDatAnalysis\\Sep20\\Experiment_Data\r"
     ]
    }
   ],
   "source": [
    "# datnums = list(range(1069, 1073+1)) + list(range(1089, 1094+1))\n",
    "# datnums = sorted(list(set(range(1144, 1287+1)) - {1249, 1250, 1251, 1252, 1253}))\n",
    "datnums = range(1144, 1303)\n",
    "\n",
    "dats = get_dats(datnums, progress = True)\n",
    "\n",
    "dats = [dat for dat in dats if dat.AWG.info.num_steps > 80]\n",
    "\n",
    "for dat in progressbar.progressbar(dats, redirect_stdout=False):\n",
    "        Fixes._add_magy(dat)  # Adds temporary magy field to Other.magy\n",
    "    #     dT = 8.7\n",
    "        dat.SquareEntropy.Processed.plot_info.show = SE.ShowPlots(info=True, raw=True, averaged=True, entropy=True)\n",
    "        dat.SquareEntropy.ShowPlots.integrated = True\n",
    "dats = [dat for dat in dats if dat.SquareEntropy.Processed.outputs.entropy_fit is not None]"
   ]
  },
  {
   "cell_type": "code",
   "execution_count": 3,
   "metadata": {},
   "outputs": [
    {
     "ename": "NameError",
     "evalue": "name 'lm' is not defined",
     "output_type": "error",
     "traceback": [
      "\u001b[1;31m---------------------------------------------------------------------------\u001b[0m",
      "\u001b[1;31mNameError\u001b[0m                                 Traceback (most recent call last)",
      "\u001b[1;32m<ipython-input-3-883211715b80>\u001b[0m in \u001b[0;36m<module>\u001b[1;34m\u001b[0m\n\u001b[0;32m      1\u001b[0m \u001b[0mxs\u001b[0m\u001b[1;33m,\u001b[0m \u001b[0mtrans_datas\u001b[0m\u001b[1;33m,\u001b[0m \u001b[0mentropy_datas\u001b[0m\u001b[1;33m,\u001b[0m \u001b[0mintegrated_datas\u001b[0m\u001b[1;33m,\u001b[0m \u001b[0mids\u001b[0m\u001b[1;33m,\u001b[0m \u001b[0mtrans_titles\u001b[0m\u001b[1;33m,\u001b[0m \u001b[0mentropy_titles\u001b[0m\u001b[1;33m,\u001b[0m \u001b[0mintegrated_titles\u001b[0m\u001b[1;33m,\u001b[0m \u001b[0mtcs\u001b[0m\u001b[1;33m,\u001b[0m \u001b[0mths\u001b[0m\u001b[1;33m,\u001b[0m \u001b[0mdTs\u001b[0m \u001b[1;33m=\u001b[0m \u001b[0mlist\u001b[0m\u001b[1;33m(\u001b[0m\u001b[1;33m)\u001b[0m\u001b[1;33m,\u001b[0m \u001b[0mlist\u001b[0m\u001b[1;33m(\u001b[0m\u001b[1;33m)\u001b[0m\u001b[1;33m,\u001b[0m \u001b[0mlist\u001b[0m\u001b[1;33m(\u001b[0m\u001b[1;33m)\u001b[0m\u001b[1;33m,\u001b[0m \u001b[0mlist\u001b[0m\u001b[1;33m(\u001b[0m\u001b[1;33m)\u001b[0m\u001b[1;33m,\u001b[0m \u001b[0mlist\u001b[0m\u001b[1;33m(\u001b[0m\u001b[1;33m)\u001b[0m\u001b[1;33m,\u001b[0m \u001b[0mlist\u001b[0m\u001b[1;33m(\u001b[0m\u001b[1;33m)\u001b[0m\u001b[1;33m,\u001b[0m \u001b[0mlist\u001b[0m\u001b[1;33m(\u001b[0m\u001b[1;33m)\u001b[0m\u001b[1;33m,\u001b[0m \u001b[0mlist\u001b[0m\u001b[1;33m(\u001b[0m\u001b[1;33m)\u001b[0m\u001b[1;33m,\u001b[0m \u001b[0mlist\u001b[0m\u001b[1;33m(\u001b[0m\u001b[1;33m)\u001b[0m\u001b[1;33m,\u001b[0m \u001b[0mlist\u001b[0m\u001b[1;33m(\u001b[0m\u001b[1;33m)\u001b[0m\u001b[1;33m,\u001b[0m \u001b[0mlist\u001b[0m\u001b[1;33m(\u001b[0m\u001b[1;33m)\u001b[0m\u001b[1;33m\u001b[0m\u001b[1;33m\u001b[0m\u001b[0m\n\u001b[1;32m----> 2\u001b[1;33m \u001b[0mline\u001b[0m \u001b[1;33m=\u001b[0m \u001b[0mlm\u001b[0m\u001b[1;33m.\u001b[0m\u001b[0mmodels\u001b[0m\u001b[1;33m.\u001b[0m\u001b[0mLinearModel\u001b[0m\u001b[1;33m(\u001b[0m\u001b[1;33m)\u001b[0m\u001b[1;33m\u001b[0m\u001b[1;33m\u001b[0m\u001b[0m\n\u001b[0m\u001b[0;32m      3\u001b[0m \u001b[1;32mfor\u001b[0m \u001b[0mdat\u001b[0m \u001b[1;32min\u001b[0m \u001b[0mprogressbar\u001b[0m\u001b[1;33m.\u001b[0m\u001b[0mprogressbar\u001b[0m\u001b[1;33m(\u001b[0m\u001b[0mdats\u001b[0m\u001b[1;33m,\u001b[0m \u001b[0mredirect_stdout\u001b[0m\u001b[1;33m=\u001b[0m\u001b[1;32mFalse\u001b[0m\u001b[1;33m)\u001b[0m\u001b[1;33m:\u001b[0m\u001b[1;33m\u001b[0m\u001b[1;33m\u001b[0m\u001b[0m\n\u001b[0;32m      4\u001b[0m     \u001b[0mstdout\u001b[0m\u001b[1;33m.\u001b[0m\u001b[0mflush\u001b[0m\u001b[1;33m(\u001b[0m\u001b[1;33m)\u001b[0m\u001b[1;33m\u001b[0m\u001b[1;33m\u001b[0m\u001b[0m\n\u001b[0;32m      5\u001b[0m \u001b[1;33m\u001b[0m\u001b[0m\n",
      "\u001b[1;31mNameError\u001b[0m: name 'lm' is not defined"
     ]
    }
   ],
   "source": [
    "xs, trans_datas, entropy_datas, integrated_datas, ids, trans_titles, entropy_titles, integrated_titles, tcs, ths, dTs = list(), list(), list(), list(), list(), list(), list(), list(), list(), list(), list()\n",
    "line = lm.models.LinearModel()\n",
    "for dat in progressbar.progressbar(dats, redirect_stdout=False):\n",
    "    stdout.flush()\n",
    "    \n",
    "    x = dat.SquareEntropy.Processed.outputs.x\n",
    "    ids.append(f'{dat.datnum}')\n",
    "    \n",
    "    dat_tcs, dat_amps = list(), list()\n",
    "    for data in dat.SquareEntropy.Processed.outputs.averaged[0::2]:\n",
    "        fit = T.transition_fits(x, data, func=T.i_sense)[0]\n",
    "        dat_tcs.append(fit.best_values['theta'])\n",
    "        dat_amps.append(fit.best_values['amp'])\n",
    "    dat_ths = list()\n",
    "    for data in dat.SquareEntropy.Processed.outputs.averaged[1::2]:\n",
    "        fit = T.transition_fits(x, data, func=T.i_sense)[0]\n",
    "        dat_ths.append(fit.best_values['theta'])\n",
    "    tc = np.nanmean(dat_tcs)\n",
    "    th = np.nanmean(dat_ths)\n",
    "    dT = th-tc\n",
    "    tcs.append(tc)\n",
    "    ths.append(th)\n",
    "    dTs.append(dT)\n",
    "    \n",
    "    amp = np.average(dat_amps)\n",
    "    dat.SquareEntropy.Processed.inputs.dT = dT\n",
    "    dat.SquareEntropy.Processed.inputs.transition_amplitude = amp\n",
    "    dat.SquareEntropy.process()\n",
    "    integrated_data = dat.SquareEntropy.Processed.outputs.integrated_entropy\n",
    "    indexs = CU.get_data_index(x, [-500, -200])\n",
    "    line_fit = line.fit(integrated_data[indexs[0]:indexs[1]], x=x[indexs[0]:indexs[1]], nan_policy='omit')\n",
    "    integrated_data = integrated_data-line_fit.eval(x=x)\n",
    "    \n",
    "    e_signal = dat.SquareEntropy.Processed.outputs.entropy_signal\n",
    "    e_pars = CU.edit_params(dat.SquareEntropy.Processed.outputs.entropy_fit.params, 'const', 0, True)\n",
    "    efit = E.entropy_fits(x, e_signal, params=e_pars)[0]\n",
    "    efit_info = DA.FitInfo()\n",
    "    efit_info.init_from_fit(efit)\n",
    "    \n",
    "    td = dat.SquareEntropy.Processed.outputs.averaged\n",
    "    ed = [efit_info.eval_fit(x=x), e_signal]\n",
    "    intd = integrated_data\n",
    "    if filter_on is True:\n",
    "        scan_freq = dat.Logs.Fastdac.measure_freq/dat.AWG.info.wave_len\n",
    "        num_steps = dat.AWG.info.num_steps\n",
    "        decimate_factor = int(np.floor(num_steps/200))\n",
    "        if decimate_factor >= 2:\n",
    "            td = CU.decimate(td, scan_freq, decimate_factor=decimate_factor)\n",
    "            x = np.linspace(x[0], x[-1], td.shape[-1])\n",
    "            ed = [efit_info.eval_fit(x=x), CU.decimate(ed[1], scan_freq, decimate_factor=decimate_factor)]\n",
    "            intd = CU.decimate(intd, scan_freq, decimate_factor=decimate_factor)\n",
    "        else:\n",
    "            pass  # Decimate factor must be 2 or more\n",
    "    else:\n",
    "        pass\n",
    "    xs.append(x)\n",
    "    trans_datas.append(td)\n",
    "    entropy_datas.append(ed)\n",
    "    integrated_datas.append(intd)\n",
    "    \n",
    "    channel_ratio = round(dat.AWG.AWs[1][0][1]/dat.AWG.AWs[0][0][1]/-0.033, 1)\n",
    "    dsp = dat.SquareEntropy.Processed\n",
    "    ii = dsp.outputs.integrated_info\n",
    "    fit_text = f'SF={ii.sf:.2f}, Amp={ii.amp:.3f}nA, T_cold={tc:.3f}mV, T_hot={th:.3f}mV, dT={dT:.3f}mV, fit_dS={efit_info.best_values.dS:.3f}kB'\n",
    "    scan_text = f'HQPCbiases=({dat.AWG.AWs[0][0][1]:.0f}mV, {dat.AWG.AWs[0][0][3]:.0f}mV), Channel Biases=({dat.AWG.AWs[1][0][1]:.1f}mV, {dat.AWG.AWs[1][0][3]:.1f}mV)'\n",
    "    array_text = f'Channel Bias Ratio = {channel_ratio}, Square Wave Frequency = {scan_freq:.1f}Hz, Sweeprate (LP*200) = {dat.Logs.sweeprate:.1f}mV/s'\n",
    "    text_info = f'{array_text}<br>{scan_text}<br>{fit_text}'\n",
    "    trans_titles.append(f'Dat{dat.datnum}: Averaged CS data<br>{text_info}')\n",
    "    entropy_titles.append(f'Dat{dat.datnum}: Entropy data with fit<br>{text_info}')\n",
    "    integrated_titles.append(f'Dat{dat.datnum}: Integrated Entropy data<br>{text_info}')\n",
    "    \n",
    "    \n",
    "fig1 = PlU.get_figure(datas=trans_datas, xs=xs, ids=ids, titles=trans_titles, labels=['v0_0', 'vp', 'v0_1', 'vm'], xlabel=f'{dat.Logs.x_label}', ylabel='Current /nA', plot_kwargs={'mode':'lines+markers'})\n",
    "fig2 = PlU.get_figure(datas=entropy_datas, xs=xs, ids=ids, titles=entropy_titles, labels=['fit', 'data'], xlabel=f'{dat.Logs.x_label}', ylabel='Current /nA', plot_kwargs={'mode':'lines+markers'})\n",
    "fig3 = PlU.get_figure(datas=integrated_datas, xs=xs, ids=ids, titles=integrated_titles, xlabel=f'{dat.Logs.x_label}', ylabel='Entropy /kB', plot_kwargs={'mode':'lines+markers'})"
   ]
  },
  {
   "cell_type": "code",
   "execution_count": 4,
   "metadata": {},
   "outputs": [
    {
     "ename": "NameError",
     "evalue": "name 'fig1' is not defined",
     "output_type": "error",
     "traceback": [
      "\u001b[1;31m---------------------------------------------------------------------------\u001b[0m",
      "\u001b[1;31mNameError\u001b[0m                                 Traceback (most recent call last)",
      "\u001b[1;32m<ipython-input-4-9c22b65504dd>\u001b[0m in \u001b[0;36m<module>\u001b[1;34m\u001b[0m\n\u001b[1;32m----> 1\u001b[1;33m \u001b[1;32mfor\u001b[0m \u001b[0mfig\u001b[0m\u001b[1;33m,\u001b[0m \u001b[0mname\u001b[0m \u001b[1;32min\u001b[0m \u001b[0mzip\u001b[0m\u001b[1;33m(\u001b[0m\u001b[1;33m[\u001b[0m\u001b[0mfig1\u001b[0m\u001b[1;33m,\u001b[0m \u001b[0mfig2\u001b[0m\u001b[1;33m,\u001b[0m \u001b[0mfig3\u001b[0m\u001b[1;33m]\u001b[0m\u001b[1;33m,\u001b[0m \u001b[1;33m[\u001b[0m\u001b[1;34m'AveragedCS_vs_Channel_bias'\u001b[0m\u001b[1;33m,\u001b[0m \u001b[1;34m'Average_Entropy_With_Fit'\u001b[0m\u001b[1;33m,\u001b[0m \u001b[1;34m'Averaged_Integrated_Entropy'\u001b[0m\u001b[1;33m]\u001b[0m\u001b[1;33m)\u001b[0m\u001b[1;33m:\u001b[0m\u001b[1;33m\u001b[0m\u001b[1;33m\u001b[0m\u001b[0m\n\u001b[0m\u001b[0;32m      2\u001b[0m     fig.update_layout(hovermode = 'x unified',\n\u001b[0;32m      3\u001b[0m                      title=dict(y=0.9,x=0.5,xanchor='center',yanchor='top'))\n\u001b[0;32m      4\u001b[0m     \u001b[1;32mif\u001b[0m \u001b[0msave_graphs\u001b[0m\u001b[1;33m:\u001b[0m\u001b[1;33m\u001b[0m\u001b[1;33m\u001b[0m\u001b[0m\n\u001b[0;32m      5\u001b[0m         \u001b[0mfig\u001b[0m\u001b[1;33m.\u001b[0m\u001b[0mwrite_html\u001b[0m\u001b[1;33m(\u001b[0m\u001b[1;34mf'Exports/Dats{dats[0].datnum}-{dats[-1].datnum}{name}.html'\u001b[0m\u001b[1;33m)\u001b[0m\u001b[1;33m\u001b[0m\u001b[1;33m\u001b[0m\u001b[0m\n",
      "\u001b[1;31mNameError\u001b[0m: name 'fig1' is not defined"
     ]
    }
   ],
   "source": [
    "for fig, name in zip([fig1, fig2, fig3], ['AveragedCS_vs_Channel_bias', 'Average_Entropy_With_Fit', 'Averaged_Integrated_Entropy']):\n",
    "    fig.update_layout(hovermode = 'x unified')\n",
    "    if save_graphs: \n",
    "        fig.write_html(f'Exports/Dats{dats[0].datnum}-{dats[-1].datnum}{name}.html')\n",
    "    fig.show()"
   ]
  },
  {
   "cell_type": "code",
   "execution_count": 17,
   "metadata": {},
   "outputs": [
    {
     "name": "stdout",
     "output_type": "stream",
     "text": [
      "square entropy, Testing scan parameters frequency and sweeprate, Channel potential ratios, -100mT, 50mK, Channel Ratio Multiplier = 1.0, SW Frequency = 45.0Hz, Sweeprate LP*200 = 140.0mV/s, Num_repeats = 42\n",
      "AWGtuple(measureFreq=2538.1, num_adcs=1, num_cycles=1, num_steps=324, outputs={0: [0], 1: [1]}, samplingFreq=2538.1, wave_len=56)\n"
     ]
    },
    {
     "data": {
      "text/plain": [
       "(42,)"
      ]
     },
     "execution_count": 17,
     "metadata": {},
     "output_type": "execute_result"
    }
   ],
   "source": [
    "dat = get_dat(1273)\n",
    "print(dat.Logs.comments)\n",
    "print(dat.AWG.info)\n",
    "dat.Data.y_array.shape\n"
   ]
  },
  {
   "cell_type": "code",
   "execution_count": null,
   "metadata": {},
   "outputs": [],
   "source": []
  },
  {
   "cell_type": "code",
   "execution_count": null,
   "metadata": {},
   "outputs": [],
   "source": []
  },
  {
   "cell_type": "code",
   "execution_count": 31,
   "metadata": {},
   "outputs": [],
   "source": [
    "# dats = get_dats(range(1074, 1088+1))\n",
    "# dats = get_dats(range(1095, 1109+1))\n",
    "# dats = get_dats(range(1110, 1124+1))\n",
    "dats = get_dats(range(1126, 1140+1))\n",
    "\n",
    "thetas = [dat.Transition.avg_fit.best_values.theta for dat in dats]\n",
    "mids = [dat.Transition.avg_fit.best_values.mid for dat in dats]\n",
    "bias = [dat.Logs.fds['R2T(10M)'] for dat in dats]"
   ]
  },
  {
   "cell_type": "code",
   "execution_count": 32,
   "metadata": {},
   "outputs": [
    {
     "name": "stdout",
     "output_type": "stream",
     "text": [
      "[[Model]]\n",
      "    Model(linear)\n",
      "[[Fit Statistics]]\n",
      "    # fitting method   = leastsq\n",
      "    # function evals   = 6\n",
      "    # data points      = 15\n",
      "    # variables        = 2\n",
      "    chi-square         = 1371.49067\n",
      "    reduced chi-square = 105.499282\n",
      "    Akaike info crit   = 71.7340496\n",
      "    Bayesian info crit = 73.1501500\n",
      "[[Variables]]\n",
      "    slope:     -0.00994061 +/- 0.00999853 (100.58%) (init = 1)\n",
      "    intercept:  93.4431976 +/- 2.65203423 (2.84%) (init = 0)\n"
     ]
    },
    {
     "data": {
      "application/vnd.plotly.v1+json": {
       "config": {
        "plotlyServerURL": "https://plot.ly"
       },
       "data": [
        {
         "mode": "markers",
         "name": "Data",
         "type": "scatter",
         "x": [
          -499.88,
          -374.76,
          -249.94,
          -199.89,
          -149.84,
          -99.793,
          -49.744,
          0,
          49.745,
          99.796,
          149.85,
          199.9,
          249.95,
          374.77,
          499.89
         ],
         "y": [
          87.4092149269256,
          102.8721697064672,
          90.78398506155092,
          91.19294503838837,
          101.88005344171258,
          84.05759578061529,
          88.42313145093675,
          108.1436968827318,
          110.57814789079997,
          95.31206934583298,
          91.93569534186878,
          86.57082647790604,
          104.85837498474565,
          82.86789017140755,
          74.76162566050803
         ]
        },
        {
         "mode": "lines",
         "name": "Line fit",
         "type": "scatter",
         "x": [
          -499.88,
          -374.76,
          -249.94,
          -199.89,
          -149.84,
          -99.793,
          -49.744,
          0,
          49.745,
          99.796,
          149.85,
          199.9,
          249.95,
          374.77,
          499.89
         ],
         "y": [
          98.41230919965201,
          97.16854021902813,
          95.92775342106239,
          95.43022594759512,
          94.93269847412785,
          94.43520082248716,
          93.93768328962875,
          93.44319764247278,
          92.94870205470795,
          92.45116464063182,
          91.95359740472911,
          91.45606993126184,
          90.95854245779456,
          89.71775565982882,
          88.47398667920494
         ]
        }
       ],
       "layout": {
        "autosize": true,
        "template": {
         "data": {
          "bar": [
           {
            "error_x": {
             "color": "#2a3f5f"
            },
            "error_y": {
             "color": "#2a3f5f"
            },
            "marker": {
             "line": {
              "color": "#E5ECF6",
              "width": 0.5
             }
            },
            "type": "bar"
           }
          ],
          "barpolar": [
           {
            "marker": {
             "line": {
              "color": "#E5ECF6",
              "width": 0.5
             }
            },
            "type": "barpolar"
           }
          ],
          "carpet": [
           {
            "aaxis": {
             "endlinecolor": "#2a3f5f",
             "gridcolor": "white",
             "linecolor": "white",
             "minorgridcolor": "white",
             "startlinecolor": "#2a3f5f"
            },
            "baxis": {
             "endlinecolor": "#2a3f5f",
             "gridcolor": "white",
             "linecolor": "white",
             "minorgridcolor": "white",
             "startlinecolor": "#2a3f5f"
            },
            "type": "carpet"
           }
          ],
          "choropleth": [
           {
            "colorbar": {
             "outlinewidth": 0,
             "ticks": ""
            },
            "type": "choropleth"
           }
          ],
          "contour": [
           {
            "colorbar": {
             "outlinewidth": 0,
             "ticks": ""
            },
            "colorscale": [
             [
              0,
              "#0d0887"
             ],
             [
              0.1111111111111111,
              "#46039f"
             ],
             [
              0.2222222222222222,
              "#7201a8"
             ],
             [
              0.3333333333333333,
              "#9c179e"
             ],
             [
              0.4444444444444444,
              "#bd3786"
             ],
             [
              0.5555555555555556,
              "#d8576b"
             ],
             [
              0.6666666666666666,
              "#ed7953"
             ],
             [
              0.7777777777777778,
              "#fb9f3a"
             ],
             [
              0.8888888888888888,
              "#fdca26"
             ],
             [
              1,
              "#f0f921"
             ]
            ],
            "type": "contour"
           }
          ],
          "contourcarpet": [
           {
            "colorbar": {
             "outlinewidth": 0,
             "ticks": ""
            },
            "type": "contourcarpet"
           }
          ],
          "heatmap": [
           {
            "colorbar": {
             "outlinewidth": 0,
             "ticks": ""
            },
            "colorscale": [
             [
              0,
              "#0d0887"
             ],
             [
              0.1111111111111111,
              "#46039f"
             ],
             [
              0.2222222222222222,
              "#7201a8"
             ],
             [
              0.3333333333333333,
              "#9c179e"
             ],
             [
              0.4444444444444444,
              "#bd3786"
             ],
             [
              0.5555555555555556,
              "#d8576b"
             ],
             [
              0.6666666666666666,
              "#ed7953"
             ],
             [
              0.7777777777777778,
              "#fb9f3a"
             ],
             [
              0.8888888888888888,
              "#fdca26"
             ],
             [
              1,
              "#f0f921"
             ]
            ],
            "type": "heatmap"
           }
          ],
          "heatmapgl": [
           {
            "colorbar": {
             "outlinewidth": 0,
             "ticks": ""
            },
            "colorscale": [
             [
              0,
              "#0d0887"
             ],
             [
              0.1111111111111111,
              "#46039f"
             ],
             [
              0.2222222222222222,
              "#7201a8"
             ],
             [
              0.3333333333333333,
              "#9c179e"
             ],
             [
              0.4444444444444444,
              "#bd3786"
             ],
             [
              0.5555555555555556,
              "#d8576b"
             ],
             [
              0.6666666666666666,
              "#ed7953"
             ],
             [
              0.7777777777777778,
              "#fb9f3a"
             ],
             [
              0.8888888888888888,
              "#fdca26"
             ],
             [
              1,
              "#f0f921"
             ]
            ],
            "type": "heatmapgl"
           }
          ],
          "histogram": [
           {
            "marker": {
             "colorbar": {
              "outlinewidth": 0,
              "ticks": ""
             }
            },
            "type": "histogram"
           }
          ],
          "histogram2d": [
           {
            "colorbar": {
             "outlinewidth": 0,
             "ticks": ""
            },
            "colorscale": [
             [
              0,
              "#0d0887"
             ],
             [
              0.1111111111111111,
              "#46039f"
             ],
             [
              0.2222222222222222,
              "#7201a8"
             ],
             [
              0.3333333333333333,
              "#9c179e"
             ],
             [
              0.4444444444444444,
              "#bd3786"
             ],
             [
              0.5555555555555556,
              "#d8576b"
             ],
             [
              0.6666666666666666,
              "#ed7953"
             ],
             [
              0.7777777777777778,
              "#fb9f3a"
             ],
             [
              0.8888888888888888,
              "#fdca26"
             ],
             [
              1,
              "#f0f921"
             ]
            ],
            "type": "histogram2d"
           }
          ],
          "histogram2dcontour": [
           {
            "colorbar": {
             "outlinewidth": 0,
             "ticks": ""
            },
            "colorscale": [
             [
              0,
              "#0d0887"
             ],
             [
              0.1111111111111111,
              "#46039f"
             ],
             [
              0.2222222222222222,
              "#7201a8"
             ],
             [
              0.3333333333333333,
              "#9c179e"
             ],
             [
              0.4444444444444444,
              "#bd3786"
             ],
             [
              0.5555555555555556,
              "#d8576b"
             ],
             [
              0.6666666666666666,
              "#ed7953"
             ],
             [
              0.7777777777777778,
              "#fb9f3a"
             ],
             [
              0.8888888888888888,
              "#fdca26"
             ],
             [
              1,
              "#f0f921"
             ]
            ],
            "type": "histogram2dcontour"
           }
          ],
          "mesh3d": [
           {
            "colorbar": {
             "outlinewidth": 0,
             "ticks": ""
            },
            "type": "mesh3d"
           }
          ],
          "parcoords": [
           {
            "line": {
             "colorbar": {
              "outlinewidth": 0,
              "ticks": ""
             }
            },
            "type": "parcoords"
           }
          ],
          "pie": [
           {
            "automargin": true,
            "type": "pie"
           }
          ],
          "scatter": [
           {
            "marker": {
             "colorbar": {
              "outlinewidth": 0,
              "ticks": ""
             }
            },
            "type": "scatter"
           }
          ],
          "scatter3d": [
           {
            "line": {
             "colorbar": {
              "outlinewidth": 0,
              "ticks": ""
             }
            },
            "marker": {
             "colorbar": {
              "outlinewidth": 0,
              "ticks": ""
             }
            },
            "type": "scatter3d"
           }
          ],
          "scattercarpet": [
           {
            "marker": {
             "colorbar": {
              "outlinewidth": 0,
              "ticks": ""
             }
            },
            "type": "scattercarpet"
           }
          ],
          "scattergeo": [
           {
            "marker": {
             "colorbar": {
              "outlinewidth": 0,
              "ticks": ""
             }
            },
            "type": "scattergeo"
           }
          ],
          "scattergl": [
           {
            "marker": {
             "colorbar": {
              "outlinewidth": 0,
              "ticks": ""
             }
            },
            "type": "scattergl"
           }
          ],
          "scattermapbox": [
           {
            "marker": {
             "colorbar": {
              "outlinewidth": 0,
              "ticks": ""
             }
            },
            "type": "scattermapbox"
           }
          ],
          "scatterpolar": [
           {
            "marker": {
             "colorbar": {
              "outlinewidth": 0,
              "ticks": ""
             }
            },
            "type": "scatterpolar"
           }
          ],
          "scatterpolargl": [
           {
            "marker": {
             "colorbar": {
              "outlinewidth": 0,
              "ticks": ""
             }
            },
            "type": "scatterpolargl"
           }
          ],
          "scatterternary": [
           {
            "marker": {
             "colorbar": {
              "outlinewidth": 0,
              "ticks": ""
             }
            },
            "type": "scatterternary"
           }
          ],
          "surface": [
           {
            "colorbar": {
             "outlinewidth": 0,
             "ticks": ""
            },
            "colorscale": [
             [
              0,
              "#0d0887"
             ],
             [
              0.1111111111111111,
              "#46039f"
             ],
             [
              0.2222222222222222,
              "#7201a8"
             ],
             [
              0.3333333333333333,
              "#9c179e"
             ],
             [
              0.4444444444444444,
              "#bd3786"
             ],
             [
              0.5555555555555556,
              "#d8576b"
             ],
             [
              0.6666666666666666,
              "#ed7953"
             ],
             [
              0.7777777777777778,
              "#fb9f3a"
             ],
             [
              0.8888888888888888,
              "#fdca26"
             ],
             [
              1,
              "#f0f921"
             ]
            ],
            "type": "surface"
           }
          ],
          "table": [
           {
            "cells": {
             "fill": {
              "color": "#EBF0F8"
             },
             "line": {
              "color": "white"
             }
            },
            "header": {
             "fill": {
              "color": "#C8D4E3"
             },
             "line": {
              "color": "white"
             }
            },
            "type": "table"
           }
          ]
         },
         "layout": {
          "annotationdefaults": {
           "arrowcolor": "#2a3f5f",
           "arrowhead": 0,
           "arrowwidth": 1
          },
          "coloraxis": {
           "colorbar": {
            "outlinewidth": 0,
            "ticks": ""
           }
          },
          "colorscale": {
           "diverging": [
            [
             0,
             "#8e0152"
            ],
            [
             0.1,
             "#c51b7d"
            ],
            [
             0.2,
             "#de77ae"
            ],
            [
             0.3,
             "#f1b6da"
            ],
            [
             0.4,
             "#fde0ef"
            ],
            [
             0.5,
             "#f7f7f7"
            ],
            [
             0.6,
             "#e6f5d0"
            ],
            [
             0.7,
             "#b8e186"
            ],
            [
             0.8,
             "#7fbc41"
            ],
            [
             0.9,
             "#4d9221"
            ],
            [
             1,
             "#276419"
            ]
           ],
           "sequential": [
            [
             0,
             "#0d0887"
            ],
            [
             0.1111111111111111,
             "#46039f"
            ],
            [
             0.2222222222222222,
             "#7201a8"
            ],
            [
             0.3333333333333333,
             "#9c179e"
            ],
            [
             0.4444444444444444,
             "#bd3786"
            ],
            [
             0.5555555555555556,
             "#d8576b"
            ],
            [
             0.6666666666666666,
             "#ed7953"
            ],
            [
             0.7777777777777778,
             "#fb9f3a"
            ],
            [
             0.8888888888888888,
             "#fdca26"
            ],
            [
             1,
             "#f0f921"
            ]
           ],
           "sequentialminus": [
            [
             0,
             "#0d0887"
            ],
            [
             0.1111111111111111,
             "#46039f"
            ],
            [
             0.2222222222222222,
             "#7201a8"
            ],
            [
             0.3333333333333333,
             "#9c179e"
            ],
            [
             0.4444444444444444,
             "#bd3786"
            ],
            [
             0.5555555555555556,
             "#d8576b"
            ],
            [
             0.6666666666666666,
             "#ed7953"
            ],
            [
             0.7777777777777778,
             "#fb9f3a"
            ],
            [
             0.8888888888888888,
             "#fdca26"
            ],
            [
             1,
             "#f0f921"
            ]
           ]
          },
          "colorway": [
           "#636efa",
           "#EF553B",
           "#00cc96",
           "#ab63fa",
           "#FFA15A",
           "#19d3f3",
           "#FF6692",
           "#B6E880",
           "#FF97FF",
           "#FECB52"
          ],
          "font": {
           "color": "#2a3f5f"
          },
          "geo": {
           "bgcolor": "white",
           "lakecolor": "white",
           "landcolor": "#E5ECF6",
           "showlakes": true,
           "showland": true,
           "subunitcolor": "white"
          },
          "hoverlabel": {
           "align": "left"
          },
          "hovermode": "closest",
          "mapbox": {
           "style": "light"
          },
          "paper_bgcolor": "white",
          "plot_bgcolor": "#E5ECF6",
          "polar": {
           "angularaxis": {
            "gridcolor": "white",
            "linecolor": "white",
            "ticks": ""
           },
           "bgcolor": "#E5ECF6",
           "radialaxis": {
            "gridcolor": "white",
            "linecolor": "white",
            "ticks": ""
           }
          },
          "scene": {
           "xaxis": {
            "backgroundcolor": "#E5ECF6",
            "gridcolor": "white",
            "gridwidth": 2,
            "linecolor": "white",
            "showbackground": true,
            "ticks": "",
            "zerolinecolor": "white"
           },
           "yaxis": {
            "backgroundcolor": "#E5ECF6",
            "gridcolor": "white",
            "gridwidth": 2,
            "linecolor": "white",
            "showbackground": true,
            "ticks": "",
            "zerolinecolor": "white"
           },
           "zaxis": {
            "backgroundcolor": "#E5ECF6",
            "gridcolor": "white",
            "gridwidth": 2,
            "linecolor": "white",
            "showbackground": true,
            "ticks": "",
            "zerolinecolor": "white"
           }
          },
          "shapedefaults": {
           "line": {
            "color": "#2a3f5f"
           }
          },
          "ternary": {
           "aaxis": {
            "gridcolor": "white",
            "linecolor": "white",
            "ticks": ""
           },
           "baxis": {
            "gridcolor": "white",
            "linecolor": "white",
            "ticks": ""
           },
           "bgcolor": "#E5ECF6",
           "caxis": {
            "gridcolor": "white",
            "linecolor": "white",
            "ticks": ""
           }
          },
          "title": {
           "x": 0.05
          },
          "xaxis": {
           "automargin": true,
           "gridcolor": "white",
           "linecolor": "white",
           "ticks": "",
           "title": {
            "standoff": 15
           },
           "zerolinecolor": "white",
           "zerolinewidth": 2
          },
          "yaxis": {
           "automargin": true,
           "gridcolor": "white",
           "linecolor": "white",
           "ticks": "",
           "title": {
            "standoff": 15
           },
           "zerolinecolor": "white",
           "zerolinewidth": 2
          }
         }
        },
        "title": {
         "text": "Dats1126->1140"
        },
        "xaxis": {
         "autorange": true,
         "range": [
          -558.8572804847885,
          558.8672804847885
         ],
         "title": {
          "text": "HQPC bias /mV"
         },
         "type": "linear"
        },
        "yaxis": {
         "autorange": true,
         "range": [
          72.13812243981786,
          113.20165111149014
         ],
         "title": {
          "text": "Center /mV"
         },
         "type": "linear"
        }
       }
      },
      "image/png": "[encoded data removed]",
      "text/html": [
       "<div>\n",
       "        \n",
       "        \n",
       "            <div id=\"1cbd27b9-5572-435e-8e2e-d7701ffbc2de\" class=\"plotly-graph-div\" style=\"height:525px; width:100%;\"></div>\n",
       "            <script type=\"text/javascript\">\n",
       "                require([\"plotly\"], function(Plotly) {\n",
       "                    window.PLOTLYENV=window.PLOTLYENV || {};\n",
       "                    \n",
       "                if (document.getElementById(\"1cbd27b9-5572-435e-8e2e-d7701ffbc2de\")) {\n",
       "                    Plotly.newPlot(\n",
       "                        '1cbd27b9-5572-435e-8e2e-d7701ffbc2de',\n",
       "                        [{\"mode\": \"markers\", \"name\": \"Data\", \"type\": \"scatter\", \"x\": [-499.88, -374.76, -249.94, -199.89, -149.84, -99.793, -49.744, 0, 49.745, 99.796, 149.85, 199.9, 249.95, 374.77, 499.89], \"y\": [87.4092149269256, 102.8721697064672, 90.78398506155092, 91.19294503838837, 101.88005344171258, 84.05759578061529, 88.42313145093675, 108.1436968827318, 110.57814789079997, 95.31206934583298, 91.93569534186878, 86.57082647790604, 104.85837498474565, 82.86789017140755, 74.76162566050803]}, {\"mode\": \"lines\", \"name\": \"Line fit\", \"type\": \"scatter\", \"x\": [-499.88, -374.76, -249.94, -199.89, -149.84, -99.793, -49.744, 0, 49.745, 99.796, 149.85, 199.9, 249.95, 374.77, 499.89], \"y\": [98.41230919965201, 97.16854021902813, 95.92775342106239, 95.43022594759512, 94.93269847412785, 94.43520082248716, 93.93768328962875, 93.44319764247278, 92.94870205470795, 92.45116464063182, 91.95359740472911, 91.45606993126184, 90.95854245779456, 89.71775565982882, 88.47398667920494]}],\n",
       "                        {\"template\": {\"data\": {\"bar\": [{\"error_x\": {\"color\": \"#2a3f5f\"}, \"error_y\": {\"color\": \"#2a3f5f\"}, \"marker\": {\"line\": {\"color\": \"#E5ECF6\", \"width\": 0.5}}, \"type\": \"bar\"}], \"barpolar\": [{\"marker\": {\"line\": {\"color\": \"#E5ECF6\", \"width\": 0.5}}, \"type\": \"barpolar\"}], \"carpet\": [{\"aaxis\": {\"endlinecolor\": \"#2a3f5f\", \"gridcolor\": \"white\", \"linecolor\": \"white\", \"minorgridcolor\": \"white\", \"startlinecolor\": \"#2a3f5f\"}, \"baxis\": {\"endlinecolor\": \"#2a3f5f\", \"gridcolor\": \"white\", \"linecolor\": \"white\", \"minorgridcolor\": \"white\", \"startlinecolor\": \"#2a3f5f\"}, \"type\": \"carpet\"}], \"choropleth\": [{\"colorbar\": {\"outlinewidth\": 0, \"ticks\": \"\"}, \"type\": \"choropleth\"}], \"contour\": [{\"colorbar\": {\"outlinewidth\": 0, \"ticks\": \"\"}, \"colorscale\": [[0.0, \"#0d0887\"], [0.1111111111111111, \"#46039f\"], [0.2222222222222222, \"#7201a8\"], [0.3333333333333333, \"#9c179e\"], [0.4444444444444444, \"#bd3786\"], [0.5555555555555556, \"#d8576b\"], [0.6666666666666666, \"#ed7953\"], [0.7777777777777778, \"#fb9f3a\"], [0.8888888888888888, \"#fdca26\"], [1.0, \"#f0f921\"]], \"type\": \"contour\"}], \"contourcarpet\": [{\"colorbar\": {\"outlinewidth\": 0, \"ticks\": \"\"}, \"type\": \"contourcarpet\"}], \"heatmap\": [{\"colorbar\": {\"outlinewidth\": 0, \"ticks\": \"\"}, \"colorscale\": [[0.0, \"#0d0887\"], [0.1111111111111111, \"#46039f\"], [0.2222222222222222, \"#7201a8\"], [0.3333333333333333, \"#9c179e\"], [0.4444444444444444, \"#bd3786\"], [0.5555555555555556, \"#d8576b\"], [0.6666666666666666, \"#ed7953\"], [0.7777777777777778, \"#fb9f3a\"], [0.8888888888888888, \"#fdca26\"], [1.0, \"#f0f921\"]], \"type\": \"heatmap\"}], \"heatmapgl\": [{\"colorbar\": {\"outlinewidth\": 0, \"ticks\": \"\"}, \"colorscale\": [[0.0, \"#0d0887\"], [0.1111111111111111, \"#46039f\"], [0.2222222222222222, \"#7201a8\"], [0.3333333333333333, \"#9c179e\"], [0.4444444444444444, \"#bd3786\"], [0.5555555555555556, \"#d8576b\"], [0.6666666666666666, \"#ed7953\"], [0.7777777777777778, \"#fb9f3a\"], [0.8888888888888888, \"#fdca26\"], [1.0, \"#f0f921\"]], \"type\": \"heatmapgl\"}], \"histogram\": [{\"marker\": {\"colorbar\": {\"outlinewidth\": 0, \"ticks\": \"\"}}, \"type\": \"histogram\"}], \"histogram2d\": [{\"colorbar\": {\"outlinewidth\": 0, \"ticks\": \"\"}, \"colorscale\": [[0.0, \"#0d0887\"], [0.1111111111111111, \"#46039f\"], [0.2222222222222222, \"#7201a8\"], [0.3333333333333333, \"#9c179e\"], [0.4444444444444444, \"#bd3786\"], [0.5555555555555556, \"#d8576b\"], [0.6666666666666666, \"#ed7953\"], [0.7777777777777778, \"#fb9f3a\"], [0.8888888888888888, \"#fdca26\"], [1.0, \"#f0f921\"]], \"type\": \"histogram2d\"}], \"histogram2dcontour\": [{\"colorbar\": {\"outlinewidth\": 0, \"ticks\": \"\"}, \"colorscale\": [[0.0, \"#0d0887\"], [0.1111111111111111, \"#46039f\"], [0.2222222222222222, \"#7201a8\"], [0.3333333333333333, \"#9c179e\"], [0.4444444444444444, \"#bd3786\"], [0.5555555555555556, \"#d8576b\"], [0.6666666666666666, \"#ed7953\"], [0.7777777777777778, \"#fb9f3a\"], [0.8888888888888888, \"#fdca26\"], [1.0, \"#f0f921\"]], \"type\": \"histogram2dcontour\"}], \"mesh3d\": [{\"colorbar\": {\"outlinewidth\": 0, \"ticks\": \"\"}, \"type\": \"mesh3d\"}], \"parcoords\": [{\"line\": {\"colorbar\": {\"outlinewidth\": 0, \"ticks\": \"\"}}, \"type\": \"parcoords\"}], \"pie\": [{\"automargin\": true, \"type\": \"pie\"}], \"scatter\": [{\"marker\": {\"colorbar\": {\"outlinewidth\": 0, \"ticks\": \"\"}}, \"type\": \"scatter\"}], \"scatter3d\": [{\"line\": {\"colorbar\": {\"outlinewidth\": 0, \"ticks\": \"\"}}, \"marker\": {\"colorbar\": {\"outlinewidth\": 0, \"ticks\": \"\"}}, \"type\": \"scatter3d\"}], \"scattercarpet\": [{\"marker\": {\"colorbar\": {\"outlinewidth\": 0, \"ticks\": \"\"}}, \"type\": \"scattercarpet\"}], \"scattergeo\": [{\"marker\": {\"colorbar\": {\"outlinewidth\": 0, \"ticks\": \"\"}}, \"type\": \"scattergeo\"}], \"scattergl\": [{\"marker\": {\"colorbar\": {\"outlinewidth\": 0, \"ticks\": \"\"}}, \"type\": \"scattergl\"}], \"scattermapbox\": [{\"marker\": {\"colorbar\": {\"outlinewidth\": 0, \"ticks\": \"\"}}, \"type\": \"scattermapbox\"}], \"scatterpolar\": [{\"marker\": {\"colorbar\": {\"outlinewidth\": 0, \"ticks\": \"\"}}, \"type\": \"scatterpolar\"}], \"scatterpolargl\": [{\"marker\": {\"colorbar\": {\"outlinewidth\": 0, \"ticks\": \"\"}}, \"type\": \"scatterpolargl\"}], \"scatterternary\": [{\"marker\": {\"colorbar\": {\"outlinewidth\": 0, \"ticks\": \"\"}}, \"type\": \"scatterternary\"}], \"surface\": [{\"colorbar\": {\"outlinewidth\": 0, \"ticks\": \"\"}, \"colorscale\": [[0.0, \"#0d0887\"], [0.1111111111111111, \"#46039f\"], [0.2222222222222222, \"#7201a8\"], [0.3333333333333333, \"#9c179e\"], [0.4444444444444444, \"#bd3786\"], [0.5555555555555556, \"#d8576b\"], [0.6666666666666666, \"#ed7953\"], [0.7777777777777778, \"#fb9f3a\"], [0.8888888888888888, \"#fdca26\"], [1.0, \"#f0f921\"]], \"type\": \"surface\"}], \"table\": [{\"cells\": {\"fill\": {\"color\": \"#EBF0F8\"}, \"line\": {\"color\": \"white\"}}, \"header\": {\"fill\": {\"color\": \"#C8D4E3\"}, \"line\": {\"color\": \"white\"}}, \"type\": \"table\"}]}, \"layout\": {\"annotationdefaults\": {\"arrowcolor\": \"#2a3f5f\", \"arrowhead\": 0, \"arrowwidth\": 1}, \"coloraxis\": {\"colorbar\": {\"outlinewidth\": 0, \"ticks\": \"\"}}, \"colorscale\": {\"diverging\": [[0, \"#8e0152\"], [0.1, \"#c51b7d\"], [0.2, \"#de77ae\"], [0.3, \"#f1b6da\"], [0.4, \"#fde0ef\"], [0.5, \"#f7f7f7\"], [0.6, \"#e6f5d0\"], [0.7, \"#b8e186\"], [0.8, \"#7fbc41\"], [0.9, \"#4d9221\"], [1, \"#276419\"]], \"sequential\": [[0.0, \"#0d0887\"], [0.1111111111111111, \"#46039f\"], [0.2222222222222222, \"#7201a8\"], [0.3333333333333333, \"#9c179e\"], [0.4444444444444444, \"#bd3786\"], [0.5555555555555556, \"#d8576b\"], [0.6666666666666666, \"#ed7953\"], [0.7777777777777778, \"#fb9f3a\"], [0.8888888888888888, \"#fdca26\"], [1.0, \"#f0f921\"]], \"sequentialminus\": [[0.0, \"#0d0887\"], [0.1111111111111111, \"#46039f\"], [0.2222222222222222, \"#7201a8\"], [0.3333333333333333, \"#9c179e\"], [0.4444444444444444, \"#bd3786\"], [0.5555555555555556, \"#d8576b\"], [0.6666666666666666, \"#ed7953\"], [0.7777777777777778, \"#fb9f3a\"], [0.8888888888888888, \"#fdca26\"], [1.0, \"#f0f921\"]]}, \"colorway\": [\"#636efa\", \"#EF553B\", \"#00cc96\", \"#ab63fa\", \"#FFA15A\", \"#19d3f3\", \"#FF6692\", \"#B6E880\", \"#FF97FF\", \"#FECB52\"], \"font\": {\"color\": \"#2a3f5f\"}, \"geo\": {\"bgcolor\": \"white\", \"lakecolor\": \"white\", \"landcolor\": \"#E5ECF6\", \"showlakes\": true, \"showland\": true, \"subunitcolor\": \"white\"}, \"hoverlabel\": {\"align\": \"left\"}, \"hovermode\": \"closest\", \"mapbox\": {\"style\": \"light\"}, \"paper_bgcolor\": \"white\", \"plot_bgcolor\": \"#E5ECF6\", \"polar\": {\"angularaxis\": {\"gridcolor\": \"white\", \"linecolor\": \"white\", \"ticks\": \"\"}, \"bgcolor\": \"#E5ECF6\", \"radialaxis\": {\"gridcolor\": \"white\", \"linecolor\": \"white\", \"ticks\": \"\"}}, \"scene\": {\"xaxis\": {\"backgroundcolor\": \"#E5ECF6\", \"gridcolor\": \"white\", \"gridwidth\": 2, \"linecolor\": \"white\", \"showbackground\": true, \"ticks\": \"\", \"zerolinecolor\": \"white\"}, \"yaxis\": {\"backgroundcolor\": \"#E5ECF6\", \"gridcolor\": \"white\", \"gridwidth\": 2, \"linecolor\": \"white\", \"showbackground\": true, \"ticks\": \"\", \"zerolinecolor\": \"white\"}, \"zaxis\": {\"backgroundcolor\": \"#E5ECF6\", \"gridcolor\": \"white\", \"gridwidth\": 2, \"linecolor\": \"white\", \"showbackground\": true, \"ticks\": \"\", \"zerolinecolor\": \"white\"}}, \"shapedefaults\": {\"line\": {\"color\": \"#2a3f5f\"}}, \"ternary\": {\"aaxis\": {\"gridcolor\": \"white\", \"linecolor\": \"white\", \"ticks\": \"\"}, \"baxis\": {\"gridcolor\": \"white\", \"linecolor\": \"white\", \"ticks\": \"\"}, \"bgcolor\": \"#E5ECF6\", \"caxis\": {\"gridcolor\": \"white\", \"linecolor\": \"white\", \"ticks\": \"\"}}, \"title\": {\"x\": 0.05}, \"xaxis\": {\"automargin\": true, \"gridcolor\": \"white\", \"linecolor\": \"white\", \"ticks\": \"\", \"title\": {\"standoff\": 15}, \"zerolinecolor\": \"white\", \"zerolinewidth\": 2}, \"yaxis\": {\"automargin\": true, \"gridcolor\": \"white\", \"linecolor\": \"white\", \"ticks\": \"\", \"title\": {\"standoff\": 15}, \"zerolinecolor\": \"white\", \"zerolinewidth\": 2}}}, \"title\": {\"text\": \"Dats1126->1140\"}, \"xaxis\": {\"title\": {\"text\": \"HQPC bias /mV\"}}, \"yaxis\": {\"title\": {\"text\": \"Center /mV\"}}},\n",
       "                        {\"responsive\": true}\n",
       "                    ).then(function(){\n",
       "                            \n",
       "var gd = document.getElementById('1cbd27b9-5572-435e-8e2e-d7701ffbc2de');\n",
       "var x = new MutationObserver(function (mutations, observer) {{\n",
       "        var display = window.getComputedStyle(gd).display;\n",
       "        if (!display || display === 'none') {{\n",
       "            console.log([gd, 'removed!']);\n",
       "            Plotly.purge(gd);\n",
       "            observer.disconnect();\n",
       "        }}\n",
       "}});\n",
       "\n",
       "// Listen for the removal of the full notebook cells\n",
       "var notebookContainer = gd.closest('#notebook-container');\n",
       "if (notebookContainer) {{\n",
       "    x.observe(notebookContainer, {childList: true});\n",
       "}}\n",
       "\n",
       "// Listen for the clearing of the current output cell\n",
       "var outputEl = gd.closest('.output');\n",
       "if (outputEl) {{\n",
       "    x.observe(outputEl, {childList: true});\n",
       "}}\n",
       "\n",
       "                        })\n",
       "                };\n",
       "                });\n",
       "            </script>\n",
       "        </div>"
      ]
     },
     "metadata": {},
     "output_type": "display_data"
    }
   ],
   "source": [
    "fig = go.Figure()\n",
    "fig.add_trace(go.Scatter(x=bias, y=mids, mode='markers', name='Data'))\n",
    "\n",
    "line = lm.models.LinearModel()\n",
    "fit = line.fit(mids, x=bias)\n",
    "fig.add_trace(go.Scatter(x=bias, y=fit.eval(x=np.array(bias)), name='Line fit', mode='lines'))\n",
    "fig.update_layout(title=f'Dats{dats[0].datnum}->{dats[-1].datnum}', xaxis_title='HQPC bias /mV', yaxis_title='Center /mV')\n",
    "print(fit.fit_report())\n",
    "fig.show()"
   ]
  },
  {
   "cell_type": "markdown",
   "metadata": {},
   "source": [
    "line through TC vs LP    $TC = 0.772*LP - 21.4$\n",
    "\n",
    "line through LP vs HQPC $LP = 0.043*HQPC - 0.01$\n",
    "\n",
    "$TC  = 0.772*0.043*HQPC $\n",
    "\n",
    "$TC = 0.033*HQPC$"
   ]
  },
  {
   "cell_type": "code",
   "execution_count": null,
   "metadata": {},
   "outputs": [],
   "source": [
    " "
   ]
  },
  {
   "cell_type": "code",
   "execution_count": 37,
   "metadata": {},
   "outputs": [
    {
     "data": {
      "application/vnd.plotly.v1+json": {
       "config": {
        "plotlyServerURL": "https://plot.ly"
       },
       "data": [
        {
         "mode": "markers",
         "name": "Data",
         "type": "scatter",
         "x": [
          -499.88,
          -374.76,
          -249.94,
          -199.89,
          -149.84,
          -99.793,
          -49.744,
          0,
          49.745,
          99.796,
          149.85,
          199.9,
          249.95,
          374.77,
          499.89
         ],
         "y": [
          22.56595858324142,
          19.185374872980297,
          15.414784125016025,
          13.824104063108841,
          12.417796387357976,
          11.465094814787902,
          10.023540575430172,
          9.827270332686277,
          10.128894025774233,
          11.002606233873605,
          12.418250448647127,
          13.812306177811854,
          15.00900664252361,
          19.292132608937795,
          22.419806585673193
         ]
        },
        {
         "mode": "lines",
         "name": "Fit",
         "type": "scatter",
         "x": [
          -199.89,
          -199.4898098098098,
          -199.0896196196196,
          -198.68942942942942,
          -198.28923923923924,
          -197.88904904904905,
          -197.48885885885883,
          -197.08866866866865,
          -196.68847847847846,
          -196.28828828828827,
          -195.88809809809808,
          -195.4879079079079,
          -195.0877177177177,
          -194.68752752752752,
          -194.28733733733733,
          -193.88714714714715,
          -193.48695695695693,
          -193.08676676676674,
          -192.68657657657656,
          -192.28638638638637,
          -191.88619619619618,
          -191.486006006006,
          -191.0858158158158,
          -190.68562562562562,
          -190.28543543543543,
          -189.88524524524524,
          -189.48505505505506,
          -189.08486486486484,
          -188.68467467467465,
          -188.28448448448447,
          -187.88429429429428,
          -187.4841041041041,
          -187.0839139139139,
          -186.68372372372372,
          -186.28353353353353,
          -185.88334334334334,
          -185.48315315315315,
          -185.08296296296294,
          -184.68277277277275,
          -184.28258258258256,
          -183.88239239239238,
          -183.4822022022022,
          -183.082012012012,
          -182.6818218218218,
          -182.28163163163163,
          -181.88144144144144,
          -181.48125125125125,
          -181.08106106106106,
          -180.68087087087085,
          -180.28068068068066,
          -179.88049049049047,
          -179.48030030030029,
          -179.0801101101101,
          -178.6799199199199,
          -178.27972972972972,
          -177.87953953953954,
          -177.47934934934935,
          -177.07915915915913,
          -176.67896896896895,
          -176.27877877877876,
          -175.87858858858857,
          -175.47839839839838,
          -175.0782082082082,
          -174.678018018018,
          -174.27782782782782,
          -173.87763763763763,
          -173.47744744744745,
          -173.07725725725726,
          -172.67706706706707,
          -172.27687687687686,
          -171.87668668668667,
          -171.47649649649648,
          -171.0763063063063,
          -170.6761161161161,
          -170.27592592592592,
          -169.87573573573573,
          -169.47554554554554,
          -169.07535535535536,
          -168.67516516516514,
          -168.27497497497495,
          -167.87478478478477,
          -167.47459459459458,
          -167.0744044044044,
          -166.6742142142142,
          -166.27402402402402,
          -165.87383383383383,
          -165.47364364364364,
          -165.07345345345345,
          -164.67326326326327,
          -164.27307307307308,
          -163.8728828828829,
          -163.47269269269268,
          -163.0725025025025,
          -162.6723123123123,
          -162.2721221221221,
          -161.87193193193193,
          -161.47174174174174,
          -161.07155155155155,
          -160.67136136136133,
          -160.27117117117115,
          -159.87098098098096,
          -159.47079079079077,
          -159.07060060060059,
          -158.6704104104104,
          -158.2702202202202,
          -157.87003003003002,
          -157.46983983983984,
          -157.06964964964965,
          -156.66945945945946,
          -156.26926926926927,
          -155.86907907907909,
          -155.4688888888889,
          -155.06869869869868,
          -154.6685085085085,
          -154.2683183183183,
          -153.86812812812812,
          -153.46793793793793,
          -153.06774774774775,
          -152.66755755755756,
          -152.26736736736734,
          -151.86717717717715,
          -151.46698698698697,
          -151.06679679679678,
          -150.6666066066066,
          -150.2664164164164,
          -149.86622622622622,
          -149.46603603603603,
          -149.06584584584584,
          -148.66565565565566,
          -148.26546546546547,
          -147.86527527527528,
          -147.4650850850851,
          -147.06489489489488,
          -146.6647047047047,
          -146.2645145145145,
          -145.86432432432431,
          -145.46413413413413,
          -145.06394394394394,
          -144.66375375375375,
          -144.26356356356357,
          -143.86337337337335,
          -143.46318318318316,
          -143.06299299299297,
          -142.6628028028028,
          -142.2626126126126,
          -141.8624224224224,
          -141.46223223223222,
          -141.06204204204204,
          -140.66185185185185,
          -140.26166166166166,
          -139.86147147147148,
          -139.4612812812813,
          -139.0610910910911,
          -138.66090090090088,
          -138.2607107107107,
          -137.8605205205205,
          -137.46033033033032,
          -137.06014014014013,
          -136.65994994994995,
          -136.25975975975976,
          -135.85956956956954,
          -135.45937937937936,
          -135.05918918918917,
          -134.65899899899898,
          -134.2588088088088,
          -133.8586186186186,
          -133.45842842842842,
          -133.05823823823823,
          -132.65804804804804,
          -132.25785785785786,
          -131.85766766766767,
          -131.45747747747748,
          -131.0572872872873,
          -130.6570970970971,
          -130.25690690690692,
          -129.85671671671673,
          -129.45652652652652,
          -129.05633633633633,
          -128.65614614614614,
          -128.25595595595595,
          -127.85576576576577,
          -127.45557557557557,
          -127.05538538538538,
          -126.65519519519519,
          -126.255005005005,
          -125.85481481481482,
          -125.45462462462461,
          -125.05443443443443,
          -124.65424424424424,
          -124.25405405405405,
          -123.85386386386386,
          -123.45367367367366,
          -123.05348348348348,
          -122.65329329329329,
          -122.2531031031031,
          -121.85291291291291,
          -121.45272272272271,
          -121.05253253253252,
          -120.65234234234234,
          -120.25215215215215,
          -119.85196196196196,
          -119.45177177177177,
          -119.05158158158157,
          -118.65139139139139,
          -118.2512012012012,
          -117.85101101101101,
          -117.45082082082082,
          -117.05063063063062,
          -116.65044044044043,
          -116.25025025025025,
          -115.85006006006006,
          -115.44986986986987,
          -115.04967967967967,
          -114.64948948948948,
          -114.2492992992993,
          -113.84910910910911,
          -113.44891891891892,
          -113.04872872872872,
          -112.64853853853853,
          -112.24834834834834,
          -111.84815815815816,
          -111.44796796796797,
          -111.04777777777778,
          -110.64758758758758,
          -110.24739739739739,
          -109.8472072072072,
          -109.44701701701702,
          -109.04682682682683,
          -108.64663663663663,
          -108.24644644644644,
          -107.84625625625625,
          -107.44606606606607,
          -107.04587587587588,
          -106.64568568568568,
          -106.24549549549549,
          -105.8453053053053,
          -105.44511511511512,
          -105.04492492492493,
          -104.64473473473473,
          -104.24454454454454,
          -103.84435435435435,
          -103.44416416416416,
          -103.04397397397398,
          -102.64378378378377,
          -102.24359359359359,
          -101.8434034034034,
          -101.44321321321321,
          -101.04302302302303,
          -100.64283283283284,
          -100.24264264264264,
          -99.84245245245245,
          -99.44226226226226,
          -99.04207207207207,
          -98.64188188188189,
          -98.24169169169168,
          -97.8415015015015,
          -97.44131131131131,
          -97.04112112112112,
          -96.64093093093094,
          -96.24074074074073,
          -95.84055055055055,
          -95.44036036036036,
          -95.04017017017017,
          -94.63997997997998,
          -94.23978978978978,
          -93.8395995995996,
          -93.43940940940941,
          -93.03921921921922,
          -92.63902902902903,
          -92.23883883883884,
          -91.83864864864864,
          -91.43845845845846,
          -91.03826826826827,
          -90.63807807807808,
          -90.2378878878879,
          -89.83769769769769,
          -89.4375075075075,
          -89.03731731731732,
          -88.63712712712713,
          -88.23693693693694,
          -87.83674674674674,
          -87.43655655655655,
          -87.03636636636637,
          -86.63617617617618,
          -86.23598598598599,
          -85.83579579579579,
          -85.4356056056056,
          -85.03541541541541,
          -84.63522522522523,
          -84.23503503503504,
          -83.83484484484484,
          -83.43465465465465,
          -83.03446446446446,
          -82.63427427427428,
          -82.23408408408409,
          -81.8338938938939,
          -81.4337037037037,
          -81.03351351351351,
          -80.63332332332332,
          -80.23313313313314,
          -79.83294294294295,
          -79.43275275275275,
          -79.03256256256256,
          -78.63237237237237,
          -78.23218218218219,
          -77.831991991992,
          -77.4318018018018,
          -77.03161161161161,
          -76.63142142142142,
          -76.23123123123123,
          -75.83104104104105,
          -75.43085085085085,
          -75.03066066066066,
          -74.63047047047047,
          -74.23028028028028,
          -73.8300900900901,
          -73.42989989989991,
          -73.0297097097097,
          -72.62951951951952,
          -72.22932932932933,
          -71.82913913913913,
          -71.42894894894894,
          -71.02875875875876,
          -70.62856856856857,
          -70.22837837837838,
          -69.8281881881882,
          -69.427997997998,
          -69.02780780780782,
          -68.62761761761763,
          -68.22742742742744,
          -67.82723723723723,
          -67.42704704704704,
          -67.02685685685685,
          -66.62666666666667,
          -66.22647647647648,
          -65.82628628628629,
          -65.4260960960961,
          -65.02590590590592,
          -64.62571571571573,
          -64.22552552552554,
          -63.825335335335325,
          -63.42514514514514,
          -63.02495495495495,
          -62.62476476476476,
          -62.224574574574575,
          -61.82438438438439,
          -61.4241941941942,
          -61.02400400400401,
          -60.623813813813825,
          -60.22362362362364,
          -59.82343343343345,
          -59.423243243243235,
          -59.02305305305305,
          -58.62286286286286,
          -58.22267267267267,
          -57.822482482482485,
          -57.4222922922923,
          -57.02210210210211,
          -56.62191191191192,
          -56.221721721721735,
          -55.82153153153155,
          -55.42134134134133,
          -55.021151151151145,
          -54.62096096096096,
          -54.22077077077077,
          -53.82058058058058,
          -53.420390390390395,
          -53.02020020020021,
          -52.62001001001002,
          -52.21981981981983,
          -51.819629629629645,
          -51.41943943943943,
          -51.01924924924924,
          -50.619059059059055,
          -50.21886886886887,
          -49.81867867867868,
          -49.41848848848849,
          -49.018298298298305,
          -48.61810810810812,
          -48.21791791791793,
          -47.81772772772774,
          -47.417537537537555,
          -47.01734734734734,
          -46.61715715715715,
          -46.216966966966964,
          -45.81677677677678,
          -45.41658658658659,
          -45.0163963963964,
          -44.616206206206215,
          -44.21601601601603,
          -43.81582582582584,
          -43.41563563563565,
          -43.01544544544544,
          -42.61525525525525,
          -42.21506506506506,
          -41.814874874874874,
          -41.41468468468469,
          -41.0144944944945,
          -40.61430430430431,
          -40.214114114114125,
          -39.81392392392394,
          -39.41373373373375,
          -39.01354354354356,
          -38.61335335335335,
          -38.21316316316316,
          -37.81297297297297,
          -37.412782782782784,
          -37.0125925925926,
          -36.61240240240241,
          -36.21221221221222,
          -35.812022022022035,
          -35.41183183183185,
          -35.01164164164166,
          -34.611451451451444,
          -34.21126126126126,
          -33.81107107107107,
          -33.41088088088088,
          -33.010690690690694,
          -32.61050050050051,
          -32.21031031031032,
          -31.810120120120132,
          -31.409929929929945,
          -31.009739739739757,
          -30.60954954954957,
          -30.209359359359354,
          -29.809169169169166,
          -29.40897897897898,
          -29.00878878878879,
          -28.608598598598604,
          -28.208408408408417,
          -27.80821821821823,
          -27.408028028028042,
          -27.007837837837855,
          -26.607647647647667,
          -26.20745745745745,
          -25.807267267267264,
          -25.407077077077076,
          -25.00688688688689,
          -24.6066966966967,
          -24.206506506506514,
          -23.806316316316327,
          -23.40612612612614,
          -23.005935935935952,
          -22.605745745745764,
          -22.205555555555577,
          -21.80536536536536,
          -21.405175175175174,
          -21.004984984984986,
          -20.6047947947948,
          -20.20460460460461,
          -19.804414414414424,
          -19.404224224224237,
          -19.00403403403405,
          -18.603843843843862,
          -18.203653653653674,
          -17.80346346346346,
          -17.40327327327327,
          -17.003083083083084,
          -16.602892892892896,
          -16.20270270270271,
          -15.802512512512521,
          -15.402322322322334,
          -15.002132132132147,
          -14.60194194194196,
          -14.201751751751772,
          -13.801561561561556,
          -13.401371371371368,
          -13.001181181181181,
          -12.600990990990994,
          -12.200800800800806,
          -11.800610610610619,
          -11.400420420420431,
          -11.000230230230244,
          -10.600040040040057,
          -10.199849849849869,
          -9.799659659659682,
          -9.399469469469466,
          -8.999279279279278,
          -8.599089089089091,
          -8.198898898898904,
          -7.798708708708716,
          -7.398518518518529,
          -6.998328328328341,
          -6.598138138138154,
          -6.197947947947966,
          -5.797757757757779,
          -5.397567567567563,
          -4.997377377377376,
          -4.597187187187188,
          -4.196996996997001,
          -3.7968068068068135,
          -3.396616616616626,
          -2.9964264264264386,
          -2.596236236236251,
          -2.196046046046064,
          -1.7958558558558764,
          -1.395665665665689,
          -0.9954754754754731,
          -0.5952852852852857,
          -0.19509509509509826,
          0.20509509509508916,
          0.6052852852852766,
          1.005475475475464,
          1.4056656656656514,
          1.8058558558558389,
          2.2060460460460263,
          2.6062362362362137,
          3.0064264264264295,
          3.406616616616617,
          3.8068068068068044,
          4.206996996996992,
          4.607187187187179,
          5.007377377377367,
          5.407567567567554,
          5.8077577577577415,
          6.207947947947929,
          6.608138138138116,
          7.008328328328304,
          7.40851851851852,
          7.808708708708707,
          8.208898898898894,
          8.609089089089082,
          9.00927927927927,
          9.409469469469457,
          9.809659659659644,
          10.209849849849832,
          10.610040040040019,
          11.010230230230206,
          11.410420420420422,
          11.81061061061061,
          12.210800800800797,
          12.610990990990985,
          13.011181181181172,
          13.41137137137136,
          13.811561561561547,
          14.211751751751734,
          14.611941941941922,
          15.012132132132109,
          15.412322322322296,
          15.812512512512512,
          16.2127027027027,
          16.612892892892887,
          17.013083083083075,
          17.413273273273262,
          17.81346346346345,
          18.213653653653637,
          18.613843843843824,
          19.01403403403401,
          19.4142242242242,
          19.814414414414415,
          20.214604604604602,
          20.61479479479479,
          21.014984984984977,
          21.415175175175165,
          21.815365365365352,
          22.21555555555554,
          22.615745745745727,
          23.015935935935914,
          23.416126126126102,
          23.81631631631629,
          24.216506506506505,
          24.616696696696692,
          25.01688688688688,
          25.417077077077067,
          25.817267267267255,
          26.217457457457442,
          26.61764764764763,
          27.017837837837817,
          27.418028028028004,
          27.818218218218192,
          28.218408408408408,
          28.618598598598595,
          29.018788788788783,
          29.41897897897897,
          29.819169169169157,
          30.219359359359345,
          30.619549549549532,
          31.01973973973972,
          31.419929929929907,
          31.820120120120094,
          32.22031031031031,
          32.6205005005005,
          33.020690690690685,
          33.42088088088087,
          33.82107107107106,
          34.22126126126125,
          34.621451451451435,
          35.02164164164162,
          35.42183183183181,
          35.822022022022,
          36.222212212212185,
          36.6224024024024,
          37.02259259259259,
          37.422782782782775,
          37.82297297297296,
          38.22316316316315,
          38.62335335335334,
          39.023543543543525,
          39.42373373373371,
          39.8239239239239,
          40.22411411411409,
          40.6243043043043,
          41.02449449449449,
          41.42468468468468,
          41.824874874874865,
          42.22506506506505,
          42.62525525525524,
          43.02544544544543,
          43.425635635635615,
          43.8258258258258,
          44.22601601601599,
          44.62620620620618,
          45.02639639639639,
          45.42658658658658,
          45.82677677677677,
          46.226966966966955,
          46.62715715715714,
          47.02734734734733,
          47.42753753753752,
          47.827727727727705,
          48.22791791791789,
          48.62810810810808,
          49.028298298298296,
          49.42848848848848,
          49.82867867867867,
          50.22886886886886,
          50.629059059059045,
          51.02924924924923,
          51.42943943943942,
          51.82962962962961,
          52.229819819819795,
          52.63001001000998,
          53.03020020020017,
          53.430390390390386,
          53.83058058058057,
          54.23077077077076,
          54.63096096096095,
          55.031151151151136,
          55.43134134134132,
          55.83153153153151,
          56.231721721721726,
          56.631911911911914,
          57.0321021021021,
          57.43229229229229,
          57.832482482482476,
          58.23267267267266,
          58.63286286286285,
          59.03305305305304,
          59.433243243243226,
          59.83343343343341,
          60.2336236236236,
          60.63381381381379,
          61.034004004003975,
          61.43419419419416,
          61.83438438438435,
          62.23457457457454,
          62.634764764764725,
          63.03495495495491,
          63.4351451451451,
          63.835335335335344,
          64.23552552552553,
          64.63571571571572,
          65.0359059059059,
          65.4360960960961,
          65.83628628628628,
          66.23647647647647,
          66.63666666666666,
          67.03685685685684,
          67.43704704704703,
          67.83723723723722,
          68.2374274274274,
          68.6376176176176,
          69.03780780780778,
          69.43799799799797,
          69.83818818818816,
          70.23837837837834,
          70.63856856856853,
          71.03875875875872,
          71.4389489489489,
          71.83913913913909,
          72.23932932932934,
          72.63951951951952,
          73.03970970970971,
          73.4398998998999,
          73.84009009009009,
          74.24028028028027,
          74.64047047047046,
          75.04066066066065,
          75.44085085085084,
          75.84104104104102,
          76.24123123123121,
          76.6414214214214,
          77.04161161161159,
          77.44180180180177,
          77.84199199199196,
          78.24218218218215,
          78.64237237237234,
          79.04256256256252,
          79.44275275275271,
          79.8429429429429,
          80.24313313313309,
          80.64332332332333,
          81.04351351351352,
          81.4437037037037,
          81.84389389389389,
          82.24408408408408,
          82.64427427427427,
          83.04446446446445,
          83.44465465465464,
          83.84484484484483,
          84.24503503503502,
          84.6452252252252,
          85.04541541541539,
          85.44560560560558,
          85.84579579579577,
          86.24598598598595,
          86.64617617617614,
          87.04636636636633,
          87.44655655655652,
          87.8467467467467,
          88.24693693693689,
          88.64712712712713,
          89.04731731731732,
          89.44750750750751,
          89.8476976976977,
          90.24788788788788,
          90.64807807807807,
          91.04826826826826,
          91.44845845845845,
          91.84864864864863,
          92.24883883883882,
          92.64902902902901,
          93.0492192192192,
          93.44940940940938,
          93.84959959959957,
          94.24978978978976,
          94.64997997997995,
          95.05017017017013,
          95.45036036036032,
          95.85055055055051,
          96.2507407407407,
          96.65093093093088,
          97.05112112112113,
          97.45131131131131,
          97.8515015015015,
          98.25169169169169,
          98.65188188188188,
          99.05207207207206,
          99.45226226226225,
          99.85245245245244,
          100.25264264264263,
          100.65283283283281,
          101.053023023023,
          101.45321321321319,
          101.85340340340338,
          102.25359359359356,
          102.65378378378375,
          103.05397397397394,
          103.45416416416413,
          103.85435435435431,
          104.2545445445445,
          104.65473473473469,
          105.05492492492488,
          105.45511511511512,
          105.85530530530531,
          106.2554954954955,
          106.65568568568568,
          107.05587587587587,
          107.45606606606606,
          107.85625625625624,
          108.25644644644643,
          108.65663663663662,
          109.0568268268268,
          109.457017017017,
          109.85720720720718,
          110.25739739739737,
          110.65758758758756,
          111.05777777777774,
          111.45796796796793,
          111.85815815815812,
          112.2583483483483,
          112.6585385385385,
          113.05872872872868,
          113.45891891891887,
          113.85910910910911,
          114.2592992992993,
          114.65948948948949,
          115.05967967967968,
          115.45986986986986,
          115.86006006006005,
          116.26025025025024,
          116.66044044044042,
          117.06063063063061,
          117.4608208208208,
          117.86101101101099,
          118.26120120120117,
          118.66139139139136,
          119.06158158158155,
          119.46177177177174,
          119.86196196196192,
          120.26215215215211,
          120.6623423423423,
          121.06253253253249,
          121.46272272272267,
          121.86291291291286,
          122.2631031031031,
          122.6632932932933,
          123.06348348348348,
          123.46367367367367,
          123.86386386386386,
          124.26405405405404,
          124.66424424424423,
          125.06443443443442,
          125.4646246246246,
          125.86481481481479,
          126.26500500500498,
          126.66519519519517,
          127.06538538538535,
          127.46557557557554,
          127.86576576576573,
          128.26595595595592,
          128.6661461461461,
          129.0663363363363,
          129.46652652652648,
          129.86671671671667,
          130.26690690690685,
          130.6670970970971,
          131.0672872872873,
          131.46747747747747,
          131.86766766766766,
          132.26785785785785,
          132.66804804804804,
          133.06823823823822,
          133.4684284284284,
          133.8686186186186,
          134.26880880880879,
          134.66899899899897,
          135.06918918918916,
          135.46937937937935,
          135.86956956956953,
          136.26975975975972,
          136.6699499499499,
          137.0701401401401,
          137.47033033033028,
          137.87052052052047,
          138.27071071071066,
          138.67090090090085,
          139.0710910910911,
          139.47128128128128,
          139.87147147147147,
          140.27166166166165,
          140.67185185185184,
          141.07204204204203,
          141.47223223223222,
          141.8724224224224,
          142.2726126126126,
          142.67280280280278,
          143.07299299299297,
          143.47318318318315,
          143.87337337337334,
          144.27356356356353,
          144.67375375375372,
          145.0739439439439,
          145.4741341341341,
          145.87432432432428,
          146.27451451451446,
          146.67470470470465,
          147.07489489489484,
          147.47508508508508,
          147.87527527527527,
          148.27546546546546,
          148.67565565565565,
          149.07584584584583,
          149.47603603603602,
          149.8762262262262,
          150.2764164164164,
          150.67660660660658,
          151.07679679679677,
          151.47698698698696,
          151.87717717717715,
          152.27736736736733,
          152.67755755755752,
          153.0777477477477,
          153.4779379379379,
          153.87812812812808,
          154.27831831831827,
          154.67850850850846,
          155.07869869869864,
          155.47888888888883,
          155.87907907907908,
          156.27926926926926,
          156.67945945945945,
          157.07964964964964,
          157.47983983983983,
          157.88003003003,
          158.2802202202202,
          158.6804104104104,
          159.08060060060058,
          159.48079079079076,
          159.88098098098095,
          160.28117117117114,
          160.68136136136133,
          161.0815515515515,
          161.4817417417417,
          161.8819319319319,
          162.28212212212208,
          162.68231231231226,
          163.08250250250245,
          163.48269269269264,
          163.88288288288283,
          164.28307307307307,
          164.68326326326326,
          165.08345345345344,
          165.48364364364363,
          165.88383383383382,
          166.284024024024,
          166.6842142142142,
          167.08440440440438,
          167.48459459459457,
          167.88478478478476,
          168.28497497497494,
          168.68516516516513,
          169.08535535535532,
          169.4855455455455,
          169.8857357357357,
          170.28592592592588,
          170.68611611611607,
          171.08630630630626,
          171.48649649649644,
          171.88668668668663,
          172.28687687687687,
          172.68706706706706,
          173.08725725725725,
          173.48744744744744,
          173.88763763763762,
          174.2878278278278,
          174.688018018018,
          175.0882082082082,
          175.48839839839837,
          175.88858858858856,
          176.28877877877875,
          176.68896896896894,
          177.08915915915912,
          177.4893493493493,
          177.8895395395395,
          178.2897297297297,
          178.68991991991987,
          179.09011011011006,
          179.49030030030025,
          179.89049049049044,
          180.29068068068062,
          180.69087087087087,
          181.09106106106105,
          181.49125125125124,
          181.89144144144143,
          182.29163163163162,
          182.6918218218218,
          183.092012012012,
          183.49220220220218,
          183.89239239239237,
          184.29258258258255,
          184.69277277277274,
          185.09296296296293,
          185.49315315315312,
          185.8933433433433,
          186.2935335335335,
          186.69372372372368,
          187.09391391391387,
          187.49410410410405,
          187.89429429429424,
          188.29448448448443,
          188.69467467467462,
          189.09486486486486,
          189.49505505505505,
          189.89524524524523,
          190.29543543543542,
          190.6956256256256,
          191.0958158158158,
          191.49600600600598,
          191.89619619619617,
          192.29638638638636,
          192.69657657657655,
          193.09676676676673,
          193.49695695695692,
          193.8971471471471,
          194.2973373373373,
          194.69752752752748,
          195.09771771771767,
          195.49790790790786,
          195.89809809809805,
          196.29828828828823,
          196.69847847847842,
          197.0986686686686,
          197.49885885885885,
          197.89904904904904,
          198.29923923923923,
          198.69942942942941,
          199.0996196196196,
          199.4998098098098,
          199.9
         ],
         "y": [
          14.027031924871144,
          14.01107702264818,
          13.995153862811573,
          13.979262445361321,
          13.963402770297426,
          13.94757483761989,
          13.931778647328706,
          13.91601419942388,
          13.900281493905412,
          13.884580530773299,
          13.868911310027544,
          13.853273831668144,
          13.837668095695102,
          13.822094102108416,
          13.806551850908086,
          13.791041342094113,
          13.775562575666497,
          13.760115551625237,
          13.744700269970332,
          13.729316730701784,
          13.713964933819595,
          13.69864487932376,
          13.683356567214283,
          13.668099997491161,
          13.652875170154397,
          13.637682085203988,
          13.622520742639937,
          13.607391142462241,
          13.592293284670903,
          13.577227169265921,
          13.562192796247295,
          13.547190165615026,
          13.532219277369114,
          13.517280131509558,
          13.502372728036358,
          13.487497066949516,
          13.472653148249028,
          13.457840971934898,
          13.443060538007124,
          13.428311846465707,
          13.413594897310645,
          13.398909690541942,
          13.384256226159595,
          13.369634504163603,
          13.35504452455397,
          13.340486287330691,
          13.32595979249377,
          13.311465040043204,
          13.297002029978994,
          13.282570762301143,
          13.268171237009648,
          13.253803454104508,
          13.239467413585725,
          13.2251631154533,
          13.21089055970723,
          13.196649746347518,
          13.182440675374162,
          13.16826334678716,
          13.154117760586516,
          13.14000391677223,
          13.125921815344299,
          13.111871456302726,
          13.097852839647508,
          13.083865965378648,
          13.069910833496142,
          13.055987443999994,
          13.042095796890203,
          13.028235892166768,
          13.014407729829689,
          13.000611309878966,
          12.9868466323146,
          12.973113697136593,
          12.95941250434494,
          12.945743053939644,
          12.932105345920704,
          12.918499380288122,
          12.904925157041895,
          12.891382676182026,
          12.87787193770851,
          12.864392941621354,
          12.850945687920554,
          12.83753017660611,
          12.824146407678022,
          12.81079438113629,
          12.797474096980917,
          12.784185555211899,
          12.770928755829237,
          12.757703698832932,
          12.744510384222984,
          12.731348811999393,
          12.718218982162156,
          12.705120894711278,
          12.692054549646755,
          12.67901994696859,
          12.66601708667678,
          12.653045968771327,
          12.64010659325223,
          12.62719896011949,
          12.614323069373107,
          12.60147892101308,
          12.588666515039408,
          12.575885851452096,
          12.563136930251137,
          12.550419751436536,
          12.537734315008292,
          12.525080620966405,
          12.512458669310874,
          12.499868460041698,
          12.48730999315888,
          12.474783268662417,
          12.462288286552313,
          12.449825046828565,
          12.437393549491171,
          12.424993794540136,
          12.412625781975455,
          12.400289511797133,
          12.387984984005167,
          12.375712198599556,
          12.363471155580303,
          12.351261854947406,
          12.339084296700866,
          12.326938480840681,
          12.314824407366855,
          12.302742076279383,
          12.290691487578268,
          12.278672641263512,
          12.26668553733511,
          12.254730175793066,
          12.242806556637378,
          12.230914679868045,
          12.21905454548507,
          12.207226153488453,
          12.195429503878188,
          12.183664596654282,
          12.171931431816734,
          12.160230009365542,
          12.148560329300704,
          12.136922391622225,
          12.1253161963301,
          12.113741743424335,
          12.102199032904924,
          12.09068806477187,
          12.079208839025172,
          12.067761355664832,
          12.056345614690848,
          12.044961616103219,
          12.033609359901948,
          12.022288846087035,
          12.011000074658476,
          11.999743045616274,
          11.988517758960429,
          11.97732421469094,
          11.966162412807808,
          11.955032353311031,
          11.943934036200613,
          11.93286746147655,
          11.921832629138843,
          11.910829539187494,
          11.899858191622501,
          11.888918586443864,
          11.878010723651583,
          11.86713460324566,
          11.856290225226092,
          11.845477589592882,
          11.834696696346027,
          11.82394754548553,
          11.813230137011388,
          11.802544470923603,
          11.791890547222176,
          11.781268365907104,
          11.770677926978388,
          11.760119230436029,
          11.749592276280028,
          11.739097064510382,
          11.728633595127093,
          11.71820186813016,
          11.707801883519583,
          11.697433641295364,
          11.687097141457501,
          11.676792384005994,
          11.666519368940843,
          11.65627809626205,
          11.646068565969612,
          11.635890778063532,
          11.625744732543808,
          11.61563042941044,
          11.605547868663429,
          11.595497050302775,
          11.585477974328477,
          11.575490640740535,
          11.56553504953895,
          11.555611200723721,
          11.54571909429485,
          11.535858730252333,
          11.526030108596174,
          11.516233229326371,
          11.506468092442924,
          11.496734697945834,
          11.487033045835103,
          11.477363136110725,
          11.467724968772705,
          11.458118543821042,
          11.448543861255734,
          11.439000921076785,
          11.42948972328419,
          11.420010267877952,
          11.410562554858071,
          11.401146584224547,
          11.391762355977379,
          11.382409870116566,
          11.373089126642112,
          11.363800125554013,
          11.35454286685227,
          11.345317350536885,
          11.336123576607857,
          11.326961545065185,
          11.317831255908867,
          11.308732709138908,
          11.299665904755305,
          11.290630842758059,
          11.281627523147169,
          11.272655945922635,
          11.263716111084458,
          11.254808018632637,
          11.245931668567174,
          11.237087060888065,
          11.228274195595315,
          11.21949307268892,
          11.210743692168881,
          11.202026054035201,
          11.193340158287874,
          11.184686004926906,
          11.176063593952295,
          11.16747292536404,
          11.15891399916214,
          11.150386815346598,
          11.141891373917412,
          11.133427674874582,
          11.12499571821811,
          11.116595503947993,
          11.108227032064233,
          11.099890302566829,
          11.091585315455783,
          11.083312070731091,
          11.075070568392757,
          11.06686080844078,
          11.05868279087516,
          11.050536515695894,
          11.042421982902987,
          11.034339192496436,
          11.02628814447624,
          11.018268838842403,
          11.01028127559492,
          11.002325454733795,
          10.994401376259026,
          10.986509040170613,
          10.978648446468558,
          10.970819595152857,
          10.963022486223515,
          10.955257119680528,
          10.947523495523898,
          10.939821613753624,
          10.932151474369707,
          10.924513077372147,
          10.916906422760944,
          10.909331510536095,
          10.901788340697605,
          10.89427691324547,
          10.886797228179693,
          10.879349285500272,
          10.871933085207207,
          10.864548627300497,
          10.857195911780146,
          10.84987493864615,
          10.842585707898511,
          10.83532821953723,
          10.828102473562303,
          10.820908469973734,
          10.813746208771521,
          10.806615689955665,
          10.799516913526165,
          10.792449879483021,
          10.785414587826235,
          10.778411038555804,
          10.77143923167173,
          10.764499167174012,
          10.757590845062651,
          10.750714265337647,
          10.743869427999,
          10.73705633304671,
          10.730274980480774,
          10.723525370301195,
          10.716807502507974,
          10.710121377101109,
          10.7034669940806,
          10.696844353446448,
          10.69025345519865,
          10.683694299337212,
          10.677166885862128,
          10.670671214773403,
          10.664207286071033,
          10.65777509975502,
          10.651374655825363,
          10.645005954282063,
          10.63866899512512,
          10.63236377835453,
          10.626090303970301,
          10.619848571972426,
          10.613638582360908,
          10.607460335135746,
          10.601313830296942,
          10.595199067844494,
          10.589116047778402,
          10.583064770098666,
          10.577045234805288,
          10.571057441898265,
          10.565101391377599,
          10.559177083243291,
          10.553284517495339,
          10.547423694133741,
          10.541594613158502,
          10.53579727456962,
          10.530031678367092,
          10.52429782455092,
          10.518595713121108,
          10.512925344077651,
          10.50728671742055,
          10.501679833149806,
          10.496104691265417,
          10.490561291767387,
          10.485049634655711,
          10.479569719930394,
          10.474121547591432,
          10.468705117638827,
          10.463320430072578,
          10.457967484892686,
          10.45264628209915,
          10.44735682169197,
          10.442099103671149,
          10.436873128036682,
          10.431678894788572,
          10.426516403926819,
          10.421385655451422,
          10.416286649362382,
          10.411219385659699,
          10.40618386434337,
          10.401180085413401,
          10.396208048869786,
          10.391267754712528,
          10.386359202941629,
          10.381482393557082,
          10.376637326558894,
          10.371824001947063,
          10.367042419721589,
          10.36229257988247,
          10.357574482429706,
          10.352888127363302,
          10.348233514683253,
          10.34361064438956,
          10.339019516482225,
          10.334460130961244,
          10.329932487826621,
          10.325436587078354,
          10.320972428716443,
          10.31654001274089,
          10.312139339151694,
          10.307770407948853,
          10.30343321913237,
          10.29912777270224,
          10.29485406865847,
          10.290612107001055,
          10.286401887729998,
          10.282223410845296,
          10.27807667634695,
          10.273961684234962,
          10.26987843450933,
          10.265826927170053,
          10.261807162217135,
          10.257819139650572,
          10.253862859470367,
          10.249938321676517,
          10.246045526269024,
          10.242184473247887,
          10.238355162613107,
          10.234557594364682,
          10.230791768502616,
          10.227057685026907,
          10.223355343937552,
          10.219684745234554,
          10.216045888917913,
          10.212438774987628,
          10.2088634034437,
          10.20531977428613,
          10.201807887514914,
          10.198327743130056,
          10.194879341131553,
          10.191462681519408,
          10.188077764293618,
          10.184724589454186,
          10.18140315700111,
          10.178113466934391,
          10.174855519254027,
          10.171629313960022,
          10.168434851052371,
          10.165272130531077,
          10.16214115239614,
          10.15904191664756,
          10.155974423285336,
          10.15293867230947,
          10.149934663719957,
          10.146962397516804,
          10.144021873700005,
          10.141113092269563,
          10.138236053225478,
          10.13539075656775,
          10.132577202296378,
          10.129795390411363,
          10.127045320912703,
          10.124326993800402,
          10.121640409074455,
          10.118985566734866,
          10.116362466781633,
          10.113771109214756,
          10.111211494034237,
          10.108683621240074,
          10.106187490832266,
          10.103723102810816,
          10.101290457175722,
          10.098889553926984,
          10.096520393064603,
          10.094182974588579,
          10.091877298498911,
          10.0896033647956,
          10.087361173478644,
          10.085150724548047,
          10.082972018003804,
          10.080825053845919,
          10.07870983207439,
          10.076626352689217,
          10.074574615690402,
          10.072554621077943,
          10.07056636885184,
          10.068609859012094,
          10.066685091558703,
          10.06479206649167,
          10.062930783810993,
          10.061101243516672,
          10.059303445608709,
          10.057537390087102,
          10.05580307695185,
          10.054100506202957,
          10.052429677840419,
          10.050790591864237,
          10.049183248274412,
          10.047607647070944,
          10.046063788253832,
          10.044551671823077,
          10.043071297778678,
          10.041622666120636,
          10.04020577684895,
          10.03882062996362,
          10.037467225464647,
          10.036145563352031,
          10.034855643625772,
          10.033597466285869,
          10.032371031332321,
          10.031176338765132,
          10.030013388584297,
          10.02888218078982,
          10.027782715381699,
          10.026714992359935,
          10.025679011724527,
          10.024674773475475,
          10.02370227761278,
          10.022761524136442,
          10.021852513046461,
          10.020975244342836,
          10.020129718025567,
          10.019315934094655,
          10.0185338925501,
          10.017783593391899,
          10.017065036620057,
          10.01637822223457,
          10.015723150235441,
          10.015099820622668,
          10.014508233396251,
          10.01394838855619,
          10.013420286102487,
          10.012923926035139,
          10.012459308354149,
          10.012026433059514,
          10.011625300151236,
          10.011255909629316,
          10.010918261493751,
          10.010612355744543,
          10.01033819238169,
          10.010095771405195,
          10.009885092815058,
          10.009706156611275,
          10.009558962793848,
          10.009443511362779,
          10.009359802318068,
          10.00930783565971,
          10.00928761138771,
          10.009299129502068,
          10.00934239000278,
          10.009417392889851,
          10.009524138163277,
          10.00966262582306,
          10.009832855869199,
          10.010034828301695,
          10.010268543120548,
          10.010534000325757,
          10.010831199917321,
          10.011160141895244,
          10.011520826259522,
          10.011913253010157,
          10.012337422147148,
          10.012793333670496,
          10.0132809875802,
          10.013800383876262,
          10.014351522558679,
          10.014934403627452,
          10.015549027082583,
          10.01619539292407,
          10.016873501151913,
          10.017583351766113,
          10.01832494476667,
          10.019098280153582,
          10.019903357926852,
          10.020740178086477,
          10.02160874063246,
          10.0225090455648,
          10.023441092883495,
          10.024404882588547,
          10.025400414679954,
          10.02642768915772,
          10.027486706021842,
          10.028577465272319,
          10.029699966909153,
          10.030854210932343,
          10.03204019734189,
          10.033257926137795,
          10.034507397320056,
          10.035788610888673,
          10.037101566843646,
          10.038446265184977,
          10.039822705912663,
          10.041230889026705,
          10.042670814527105,
          10.04414248241386,
          10.045645892686974,
          10.047181045346441,
          10.048747940392268,
          10.050346577824449,
          10.051976957642989,
          10.053639079847883,
          10.055332944439135,
          10.057058551416743,
          10.058815900780708,
          10.060604992531028,
          10.062425826667706,
          10.06427840319074,
          10.06616272210013,
          10.068078783395878,
          10.070026587077981,
          10.07200613314644,
          10.074017421601257,
          10.07606045244243,
          10.078135225669959,
          10.080241741283846,
          10.082379999284088,
          10.084549999670687,
          10.086751742443642,
          10.088985227602954,
          10.091250455148623,
          10.093547425080649,
          10.09587613739903,
          10.098236592103767,
          10.100628789194863,
          10.103052728672314,
          10.105508410536121,
          10.107995834786285,
          10.110515001422806,
          10.113065910445682,
          10.115648561854917,
          10.118262955650506,
          10.120909091832452,
          10.123586970400755,
          10.126296591355414,
          10.12903795469643,
          10.131811060423804,
          10.134615908537533,
          10.137452499037618,
          10.140320831924061,
          10.14322090719686,
          10.146152724856014,
          10.149116284901526,
          10.152111587333394,
          10.155138632151619,
          10.158197419356199,
          10.161287948947137,
          10.164410220924431,
          10.167564235288083,
          10.17074999203809,
          10.173967491174453,
          10.177216732697174,
          10.180497716606249,
          10.183810442901683,
          10.187154911583471,
          10.190531122651619,
          10.19393907610612,
          10.19737877194698,
          10.200850210174195,
          10.204353390787768,
          10.207888313787697,
          10.211454979173983,
          10.215053386946623,
          10.21868353710562,
          10.222345429650977,
          10.226039064582688,
          10.229764441900755,
          10.23352156160518,
          10.23731042369596,
          10.241131028173097,
          10.244983375036592,
          10.248867464286441,
          10.252783295922647,
          10.25673086994521,
          10.26071018635413,
          10.264721245149406,
          10.26876404633104,
          10.27283858989903,
          10.276944875853374,
          10.281082904194077,
          10.285252674921136,
          10.28945418803455,
          10.293687443534322,
          10.29795244142045,
          10.302249181692934,
          10.306577664351776,
          10.310937889396975,
          10.315329856828528,
          10.319753566646439,
          10.324209018850706,
          10.32869621344133,
          10.33321515041831,
          10.337765829781647,
          10.342348251531341,
          10.34696241566739,
          10.351608322189795,
          10.35628597109856,
          10.360995362393679,
          10.365736496075154,
          10.370509372142987,
          10.375313990597174,
          10.38015035143772,
          10.385018454664621,
          10.38991830027788,
          10.394849888277495,
          10.399813218663466,
          10.404808291435794,
          10.409835106594478,
          10.41489366413952,
          10.419983964070918,
          10.42510600638867,
          10.43025979109278,
          10.435445318183248,
          10.440662587660071,
          10.445911599523251,
          10.451192353772788,
          10.45650485040868,
          10.46184908943093,
          10.467225070839534,
          10.472632794634498,
          10.478072260815816,
          10.483543469383491,
          10.489046420337523,
          10.494581113677912,
          10.500147549404655,
          10.505745727517759,
          10.511375648017216,
          10.51703731090303,
          10.522730716175202,
          10.528455863833729,
          10.534212753878613,
          10.540001386309854,
          10.54582176112745,
          10.551673878331403,
          10.557557737921712,
          10.56347333989838,
          10.569420684261402,
          10.575399771010781,
          10.581410600146517,
          10.58745317166861,
          10.593527485577058,
          10.599633541871864,
          10.605771340553027,
          10.611940881620544,
          10.618142165074419,
          10.62437519091465,
          10.63063995914124,
          10.636936469754183,
          10.643264722753484,
          10.649624718139142,
          10.656016455911155,
          10.662439936069525,
          10.668895158614253,
          10.675382123545337,
          10.681900830862777,
          10.688451280566571,
          10.695033472656725,
          10.701647407133235,
          10.7082930839961,
          10.714970503245324,
          10.721679664880902,
          10.728420568902838,
          10.73519321531113,
          10.741997604105778,
          10.748833735286782,
          10.755701608854144,
          10.762601224807863,
          10.769532583147937,
          10.77649568387437,
          10.783490526987155,
          10.790517112486299,
          10.7975754403718,
          10.804665510643657,
          10.811787323301871,
          10.81894087834644,
          10.826126175777366,
          10.833343215594649,
          10.84059199779829,
          10.847872522388286,
          10.855184789364637,
          10.862528798727347,
          10.869904550476413,
          10.877312044611834,
          10.884751281133612,
          10.892222260041748,
          10.89972498133624,
          10.907259445017088,
          10.914825651084293,
          10.922423599537854,
          10.93005329037777,
          10.937714723604046,
          10.945407899216676,
          10.953132817215662,
          10.960889477601006,
          10.968677880372706,
          10.976498025530763,
          10.984349913075176,
          10.992233543005945,
          11.000148915323072,
          11.008096030026554,
          11.016074887116392,
          11.024085486592588,
          11.03212782845514,
          11.040201912704049,
          11.048307739339315,
          11.056445308360935,
          11.064614619768914,
          11.072815673563248,
          11.08104846974394,
          11.089313008310988,
          11.097609289264392,
          11.105937312604153,
          11.114297078330269,
          11.122688586442743,
          11.131111836941573,
          11.13956682982676,
          11.148053565098303,
          11.156572042756203,
          11.165122262800459,
          11.173704225231072,
          11.18231793004804,
          11.190963377251366,
          11.199640566841047,
          11.208349498817086,
          11.217090173179482,
          11.225862589928234,
          11.234666749063342,
          11.243502650584805,
          11.252370294492627,
          11.261269680786807,
          11.27020080946734,
          11.27916368053423,
          11.288158293987477,
          11.29718464982708,
          11.306242748053041,
          11.315332588665358,
          11.324454171664032,
          11.33360749704906,
          11.342792564820448,
          11.35200937497819,
          11.361257927522288,
          11.370538222452744,
          11.379850259769556,
          11.389194039472725,
          11.398569561562251,
          11.407976826038132,
          11.417415832900371,
          11.426886582148965,
          11.436389073783916,
          11.445923307805224,
          11.45548928421289,
          11.46508700300691,
          11.474716464187287,
          11.484377667754021,
          11.49407061370711,
          11.503795302046557,
          11.513551732772362,
          11.523339905884521,
          11.533159821383036,
          11.543011479267909,
          11.552894879539139,
          11.562810022196725,
          11.572756907240667,
          11.582735534670965,
          11.59274590448762,
          11.602788016690631,
          11.61286187128,
          11.622967468255725,
          11.633104807617807,
          11.643273889366244,
          11.653474713501039,
          11.66370728002219,
          11.673971588929698,
          11.684267640223561,
          11.694595433903782,
          11.704954969970359,
          11.715346248423291,
          11.725769269262582,
          11.736224032488227,
          11.746710538100231,
          11.75722878609859,
          11.767778776483306,
          11.778360509254377,
          11.788973984411806,
          11.799619201955592,
          11.810296161885734,
          11.821004864202232,
          11.831745308905086,
          11.842517495994297,
          11.853321425469865,
          11.86415709733179,
          11.87502451158007,
          11.885923668214708,
          11.896854567235703,
          11.907817208643053,
          11.91881159243676,
          11.929837718616824,
          11.940895587183244,
          11.95198519813602,
          11.963106551475153,
          11.974259647200642,
          11.985444485312488,
          11.99666106581069,
          12.007909388695248,
          12.019189453966163,
          12.030501261623437,
          12.041844811667065,
          12.053220104097049,
          12.06462713891339,
          12.07606591611609,
          12.087536435705143,
          12.099038697680554,
          12.11057270204232,
          12.122138448790446,
          12.133735937924927,
          12.145365169445764,
          12.157026143352956,
          12.168718859646507,
          12.180443318326413,
          12.192199519392677,
          12.203987462845296,
          12.215807148684272,
          12.227658576909604,
          12.239541747521292,
          12.251456660519338,
          12.26340331590374,
          12.275381713674498,
          12.287391853831613,
          12.299433736375084,
          12.311507361304912,
          12.323612728621097,
          12.335749838323638,
          12.347918690412534,
          12.360119284887789,
          12.372351621749402,
          12.384615700997369,
          12.396911522631692,
          12.409239086652372,
          12.421598393059408,
          12.433989441852802,
          12.44641223303255,
          12.458866766598657,
          12.471353042551119,
          12.483871060889937,
          12.496420821615114,
          12.509002324726644,
          12.521615570224533,
          12.534260558108778,
          12.546937288379379,
          12.559645761036338,
          12.572385976079651,
          12.585157933509322,
          12.597961633325351,
          12.610797075527735,
          12.623664260116476,
          12.636563187091573,
          12.649493856453027,
          12.662456268200836,
          12.675450422335004,
          12.688476318855527,
          12.701533957762406,
          12.714623339055642,
          12.727744462735235,
          12.740897328801184,
          12.754081937253488,
          12.767298288092151,
          12.78054638131717,
          12.793826216928544,
          12.807137794926277,
          12.820481115310365,
          12.83385617808081,
          12.84726298323761,
          12.860701530780767,
          12.87417182071028,
          12.887673853026152,
          12.90120762772838,
          12.914773144816964,
          12.928370404291904,
          12.9419994061532,
          12.955660150400854,
          12.969352637034863,
          12.98307686605523,
          12.996832837461952,
          13.01062055125503,
          13.024440007434468,
          13.03829120600026,
          13.052174146952407,
          13.066088830290912,
          13.080035256015774,
          13.094013424126992,
          13.108023334624566,
          13.122064987508498,
          13.136138382778785,
          13.15024352043543,
          13.16438040047843,
          13.178549022907788,
          13.192749387723502,
          13.206981494925573,
          13.221245344514,
          13.235540936488782,
          13.249868270849923,
          13.26422734759742,
          13.27861816673127,
          13.29304072825148,
          13.307495032158046,
          13.321981078450968,
          13.336498867130246,
          13.35104839819588,
          13.365629671647874,
          13.38024268748622,
          13.394887445710927,
          13.409563946321986,
          13.424272189319403,
          13.43901217470318,
          13.453783902473308,
          13.468587372629797,
          13.48342258517264,
          13.498289540101842,
          13.513188237417399,
          13.528118677119313,
          13.543080859207581,
          13.558074783682208,
          13.57310045054319,
          13.58815785979053,
          13.603247011424225,
          13.618367905444277,
          13.633520541850686,
          13.648704920643452,
          13.663921041822572,
          13.679168905388051,
          13.694448511339885,
          13.709759859678078,
          13.725102950402626,
          13.74047778351353,
          13.755884359010789,
          13.771322676894407,
          13.786792737164381,
          13.80229453982071,
          13.8178280848634,
          13.833393372292443,
          13.848990402107843,
          13.864619174309599,
          13.880279688897712,
          13.895971945872182,
          13.911695945233008
         ]
        }
       ],
       "layout": {
        "autosize": true,
        "template": {
         "data": {
          "bar": [
           {
            "error_x": {
             "color": "#2a3f5f"
            },
            "error_y": {
             "color": "#2a3f5f"
            },
            "marker": {
             "line": {
              "color": "#E5ECF6",
              "width": 0.5
             }
            },
            "type": "bar"
           }
          ],
          "barpolar": [
           {
            "marker": {
             "line": {
              "color": "#E5ECF6",
              "width": 0.5
             }
            },
            "type": "barpolar"
           }
          ],
          "carpet": [
           {
            "aaxis": {
             "endlinecolor": "#2a3f5f",
             "gridcolor": "white",
             "linecolor": "white",
             "minorgridcolor": "white",
             "startlinecolor": "#2a3f5f"
            },
            "baxis": {
             "endlinecolor": "#2a3f5f",
             "gridcolor": "white",
             "linecolor": "white",
             "minorgridcolor": "white",
             "startlinecolor": "#2a3f5f"
            },
            "type": "carpet"
           }
          ],
          "choropleth": [
           {
            "colorbar": {
             "outlinewidth": 0,
             "ticks": ""
            },
            "type": "choropleth"
           }
          ],
          "contour": [
           {
            "colorbar": {
             "outlinewidth": 0,
             "ticks": ""
            },
            "colorscale": [
             [
              0,
              "#0d0887"
             ],
             [
              0.1111111111111111,
              "#46039f"
             ],
             [
              0.2222222222222222,
              "#7201a8"
             ],
             [
              0.3333333333333333,
              "#9c179e"
             ],
             [
              0.4444444444444444,
              "#bd3786"
             ],
             [
              0.5555555555555556,
              "#d8576b"
             ],
             [
              0.6666666666666666,
              "#ed7953"
             ],
             [
              0.7777777777777778,
              "#fb9f3a"
             ],
             [
              0.8888888888888888,
              "#fdca26"
             ],
             [
              1,
              "#f0f921"
             ]
            ],
            "type": "contour"
           }
          ],
          "contourcarpet": [
           {
            "colorbar": {
             "outlinewidth": 0,
             "ticks": ""
            },
            "type": "contourcarpet"
           }
          ],
          "heatmap": [
           {
            "colorbar": {
             "outlinewidth": 0,
             "ticks": ""
            },
            "colorscale": [
             [
              0,
              "#0d0887"
             ],
             [
              0.1111111111111111,
              "#46039f"
             ],
             [
              0.2222222222222222,
              "#7201a8"
             ],
             [
              0.3333333333333333,
              "#9c179e"
             ],
             [
              0.4444444444444444,
              "#bd3786"
             ],
             [
              0.5555555555555556,
              "#d8576b"
             ],
             [
              0.6666666666666666,
              "#ed7953"
             ],
             [
              0.7777777777777778,
              "#fb9f3a"
             ],
             [
              0.8888888888888888,
              "#fdca26"
             ],
             [
              1,
              "#f0f921"
             ]
            ],
            "type": "heatmap"
           }
          ],
          "heatmapgl": [
           {
            "colorbar": {
             "outlinewidth": 0,
             "ticks": ""
            },
            "colorscale": [
             [
              0,
              "#0d0887"
             ],
             [
              0.1111111111111111,
              "#46039f"
             ],
             [
              0.2222222222222222,
              "#7201a8"
             ],
             [
              0.3333333333333333,
              "#9c179e"
             ],
             [
              0.4444444444444444,
              "#bd3786"
             ],
             [
              0.5555555555555556,
              "#d8576b"
             ],
             [
              0.6666666666666666,
              "#ed7953"
             ],
             [
              0.7777777777777778,
              "#fb9f3a"
             ],
             [
              0.8888888888888888,
              "#fdca26"
             ],
             [
              1,
              "#f0f921"
             ]
            ],
            "type": "heatmapgl"
           }
          ],
          "histogram": [
           {
            "marker": {
             "colorbar": {
              "outlinewidth": 0,
              "ticks": ""
             }
            },
            "type": "histogram"
           }
          ],
          "histogram2d": [
           {
            "colorbar": {
             "outlinewidth": 0,
             "ticks": ""
            },
            "colorscale": [
             [
              0,
              "#0d0887"
             ],
             [
              0.1111111111111111,
              "#46039f"
             ],
             [
              0.2222222222222222,
              "#7201a8"
             ],
             [
              0.3333333333333333,
              "#9c179e"
             ],
             [
              0.4444444444444444,
              "#bd3786"
             ],
             [
              0.5555555555555556,
              "#d8576b"
             ],
             [
              0.6666666666666666,
              "#ed7953"
             ],
             [
              0.7777777777777778,
              "#fb9f3a"
             ],
             [
              0.8888888888888888,
              "#fdca26"
             ],
             [
              1,
              "#f0f921"
             ]
            ],
            "type": "histogram2d"
           }
          ],
          "histogram2dcontour": [
           {
            "colorbar": {
             "outlinewidth": 0,
             "ticks": ""
            },
            "colorscale": [
             [
              0,
              "#0d0887"
             ],
             [
              0.1111111111111111,
              "#46039f"
             ],
             [
              0.2222222222222222,
              "#7201a8"
             ],
             [
              0.3333333333333333,
              "#9c179e"
             ],
             [
              0.4444444444444444,
              "#bd3786"
             ],
             [
              0.5555555555555556,
              "#d8576b"
             ],
             [
              0.6666666666666666,
              "#ed7953"
             ],
             [
              0.7777777777777778,
              "#fb9f3a"
             ],
             [
              0.8888888888888888,
              "#fdca26"
             ],
             [
              1,
              "#f0f921"
             ]
            ],
            "type": "histogram2dcontour"
           }
          ],
          "mesh3d": [
           {
            "colorbar": {
             "outlinewidth": 0,
             "ticks": ""
            },
            "type": "mesh3d"
           }
          ],
          "parcoords": [
           {
            "line": {
             "colorbar": {
              "outlinewidth": 0,
              "ticks": ""
             }
            },
            "type": "parcoords"
           }
          ],
          "pie": [
           {
            "automargin": true,
            "type": "pie"
           }
          ],
          "scatter": [
           {
            "marker": {
             "colorbar": {
              "outlinewidth": 0,
              "ticks": ""
             }
            },
            "type": "scatter"
           }
          ],
          "scatter3d": [
           {
            "line": {
             "colorbar": {
              "outlinewidth": 0,
              "ticks": ""
             }
            },
            "marker": {
             "colorbar": {
              "outlinewidth": 0,
              "ticks": ""
             }
            },
            "type": "scatter3d"
           }
          ],
          "scattercarpet": [
           {
            "marker": {
             "colorbar": {
              "outlinewidth": 0,
              "ticks": ""
             }
            },
            "type": "scattercarpet"
           }
          ],
          "scattergeo": [
           {
            "marker": {
             "colorbar": {
              "outlinewidth": 0,
              "ticks": ""
             }
            },
            "type": "scattergeo"
           }
          ],
          "scattergl": [
           {
            "marker": {
             "colorbar": {
              "outlinewidth": 0,
              "ticks": ""
             }
            },
            "type": "scattergl"
           }
          ],
          "scattermapbox": [
           {
            "marker": {
             "colorbar": {
              "outlinewidth": 0,
              "ticks": ""
             }
            },
            "type": "scattermapbox"
           }
          ],
          "scatterpolar": [
           {
            "marker": {
             "colorbar": {
              "outlinewidth": 0,
              "ticks": ""
             }
            },
            "type": "scatterpolar"
           }
          ],
          "scatterpolargl": [
           {
            "marker": {
             "colorbar": {
              "outlinewidth": 0,
              "ticks": ""
             }
            },
            "type": "scatterpolargl"
           }
          ],
          "scatterternary": [
           {
            "marker": {
             "colorbar": {
              "outlinewidth": 0,
              "ticks": ""
             }
            },
            "type": "scatterternary"
           }
          ],
          "surface": [
           {
            "colorbar": {
             "outlinewidth": 0,
             "ticks": ""
            },
            "colorscale": [
             [
              0,
              "#0d0887"
             ],
             [
              0.1111111111111111,
              "#46039f"
             ],
             [
              0.2222222222222222,
              "#7201a8"
             ],
             [
              0.3333333333333333,
              "#9c179e"
             ],
             [
              0.4444444444444444,
              "#bd3786"
             ],
             [
              0.5555555555555556,
              "#d8576b"
             ],
             [
              0.6666666666666666,
              "#ed7953"
             ],
             [
              0.7777777777777778,
              "#fb9f3a"
             ],
             [
              0.8888888888888888,
              "#fdca26"
             ],
             [
              1,
              "#f0f921"
             ]
            ],
            "type": "surface"
           }
          ],
          "table": [
           {
            "cells": {
             "fill": {
              "color": "#EBF0F8"
             },
             "line": {
              "color": "white"
             }
            },
            "header": {
             "fill": {
              "color": "#C8D4E3"
             },
             "line": {
              "color": "white"
             }
            },
            "type": "table"
           }
          ]
         },
         "layout": {
          "annotationdefaults": {
           "arrowcolor": "#2a3f5f",
           "arrowhead": 0,
           "arrowwidth": 1
          },
          "coloraxis": {
           "colorbar": {
            "outlinewidth": 0,
            "ticks": ""
           }
          },
          "colorscale": {
           "diverging": [
            [
             0,
             "#8e0152"
            ],
            [
             0.1,
             "#c51b7d"
            ],
            [
             0.2,
             "#de77ae"
            ],
            [
             0.3,
             "#f1b6da"
            ],
            [
             0.4,
             "#fde0ef"
            ],
            [
             0.5,
             "#f7f7f7"
            ],
            [
             0.6,
             "#e6f5d0"
            ],
            [
             0.7,
             "#b8e186"
            ],
            [
             0.8,
             "#7fbc41"
            ],
            [
             0.9,
             "#4d9221"
            ],
            [
             1,
             "#276419"
            ]
           ],
           "sequential": [
            [
             0,
             "#0d0887"
            ],
            [
             0.1111111111111111,
             "#46039f"
            ],
            [
             0.2222222222222222,
             "#7201a8"
            ],
            [
             0.3333333333333333,
             "#9c179e"
            ],
            [
             0.4444444444444444,
             "#bd3786"
            ],
            [
             0.5555555555555556,
             "#d8576b"
            ],
            [
             0.6666666666666666,
             "#ed7953"
            ],
            [
             0.7777777777777778,
             "#fb9f3a"
            ],
            [
             0.8888888888888888,
             "#fdca26"
            ],
            [
             1,
             "#f0f921"
            ]
           ],
           "sequentialminus": [
            [
             0,
             "#0d0887"
            ],
            [
             0.1111111111111111,
             "#46039f"
            ],
            [
             0.2222222222222222,
             "#7201a8"
            ],
            [
             0.3333333333333333,
             "#9c179e"
            ],
            [
             0.4444444444444444,
             "#bd3786"
            ],
            [
             0.5555555555555556,
             "#d8576b"
            ],
            [
             0.6666666666666666,
             "#ed7953"
            ],
            [
             0.7777777777777778,
             "#fb9f3a"
            ],
            [
             0.8888888888888888,
             "#fdca26"
            ],
            [
             1,
             "#f0f921"
            ]
           ]
          },
          "colorway": [
           "#636efa",
           "#EF553B",
           "#00cc96",
           "#ab63fa",
           "#FFA15A",
           "#19d3f3",
           "#FF6692",
           "#B6E880",
           "#FF97FF",
           "#FECB52"
          ],
          "font": {
           "color": "#2a3f5f"
          },
          "geo": {
           "bgcolor": "white",
           "lakecolor": "white",
           "landcolor": "#E5ECF6",
           "showlakes": true,
           "showland": true,
           "subunitcolor": "white"
          },
          "hoverlabel": {
           "align": "left"
          },
          "hovermode": "closest",
          "mapbox": {
           "style": "light"
          },
          "paper_bgcolor": "white",
          "plot_bgcolor": "#E5ECF6",
          "polar": {
           "angularaxis": {
            "gridcolor": "white",
            "linecolor": "white",
            "ticks": ""
           },
           "bgcolor": "#E5ECF6",
           "radialaxis": {
            "gridcolor": "white",
            "linecolor": "white",
            "ticks": ""
           }
          },
          "scene": {
           "xaxis": {
            "backgroundcolor": "#E5ECF6",
            "gridcolor": "white",
            "gridwidth": 2,
            "linecolor": "white",
            "showbackground": true,
            "ticks": "",
            "zerolinecolor": "white"
           },
           "yaxis": {
            "backgroundcolor": "#E5ECF6",
            "gridcolor": "white",
            "gridwidth": 2,
            "linecolor": "white",
            "showbackground": true,
            "ticks": "",
            "zerolinecolor": "white"
           },
           "zaxis": {
            "backgroundcolor": "#E5ECF6",
            "gridcolor": "white",
            "gridwidth": 2,
            "linecolor": "white",
            "showbackground": true,
            "ticks": "",
            "zerolinecolor": "white"
           }
          },
          "shapedefaults": {
           "line": {
            "color": "#2a3f5f"
           }
          },
          "ternary": {
           "aaxis": {
            "gridcolor": "white",
            "linecolor": "white",
            "ticks": ""
           },
           "baxis": {
            "gridcolor": "white",
            "linecolor": "white",
            "ticks": ""
           },
           "bgcolor": "#E5ECF6",
           "caxis": {
            "gridcolor": "white",
            "linecolor": "white",
            "ticks": ""
           }
          },
          "title": {
           "x": 0.05
          },
          "xaxis": {
           "automargin": true,
           "gridcolor": "white",
           "linecolor": "white",
           "ticks": "",
           "title": {
            "standoff": 15
           },
           "zerolinecolor": "white",
           "zerolinewidth": 2
          },
          "yaxis": {
           "automargin": true,
           "gridcolor": "white",
           "linecolor": "white",
           "ticks": "",
           "title": {
            "standoff": 15
           },
           "zerolinecolor": "white",
           "zerolinewidth": 2
          }
         }
        },
        "title": {
         "text": "Dats1126->1140: DCbias with fit. Balance ratio = -0.0330"
        },
        "xaxis": {
         "autorange": true,
         "range": [
          -559.8492025289555,
          559.8592025289555
         ],
         "title": {
          "text": "HQPC Bias /mV"
         },
         "type": "linear"
        },
        "yaxis": {
         "autorange": true,
         "range": [
          8.894181702868543,
          23.499047213059153
         ],
         "title": {
          "text": "Theta /mV (LP*200)"
         },
         "type": "linear"
        }
       }
      },
      "image/png": "[encoded data removed]",
      "text/html": [
       "<div>\n",
       "        \n",
       "        \n",
       "            <div id=\"8aea1e33-10a9-4c63-be8c-f7bc61ab76f9\" class=\"plotly-graph-div\" style=\"height:525px; width:100%;\"></div>\n",
       "            <script type=\"text/javascript\">\n",
       "                require([\"plotly\"], function(Plotly) {\n",
       "                    window.PLOTLYENV=window.PLOTLYENV || {};\n",
       "                    \n",
       "                if (document.getElementById(\"8aea1e33-10a9-4c63-be8c-f7bc61ab76f9\")) {\n",
       "                    Plotly.newPlot(\n",
       "                        '8aea1e33-10a9-4c63-be8c-f7bc61ab76f9',\n",
       "                        [{\"mode\": \"markers\", \"name\": \"Data\", \"type\": \"scatter\", \"x\": [-499.88, -374.76, -249.94, -199.89, -149.84, -99.793, -49.744, 0, 49.745, 99.796, 149.85, 199.9, 249.95, 374.77, 499.89], \"y\": [22.56595858324142, 19.185374872980297, 15.414784125016025, 13.824104063108841, 12.417796387357976, 11.465094814787902, 10.023540575430172, 9.827270332686277, 10.128894025774233, 11.002606233873605, 12.418250448647127, 13.812306177811854, 15.00900664252361, 19.292132608937795, 22.419806585673193]}, {\"mode\": \"lines\", \"name\": \"Fit\", \"type\": \"scatter\", \"x\": [-199.89, -199.4898098098098, -199.0896196196196, -198.68942942942942, -198.28923923923924, -197.88904904904905, -197.48885885885883, -197.08866866866865, -196.68847847847846, -196.28828828828827, -195.88809809809808, -195.4879079079079, -195.0877177177177, -194.68752752752752, -194.28733733733733, -193.88714714714715, -193.48695695695693, -193.08676676676674, -192.68657657657656, -192.28638638638637, -191.88619619619618, -191.486006006006, -191.0858158158158, -190.68562562562562, -190.28543543543543, -189.88524524524524, -189.48505505505506, -189.08486486486484, -188.68467467467465, -188.28448448448447, -187.88429429429428, -187.4841041041041, -187.0839139139139, -186.68372372372372, -186.28353353353353, -185.88334334334334, -185.48315315315315, -185.08296296296294, -184.68277277277275, -184.28258258258256, -183.88239239239238, -183.4822022022022, -183.082012012012, -182.6818218218218, -182.28163163163163, -181.88144144144144, -181.48125125125125, -181.08106106106106, -180.68087087087085, -180.28068068068066, -179.88049049049047, -179.48030030030029, -179.0801101101101, -178.6799199199199, -178.27972972972972, -177.87953953953954, -177.47934934934935, -177.07915915915913, -176.67896896896895, -176.27877877877876, -175.87858858858857, -175.47839839839838, -175.0782082082082, -174.678018018018, -174.27782782782782, -173.87763763763763, -173.47744744744745, -173.07725725725726, -172.67706706706707, -172.27687687687686, -171.87668668668667, -171.47649649649648, -171.0763063063063, -170.6761161161161, -170.27592592592592, -169.87573573573573, -169.47554554554554, -169.07535535535536, -168.67516516516514, -168.27497497497495, -167.87478478478477, -167.47459459459458, -167.0744044044044, -166.6742142142142, -166.27402402402402, -165.87383383383383, -165.47364364364364, -165.07345345345345, -164.67326326326327, -164.27307307307308, -163.8728828828829, -163.47269269269268, -163.0725025025025, -162.6723123123123, -162.2721221221221, -161.87193193193193, -161.47174174174174, -161.07155155155155, -160.67136136136133, -160.27117117117115, -159.87098098098096, -159.47079079079077, -159.07060060060059, -158.6704104104104, -158.2702202202202, -157.87003003003002, -157.46983983983984, -157.06964964964965, -156.66945945945946, -156.26926926926927, -155.86907907907909, -155.4688888888889, -155.06869869869868, -154.6685085085085, -154.2683183183183, -153.86812812812812, -153.46793793793793, -153.06774774774775, -152.66755755755756, -152.26736736736734, -151.86717717717715, -151.46698698698697, -151.06679679679678, -150.6666066066066, -150.2664164164164, -149.86622622622622, -149.46603603603603, -149.06584584584584, -148.66565565565566, -148.26546546546547, -147.86527527527528, -147.4650850850851, -147.06489489489488, -146.6647047047047, -146.2645145145145, -145.86432432432431, -145.46413413413413, -145.06394394394394, -144.66375375375375, -144.26356356356357, -143.86337337337335, -143.46318318318316, -143.06299299299297, -142.6628028028028, -142.2626126126126, -141.8624224224224, -141.46223223223222, -141.06204204204204, -140.66185185185185, -140.26166166166166, -139.86147147147148, -139.4612812812813, -139.0610910910911, -138.66090090090088, -138.2607107107107, -137.8605205205205, -137.46033033033032, -137.06014014014013, -136.65994994994995, -136.25975975975976, -135.85956956956954, -135.45937937937936, -135.05918918918917, -134.65899899899898, -134.2588088088088, -133.8586186186186, -133.45842842842842, -133.05823823823823, -132.65804804804804, -132.25785785785786, -131.85766766766767, -131.45747747747748, -131.0572872872873, -130.6570970970971, -130.25690690690692, -129.85671671671673, -129.45652652652652, -129.05633633633633, -128.65614614614614, -128.25595595595595, -127.85576576576577, -127.45557557557557, -127.05538538538538, -126.65519519519519, -126.255005005005, -125.85481481481482, -125.45462462462461, -125.05443443443443, -124.65424424424424, -124.25405405405405, -123.85386386386386, -123.45367367367366, -123.05348348348348, -122.65329329329329, -122.2531031031031, -121.85291291291291, -121.45272272272271, -121.05253253253252, -120.65234234234234, -120.25215215215215, -119.85196196196196, -119.45177177177177, -119.05158158158157, -118.65139139139139, -118.2512012012012, -117.85101101101101, -117.45082082082082, -117.05063063063062, -116.65044044044043, -116.25025025025025, -115.85006006006006, -115.44986986986987, -115.04967967967967, -114.64948948948948, -114.2492992992993, -113.84910910910911, -113.44891891891892, -113.04872872872872, -112.64853853853853, -112.24834834834834, -111.84815815815816, -111.44796796796797, -111.04777777777778, -110.64758758758758, -110.24739739739739, -109.8472072072072, -109.44701701701702, -109.04682682682683, -108.64663663663663, -108.24644644644644, -107.84625625625625, -107.44606606606607, -107.04587587587588, -106.64568568568568, -106.24549549549549, -105.8453053053053, -105.44511511511512, -105.04492492492493, -104.64473473473473, -104.24454454454454, -103.84435435435435, -103.44416416416416, -103.04397397397398, -102.64378378378377, -102.24359359359359, -101.8434034034034, -101.44321321321321, -101.04302302302303, -100.64283283283284, -100.24264264264264, -99.84245245245245, -99.44226226226226, -99.04207207207207, -98.64188188188189, -98.24169169169168, -97.8415015015015, -97.44131131131131, -97.04112112112112, -96.64093093093094, -96.24074074074073, -95.84055055055055, -95.44036036036036, -95.04017017017017, -94.63997997997998, -94.23978978978978, -93.8395995995996, -93.43940940940941, -93.03921921921922, -92.63902902902903, -92.23883883883884, -91.83864864864864, -91.43845845845846, -91.03826826826827, -90.63807807807808, -90.2378878878879, -89.83769769769769, -89.4375075075075, -89.03731731731732, -88.63712712712713, -88.23693693693694, -87.83674674674674, -87.43655655655655, -87.03636636636637, -86.63617617617618, -86.23598598598599, -85.83579579579579, -85.4356056056056, -85.03541541541541, -84.63522522522523, -84.23503503503504, -83.83484484484484, -83.43465465465465, -83.03446446446446, -82.63427427427428, -82.23408408408409, -81.8338938938939, -81.4337037037037, -81.03351351351351, -80.63332332332332, -80.23313313313314, -79.83294294294295, -79.43275275275275, -79.03256256256256, -78.63237237237237, -78.23218218218219, -77.831991991992, -77.4318018018018, -77.03161161161161, -76.63142142142142, -76.23123123123123, -75.83104104104105, -75.43085085085085, -75.03066066066066, -74.63047047047047, -74.23028028028028, -73.8300900900901, -73.42989989989991, -73.0297097097097, -72.62951951951952, -72.22932932932933, -71.82913913913913, -71.42894894894894, -71.02875875875876, -70.62856856856857, -70.22837837837838, -69.8281881881882, -69.427997997998, -69.02780780780782, -68.62761761761763, -68.22742742742744, -67.82723723723723, -67.42704704704704, -67.02685685685685, -66.62666666666667, -66.22647647647648, -65.82628628628629, -65.4260960960961, -65.02590590590592, -64.62571571571573, -64.22552552552554, -63.825335335335325, -63.42514514514514, -63.02495495495495, -62.62476476476476, -62.224574574574575, -61.82438438438439, -61.4241941941942, -61.02400400400401, -60.623813813813825, -60.22362362362364, -59.82343343343345, -59.423243243243235, -59.02305305305305, -58.62286286286286, -58.22267267267267, -57.822482482482485, -57.4222922922923, -57.02210210210211, -56.62191191191192, -56.221721721721735, -55.82153153153155, -55.42134134134133, -55.021151151151145, -54.62096096096096, -54.22077077077077, -53.82058058058058, -53.420390390390395, -53.02020020020021, -52.62001001001002, -52.21981981981983, -51.819629629629645, -51.41943943943943, -51.01924924924924, -50.619059059059055, -50.21886886886887, -49.81867867867868, -49.41848848848849, -49.018298298298305, -48.61810810810812, -48.21791791791793, -47.81772772772774, -47.417537537537555, -47.01734734734734, -46.61715715715715, -46.216966966966964, -45.81677677677678, -45.41658658658659, -45.0163963963964, -44.616206206206215, -44.21601601601603, -43.81582582582584, -43.41563563563565, -43.01544544544544, -42.61525525525525, -42.21506506506506, -41.814874874874874, -41.41468468468469, -41.0144944944945, -40.61430430430431, -40.214114114114125, -39.81392392392394, -39.41373373373375, -39.01354354354356, -38.61335335335335, -38.21316316316316, -37.81297297297297, -37.412782782782784, -37.0125925925926, -36.61240240240241, -36.21221221221222, -35.812022022022035, -35.41183183183185, -35.01164164164166, -34.611451451451444, -34.21126126126126, -33.81107107107107, -33.41088088088088, -33.010690690690694, -32.61050050050051, -32.21031031031032, -31.810120120120132, -31.409929929929945, -31.009739739739757, -30.60954954954957, -30.209359359359354, -29.809169169169166, -29.40897897897898, -29.00878878878879, -28.608598598598604, -28.208408408408417, -27.80821821821823, -27.408028028028042, -27.007837837837855, -26.607647647647667, -26.20745745745745, -25.807267267267264, -25.407077077077076, -25.00688688688689, -24.6066966966967, -24.206506506506514, -23.806316316316327, -23.40612612612614, -23.005935935935952, -22.605745745745764, -22.205555555555577, -21.80536536536536, -21.405175175175174, -21.004984984984986, -20.6047947947948, -20.20460460460461, -19.804414414414424, -19.404224224224237, -19.00403403403405, -18.603843843843862, -18.203653653653674, -17.80346346346346, -17.40327327327327, -17.003083083083084, -16.602892892892896, -16.20270270270271, -15.802512512512521, -15.402322322322334, -15.002132132132147, -14.60194194194196, -14.201751751751772, -13.801561561561556, -13.401371371371368, -13.001181181181181, -12.600990990990994, -12.200800800800806, -11.800610610610619, -11.400420420420431, -11.000230230230244, -10.600040040040057, -10.199849849849869, -9.799659659659682, -9.399469469469466, -8.999279279279278, -8.599089089089091, -8.198898898898904, -7.798708708708716, -7.398518518518529, -6.998328328328341, -6.598138138138154, -6.197947947947966, -5.797757757757779, -5.397567567567563, -4.997377377377376, -4.597187187187188, -4.196996996997001, -3.7968068068068135, -3.396616616616626, -2.9964264264264386, -2.596236236236251, -2.196046046046064, -1.7958558558558764, -1.395665665665689, -0.9954754754754731, -0.5952852852852857, -0.19509509509509826, 0.20509509509508916, 0.6052852852852766, 1.005475475475464, 1.4056656656656514, 1.8058558558558389, 2.2060460460460263, 2.6062362362362137, 3.0064264264264295, 3.406616616616617, 3.8068068068068044, 4.206996996996992, 4.607187187187179, 5.007377377377367, 5.407567567567554, 5.8077577577577415, 6.207947947947929, 6.608138138138116, 7.008328328328304, 7.40851851851852, 7.808708708708707, 8.208898898898894, 8.609089089089082, 9.00927927927927, 9.409469469469457, 9.809659659659644, 10.209849849849832, 10.610040040040019, 11.010230230230206, 11.410420420420422, 11.81061061061061, 12.210800800800797, 12.610990990990985, 13.011181181181172, 13.41137137137136, 13.811561561561547, 14.211751751751734, 14.611941941941922, 15.012132132132109, 15.412322322322296, 15.812512512512512, 16.2127027027027, 16.612892892892887, 17.013083083083075, 17.413273273273262, 17.81346346346345, 18.213653653653637, 18.613843843843824, 19.01403403403401, 19.4142242242242, 19.814414414414415, 20.214604604604602, 20.61479479479479, 21.014984984984977, 21.415175175175165, 21.815365365365352, 22.21555555555554, 22.615745745745727, 23.015935935935914, 23.416126126126102, 23.81631631631629, 24.216506506506505, 24.616696696696692, 25.01688688688688, 25.417077077077067, 25.817267267267255, 26.217457457457442, 26.61764764764763, 27.017837837837817, 27.418028028028004, 27.818218218218192, 28.218408408408408, 28.618598598598595, 29.018788788788783, 29.41897897897897, 29.819169169169157, 30.219359359359345, 30.619549549549532, 31.01973973973972, 31.419929929929907, 31.820120120120094, 32.22031031031031, 32.6205005005005, 33.020690690690685, 33.42088088088087, 33.82107107107106, 34.22126126126125, 34.621451451451435, 35.02164164164162, 35.42183183183181, 35.822022022022, 36.222212212212185, 36.6224024024024, 37.02259259259259, 37.422782782782775, 37.82297297297296, 38.22316316316315, 38.62335335335334, 39.023543543543525, 39.42373373373371, 39.8239239239239, 40.22411411411409, 40.6243043043043, 41.02449449449449, 41.42468468468468, 41.824874874874865, 42.22506506506505, 42.62525525525524, 43.02544544544543, 43.425635635635615, 43.8258258258258, 44.22601601601599, 44.62620620620618, 45.02639639639639, 45.42658658658658, 45.82677677677677, 46.226966966966955, 46.62715715715714, 47.02734734734733, 47.42753753753752, 47.827727727727705, 48.22791791791789, 48.62810810810808, 49.028298298298296, 49.42848848848848, 49.82867867867867, 50.22886886886886, 50.629059059059045, 51.02924924924923, 51.42943943943942, 51.82962962962961, 52.229819819819795, 52.63001001000998, 53.03020020020017, 53.430390390390386, 53.83058058058057, 54.23077077077076, 54.63096096096095, 55.031151151151136, 55.43134134134132, 55.83153153153151, 56.231721721721726, 56.631911911911914, 57.0321021021021, 57.43229229229229, 57.832482482482476, 58.23267267267266, 58.63286286286285, 59.03305305305304, 59.433243243243226, 59.83343343343341, 60.2336236236236, 60.63381381381379, 61.034004004003975, 61.43419419419416, 61.83438438438435, 62.23457457457454, 62.634764764764725, 63.03495495495491, 63.4351451451451, 63.835335335335344, 64.23552552552553, 64.63571571571572, 65.0359059059059, 65.4360960960961, 65.83628628628628, 66.23647647647647, 66.63666666666666, 67.03685685685684, 67.43704704704703, 67.83723723723722, 68.2374274274274, 68.6376176176176, 69.03780780780778, 69.43799799799797, 69.83818818818816, 70.23837837837834, 70.63856856856853, 71.03875875875872, 71.4389489489489, 71.83913913913909, 72.23932932932934, 72.63951951951952, 73.03970970970971, 73.4398998998999, 73.84009009009009, 74.24028028028027, 74.64047047047046, 75.04066066066065, 75.44085085085084, 75.84104104104102, 76.24123123123121, 76.6414214214214, 77.04161161161159, 77.44180180180177, 77.84199199199196, 78.24218218218215, 78.64237237237234, 79.04256256256252, 79.44275275275271, 79.8429429429429, 80.24313313313309, 80.64332332332333, 81.04351351351352, 81.4437037037037, 81.84389389389389, 82.24408408408408, 82.64427427427427, 83.04446446446445, 83.44465465465464, 83.84484484484483, 84.24503503503502, 84.6452252252252, 85.04541541541539, 85.44560560560558, 85.84579579579577, 86.24598598598595, 86.64617617617614, 87.04636636636633, 87.44655655655652, 87.8467467467467, 88.24693693693689, 88.64712712712713, 89.04731731731732, 89.44750750750751, 89.8476976976977, 90.24788788788788, 90.64807807807807, 91.04826826826826, 91.44845845845845, 91.84864864864863, 92.24883883883882, 92.64902902902901, 93.0492192192192, 93.44940940940938, 93.84959959959957, 94.24978978978976, 94.64997997997995, 95.05017017017013, 95.45036036036032, 95.85055055055051, 96.2507407407407, 96.65093093093088, 97.05112112112113, 97.45131131131131, 97.8515015015015, 98.25169169169169, 98.65188188188188, 99.05207207207206, 99.45226226226225, 99.85245245245244, 100.25264264264263, 100.65283283283281, 101.053023023023, 101.45321321321319, 101.85340340340338, 102.25359359359356, 102.65378378378375, 103.05397397397394, 103.45416416416413, 103.85435435435431, 104.2545445445445, 104.65473473473469, 105.05492492492488, 105.45511511511512, 105.85530530530531, 106.2554954954955, 106.65568568568568, 107.05587587587587, 107.45606606606606, 107.85625625625624, 108.25644644644643, 108.65663663663662, 109.0568268268268, 109.457017017017, 109.85720720720718, 110.25739739739737, 110.65758758758756, 111.05777777777774, 111.45796796796793, 111.85815815815812, 112.2583483483483, 112.6585385385385, 113.05872872872868, 113.45891891891887, 113.85910910910911, 114.2592992992993, 114.65948948948949, 115.05967967967968, 115.45986986986986, 115.86006006006005, 116.26025025025024, 116.66044044044042, 117.06063063063061, 117.4608208208208, 117.86101101101099, 118.26120120120117, 118.66139139139136, 119.06158158158155, 119.46177177177174, 119.86196196196192, 120.26215215215211, 120.6623423423423, 121.06253253253249, 121.46272272272267, 121.86291291291286, 122.2631031031031, 122.6632932932933, 123.06348348348348, 123.46367367367367, 123.86386386386386, 124.26405405405404, 124.66424424424423, 125.06443443443442, 125.4646246246246, 125.86481481481479, 126.26500500500498, 126.66519519519517, 127.06538538538535, 127.46557557557554, 127.86576576576573, 128.26595595595592, 128.6661461461461, 129.0663363363363, 129.46652652652648, 129.86671671671667, 130.26690690690685, 130.6670970970971, 131.0672872872873, 131.46747747747747, 131.86766766766766, 132.26785785785785, 132.66804804804804, 133.06823823823822, 133.4684284284284, 133.8686186186186, 134.26880880880879, 134.66899899899897, 135.06918918918916, 135.46937937937935, 135.86956956956953, 136.26975975975972, 136.6699499499499, 137.0701401401401, 137.47033033033028, 137.87052052052047, 138.27071071071066, 138.67090090090085, 139.0710910910911, 139.47128128128128, 139.87147147147147, 140.27166166166165, 140.67185185185184, 141.07204204204203, 141.47223223223222, 141.8724224224224, 142.2726126126126, 142.67280280280278, 143.07299299299297, 143.47318318318315, 143.87337337337334, 144.27356356356353, 144.67375375375372, 145.0739439439439, 145.4741341341341, 145.87432432432428, 146.27451451451446, 146.67470470470465, 147.07489489489484, 147.47508508508508, 147.87527527527527, 148.27546546546546, 148.67565565565565, 149.07584584584583, 149.47603603603602, 149.8762262262262, 150.2764164164164, 150.67660660660658, 151.07679679679677, 151.47698698698696, 151.87717717717715, 152.27736736736733, 152.67755755755752, 153.0777477477477, 153.4779379379379, 153.87812812812808, 154.27831831831827, 154.67850850850846, 155.07869869869864, 155.47888888888883, 155.87907907907908, 156.27926926926926, 156.67945945945945, 157.07964964964964, 157.47983983983983, 157.88003003003, 158.2802202202202, 158.6804104104104, 159.08060060060058, 159.48079079079076, 159.88098098098095, 160.28117117117114, 160.68136136136133, 161.0815515515515, 161.4817417417417, 161.8819319319319, 162.28212212212208, 162.68231231231226, 163.08250250250245, 163.48269269269264, 163.88288288288283, 164.28307307307307, 164.68326326326326, 165.08345345345344, 165.48364364364363, 165.88383383383382, 166.284024024024, 166.6842142142142, 167.08440440440438, 167.48459459459457, 167.88478478478476, 168.28497497497494, 168.68516516516513, 169.08535535535532, 169.4855455455455, 169.8857357357357, 170.28592592592588, 170.68611611611607, 171.08630630630626, 171.48649649649644, 171.88668668668663, 172.28687687687687, 172.68706706706706, 173.08725725725725, 173.48744744744744, 173.88763763763762, 174.2878278278278, 174.688018018018, 175.0882082082082, 175.48839839839837, 175.88858858858856, 176.28877877877875, 176.68896896896894, 177.08915915915912, 177.4893493493493, 177.8895395395395, 178.2897297297297, 178.68991991991987, 179.09011011011006, 179.49030030030025, 179.89049049049044, 180.29068068068062, 180.69087087087087, 181.09106106106105, 181.49125125125124, 181.89144144144143, 182.29163163163162, 182.6918218218218, 183.092012012012, 183.49220220220218, 183.89239239239237, 184.29258258258255, 184.69277277277274, 185.09296296296293, 185.49315315315312, 185.8933433433433, 186.2935335335335, 186.69372372372368, 187.09391391391387, 187.49410410410405, 187.89429429429424, 188.29448448448443, 188.69467467467462, 189.09486486486486, 189.49505505505505, 189.89524524524523, 190.29543543543542, 190.6956256256256, 191.0958158158158, 191.49600600600598, 191.89619619619617, 192.29638638638636, 192.69657657657655, 193.09676676676673, 193.49695695695692, 193.8971471471471, 194.2973373373373, 194.69752752752748, 195.09771771771767, 195.49790790790786, 195.89809809809805, 196.29828828828823, 196.69847847847842, 197.0986686686686, 197.49885885885885, 197.89904904904904, 198.29923923923923, 198.69942942942941, 199.0996196196196, 199.4998098098098, 199.9], \"y\": [14.027031924871144, 14.01107702264818, 13.995153862811573, 13.979262445361321, 13.963402770297426, 13.94757483761989, 13.931778647328706, 13.91601419942388, 13.900281493905412, 13.884580530773299, 13.868911310027544, 13.853273831668144, 13.837668095695102, 13.822094102108416, 13.806551850908086, 13.791041342094113, 13.775562575666497, 13.760115551625237, 13.744700269970332, 13.729316730701784, 13.713964933819595, 13.69864487932376, 13.683356567214283, 13.668099997491161, 13.652875170154397, 13.637682085203988, 13.622520742639937, 13.607391142462241, 13.592293284670903, 13.577227169265921, 13.562192796247295, 13.547190165615026, 13.532219277369114, 13.517280131509558, 13.502372728036358, 13.487497066949516, 13.472653148249028, 13.457840971934898, 13.443060538007124, 13.428311846465707, 13.413594897310645, 13.398909690541942, 13.384256226159595, 13.369634504163603, 13.35504452455397, 13.340486287330691, 13.32595979249377, 13.311465040043204, 13.297002029978994, 13.282570762301143, 13.268171237009648, 13.253803454104508, 13.239467413585725, 13.2251631154533, 13.21089055970723, 13.196649746347518, 13.182440675374162, 13.16826334678716, 13.154117760586516, 13.14000391677223, 13.125921815344299, 13.111871456302726, 13.097852839647508, 13.083865965378648, 13.069910833496142, 13.055987443999994, 13.042095796890203, 13.028235892166768, 13.014407729829689, 13.000611309878966, 12.9868466323146, 12.973113697136593, 12.95941250434494, 12.945743053939644, 12.932105345920704, 12.918499380288122, 12.904925157041895, 12.891382676182026, 12.87787193770851, 12.864392941621354, 12.850945687920554, 12.83753017660611, 12.824146407678022, 12.81079438113629, 12.797474096980917, 12.784185555211899, 12.770928755829237, 12.757703698832932, 12.744510384222984, 12.731348811999393, 12.718218982162156, 12.705120894711278, 12.692054549646755, 12.67901994696859, 12.66601708667678, 12.653045968771327, 12.64010659325223, 12.62719896011949, 12.614323069373107, 12.60147892101308, 12.588666515039408, 12.575885851452096, 12.563136930251137, 12.550419751436536, 12.537734315008292, 12.525080620966405, 12.512458669310874, 12.499868460041698, 12.48730999315888, 12.474783268662417, 12.462288286552313, 12.449825046828565, 12.437393549491171, 12.424993794540136, 12.412625781975455, 12.400289511797133, 12.387984984005167, 12.375712198599556, 12.363471155580303, 12.351261854947406, 12.339084296700866, 12.326938480840681, 12.314824407366855, 12.302742076279383, 12.290691487578268, 12.278672641263512, 12.26668553733511, 12.254730175793066, 12.242806556637378, 12.230914679868045, 12.21905454548507, 12.207226153488453, 12.195429503878188, 12.183664596654282, 12.171931431816734, 12.160230009365542, 12.148560329300704, 12.136922391622225, 12.1253161963301, 12.113741743424335, 12.102199032904924, 12.09068806477187, 12.079208839025172, 12.067761355664832, 12.056345614690848, 12.044961616103219, 12.033609359901948, 12.022288846087035, 12.011000074658476, 11.999743045616274, 11.988517758960429, 11.97732421469094, 11.966162412807808, 11.955032353311031, 11.943934036200613, 11.93286746147655, 11.921832629138843, 11.910829539187494, 11.899858191622501, 11.888918586443864, 11.878010723651583, 11.86713460324566, 11.856290225226092, 11.845477589592882, 11.834696696346027, 11.82394754548553, 11.813230137011388, 11.802544470923603, 11.791890547222176, 11.781268365907104, 11.770677926978388, 11.760119230436029, 11.749592276280028, 11.739097064510382, 11.728633595127093, 11.71820186813016, 11.707801883519583, 11.697433641295364, 11.687097141457501, 11.676792384005994, 11.666519368940843, 11.65627809626205, 11.646068565969612, 11.635890778063532, 11.625744732543808, 11.61563042941044, 11.605547868663429, 11.595497050302775, 11.585477974328477, 11.575490640740535, 11.56553504953895, 11.555611200723721, 11.54571909429485, 11.535858730252333, 11.526030108596174, 11.516233229326371, 11.506468092442924, 11.496734697945834, 11.487033045835103, 11.477363136110725, 11.467724968772705, 11.458118543821042, 11.448543861255734, 11.439000921076785, 11.42948972328419, 11.420010267877952, 11.410562554858071, 11.401146584224547, 11.391762355977379, 11.382409870116566, 11.373089126642112, 11.363800125554013, 11.35454286685227, 11.345317350536885, 11.336123576607857, 11.326961545065185, 11.317831255908867, 11.308732709138908, 11.299665904755305, 11.290630842758059, 11.281627523147169, 11.272655945922635, 11.263716111084458, 11.254808018632637, 11.245931668567174, 11.237087060888065, 11.228274195595315, 11.21949307268892, 11.210743692168881, 11.202026054035201, 11.193340158287874, 11.184686004926906, 11.176063593952295, 11.16747292536404, 11.15891399916214, 11.150386815346598, 11.141891373917412, 11.133427674874582, 11.12499571821811, 11.116595503947993, 11.108227032064233, 11.099890302566829, 11.091585315455783, 11.083312070731091, 11.075070568392757, 11.06686080844078, 11.05868279087516, 11.050536515695894, 11.042421982902987, 11.034339192496436, 11.02628814447624, 11.018268838842403, 11.01028127559492, 11.002325454733795, 10.994401376259026, 10.986509040170613, 10.978648446468558, 10.970819595152857, 10.963022486223515, 10.955257119680528, 10.947523495523898, 10.939821613753624, 10.932151474369707, 10.924513077372147, 10.916906422760944, 10.909331510536095, 10.901788340697605, 10.89427691324547, 10.886797228179693, 10.879349285500272, 10.871933085207207, 10.864548627300497, 10.857195911780146, 10.84987493864615, 10.842585707898511, 10.83532821953723, 10.828102473562303, 10.820908469973734, 10.813746208771521, 10.806615689955665, 10.799516913526165, 10.792449879483021, 10.785414587826235, 10.778411038555804, 10.77143923167173, 10.764499167174012, 10.757590845062651, 10.750714265337647, 10.743869427999, 10.73705633304671, 10.730274980480774, 10.723525370301195, 10.716807502507974, 10.710121377101109, 10.7034669940806, 10.696844353446448, 10.69025345519865, 10.683694299337212, 10.677166885862128, 10.670671214773403, 10.664207286071033, 10.65777509975502, 10.651374655825363, 10.645005954282063, 10.63866899512512, 10.63236377835453, 10.626090303970301, 10.619848571972426, 10.613638582360908, 10.607460335135746, 10.601313830296942, 10.595199067844494, 10.589116047778402, 10.583064770098666, 10.577045234805288, 10.571057441898265, 10.565101391377599, 10.559177083243291, 10.553284517495339, 10.547423694133741, 10.541594613158502, 10.53579727456962, 10.530031678367092, 10.52429782455092, 10.518595713121108, 10.512925344077651, 10.50728671742055, 10.501679833149806, 10.496104691265417, 10.490561291767387, 10.485049634655711, 10.479569719930394, 10.474121547591432, 10.468705117638827, 10.463320430072578, 10.457967484892686, 10.45264628209915, 10.44735682169197, 10.442099103671149, 10.436873128036682, 10.431678894788572, 10.426516403926819, 10.421385655451422, 10.416286649362382, 10.411219385659699, 10.40618386434337, 10.401180085413401, 10.396208048869786, 10.391267754712528, 10.386359202941629, 10.381482393557082, 10.376637326558894, 10.371824001947063, 10.367042419721589, 10.36229257988247, 10.357574482429706, 10.352888127363302, 10.348233514683253, 10.34361064438956, 10.339019516482225, 10.334460130961244, 10.329932487826621, 10.325436587078354, 10.320972428716443, 10.31654001274089, 10.312139339151694, 10.307770407948853, 10.30343321913237, 10.29912777270224, 10.29485406865847, 10.290612107001055, 10.286401887729998, 10.282223410845296, 10.27807667634695, 10.273961684234962, 10.26987843450933, 10.265826927170053, 10.261807162217135, 10.257819139650572, 10.253862859470367, 10.249938321676517, 10.246045526269024, 10.242184473247887, 10.238355162613107, 10.234557594364682, 10.230791768502616, 10.227057685026907, 10.223355343937552, 10.219684745234554, 10.216045888917913, 10.212438774987628, 10.2088634034437, 10.20531977428613, 10.201807887514914, 10.198327743130056, 10.194879341131553, 10.191462681519408, 10.188077764293618, 10.184724589454186, 10.18140315700111, 10.178113466934391, 10.174855519254027, 10.171629313960022, 10.168434851052371, 10.165272130531077, 10.16214115239614, 10.15904191664756, 10.155974423285336, 10.15293867230947, 10.149934663719957, 10.146962397516804, 10.144021873700005, 10.141113092269563, 10.138236053225478, 10.13539075656775, 10.132577202296378, 10.129795390411363, 10.127045320912703, 10.124326993800402, 10.121640409074455, 10.118985566734866, 10.116362466781633, 10.113771109214756, 10.111211494034237, 10.108683621240074, 10.106187490832266, 10.103723102810816, 10.101290457175722, 10.098889553926984, 10.096520393064603, 10.094182974588579, 10.091877298498911, 10.0896033647956, 10.087361173478644, 10.085150724548047, 10.082972018003804, 10.080825053845919, 10.07870983207439, 10.076626352689217, 10.074574615690402, 10.072554621077943, 10.07056636885184, 10.068609859012094, 10.066685091558703, 10.06479206649167, 10.062930783810993, 10.061101243516672, 10.059303445608709, 10.057537390087102, 10.05580307695185, 10.054100506202957, 10.052429677840419, 10.050790591864237, 10.049183248274412, 10.047607647070944, 10.046063788253832, 10.044551671823077, 10.043071297778678, 10.041622666120636, 10.04020577684895, 10.03882062996362, 10.037467225464647, 10.036145563352031, 10.034855643625772, 10.033597466285869, 10.032371031332321, 10.031176338765132, 10.030013388584297, 10.02888218078982, 10.027782715381699, 10.026714992359935, 10.025679011724527, 10.024674773475475, 10.02370227761278, 10.022761524136442, 10.021852513046461, 10.020975244342836, 10.020129718025567, 10.019315934094655, 10.0185338925501, 10.017783593391899, 10.017065036620057, 10.01637822223457, 10.015723150235441, 10.015099820622668, 10.014508233396251, 10.01394838855619, 10.013420286102487, 10.012923926035139, 10.012459308354149, 10.012026433059514, 10.011625300151236, 10.011255909629316, 10.010918261493751, 10.010612355744543, 10.01033819238169, 10.010095771405195, 10.009885092815058, 10.009706156611275, 10.009558962793848, 10.009443511362779, 10.009359802318068, 10.00930783565971, 10.00928761138771, 10.009299129502068, 10.00934239000278, 10.009417392889851, 10.009524138163277, 10.00966262582306, 10.009832855869199, 10.010034828301695, 10.010268543120548, 10.010534000325757, 10.010831199917321, 10.011160141895244, 10.011520826259522, 10.011913253010157, 10.012337422147148, 10.012793333670496, 10.0132809875802, 10.013800383876262, 10.014351522558679, 10.014934403627452, 10.015549027082583, 10.01619539292407, 10.016873501151913, 10.017583351766113, 10.01832494476667, 10.019098280153582, 10.019903357926852, 10.020740178086477, 10.02160874063246, 10.0225090455648, 10.023441092883495, 10.024404882588547, 10.025400414679954, 10.02642768915772, 10.027486706021842, 10.028577465272319, 10.029699966909153, 10.030854210932343, 10.03204019734189, 10.033257926137795, 10.034507397320056, 10.035788610888673, 10.037101566843646, 10.038446265184977, 10.039822705912663, 10.041230889026705, 10.042670814527105, 10.04414248241386, 10.045645892686974, 10.047181045346441, 10.048747940392268, 10.050346577824449, 10.051976957642989, 10.053639079847883, 10.055332944439135, 10.057058551416743, 10.058815900780708, 10.060604992531028, 10.062425826667706, 10.06427840319074, 10.06616272210013, 10.068078783395878, 10.070026587077981, 10.07200613314644, 10.074017421601257, 10.07606045244243, 10.078135225669959, 10.080241741283846, 10.082379999284088, 10.084549999670687, 10.086751742443642, 10.088985227602954, 10.091250455148623, 10.093547425080649, 10.09587613739903, 10.098236592103767, 10.100628789194863, 10.103052728672314, 10.105508410536121, 10.107995834786285, 10.110515001422806, 10.113065910445682, 10.115648561854917, 10.118262955650506, 10.120909091832452, 10.123586970400755, 10.126296591355414, 10.12903795469643, 10.131811060423804, 10.134615908537533, 10.137452499037618, 10.140320831924061, 10.14322090719686, 10.146152724856014, 10.149116284901526, 10.152111587333394, 10.155138632151619, 10.158197419356199, 10.161287948947137, 10.164410220924431, 10.167564235288083, 10.17074999203809, 10.173967491174453, 10.177216732697174, 10.180497716606249, 10.183810442901683, 10.187154911583471, 10.190531122651619, 10.19393907610612, 10.19737877194698, 10.200850210174195, 10.204353390787768, 10.207888313787697, 10.211454979173983, 10.215053386946623, 10.21868353710562, 10.222345429650977, 10.226039064582688, 10.229764441900755, 10.23352156160518, 10.23731042369596, 10.241131028173097, 10.244983375036592, 10.248867464286441, 10.252783295922647, 10.25673086994521, 10.26071018635413, 10.264721245149406, 10.26876404633104, 10.27283858989903, 10.276944875853374, 10.281082904194077, 10.285252674921136, 10.28945418803455, 10.293687443534322, 10.29795244142045, 10.302249181692934, 10.306577664351776, 10.310937889396975, 10.315329856828528, 10.319753566646439, 10.324209018850706, 10.32869621344133, 10.33321515041831, 10.337765829781647, 10.342348251531341, 10.34696241566739, 10.351608322189795, 10.35628597109856, 10.360995362393679, 10.365736496075154, 10.370509372142987, 10.375313990597174, 10.38015035143772, 10.385018454664621, 10.38991830027788, 10.394849888277495, 10.399813218663466, 10.404808291435794, 10.409835106594478, 10.41489366413952, 10.419983964070918, 10.42510600638867, 10.43025979109278, 10.435445318183248, 10.440662587660071, 10.445911599523251, 10.451192353772788, 10.45650485040868, 10.46184908943093, 10.467225070839534, 10.472632794634498, 10.478072260815816, 10.483543469383491, 10.489046420337523, 10.494581113677912, 10.500147549404655, 10.505745727517759, 10.511375648017216, 10.51703731090303, 10.522730716175202, 10.528455863833729, 10.534212753878613, 10.540001386309854, 10.54582176112745, 10.551673878331403, 10.557557737921712, 10.56347333989838, 10.569420684261402, 10.575399771010781, 10.581410600146517, 10.58745317166861, 10.593527485577058, 10.599633541871864, 10.605771340553027, 10.611940881620544, 10.618142165074419, 10.62437519091465, 10.63063995914124, 10.636936469754183, 10.643264722753484, 10.649624718139142, 10.656016455911155, 10.662439936069525, 10.668895158614253, 10.675382123545337, 10.681900830862777, 10.688451280566571, 10.695033472656725, 10.701647407133235, 10.7082930839961, 10.714970503245324, 10.721679664880902, 10.728420568902838, 10.73519321531113, 10.741997604105778, 10.748833735286782, 10.755701608854144, 10.762601224807863, 10.769532583147937, 10.77649568387437, 10.783490526987155, 10.790517112486299, 10.7975754403718, 10.804665510643657, 10.811787323301871, 10.81894087834644, 10.826126175777366, 10.833343215594649, 10.84059199779829, 10.847872522388286, 10.855184789364637, 10.862528798727347, 10.869904550476413, 10.877312044611834, 10.884751281133612, 10.892222260041748, 10.89972498133624, 10.907259445017088, 10.914825651084293, 10.922423599537854, 10.93005329037777, 10.937714723604046, 10.945407899216676, 10.953132817215662, 10.960889477601006, 10.968677880372706, 10.976498025530763, 10.984349913075176, 10.992233543005945, 11.000148915323072, 11.008096030026554, 11.016074887116392, 11.024085486592588, 11.03212782845514, 11.040201912704049, 11.048307739339315, 11.056445308360935, 11.064614619768914, 11.072815673563248, 11.08104846974394, 11.089313008310988, 11.097609289264392, 11.105937312604153, 11.114297078330269, 11.122688586442743, 11.131111836941573, 11.13956682982676, 11.148053565098303, 11.156572042756203, 11.165122262800459, 11.173704225231072, 11.18231793004804, 11.190963377251366, 11.199640566841047, 11.208349498817086, 11.217090173179482, 11.225862589928234, 11.234666749063342, 11.243502650584805, 11.252370294492627, 11.261269680786807, 11.27020080946734, 11.27916368053423, 11.288158293987477, 11.29718464982708, 11.306242748053041, 11.315332588665358, 11.324454171664032, 11.33360749704906, 11.342792564820448, 11.35200937497819, 11.361257927522288, 11.370538222452744, 11.379850259769556, 11.389194039472725, 11.398569561562251, 11.407976826038132, 11.417415832900371, 11.426886582148965, 11.436389073783916, 11.445923307805224, 11.45548928421289, 11.46508700300691, 11.474716464187287, 11.484377667754021, 11.49407061370711, 11.503795302046557, 11.513551732772362, 11.523339905884521, 11.533159821383036, 11.543011479267909, 11.552894879539139, 11.562810022196725, 11.572756907240667, 11.582735534670965, 11.59274590448762, 11.602788016690631, 11.61286187128, 11.622967468255725, 11.633104807617807, 11.643273889366244, 11.653474713501039, 11.66370728002219, 11.673971588929698, 11.684267640223561, 11.694595433903782, 11.704954969970359, 11.715346248423291, 11.725769269262582, 11.736224032488227, 11.746710538100231, 11.75722878609859, 11.767778776483306, 11.778360509254377, 11.788973984411806, 11.799619201955592, 11.810296161885734, 11.821004864202232, 11.831745308905086, 11.842517495994297, 11.853321425469865, 11.86415709733179, 11.87502451158007, 11.885923668214708, 11.896854567235703, 11.907817208643053, 11.91881159243676, 11.929837718616824, 11.940895587183244, 11.95198519813602, 11.963106551475153, 11.974259647200642, 11.985444485312488, 11.99666106581069, 12.007909388695248, 12.019189453966163, 12.030501261623437, 12.041844811667065, 12.053220104097049, 12.06462713891339, 12.07606591611609, 12.087536435705143, 12.099038697680554, 12.11057270204232, 12.122138448790446, 12.133735937924927, 12.145365169445764, 12.157026143352956, 12.168718859646507, 12.180443318326413, 12.192199519392677, 12.203987462845296, 12.215807148684272, 12.227658576909604, 12.239541747521292, 12.251456660519338, 12.26340331590374, 12.275381713674498, 12.287391853831613, 12.299433736375084, 12.311507361304912, 12.323612728621097, 12.335749838323638, 12.347918690412534, 12.360119284887789, 12.372351621749402, 12.384615700997369, 12.396911522631692, 12.409239086652372, 12.421598393059408, 12.433989441852802, 12.44641223303255, 12.458866766598657, 12.471353042551119, 12.483871060889937, 12.496420821615114, 12.509002324726644, 12.521615570224533, 12.534260558108778, 12.546937288379379, 12.559645761036338, 12.572385976079651, 12.585157933509322, 12.597961633325351, 12.610797075527735, 12.623664260116476, 12.636563187091573, 12.649493856453027, 12.662456268200836, 12.675450422335004, 12.688476318855527, 12.701533957762406, 12.714623339055642, 12.727744462735235, 12.740897328801184, 12.754081937253488, 12.767298288092151, 12.78054638131717, 12.793826216928544, 12.807137794926277, 12.820481115310365, 12.83385617808081, 12.84726298323761, 12.860701530780767, 12.87417182071028, 12.887673853026152, 12.90120762772838, 12.914773144816964, 12.928370404291904, 12.9419994061532, 12.955660150400854, 12.969352637034863, 12.98307686605523, 12.996832837461952, 13.01062055125503, 13.024440007434468, 13.03829120600026, 13.052174146952407, 13.066088830290912, 13.080035256015774, 13.094013424126992, 13.108023334624566, 13.122064987508498, 13.136138382778785, 13.15024352043543, 13.16438040047843, 13.178549022907788, 13.192749387723502, 13.206981494925573, 13.221245344514, 13.235540936488782, 13.249868270849923, 13.26422734759742, 13.27861816673127, 13.29304072825148, 13.307495032158046, 13.321981078450968, 13.336498867130246, 13.35104839819588, 13.365629671647874, 13.38024268748622, 13.394887445710927, 13.409563946321986, 13.424272189319403, 13.43901217470318, 13.453783902473308, 13.468587372629797, 13.48342258517264, 13.498289540101842, 13.513188237417399, 13.528118677119313, 13.543080859207581, 13.558074783682208, 13.57310045054319, 13.58815785979053, 13.603247011424225, 13.618367905444277, 13.633520541850686, 13.648704920643452, 13.663921041822572, 13.679168905388051, 13.694448511339885, 13.709759859678078, 13.725102950402626, 13.74047778351353, 13.755884359010789, 13.771322676894407, 13.786792737164381, 13.80229453982071, 13.8178280848634, 13.833393372292443, 13.848990402107843, 13.864619174309599, 13.880279688897712, 13.895971945872182, 13.911695945233008]}],\n",
       "                        {\"template\": {\"data\": {\"bar\": [{\"error_x\": {\"color\": \"#2a3f5f\"}, \"error_y\": {\"color\": \"#2a3f5f\"}, \"marker\": {\"line\": {\"color\": \"#E5ECF6\", \"width\": 0.5}}, \"type\": \"bar\"}], \"barpolar\": [{\"marker\": {\"line\": {\"color\": \"#E5ECF6\", \"width\": 0.5}}, \"type\": \"barpolar\"}], \"carpet\": [{\"aaxis\": {\"endlinecolor\": \"#2a3f5f\", \"gridcolor\": \"white\", \"linecolor\": \"white\", \"minorgridcolor\": \"white\", \"startlinecolor\": \"#2a3f5f\"}, \"baxis\": {\"endlinecolor\": \"#2a3f5f\", \"gridcolor\": \"white\", \"linecolor\": \"white\", \"minorgridcolor\": \"white\", \"startlinecolor\": \"#2a3f5f\"}, \"type\": \"carpet\"}], \"choropleth\": [{\"colorbar\": {\"outlinewidth\": 0, \"ticks\": \"\"}, \"type\": \"choropleth\"}], \"contour\": [{\"colorbar\": {\"outlinewidth\": 0, \"ticks\": \"\"}, \"colorscale\": [[0.0, \"#0d0887\"], [0.1111111111111111, \"#46039f\"], [0.2222222222222222, \"#7201a8\"], [0.3333333333333333, \"#9c179e\"], [0.4444444444444444, \"#bd3786\"], [0.5555555555555556, \"#d8576b\"], [0.6666666666666666, \"#ed7953\"], [0.7777777777777778, \"#fb9f3a\"], [0.8888888888888888, \"#fdca26\"], [1.0, \"#f0f921\"]], \"type\": \"contour\"}], \"contourcarpet\": [{\"colorbar\": {\"outlinewidth\": 0, \"ticks\": \"\"}, \"type\": \"contourcarpet\"}], \"heatmap\": [{\"colorbar\": {\"outlinewidth\": 0, \"ticks\": \"\"}, \"colorscale\": [[0.0, \"#0d0887\"], [0.1111111111111111, \"#46039f\"], [0.2222222222222222, \"#7201a8\"], [0.3333333333333333, \"#9c179e\"], [0.4444444444444444, \"#bd3786\"], [0.5555555555555556, \"#d8576b\"], [0.6666666666666666, \"#ed7953\"], [0.7777777777777778, \"#fb9f3a\"], [0.8888888888888888, \"#fdca26\"], [1.0, \"#f0f921\"]], \"type\": \"heatmap\"}], \"heatmapgl\": [{\"colorbar\": {\"outlinewidth\": 0, \"ticks\": \"\"}, \"colorscale\": [[0.0, \"#0d0887\"], [0.1111111111111111, \"#46039f\"], [0.2222222222222222, \"#7201a8\"], [0.3333333333333333, \"#9c179e\"], [0.4444444444444444, \"#bd3786\"], [0.5555555555555556, \"#d8576b\"], [0.6666666666666666, \"#ed7953\"], [0.7777777777777778, \"#fb9f3a\"], [0.8888888888888888, \"#fdca26\"], [1.0, \"#f0f921\"]], \"type\": \"heatmapgl\"}], \"histogram\": [{\"marker\": {\"colorbar\": {\"outlinewidth\": 0, \"ticks\": \"\"}}, \"type\": \"histogram\"}], \"histogram2d\": [{\"colorbar\": {\"outlinewidth\": 0, \"ticks\": \"\"}, \"colorscale\": [[0.0, \"#0d0887\"], [0.1111111111111111, \"#46039f\"], [0.2222222222222222, \"#7201a8\"], [0.3333333333333333, \"#9c179e\"], [0.4444444444444444, \"#bd3786\"], [0.5555555555555556, \"#d8576b\"], [0.6666666666666666, \"#ed7953\"], [0.7777777777777778, \"#fb9f3a\"], [0.8888888888888888, \"#fdca26\"], [1.0, \"#f0f921\"]], \"type\": \"histogram2d\"}], \"histogram2dcontour\": [{\"colorbar\": {\"outlinewidth\": 0, \"ticks\": \"\"}, \"colorscale\": [[0.0, \"#0d0887\"], [0.1111111111111111, \"#46039f\"], [0.2222222222222222, \"#7201a8\"], [0.3333333333333333, \"#9c179e\"], [0.4444444444444444, \"#bd3786\"], [0.5555555555555556, \"#d8576b\"], [0.6666666666666666, \"#ed7953\"], [0.7777777777777778, \"#fb9f3a\"], [0.8888888888888888, \"#fdca26\"], [1.0, \"#f0f921\"]], \"type\": \"histogram2dcontour\"}], \"mesh3d\": [{\"colorbar\": {\"outlinewidth\": 0, \"ticks\": \"\"}, \"type\": \"mesh3d\"}], \"parcoords\": [{\"line\": {\"colorbar\": {\"outlinewidth\": 0, \"ticks\": \"\"}}, \"type\": \"parcoords\"}], \"pie\": [{\"automargin\": true, \"type\": \"pie\"}], \"scatter\": [{\"marker\": {\"colorbar\": {\"outlinewidth\": 0, \"ticks\": \"\"}}, \"type\": \"scatter\"}], \"scatter3d\": [{\"line\": {\"colorbar\": {\"outlinewidth\": 0, \"ticks\": \"\"}}, \"marker\": {\"colorbar\": {\"outlinewidth\": 0, \"ticks\": \"\"}}, \"type\": \"scatter3d\"}], \"scattercarpet\": [{\"marker\": {\"colorbar\": {\"outlinewidth\": 0, \"ticks\": \"\"}}, \"type\": \"scattercarpet\"}], \"scattergeo\": [{\"marker\": {\"colorbar\": {\"outlinewidth\": 0, \"ticks\": \"\"}}, \"type\": \"scattergeo\"}], \"scattergl\": [{\"marker\": {\"colorbar\": {\"outlinewidth\": 0, \"ticks\": \"\"}}, \"type\": \"scattergl\"}], \"scattermapbox\": [{\"marker\": {\"colorbar\": {\"outlinewidth\": 0, \"ticks\": \"\"}}, \"type\": \"scattermapbox\"}], \"scatterpolar\": [{\"marker\": {\"colorbar\": {\"outlinewidth\": 0, \"ticks\": \"\"}}, \"type\": \"scatterpolar\"}], \"scatterpolargl\": [{\"marker\": {\"colorbar\": {\"outlinewidth\": 0, \"ticks\": \"\"}}, \"type\": \"scatterpolargl\"}], \"scatterternary\": [{\"marker\": {\"colorbar\": {\"outlinewidth\": 0, \"ticks\": \"\"}}, \"type\": \"scatterternary\"}], \"surface\": [{\"colorbar\": {\"outlinewidth\": 0, \"ticks\": \"\"}, \"colorscale\": [[0.0, \"#0d0887\"], [0.1111111111111111, \"#46039f\"], [0.2222222222222222, \"#7201a8\"], [0.3333333333333333, \"#9c179e\"], [0.4444444444444444, \"#bd3786\"], [0.5555555555555556, \"#d8576b\"], [0.6666666666666666, \"#ed7953\"], [0.7777777777777778, \"#fb9f3a\"], [0.8888888888888888, \"#fdca26\"], [1.0, \"#f0f921\"]], \"type\": \"surface\"}], \"table\": [{\"cells\": {\"fill\": {\"color\": \"#EBF0F8\"}, \"line\": {\"color\": \"white\"}}, \"header\": {\"fill\": {\"color\": \"#C8D4E3\"}, \"line\": {\"color\": \"white\"}}, \"type\": \"table\"}]}, \"layout\": {\"annotationdefaults\": {\"arrowcolor\": \"#2a3f5f\", \"arrowhead\": 0, \"arrowwidth\": 1}, \"coloraxis\": {\"colorbar\": {\"outlinewidth\": 0, \"ticks\": \"\"}}, \"colorscale\": {\"diverging\": [[0, \"#8e0152\"], [0.1, \"#c51b7d\"], [0.2, \"#de77ae\"], [0.3, \"#f1b6da\"], [0.4, \"#fde0ef\"], [0.5, \"#f7f7f7\"], [0.6, \"#e6f5d0\"], [0.7, \"#b8e186\"], [0.8, \"#7fbc41\"], [0.9, \"#4d9221\"], [1, \"#276419\"]], \"sequential\": [[0.0, \"#0d0887\"], [0.1111111111111111, \"#46039f\"], [0.2222222222222222, \"#7201a8\"], [0.3333333333333333, \"#9c179e\"], [0.4444444444444444, \"#bd3786\"], [0.5555555555555556, \"#d8576b\"], [0.6666666666666666, \"#ed7953\"], [0.7777777777777778, \"#fb9f3a\"], [0.8888888888888888, \"#fdca26\"], [1.0, \"#f0f921\"]], \"sequentialminus\": [[0.0, \"#0d0887\"], [0.1111111111111111, \"#46039f\"], [0.2222222222222222, \"#7201a8\"], [0.3333333333333333, \"#9c179e\"], [0.4444444444444444, \"#bd3786\"], [0.5555555555555556, \"#d8576b\"], [0.6666666666666666, \"#ed7953\"], [0.7777777777777778, \"#fb9f3a\"], [0.8888888888888888, \"#fdca26\"], [1.0, \"#f0f921\"]]}, \"colorway\": [\"#636efa\", \"#EF553B\", \"#00cc96\", \"#ab63fa\", \"#FFA15A\", \"#19d3f3\", \"#FF6692\", \"#B6E880\", \"#FF97FF\", \"#FECB52\"], \"font\": {\"color\": \"#2a3f5f\"}, \"geo\": {\"bgcolor\": \"white\", \"lakecolor\": \"white\", \"landcolor\": \"#E5ECF6\", \"showlakes\": true, \"showland\": true, \"subunitcolor\": \"white\"}, \"hoverlabel\": {\"align\": \"left\"}, \"hovermode\": \"closest\", \"mapbox\": {\"style\": \"light\"}, \"paper_bgcolor\": \"white\", \"plot_bgcolor\": \"#E5ECF6\", \"polar\": {\"angularaxis\": {\"gridcolor\": \"white\", \"linecolor\": \"white\", \"ticks\": \"\"}, \"bgcolor\": \"#E5ECF6\", \"radialaxis\": {\"gridcolor\": \"white\", \"linecolor\": \"white\", \"ticks\": \"\"}}, \"scene\": {\"xaxis\": {\"backgroundcolor\": \"#E5ECF6\", \"gridcolor\": \"white\", \"gridwidth\": 2, \"linecolor\": \"white\", \"showbackground\": true, \"ticks\": \"\", \"zerolinecolor\": \"white\"}, \"yaxis\": {\"backgroundcolor\": \"#E5ECF6\", \"gridcolor\": \"white\", \"gridwidth\": 2, \"linecolor\": \"white\", \"showbackground\": true, \"ticks\": \"\", \"zerolinecolor\": \"white\"}, \"zaxis\": {\"backgroundcolor\": \"#E5ECF6\", \"gridcolor\": \"white\", \"gridwidth\": 2, \"linecolor\": \"white\", \"showbackground\": true, \"ticks\": \"\", \"zerolinecolor\": \"white\"}}, \"shapedefaults\": {\"line\": {\"color\": \"#2a3f5f\"}}, \"ternary\": {\"aaxis\": {\"gridcolor\": \"white\", \"linecolor\": \"white\", \"ticks\": \"\"}, \"baxis\": {\"gridcolor\": \"white\", \"linecolor\": \"white\", \"ticks\": \"\"}, \"bgcolor\": \"#E5ECF6\", \"caxis\": {\"gridcolor\": \"white\", \"linecolor\": \"white\", \"ticks\": \"\"}}, \"title\": {\"x\": 0.05}, \"xaxis\": {\"automargin\": true, \"gridcolor\": \"white\", \"linecolor\": \"white\", \"ticks\": \"\", \"title\": {\"standoff\": 15}, \"zerolinecolor\": \"white\", \"zerolinewidth\": 2}, \"yaxis\": {\"automargin\": true, \"gridcolor\": \"white\", \"linecolor\": \"white\", \"ticks\": \"\", \"title\": {\"standoff\": 15}, \"zerolinecolor\": \"white\", \"zerolinewidth\": 2}}}, \"title\": {\"text\": \"Dats1126->1140: DCbias with fit. Balance ratio = -0.0330\"}, \"xaxis\": {\"title\": {\"text\": \"HQPC Bias /mV\"}}, \"yaxis\": {\"title\": {\"text\": \"Theta /mV (LP*200)\"}}},\n",
       "                        {\"responsive\": true}\n",
       "                    ).then(function(){\n",
       "                            \n",
       "var gd = document.getElementById('8aea1e33-10a9-4c63-be8c-f7bc61ab76f9');\n",
       "var x = new MutationObserver(function (mutations, observer) {{\n",
       "        var display = window.getComputedStyle(gd).display;\n",
       "        if (!display || display === 'none') {{\n",
       "            console.log([gd, 'removed!']);\n",
       "            Plotly.purge(gd);\n",
       "            observer.disconnect();\n",
       "        }}\n",
       "}});\n",
       "\n",
       "// Listen for the removal of the full notebook cells\n",
       "var notebookContainer = gd.closest('#notebook-container');\n",
       "if (notebookContainer) {{\n",
       "    x.observe(notebookContainer, {childList: true});\n",
       "}}\n",
       "\n",
       "// Listen for the clearing of the current output cell\n",
       "var outputEl = gd.closest('.output');\n",
       "if (outputEl) {{\n",
       "    x.observe(outputEl, {childList: true});\n",
       "}}\n",
       "\n",
       "                        })\n",
       "                };\n",
       "                });\n",
       "            </script>\n",
       "        </div>"
      ]
     },
     "metadata": {},
     "output_type": "display_data"
    }
   ],
   "source": [
    "idxs = CU.get_data_index(bias, [-200, 200])\n",
    "\n",
    "quad = lm.models.QuadraticModel()\n",
    "pars = quad.make_params()\n",
    "pars['b'].value = 0\n",
    "pars['b'].vary = True\n",
    "ftheta = thetas[idxs[0]:idxs[1]+1]\n",
    "fbias= bias[idxs[0]:idxs[1]+1]\n",
    "fit = quad.fit(ftheta, x=fbias, params=pars)\n",
    "\n",
    "fig = go.Figure()\n",
    "fig.add_trace(go.Scatter(x=bias, y=thetas, name='Data', mode='markers'))\n",
    "x = np.linspace(fbias[0], fbias[-1], 1000)\n",
    "fig.add_trace(go.Scatter(x=x, y=fit.eval(x=x), name='Fit', mode='lines'))\n",
    "fig.update_layout(xaxis_title='HQPC Bias /mV', yaxis_title='Theta /mV (LP*200)', title=f'Dats{dats[0].datnum}->{dats[-1].datnum}: DCbias with fit. Balance ratio = {dats[0].Logs.fds[\"TC/0.001\"]/dats[0].Logs.fds[\"R2T(10M)\"]:.4f}')\n",
    "if save_graphs: fig.write_html(export_path+f'Dats{dats[0].datnum}-{dats[-1].datnum}DCbiasWithFit.html')\n",
    "fig.show()"
   ]
  },
  {
   "cell_type": "code",
   "execution_count": 36,
   "metadata": {},
   "outputs": [
    {
     "name": "stdout",
     "output_type": "stream",
     "text": [
      "{'a': 9.910069505948479e-05, 'b': -0.0002894824140346562, 'c': 10.009498714214573}\n"
     ]
    }
   ],
   "source": [
    "print(fit.best_values)"
   ]
  },
  {
   "cell_type": "code",
   "execution_count": 23,
   "metadata": {},
   "outputs": [
    {
     "name": "stdout",
     "output_type": "stream",
     "text": [
      "Sunday, August 23, 2020 05:31:57\n",
      "771.91\n"
     ]
    },
    {
     "data": {
      "image/png": "[encoded data removed]",
      "text/plain": [
       "<Figure size 432x288 with 1 Axes>"
      ]
     },
     "metadata": {
      "needs_background": "light"
     },
     "output_type": "display_data"
    }
   ],
   "source": [
    "%matplotlib inline\n",
    "dat = get_dat(1332)\n",
    "fig, ax = plt.subplots(1,1)\n",
    "P.display_2d(dat.Data.x_array, dat.Data.y_array, dat.Data.i_sense, ax)\n",
    "print(dat.Logs.time_completed)\n",
    "print(dat.Logs.time_elapsed)"
   ]
  },
  {
   "cell_type": "code",
   "execution_count": null,
   "metadata": {},
   "outputs": [],
   "source": []
  }
 ],
 "metadata": {
  "kernelspec": {
   "display_name": "PyDatKernel",
   "language": "python",
   "name": "pydatkernel"
  },
  "language_info": {
   "codemirror_mode": {
    "name": "ipython",
    "version": 3
   },
   "file_extension": ".py",
   "mimetype": "text/x-python",
   "name": "python",
   "nbconvert_exporter": "python",
   "pygments_lexer": "ipython3",
   "version": "3.8.5"
  }
 },
 "nbformat": 4,
 "nbformat_minor": 4
}
