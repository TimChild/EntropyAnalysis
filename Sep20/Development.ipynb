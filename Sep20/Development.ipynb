{
 "cells": [
  {
   "cell_type": "code",
   "execution_count": 1,
   "metadata": {},
   "outputs": [],
   "source": [
    "import abc\n",
    "import h5py\n",
    "from dataclasses import dataclass\n",
    "import numpy as np\n",
    "import os\n",
    "import sys\n",
    "import logging\n",
    "logger = logging.getLogger(__name__)\n",
    "sys.path.insert(1, r'D:\\OneDrive\\UBC LAB\\GitHub\\Python\\PyDatAnalysis')\n",
    "import src.HDF_Util as HDU\n",
    "import src.CoreUtil as CU"
   ]
  },
  {
   "cell_type": "code",
   "execution_count": null,
   "metadata": {},
   "outputs": [],
   "source": [
    "## Possible fix for an overlapping 'efit_info' empty attr in EA_values group which prevents the true 'efit_info' from loading\n",
    "\n",
    "for dat in dats:\n",
    "    g = dat.Other.group\n",
    "    if (vg := g.get('EA_values', None)) is not None:\n",
    "        if 'efit_info' in vg.attrs.keys():\n",
    "            del vg.attrs['efit_info']\n",
    "            print(f'deleted efit_info in dat{dat.datnum}')\n",
    "            g.file.flush()"
   ]
  }
 ],
 "metadata": {
  "kernelspec": {
   "display_name": "PyDatKernel",
   "language": "python",
   "name": "pydatkernel"
  },
  "language_info": {
   "codemirror_mode": {
    "name": "ipython",
    "version": 3
   },
   "file_extension": ".py",
   "mimetype": "text/x-python",
   "name": "python",
   "nbconvert_exporter": "python",
   "pygments_lexer": "ipython3",
   "version": "3.8.5"
  }
 },
 "nbformat": 4,
 "nbformat_minor": 4
}
