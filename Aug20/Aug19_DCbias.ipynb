{
 "cells": [
  {
   "cell_type": "code",
   "execution_count": 1,
   "metadata": {},
   "outputs": [],
   "source": [
    "from JupyterImport import *\n",
    "from plotly.subplots import make_subplots\n",
    "import progressbar\n",
    "from sys import stdout\n",
    "root_logger.setLevel(logging.WARNING)"
   ]
  },
  {
   "cell_type": "code",
   "execution_count": 7,
   "metadata": {},
   "outputs": [
    {
     "name": "stderr",
     "output_type": "stream",
     "text": [
      "N/A% (0 of 15) |                         | Elapsed Time: 0:00:00 ETA:  --:--:--D:\\OneDrive\\UBC LAB\\GitHub\\Python\\PyDatAnalysis\\src\\DatObject\\Attributes\\DatAttribute.py:168: FutureWarning:\n",
      "\n",
      "elementwise comparison failed; returning scalar instead, but in the future will perform elementwise comparison\n",
      "\n",
      "100% (15 of 15) |########################| Elapsed Time: 0:00:27 Time:  0:00:27\n"
     ]
    }
   ],
   "source": [
    "# dats = get_dats(range(540, 704+1), progress=True)  # 10x higher Channel bias than I should have applied\n",
    "# dats = get_dats(range(705, 899+1), progress=True)  # Correct channel bias with HQPC at 1/2 plateau\n",
    "dats = get_dats(range(965, 979+1), progress=True)  # With HQPC in first Plateau"
   ]
  },
  {
   "cell_type": "code",
   "execution_count": 10,
   "metadata": {},
   "outputs": [
    {
     "name": "stderr",
     "output_type": "stream",
     "text": [
      "N/A% (0 of 165) |                        | Elapsed Time: 0:03:35 ETA:  --:--:--"
     ]
    }
   ],
   "source": [
    "for dat in dats[14::15]:\n",
    "#     print(abs(round(dat.Logs.fds['TC/0.001']/dat.Logs.fds['R2T(10M)']*-3, 1)))\n",
    "    print(dat.Logs.comments)"
   ]
  },
  {
   "cell_type": "code",
   "execution_count": 8,
   "metadata": {},
   "outputs": [
    {
     "data": {
      "application/vnd.plotly.v1+json": {
       "config": {
        "plotlyServerURL": "https://plot.ly"
       },
       "data": [
        {
         "mode": "lines+markers",
         "type": "scatter",
         "visible": true,
         "x": [
          99.979,
          74.98400000000001,
          49.989,
          39.979,
          30,
          19.990000000000002,
          9.979600000000001,
          0,
          -9.9793,
          -19.988999999999997,
          -29.999000000000002,
          -39.977999999999994,
          -49.988,
          -74.982,
          -99.976
         ],
         "y": [
          78.20157997856212,
          67.2722264407139,
          56.10695114144249,
          52.08745691495109,
          49.43722297930108,
          45.18474832554991,
          42.84823247840744,
          41.96083537356228,
          43.6385340131798,
          46.1454319072541,
          49.76806169116204,
          52.87208067834114,
          57.29707618998149,
          69.02774489042652,
          79.29644119269632
         ]
        }
       ],
       "layout": {
        "autosize": true,
        "sliders": [
         {
          "active": 0,
          "currentvalue": {
           "prefix": ""
          },
          "pad": {
           "t": 50
          },
          "steps": [
           {
            "args": [
             {
              "visible": [
               true
              ]
             },
             {
              "title": "DCbias: Theta Vs HQPC bias<br>Dats965->979: Channel bias ratio = 0.0"
             },
             {
              "mode": "lines+markers"
             }
            ],
            "label": "0.0",
            "method": "update"
           }
          ]
         }
        ],
        "template": {
         "data": {
          "bar": [
           {
            "error_x": {
             "color": "#2a3f5f"
            },
            "error_y": {
             "color": "#2a3f5f"
            },
            "marker": {
             "line": {
              "color": "#E5ECF6",
              "width": 0.5
             }
            },
            "type": "bar"
           }
          ],
          "barpolar": [
           {
            "marker": {
             "line": {
              "color": "#E5ECF6",
              "width": 0.5
             }
            },
            "type": "barpolar"
           }
          ],
          "carpet": [
           {
            "aaxis": {
             "endlinecolor": "#2a3f5f",
             "gridcolor": "white",
             "linecolor": "white",
             "minorgridcolor": "white",
             "startlinecolor": "#2a3f5f"
            },
            "baxis": {
             "endlinecolor": "#2a3f5f",
             "gridcolor": "white",
             "linecolor": "white",
             "minorgridcolor": "white",
             "startlinecolor": "#2a3f5f"
            },
            "type": "carpet"
           }
          ],
          "choropleth": [
           {
            "colorbar": {
             "outlinewidth": 0,
             "ticks": ""
            },
            "type": "choropleth"
           }
          ],
          "contour": [
           {
            "colorbar": {
             "outlinewidth": 0,
             "ticks": ""
            },
            "colorscale": [
             [
              0,
              "#0d0887"
             ],
             [
              0.1111111111111111,
              "#46039f"
             ],
             [
              0.2222222222222222,
              "#7201a8"
             ],
             [
              0.3333333333333333,
              "#9c179e"
             ],
             [
              0.4444444444444444,
              "#bd3786"
             ],
             [
              0.5555555555555556,
              "#d8576b"
             ],
             [
              0.6666666666666666,
              "#ed7953"
             ],
             [
              0.7777777777777778,
              "#fb9f3a"
             ],
             [
              0.8888888888888888,
              "#fdca26"
             ],
             [
              1,
              "#f0f921"
             ]
            ],
            "type": "contour"
           }
          ],
          "contourcarpet": [
           {
            "colorbar": {
             "outlinewidth": 0,
             "ticks": ""
            },
            "type": "contourcarpet"
           }
          ],
          "heatmap": [
           {
            "colorbar": {
             "outlinewidth": 0,
             "ticks": ""
            },
            "colorscale": [
             [
              0,
              "#0d0887"
             ],
             [
              0.1111111111111111,
              "#46039f"
             ],
             [
              0.2222222222222222,
              "#7201a8"
             ],
             [
              0.3333333333333333,
              "#9c179e"
             ],
             [
              0.4444444444444444,
              "#bd3786"
             ],
             [
              0.5555555555555556,
              "#d8576b"
             ],
             [
              0.6666666666666666,
              "#ed7953"
             ],
             [
              0.7777777777777778,
              "#fb9f3a"
             ],
             [
              0.8888888888888888,
              "#fdca26"
             ],
             [
              1,
              "#f0f921"
             ]
            ],
            "type": "heatmap"
           }
          ],
          "heatmapgl": [
           {
            "colorbar": {
             "outlinewidth": 0,
             "ticks": ""
            },
            "colorscale": [
             [
              0,
              "#0d0887"
             ],
             [
              0.1111111111111111,
              "#46039f"
             ],
             [
              0.2222222222222222,
              "#7201a8"
             ],
             [
              0.3333333333333333,
              "#9c179e"
             ],
             [
              0.4444444444444444,
              "#bd3786"
             ],
             [
              0.5555555555555556,
              "#d8576b"
             ],
             [
              0.6666666666666666,
              "#ed7953"
             ],
             [
              0.7777777777777778,
              "#fb9f3a"
             ],
             [
              0.8888888888888888,
              "#fdca26"
             ],
             [
              1,
              "#f0f921"
             ]
            ],
            "type": "heatmapgl"
           }
          ],
          "histogram": [
           {
            "marker": {
             "colorbar": {
              "outlinewidth": 0,
              "ticks": ""
             }
            },
            "type": "histogram"
           }
          ],
          "histogram2d": [
           {
            "colorbar": {
             "outlinewidth": 0,
             "ticks": ""
            },
            "colorscale": [
             [
              0,
              "#0d0887"
             ],
             [
              0.1111111111111111,
              "#46039f"
             ],
             [
              0.2222222222222222,
              "#7201a8"
             ],
             [
              0.3333333333333333,
              "#9c179e"
             ],
             [
              0.4444444444444444,
              "#bd3786"
             ],
             [
              0.5555555555555556,
              "#d8576b"
             ],
             [
              0.6666666666666666,
              "#ed7953"
             ],
             [
              0.7777777777777778,
              "#fb9f3a"
             ],
             [
              0.8888888888888888,
              "#fdca26"
             ],
             [
              1,
              "#f0f921"
             ]
            ],
            "type": "histogram2d"
           }
          ],
          "histogram2dcontour": [
           {
            "colorbar": {
             "outlinewidth": 0,
             "ticks": ""
            },
            "colorscale": [
             [
              0,
              "#0d0887"
             ],
             [
              0.1111111111111111,
              "#46039f"
             ],
             [
              0.2222222222222222,
              "#7201a8"
             ],
             [
              0.3333333333333333,
              "#9c179e"
             ],
             [
              0.4444444444444444,
              "#bd3786"
             ],
             [
              0.5555555555555556,
              "#d8576b"
             ],
             [
              0.6666666666666666,
              "#ed7953"
             ],
             [
              0.7777777777777778,
              "#fb9f3a"
             ],
             [
              0.8888888888888888,
              "#fdca26"
             ],
             [
              1,
              "#f0f921"
             ]
            ],
            "type": "histogram2dcontour"
           }
          ],
          "mesh3d": [
           {
            "colorbar": {
             "outlinewidth": 0,
             "ticks": ""
            },
            "type": "mesh3d"
           }
          ],
          "parcoords": [
           {
            "line": {
             "colorbar": {
              "outlinewidth": 0,
              "ticks": ""
             }
            },
            "type": "parcoords"
           }
          ],
          "pie": [
           {
            "automargin": true,
            "type": "pie"
           }
          ],
          "scatter": [
           {
            "marker": {
             "colorbar": {
              "outlinewidth": 0,
              "ticks": ""
             }
            },
            "type": "scatter"
           }
          ],
          "scatter3d": [
           {
            "line": {
             "colorbar": {
              "outlinewidth": 0,
              "ticks": ""
             }
            },
            "marker": {
             "colorbar": {
              "outlinewidth": 0,
              "ticks": ""
             }
            },
            "type": "scatter3d"
           }
          ],
          "scattercarpet": [
           {
            "marker": {
             "colorbar": {
              "outlinewidth": 0,
              "ticks": ""
             }
            },
            "type": "scattercarpet"
           }
          ],
          "scattergeo": [
           {
            "marker": {
             "colorbar": {
              "outlinewidth": 0,
              "ticks": ""
             }
            },
            "type": "scattergeo"
           }
          ],
          "scattergl": [
           {
            "marker": {
             "colorbar": {
              "outlinewidth": 0,
              "ticks": ""
             }
            },
            "type": "scattergl"
           }
          ],
          "scattermapbox": [
           {
            "marker": {
             "colorbar": {
              "outlinewidth": 0,
              "ticks": ""
             }
            },
            "type": "scattermapbox"
           }
          ],
          "scatterpolar": [
           {
            "marker": {
             "colorbar": {
              "outlinewidth": 0,
              "ticks": ""
             }
            },
            "type": "scatterpolar"
           }
          ],
          "scatterpolargl": [
           {
            "marker": {
             "colorbar": {
              "outlinewidth": 0,
              "ticks": ""
             }
            },
            "type": "scatterpolargl"
           }
          ],
          "scatterternary": [
           {
            "marker": {
             "colorbar": {
              "outlinewidth": 0,
              "ticks": ""
             }
            },
            "type": "scatterternary"
           }
          ],
          "surface": [
           {
            "colorbar": {
             "outlinewidth": 0,
             "ticks": ""
            },
            "colorscale": [
             [
              0,
              "#0d0887"
             ],
             [
              0.1111111111111111,
              "#46039f"
             ],
             [
              0.2222222222222222,
              "#7201a8"
             ],
             [
              0.3333333333333333,
              "#9c179e"
             ],
             [
              0.4444444444444444,
              "#bd3786"
             ],
             [
              0.5555555555555556,
              "#d8576b"
             ],
             [
              0.6666666666666666,
              "#ed7953"
             ],
             [
              0.7777777777777778,
              "#fb9f3a"
             ],
             [
              0.8888888888888888,
              "#fdca26"
             ],
             [
              1,
              "#f0f921"
             ]
            ],
            "type": "surface"
           }
          ],
          "table": [
           {
            "cells": {
             "fill": {
              "color": "#EBF0F8"
             },
             "line": {
              "color": "white"
             }
            },
            "header": {
             "fill": {
              "color": "#C8D4E3"
             },
             "line": {
              "color": "white"
             }
            },
            "type": "table"
           }
          ]
         },
         "layout": {
          "annotationdefaults": {
           "arrowcolor": "#2a3f5f",
           "arrowhead": 0,
           "arrowwidth": 1
          },
          "coloraxis": {
           "colorbar": {
            "outlinewidth": 0,
            "ticks": ""
           }
          },
          "colorscale": {
           "diverging": [
            [
             0,
             "#8e0152"
            ],
            [
             0.1,
             "#c51b7d"
            ],
            [
             0.2,
             "#de77ae"
            ],
            [
             0.3,
             "#f1b6da"
            ],
            [
             0.4,
             "#fde0ef"
            ],
            [
             0.5,
             "#f7f7f7"
            ],
            [
             0.6,
             "#e6f5d0"
            ],
            [
             0.7,
             "#b8e186"
            ],
            [
             0.8,
             "#7fbc41"
            ],
            [
             0.9,
             "#4d9221"
            ],
            [
             1,
             "#276419"
            ]
           ],
           "sequential": [
            [
             0,
             "#0d0887"
            ],
            [
             0.1111111111111111,
             "#46039f"
            ],
            [
             0.2222222222222222,
             "#7201a8"
            ],
            [
             0.3333333333333333,
             "#9c179e"
            ],
            [
             0.4444444444444444,
             "#bd3786"
            ],
            [
             0.5555555555555556,
             "#d8576b"
            ],
            [
             0.6666666666666666,
             "#ed7953"
            ],
            [
             0.7777777777777778,
             "#fb9f3a"
            ],
            [
             0.8888888888888888,
             "#fdca26"
            ],
            [
             1,
             "#f0f921"
            ]
           ],
           "sequentialminus": [
            [
             0,
             "#0d0887"
            ],
            [
             0.1111111111111111,
             "#46039f"
            ],
            [
             0.2222222222222222,
             "#7201a8"
            ],
            [
             0.3333333333333333,
             "#9c179e"
            ],
            [
             0.4444444444444444,
             "#bd3786"
            ],
            [
             0.5555555555555556,
             "#d8576b"
            ],
            [
             0.6666666666666666,
             "#ed7953"
            ],
            [
             0.7777777777777778,
             "#fb9f3a"
            ],
            [
             0.8888888888888888,
             "#fdca26"
            ],
            [
             1,
             "#f0f921"
            ]
           ]
          },
          "colorway": [
           "#636efa",
           "#EF553B",
           "#00cc96",
           "#ab63fa",
           "#FFA15A",
           "#19d3f3",
           "#FF6692",
           "#B6E880",
           "#FF97FF",
           "#FECB52"
          ],
          "font": {
           "color": "#2a3f5f"
          },
          "geo": {
           "bgcolor": "white",
           "lakecolor": "white",
           "landcolor": "#E5ECF6",
           "showlakes": true,
           "showland": true,
           "subunitcolor": "white"
          },
          "hoverlabel": {
           "align": "left"
          },
          "hovermode": "closest",
          "mapbox": {
           "style": "light"
          },
          "paper_bgcolor": "white",
          "plot_bgcolor": "#E5ECF6",
          "polar": {
           "angularaxis": {
            "gridcolor": "white",
            "linecolor": "white",
            "ticks": ""
           },
           "bgcolor": "#E5ECF6",
           "radialaxis": {
            "gridcolor": "white",
            "linecolor": "white",
            "ticks": ""
           }
          },
          "scene": {
           "xaxis": {
            "backgroundcolor": "#E5ECF6",
            "gridcolor": "white",
            "gridwidth": 2,
            "linecolor": "white",
            "showbackground": true,
            "ticks": "",
            "zerolinecolor": "white"
           },
           "yaxis": {
            "backgroundcolor": "#E5ECF6",
            "gridcolor": "white",
            "gridwidth": 2,
            "linecolor": "white",
            "showbackground": true,
            "ticks": "",
            "zerolinecolor": "white"
           },
           "zaxis": {
            "backgroundcolor": "#E5ECF6",
            "gridcolor": "white",
            "gridwidth": 2,
            "linecolor": "white",
            "showbackground": true,
            "ticks": "",
            "zerolinecolor": "white"
           }
          },
          "shapedefaults": {
           "line": {
            "color": "#2a3f5f"
           }
          },
          "ternary": {
           "aaxis": {
            "gridcolor": "white",
            "linecolor": "white",
            "ticks": ""
           },
           "baxis": {
            "gridcolor": "white",
            "linecolor": "white",
            "ticks": ""
           },
           "bgcolor": "#E5ECF6",
           "caxis": {
            "gridcolor": "white",
            "linecolor": "white",
            "ticks": ""
           }
          },
          "title": {
           "x": 0.05
          },
          "xaxis": {
           "automargin": true,
           "gridcolor": "white",
           "linecolor": "white",
           "ticks": "",
           "title": {
            "standoff": 15
           },
           "zerolinecolor": "white",
           "zerolinewidth": 2
          },
          "yaxis": {
           "automargin": true,
           "gridcolor": "white",
           "linecolor": "white",
           "ticks": "",
           "title": {
            "standoff": 15
           },
           "zerolinecolor": "white",
           "zerolinewidth": 2
          }
         }
        },
        "title": {
         "text": "DCbias: Theta Vs HQPC bias<br>Dats965->979: Channel bias ratio = 0.0"
        },
        "xaxis": {
         "autorange": true,
         "range": [
          -111.74836655513066,
          111.75136655513066
         ],
         "title": {
          "text": "HQPC bias/nA"
         },
         "type": "linear"
        },
        "yaxis": {
         "autorange": true,
         "range": [
          39.22606169891234,
          82.03121486734626
         ],
         "title": {
          "text": "Theta /mV (LP*200)"
         },
         "type": "linear"
        }
       }
      },
      "image/png": "[encoded data removed]",
      "text/html": [
       "<div>\n",
       "        \n",
       "        \n",
       "            <div id=\"05c203b1-22d5-4b75-a9f4-7741289e8d71\" class=\"plotly-graph-div\" style=\"height:525px; width:100%;\"></div>\n",
       "            <script type=\"text/javascript\">\n",
       "                require([\"plotly\"], function(Plotly) {\n",
       "                    window.PLOTLYENV=window.PLOTLYENV || {};\n",
       "                    \n",
       "                if (document.getElementById(\"05c203b1-22d5-4b75-a9f4-7741289e8d71\")) {\n",
       "                    Plotly.newPlot(\n",
       "                        '05c203b1-22d5-4b75-a9f4-7741289e8d71',\n",
       "                        [{\"mode\": \"lines+markers\", \"type\": \"scatter\", \"visible\": true, \"x\": [99.979, 74.98400000000001, 49.989, 39.979, 30.0, 19.990000000000002, 9.979600000000001, 0.0, -9.9793, -19.988999999999997, -29.999000000000002, -39.977999999999994, -49.988, -74.982, -99.976], \"y\": [78.20157997856212, 67.2722264407139, 56.10695114144249, 52.08745691495109, 49.43722297930108, 45.18474832554991, 42.84823247840744, 41.96083537356228, 43.6385340131798, 46.1454319072541, 49.76806169116204, 52.87208067834114, 57.29707618998149, 69.02774489042652, 79.29644119269632]}],\n",
       "                        {\"sliders\": [{\"active\": 0, \"currentvalue\": {\"prefix\": \"\"}, \"pad\": {\"t\": 50}, \"steps\": [{\"args\": [{\"visible\": [true]}, {\"title\": \"DCbias: Theta Vs HQPC bias<br>Dats965->979: Channel bias ratio = 0.0\"}, {\"mode\": \"lines+markers\"}], \"label\": \"0.0\", \"method\": \"update\"}]}], \"template\": {\"data\": {\"bar\": [{\"error_x\": {\"color\": \"#2a3f5f\"}, \"error_y\": {\"color\": \"#2a3f5f\"}, \"marker\": {\"line\": {\"color\": \"#E5ECF6\", \"width\": 0.5}}, \"type\": \"bar\"}], \"barpolar\": [{\"marker\": {\"line\": {\"color\": \"#E5ECF6\", \"width\": 0.5}}, \"type\": \"barpolar\"}], \"carpet\": [{\"aaxis\": {\"endlinecolor\": \"#2a3f5f\", \"gridcolor\": \"white\", \"linecolor\": \"white\", \"minorgridcolor\": \"white\", \"startlinecolor\": \"#2a3f5f\"}, \"baxis\": {\"endlinecolor\": \"#2a3f5f\", \"gridcolor\": \"white\", \"linecolor\": \"white\", \"minorgridcolor\": \"white\", \"startlinecolor\": \"#2a3f5f\"}, \"type\": \"carpet\"}], \"choropleth\": [{\"colorbar\": {\"outlinewidth\": 0, \"ticks\": \"\"}, \"type\": \"choropleth\"}], \"contour\": [{\"colorbar\": {\"outlinewidth\": 0, \"ticks\": \"\"}, \"colorscale\": [[0.0, \"#0d0887\"], [0.1111111111111111, \"#46039f\"], [0.2222222222222222, \"#7201a8\"], [0.3333333333333333, \"#9c179e\"], [0.4444444444444444, \"#bd3786\"], [0.5555555555555556, \"#d8576b\"], [0.6666666666666666, \"#ed7953\"], [0.7777777777777778, \"#fb9f3a\"], [0.8888888888888888, \"#fdca26\"], [1.0, \"#f0f921\"]], \"type\": \"contour\"}], \"contourcarpet\": [{\"colorbar\": {\"outlinewidth\": 0, \"ticks\": \"\"}, \"type\": \"contourcarpet\"}], \"heatmap\": [{\"colorbar\": {\"outlinewidth\": 0, \"ticks\": \"\"}, \"colorscale\": [[0.0, \"#0d0887\"], [0.1111111111111111, \"#46039f\"], [0.2222222222222222, \"#7201a8\"], [0.3333333333333333, \"#9c179e\"], [0.4444444444444444, \"#bd3786\"], [0.5555555555555556, \"#d8576b\"], [0.6666666666666666, \"#ed7953\"], [0.7777777777777778, \"#fb9f3a\"], [0.8888888888888888, \"#fdca26\"], [1.0, \"#f0f921\"]], \"type\": \"heatmap\"}], \"heatmapgl\": [{\"colorbar\": {\"outlinewidth\": 0, \"ticks\": \"\"}, \"colorscale\": [[0.0, \"#0d0887\"], [0.1111111111111111, \"#46039f\"], [0.2222222222222222, \"#7201a8\"], [0.3333333333333333, \"#9c179e\"], [0.4444444444444444, \"#bd3786\"], [0.5555555555555556, \"#d8576b\"], [0.6666666666666666, \"#ed7953\"], [0.7777777777777778, \"#fb9f3a\"], [0.8888888888888888, \"#fdca26\"], [1.0, \"#f0f921\"]], \"type\": \"heatmapgl\"}], \"histogram\": [{\"marker\": {\"colorbar\": {\"outlinewidth\": 0, \"ticks\": \"\"}}, \"type\": \"histogram\"}], \"histogram2d\": [{\"colorbar\": {\"outlinewidth\": 0, \"ticks\": \"\"}, \"colorscale\": [[0.0, \"#0d0887\"], [0.1111111111111111, \"#46039f\"], [0.2222222222222222, \"#7201a8\"], [0.3333333333333333, \"#9c179e\"], [0.4444444444444444, \"#bd3786\"], [0.5555555555555556, \"#d8576b\"], [0.6666666666666666, \"#ed7953\"], [0.7777777777777778, \"#fb9f3a\"], [0.8888888888888888, \"#fdca26\"], [1.0, \"#f0f921\"]], \"type\": \"histogram2d\"}], \"histogram2dcontour\": [{\"colorbar\": {\"outlinewidth\": 0, \"ticks\": \"\"}, \"colorscale\": [[0.0, \"#0d0887\"], [0.1111111111111111, \"#46039f\"], [0.2222222222222222, \"#7201a8\"], [0.3333333333333333, \"#9c179e\"], [0.4444444444444444, \"#bd3786\"], [0.5555555555555556, \"#d8576b\"], [0.6666666666666666, \"#ed7953\"], [0.7777777777777778, \"#fb9f3a\"], [0.8888888888888888, \"#fdca26\"], [1.0, \"#f0f921\"]], \"type\": \"histogram2dcontour\"}], \"mesh3d\": [{\"colorbar\": {\"outlinewidth\": 0, \"ticks\": \"\"}, \"type\": \"mesh3d\"}], \"parcoords\": [{\"line\": {\"colorbar\": {\"outlinewidth\": 0, \"ticks\": \"\"}}, \"type\": \"parcoords\"}], \"pie\": [{\"automargin\": true, \"type\": \"pie\"}], \"scatter\": [{\"marker\": {\"colorbar\": {\"outlinewidth\": 0, \"ticks\": \"\"}}, \"type\": \"scatter\"}], \"scatter3d\": [{\"line\": {\"colorbar\": {\"outlinewidth\": 0, \"ticks\": \"\"}}, \"marker\": {\"colorbar\": {\"outlinewidth\": 0, \"ticks\": \"\"}}, \"type\": \"scatter3d\"}], \"scattercarpet\": [{\"marker\": {\"colorbar\": {\"outlinewidth\": 0, \"ticks\": \"\"}}, \"type\": \"scattercarpet\"}], \"scattergeo\": [{\"marker\": {\"colorbar\": {\"outlinewidth\": 0, \"ticks\": \"\"}}, \"type\": \"scattergeo\"}], \"scattergl\": [{\"marker\": {\"colorbar\": {\"outlinewidth\": 0, \"ticks\": \"\"}}, \"type\": \"scattergl\"}], \"scattermapbox\": [{\"marker\": {\"colorbar\": {\"outlinewidth\": 0, \"ticks\": \"\"}}, \"type\": \"scattermapbox\"}], \"scatterpolar\": [{\"marker\": {\"colorbar\": {\"outlinewidth\": 0, \"ticks\": \"\"}}, \"type\": \"scatterpolar\"}], \"scatterpolargl\": [{\"marker\": {\"colorbar\": {\"outlinewidth\": 0, \"ticks\": \"\"}}, \"type\": \"scatterpolargl\"}], \"scatterternary\": [{\"marker\": {\"colorbar\": {\"outlinewidth\": 0, \"ticks\": \"\"}}, \"type\": \"scatterternary\"}], \"surface\": [{\"colorbar\": {\"outlinewidth\": 0, \"ticks\": \"\"}, \"colorscale\": [[0.0, \"#0d0887\"], [0.1111111111111111, \"#46039f\"], [0.2222222222222222, \"#7201a8\"], [0.3333333333333333, \"#9c179e\"], [0.4444444444444444, \"#bd3786\"], [0.5555555555555556, \"#d8576b\"], [0.6666666666666666, \"#ed7953\"], [0.7777777777777778, \"#fb9f3a\"], [0.8888888888888888, \"#fdca26\"], [1.0, \"#f0f921\"]], \"type\": \"surface\"}], \"table\": [{\"cells\": {\"fill\": {\"color\": \"#EBF0F8\"}, \"line\": {\"color\": \"white\"}}, \"header\": {\"fill\": {\"color\": \"#C8D4E3\"}, \"line\": {\"color\": \"white\"}}, \"type\": \"table\"}]}, \"layout\": {\"annotationdefaults\": {\"arrowcolor\": \"#2a3f5f\", \"arrowhead\": 0, \"arrowwidth\": 1}, \"coloraxis\": {\"colorbar\": {\"outlinewidth\": 0, \"ticks\": \"\"}}, \"colorscale\": {\"diverging\": [[0, \"#8e0152\"], [0.1, \"#c51b7d\"], [0.2, \"#de77ae\"], [0.3, \"#f1b6da\"], [0.4, \"#fde0ef\"], [0.5, \"#f7f7f7\"], [0.6, \"#e6f5d0\"], [0.7, \"#b8e186\"], [0.8, \"#7fbc41\"], [0.9, \"#4d9221\"], [1, \"#276419\"]], \"sequential\": [[0.0, \"#0d0887\"], [0.1111111111111111, \"#46039f\"], [0.2222222222222222, \"#7201a8\"], [0.3333333333333333, \"#9c179e\"], [0.4444444444444444, \"#bd3786\"], [0.5555555555555556, \"#d8576b\"], [0.6666666666666666, \"#ed7953\"], [0.7777777777777778, \"#fb9f3a\"], [0.8888888888888888, \"#fdca26\"], [1.0, \"#f0f921\"]], \"sequentialminus\": [[0.0, \"#0d0887\"], [0.1111111111111111, \"#46039f\"], [0.2222222222222222, \"#7201a8\"], [0.3333333333333333, \"#9c179e\"], [0.4444444444444444, \"#bd3786\"], [0.5555555555555556, \"#d8576b\"], [0.6666666666666666, \"#ed7953\"], [0.7777777777777778, \"#fb9f3a\"], [0.8888888888888888, \"#fdca26\"], [1.0, \"#f0f921\"]]}, \"colorway\": [\"#636efa\", \"#EF553B\", \"#00cc96\", \"#ab63fa\", \"#FFA15A\", \"#19d3f3\", \"#FF6692\", \"#B6E880\", \"#FF97FF\", \"#FECB52\"], \"font\": {\"color\": \"#2a3f5f\"}, \"geo\": {\"bgcolor\": \"white\", \"lakecolor\": \"white\", \"landcolor\": \"#E5ECF6\", \"showlakes\": true, \"showland\": true, \"subunitcolor\": \"white\"}, \"hoverlabel\": {\"align\": \"left\"}, \"hovermode\": \"closest\", \"mapbox\": {\"style\": \"light\"}, \"paper_bgcolor\": \"white\", \"plot_bgcolor\": \"#E5ECF6\", \"polar\": {\"angularaxis\": {\"gridcolor\": \"white\", \"linecolor\": \"white\", \"ticks\": \"\"}, \"bgcolor\": \"#E5ECF6\", \"radialaxis\": {\"gridcolor\": \"white\", \"linecolor\": \"white\", \"ticks\": \"\"}}, \"scene\": {\"xaxis\": {\"backgroundcolor\": \"#E5ECF6\", \"gridcolor\": \"white\", \"gridwidth\": 2, \"linecolor\": \"white\", \"showbackground\": true, \"ticks\": \"\", \"zerolinecolor\": \"white\"}, \"yaxis\": {\"backgroundcolor\": \"#E5ECF6\", \"gridcolor\": \"white\", \"gridwidth\": 2, \"linecolor\": \"white\", \"showbackground\": true, \"ticks\": \"\", \"zerolinecolor\": \"white\"}, \"zaxis\": {\"backgroundcolor\": \"#E5ECF6\", \"gridcolor\": \"white\", \"gridwidth\": 2, \"linecolor\": \"white\", \"showbackground\": true, \"ticks\": \"\", \"zerolinecolor\": \"white\"}}, \"shapedefaults\": {\"line\": {\"color\": \"#2a3f5f\"}}, \"ternary\": {\"aaxis\": {\"gridcolor\": \"white\", \"linecolor\": \"white\", \"ticks\": \"\"}, \"baxis\": {\"gridcolor\": \"white\", \"linecolor\": \"white\", \"ticks\": \"\"}, \"bgcolor\": \"#E5ECF6\", \"caxis\": {\"gridcolor\": \"white\", \"linecolor\": \"white\", \"ticks\": \"\"}}, \"title\": {\"x\": 0.05}, \"xaxis\": {\"automargin\": true, \"gridcolor\": \"white\", \"linecolor\": \"white\", \"ticks\": \"\", \"title\": {\"standoff\": 15}, \"zerolinecolor\": \"white\", \"zerolinewidth\": 2}, \"yaxis\": {\"automargin\": true, \"gridcolor\": \"white\", \"linecolor\": \"white\", \"ticks\": \"\", \"title\": {\"standoff\": 15}, \"zerolinecolor\": \"white\", \"zerolinewidth\": 2}}}, \"title\": {\"text\": \"DCbias: Theta Vs HQPC bias<br>Dats965->979: Channel bias ratio = 0.0\"}, \"xaxis\": {\"title\": {\"text\": \"HQPC bias/nA\"}}, \"yaxis\": {\"title\": {\"text\": \"Theta /mV (LP*200)\"}}},\n",
       "                        {\"responsive\": true}\n",
       "                    ).then(function(){\n",
       "                            \n",
       "var gd = document.getElementById('05c203b1-22d5-4b75-a9f4-7741289e8d71');\n",
       "var x = new MutationObserver(function (mutations, observer) {{\n",
       "        var display = window.getComputedStyle(gd).display;\n",
       "        if (!display || display === 'none') {{\n",
       "            console.log([gd, 'removed!']);\n",
       "            Plotly.purge(gd);\n",
       "            observer.disconnect();\n",
       "        }}\n",
       "}});\n",
       "\n",
       "// Listen for the removal of the full notebook cells\n",
       "var notebookContainer = gd.closest('#notebook-container');\n",
       "if (notebookContainer) {{\n",
       "    x.observe(notebookContainer, {childList: true});\n",
       "}}\n",
       "\n",
       "// Listen for the clearing of the current output cell\n",
       "var outputEl = gd.closest('.output');\n",
       "if (outputEl) {{\n",
       "    x.observe(outputEl, {childList: true});\n",
       "}}\n",
       "\n",
       "                        })\n",
       "                };\n",
       "                });\n",
       "            </script>\n",
       "        </div>"
      ]
     },
     "metadata": {},
     "output_type": "display_data"
    },
    {
     "data": {
      "application/vnd.plotly.v1+json": {
       "config": {
        "plotlyServerURL": "https://plot.ly"
       },
       "data": [
        {
         "mode": "lines+markers",
         "type": "scatter",
         "visible": true,
         "x": [
          99.979,
          74.98400000000001,
          49.989,
          39.979,
          30,
          19.990000000000002,
          9.979600000000001,
          0,
          -9.9793,
          -19.988999999999997,
          -29.999000000000002,
          -39.977999999999994,
          -49.988,
          -74.982,
          -99.976
         ],
         "y": [
          -13.600862070611885,
          -22.609871801417285,
          -17.478794003924598,
          -21.054738052873184,
          -19.106864029260876,
          -14.230402955491352,
          -20.75209081333828,
          -37.95855131721236,
          -48.44094321260645,
          -55.740653499783626,
          -44.717444396798776,
          -59.59956630121121,
          -56.12540125075791,
          -104.55580612107005,
          -117.79884650039254
         ]
        }
       ],
       "layout": {
        "autosize": true,
        "sliders": [
         {
          "active": 0,
          "currentvalue": {
           "prefix": ""
          },
          "pad": {
           "t": 50
          },
          "steps": [
           {
            "args": [
             {
              "visible": [
               true
              ]
             },
             {
              "title": "DCbias: Center vs HQPC bias<br>Dats965->979: Channel bias ratio = 0.0"
             },
             {
              "mode": "lines+markers"
             }
            ],
            "label": "0.0",
            "method": "update"
           }
          ]
         }
        ],
        "template": {
         "data": {
          "bar": [
           {
            "error_x": {
             "color": "#2a3f5f"
            },
            "error_y": {
             "color": "#2a3f5f"
            },
            "marker": {
             "line": {
              "color": "#E5ECF6",
              "width": 0.5
             }
            },
            "type": "bar"
           }
          ],
          "barpolar": [
           {
            "marker": {
             "line": {
              "color": "#E5ECF6",
              "width": 0.5
             }
            },
            "type": "barpolar"
           }
          ],
          "carpet": [
           {
            "aaxis": {
             "endlinecolor": "#2a3f5f",
             "gridcolor": "white",
             "linecolor": "white",
             "minorgridcolor": "white",
             "startlinecolor": "#2a3f5f"
            },
            "baxis": {
             "endlinecolor": "#2a3f5f",
             "gridcolor": "white",
             "linecolor": "white",
             "minorgridcolor": "white",
             "startlinecolor": "#2a3f5f"
            },
            "type": "carpet"
           }
          ],
          "choropleth": [
           {
            "colorbar": {
             "outlinewidth": 0,
             "ticks": ""
            },
            "type": "choropleth"
           }
          ],
          "contour": [
           {
            "colorbar": {
             "outlinewidth": 0,
             "ticks": ""
            },
            "colorscale": [
             [
              0,
              "#0d0887"
             ],
             [
              0.1111111111111111,
              "#46039f"
             ],
             [
              0.2222222222222222,
              "#7201a8"
             ],
             [
              0.3333333333333333,
              "#9c179e"
             ],
             [
              0.4444444444444444,
              "#bd3786"
             ],
             [
              0.5555555555555556,
              "#d8576b"
             ],
             [
              0.6666666666666666,
              "#ed7953"
             ],
             [
              0.7777777777777778,
              "#fb9f3a"
             ],
             [
              0.8888888888888888,
              "#fdca26"
             ],
             [
              1,
              "#f0f921"
             ]
            ],
            "type": "contour"
           }
          ],
          "contourcarpet": [
           {
            "colorbar": {
             "outlinewidth": 0,
             "ticks": ""
            },
            "type": "contourcarpet"
           }
          ],
          "heatmap": [
           {
            "colorbar": {
             "outlinewidth": 0,
             "ticks": ""
            },
            "colorscale": [
             [
              0,
              "#0d0887"
             ],
             [
              0.1111111111111111,
              "#46039f"
             ],
             [
              0.2222222222222222,
              "#7201a8"
             ],
             [
              0.3333333333333333,
              "#9c179e"
             ],
             [
              0.4444444444444444,
              "#bd3786"
             ],
             [
              0.5555555555555556,
              "#d8576b"
             ],
             [
              0.6666666666666666,
              "#ed7953"
             ],
             [
              0.7777777777777778,
              "#fb9f3a"
             ],
             [
              0.8888888888888888,
              "#fdca26"
             ],
             [
              1,
              "#f0f921"
             ]
            ],
            "type": "heatmap"
           }
          ],
          "heatmapgl": [
           {
            "colorbar": {
             "outlinewidth": 0,
             "ticks": ""
            },
            "colorscale": [
             [
              0,
              "#0d0887"
             ],
             [
              0.1111111111111111,
              "#46039f"
             ],
             [
              0.2222222222222222,
              "#7201a8"
             ],
             [
              0.3333333333333333,
              "#9c179e"
             ],
             [
              0.4444444444444444,
              "#bd3786"
             ],
             [
              0.5555555555555556,
              "#d8576b"
             ],
             [
              0.6666666666666666,
              "#ed7953"
             ],
             [
              0.7777777777777778,
              "#fb9f3a"
             ],
             [
              0.8888888888888888,
              "#fdca26"
             ],
             [
              1,
              "#f0f921"
             ]
            ],
            "type": "heatmapgl"
           }
          ],
          "histogram": [
           {
            "marker": {
             "colorbar": {
              "outlinewidth": 0,
              "ticks": ""
             }
            },
            "type": "histogram"
           }
          ],
          "histogram2d": [
           {
            "colorbar": {
             "outlinewidth": 0,
             "ticks": ""
            },
            "colorscale": [
             [
              0,
              "#0d0887"
             ],
             [
              0.1111111111111111,
              "#46039f"
             ],
             [
              0.2222222222222222,
              "#7201a8"
             ],
             [
              0.3333333333333333,
              "#9c179e"
             ],
             [
              0.4444444444444444,
              "#bd3786"
             ],
             [
              0.5555555555555556,
              "#d8576b"
             ],
             [
              0.6666666666666666,
              "#ed7953"
             ],
             [
              0.7777777777777778,
              "#fb9f3a"
             ],
             [
              0.8888888888888888,
              "#fdca26"
             ],
             [
              1,
              "#f0f921"
             ]
            ],
            "type": "histogram2d"
           }
          ],
          "histogram2dcontour": [
           {
            "colorbar": {
             "outlinewidth": 0,
             "ticks": ""
            },
            "colorscale": [
             [
              0,
              "#0d0887"
             ],
             [
              0.1111111111111111,
              "#46039f"
             ],
             [
              0.2222222222222222,
              "#7201a8"
             ],
             [
              0.3333333333333333,
              "#9c179e"
             ],
             [
              0.4444444444444444,
              "#bd3786"
             ],
             [
              0.5555555555555556,
              "#d8576b"
             ],
             [
              0.6666666666666666,
              "#ed7953"
             ],
             [
              0.7777777777777778,
              "#fb9f3a"
             ],
             [
              0.8888888888888888,
              "#fdca26"
             ],
             [
              1,
              "#f0f921"
             ]
            ],
            "type": "histogram2dcontour"
           }
          ],
          "mesh3d": [
           {
            "colorbar": {
             "outlinewidth": 0,
             "ticks": ""
            },
            "type": "mesh3d"
           }
          ],
          "parcoords": [
           {
            "line": {
             "colorbar": {
              "outlinewidth": 0,
              "ticks": ""
             }
            },
            "type": "parcoords"
           }
          ],
          "pie": [
           {
            "automargin": true,
            "type": "pie"
           }
          ],
          "scatter": [
           {
            "marker": {
             "colorbar": {
              "outlinewidth": 0,
              "ticks": ""
             }
            },
            "type": "scatter"
           }
          ],
          "scatter3d": [
           {
            "line": {
             "colorbar": {
              "outlinewidth": 0,
              "ticks": ""
             }
            },
            "marker": {
             "colorbar": {
              "outlinewidth": 0,
              "ticks": ""
             }
            },
            "type": "scatter3d"
           }
          ],
          "scattercarpet": [
           {
            "marker": {
             "colorbar": {
              "outlinewidth": 0,
              "ticks": ""
             }
            },
            "type": "scattercarpet"
           }
          ],
          "scattergeo": [
           {
            "marker": {
             "colorbar": {
              "outlinewidth": 0,
              "ticks": ""
             }
            },
            "type": "scattergeo"
           }
          ],
          "scattergl": [
           {
            "marker": {
             "colorbar": {
              "outlinewidth": 0,
              "ticks": ""
             }
            },
            "type": "scattergl"
           }
          ],
          "scattermapbox": [
           {
            "marker": {
             "colorbar": {
              "outlinewidth": 0,
              "ticks": ""
             }
            },
            "type": "scattermapbox"
           }
          ],
          "scatterpolar": [
           {
            "marker": {
             "colorbar": {
              "outlinewidth": 0,
              "ticks": ""
             }
            },
            "type": "scatterpolar"
           }
          ],
          "scatterpolargl": [
           {
            "marker": {
             "colorbar": {
              "outlinewidth": 0,
              "ticks": ""
             }
            },
            "type": "scatterpolargl"
           }
          ],
          "scatterternary": [
           {
            "marker": {
             "colorbar": {
              "outlinewidth": 0,
              "ticks": ""
             }
            },
            "type": "scatterternary"
           }
          ],
          "surface": [
           {
            "colorbar": {
             "outlinewidth": 0,
             "ticks": ""
            },
            "colorscale": [
             [
              0,
              "#0d0887"
             ],
             [
              0.1111111111111111,
              "#46039f"
             ],
             [
              0.2222222222222222,
              "#7201a8"
             ],
             [
              0.3333333333333333,
              "#9c179e"
             ],
             [
              0.4444444444444444,
              "#bd3786"
             ],
             [
              0.5555555555555556,
              "#d8576b"
             ],
             [
              0.6666666666666666,
              "#ed7953"
             ],
             [
              0.7777777777777778,
              "#fb9f3a"
             ],
             [
              0.8888888888888888,
              "#fdca26"
             ],
             [
              1,
              "#f0f921"
             ]
            ],
            "type": "surface"
           }
          ],
          "table": [
           {
            "cells": {
             "fill": {
              "color": "#EBF0F8"
             },
             "line": {
              "color": "white"
             }
            },
            "header": {
             "fill": {
              "color": "#C8D4E3"
             },
             "line": {
              "color": "white"
             }
            },
            "type": "table"
           }
          ]
         },
         "layout": {
          "annotationdefaults": {
           "arrowcolor": "#2a3f5f",
           "arrowhead": 0,
           "arrowwidth": 1
          },
          "coloraxis": {
           "colorbar": {
            "outlinewidth": 0,
            "ticks": ""
           }
          },
          "colorscale": {
           "diverging": [
            [
             0,
             "#8e0152"
            ],
            [
             0.1,
             "#c51b7d"
            ],
            [
             0.2,
             "#de77ae"
            ],
            [
             0.3,
             "#f1b6da"
            ],
            [
             0.4,
             "#fde0ef"
            ],
            [
             0.5,
             "#f7f7f7"
            ],
            [
             0.6,
             "#e6f5d0"
            ],
            [
             0.7,
             "#b8e186"
            ],
            [
             0.8,
             "#7fbc41"
            ],
            [
             0.9,
             "#4d9221"
            ],
            [
             1,
             "#276419"
            ]
           ],
           "sequential": [
            [
             0,
             "#0d0887"
            ],
            [
             0.1111111111111111,
             "#46039f"
            ],
            [
             0.2222222222222222,
             "#7201a8"
            ],
            [
             0.3333333333333333,
             "#9c179e"
            ],
            [
             0.4444444444444444,
             "#bd3786"
            ],
            [
             0.5555555555555556,
             "#d8576b"
            ],
            [
             0.6666666666666666,
             "#ed7953"
            ],
            [
             0.7777777777777778,
             "#fb9f3a"
            ],
            [
             0.8888888888888888,
             "#fdca26"
            ],
            [
             1,
             "#f0f921"
            ]
           ],
           "sequentialminus": [
            [
             0,
             "#0d0887"
            ],
            [
             0.1111111111111111,
             "#46039f"
            ],
            [
             0.2222222222222222,
             "#7201a8"
            ],
            [
             0.3333333333333333,
             "#9c179e"
            ],
            [
             0.4444444444444444,
             "#bd3786"
            ],
            [
             0.5555555555555556,
             "#d8576b"
            ],
            [
             0.6666666666666666,
             "#ed7953"
            ],
            [
             0.7777777777777778,
             "#fb9f3a"
            ],
            [
             0.8888888888888888,
             "#fdca26"
            ],
            [
             1,
             "#f0f921"
            ]
           ]
          },
          "colorway": [
           "#636efa",
           "#EF553B",
           "#00cc96",
           "#ab63fa",
           "#FFA15A",
           "#19d3f3",
           "#FF6692",
           "#B6E880",
           "#FF97FF",
           "#FECB52"
          ],
          "font": {
           "color": "#2a3f5f"
          },
          "geo": {
           "bgcolor": "white",
           "lakecolor": "white",
           "landcolor": "#E5ECF6",
           "showlakes": true,
           "showland": true,
           "subunitcolor": "white"
          },
          "hoverlabel": {
           "align": "left"
          },
          "hovermode": "closest",
          "mapbox": {
           "style": "light"
          },
          "paper_bgcolor": "white",
          "plot_bgcolor": "#E5ECF6",
          "polar": {
           "angularaxis": {
            "gridcolor": "white",
            "linecolor": "white",
            "ticks": ""
           },
           "bgcolor": "#E5ECF6",
           "radialaxis": {
            "gridcolor": "white",
            "linecolor": "white",
            "ticks": ""
           }
          },
          "scene": {
           "xaxis": {
            "backgroundcolor": "#E5ECF6",
            "gridcolor": "white",
            "gridwidth": 2,
            "linecolor": "white",
            "showbackground": true,
            "ticks": "",
            "zerolinecolor": "white"
           },
           "yaxis": {
            "backgroundcolor": "#E5ECF6",
            "gridcolor": "white",
            "gridwidth": 2,
            "linecolor": "white",
            "showbackground": true,
            "ticks": "",
            "zerolinecolor": "white"
           },
           "zaxis": {
            "backgroundcolor": "#E5ECF6",
            "gridcolor": "white",
            "gridwidth": 2,
            "linecolor": "white",
            "showbackground": true,
            "ticks": "",
            "zerolinecolor": "white"
           }
          },
          "shapedefaults": {
           "line": {
            "color": "#2a3f5f"
           }
          },
          "ternary": {
           "aaxis": {
            "gridcolor": "white",
            "linecolor": "white",
            "ticks": ""
           },
           "baxis": {
            "gridcolor": "white",
            "linecolor": "white",
            "ticks": ""
           },
           "bgcolor": "#E5ECF6",
           "caxis": {
            "gridcolor": "white",
            "linecolor": "white",
            "ticks": ""
           }
          },
          "title": {
           "x": 0.05
          },
          "xaxis": {
           "automargin": true,
           "gridcolor": "white",
           "linecolor": "white",
           "ticks": "",
           "title": {
            "standoff": 15
           },
           "zerolinecolor": "white",
           "zerolinewidth": 2
          },
          "yaxis": {
           "automargin": true,
           "gridcolor": "white",
           "linecolor": "white",
           "ticks": "",
           "title": {
            "standoff": 15
           },
           "zerolinecolor": "white",
           "zerolinewidth": 2
          }
         }
        },
        "title": {
         "text": "DCbias: Center vs HQPC bias<br>Dats965->979: Channel bias ratio = 0.0"
        },
        "xaxis": {
         "autorange": true,
         "range": [
          -111.74836655513066,
          111.75136655513066
         ],
         "title": {
          "text": "HQPC bias/nA"
         },
         "type": "linear"
        },
        "yaxis": {
         "autorange": true,
         "range": [
          -125.4311829395166,
          -5.968525631487824
         ],
         "title": {
          "text": "Center /mV (LP*200)"
         },
         "type": "linear"
        }
       }
      },
      "image/png": "[encoded data removed]",
      "text/html": [
       "<div>\n",
       "        \n",
       "        \n",
       "            <div id=\"b25db2e8-b02d-4e8c-81ff-63d01ec2841d\" class=\"plotly-graph-div\" style=\"height:525px; width:100%;\"></div>\n",
       "            <script type=\"text/javascript\">\n",
       "                require([\"plotly\"], function(Plotly) {\n",
       "                    window.PLOTLYENV=window.PLOTLYENV || {};\n",
       "                    \n",
       "                if (document.getElementById(\"b25db2e8-b02d-4e8c-81ff-63d01ec2841d\")) {\n",
       "                    Plotly.newPlot(\n",
       "                        'b25db2e8-b02d-4e8c-81ff-63d01ec2841d',\n",
       "                        [{\"mode\": \"lines+markers\", \"type\": \"scatter\", \"visible\": true, \"x\": [99.979, 74.98400000000001, 49.989, 39.979, 30.0, 19.990000000000002, 9.979600000000001, 0.0, -9.9793, -19.988999999999997, -29.999000000000002, -39.977999999999994, -49.988, -74.982, -99.976], \"y\": [-13.600862070611885, -22.609871801417285, -17.478794003924598, -21.054738052873184, -19.106864029260876, -14.230402955491352, -20.75209081333828, -37.95855131721236, -48.44094321260645, -55.740653499783626, -44.717444396798776, -59.59956630121121, -56.12540125075791, -104.55580612107005, -117.79884650039254]}],\n",
       "                        {\"sliders\": [{\"active\": 0, \"currentvalue\": {\"prefix\": \"\"}, \"pad\": {\"t\": 50}, \"steps\": [{\"args\": [{\"visible\": [true]}, {\"title\": \"DCbias: Center vs HQPC bias<br>Dats965->979: Channel bias ratio = 0.0\"}, {\"mode\": \"lines+markers\"}], \"label\": \"0.0\", \"method\": \"update\"}]}], \"template\": {\"data\": {\"bar\": [{\"error_x\": {\"color\": \"#2a3f5f\"}, \"error_y\": {\"color\": \"#2a3f5f\"}, \"marker\": {\"line\": {\"color\": \"#E5ECF6\", \"width\": 0.5}}, \"type\": \"bar\"}], \"barpolar\": [{\"marker\": {\"line\": {\"color\": \"#E5ECF6\", \"width\": 0.5}}, \"type\": \"barpolar\"}], \"carpet\": [{\"aaxis\": {\"endlinecolor\": \"#2a3f5f\", \"gridcolor\": \"white\", \"linecolor\": \"white\", \"minorgridcolor\": \"white\", \"startlinecolor\": \"#2a3f5f\"}, \"baxis\": {\"endlinecolor\": \"#2a3f5f\", \"gridcolor\": \"white\", \"linecolor\": \"white\", \"minorgridcolor\": \"white\", \"startlinecolor\": \"#2a3f5f\"}, \"type\": \"carpet\"}], \"choropleth\": [{\"colorbar\": {\"outlinewidth\": 0, \"ticks\": \"\"}, \"type\": \"choropleth\"}], \"contour\": [{\"colorbar\": {\"outlinewidth\": 0, \"ticks\": \"\"}, \"colorscale\": [[0.0, \"#0d0887\"], [0.1111111111111111, \"#46039f\"], [0.2222222222222222, \"#7201a8\"], [0.3333333333333333, \"#9c179e\"], [0.4444444444444444, \"#bd3786\"], [0.5555555555555556, \"#d8576b\"], [0.6666666666666666, \"#ed7953\"], [0.7777777777777778, \"#fb9f3a\"], [0.8888888888888888, \"#fdca26\"], [1.0, \"#f0f921\"]], \"type\": \"contour\"}], \"contourcarpet\": [{\"colorbar\": {\"outlinewidth\": 0, \"ticks\": \"\"}, \"type\": \"contourcarpet\"}], \"heatmap\": [{\"colorbar\": {\"outlinewidth\": 0, \"ticks\": \"\"}, \"colorscale\": [[0.0, \"#0d0887\"], [0.1111111111111111, \"#46039f\"], [0.2222222222222222, \"#7201a8\"], [0.3333333333333333, \"#9c179e\"], [0.4444444444444444, \"#bd3786\"], [0.5555555555555556, \"#d8576b\"], [0.6666666666666666, \"#ed7953\"], [0.7777777777777778, \"#fb9f3a\"], [0.8888888888888888, \"#fdca26\"], [1.0, \"#f0f921\"]], \"type\": \"heatmap\"}], \"heatmapgl\": [{\"colorbar\": {\"outlinewidth\": 0, \"ticks\": \"\"}, \"colorscale\": [[0.0, \"#0d0887\"], [0.1111111111111111, \"#46039f\"], [0.2222222222222222, \"#7201a8\"], [0.3333333333333333, \"#9c179e\"], [0.4444444444444444, \"#bd3786\"], [0.5555555555555556, \"#d8576b\"], [0.6666666666666666, \"#ed7953\"], [0.7777777777777778, \"#fb9f3a\"], [0.8888888888888888, \"#fdca26\"], [1.0, \"#f0f921\"]], \"type\": \"heatmapgl\"}], \"histogram\": [{\"marker\": {\"colorbar\": {\"outlinewidth\": 0, \"ticks\": \"\"}}, \"type\": \"histogram\"}], \"histogram2d\": [{\"colorbar\": {\"outlinewidth\": 0, \"ticks\": \"\"}, \"colorscale\": [[0.0, \"#0d0887\"], [0.1111111111111111, \"#46039f\"], [0.2222222222222222, \"#7201a8\"], [0.3333333333333333, \"#9c179e\"], [0.4444444444444444, \"#bd3786\"], [0.5555555555555556, \"#d8576b\"], [0.6666666666666666, \"#ed7953\"], [0.7777777777777778, \"#fb9f3a\"], [0.8888888888888888, \"#fdca26\"], [1.0, \"#f0f921\"]], \"type\": \"histogram2d\"}], \"histogram2dcontour\": [{\"colorbar\": {\"outlinewidth\": 0, \"ticks\": \"\"}, \"colorscale\": [[0.0, \"#0d0887\"], [0.1111111111111111, \"#46039f\"], [0.2222222222222222, \"#7201a8\"], [0.3333333333333333, \"#9c179e\"], [0.4444444444444444, \"#bd3786\"], [0.5555555555555556, \"#d8576b\"], [0.6666666666666666, \"#ed7953\"], [0.7777777777777778, \"#fb9f3a\"], [0.8888888888888888, \"#fdca26\"], [1.0, \"#f0f921\"]], \"type\": \"histogram2dcontour\"}], \"mesh3d\": [{\"colorbar\": {\"outlinewidth\": 0, \"ticks\": \"\"}, \"type\": \"mesh3d\"}], \"parcoords\": [{\"line\": {\"colorbar\": {\"outlinewidth\": 0, \"ticks\": \"\"}}, \"type\": \"parcoords\"}], \"pie\": [{\"automargin\": true, \"type\": \"pie\"}], \"scatter\": [{\"marker\": {\"colorbar\": {\"outlinewidth\": 0, \"ticks\": \"\"}}, \"type\": \"scatter\"}], \"scatter3d\": [{\"line\": {\"colorbar\": {\"outlinewidth\": 0, \"ticks\": \"\"}}, \"marker\": {\"colorbar\": {\"outlinewidth\": 0, \"ticks\": \"\"}}, \"type\": \"scatter3d\"}], \"scattercarpet\": [{\"marker\": {\"colorbar\": {\"outlinewidth\": 0, \"ticks\": \"\"}}, \"type\": \"scattercarpet\"}], \"scattergeo\": [{\"marker\": {\"colorbar\": {\"outlinewidth\": 0, \"ticks\": \"\"}}, \"type\": \"scattergeo\"}], \"scattergl\": [{\"marker\": {\"colorbar\": {\"outlinewidth\": 0, \"ticks\": \"\"}}, \"type\": \"scattergl\"}], \"scattermapbox\": [{\"marker\": {\"colorbar\": {\"outlinewidth\": 0, \"ticks\": \"\"}}, \"type\": \"scattermapbox\"}], \"scatterpolar\": [{\"marker\": {\"colorbar\": {\"outlinewidth\": 0, \"ticks\": \"\"}}, \"type\": \"scatterpolar\"}], \"scatterpolargl\": [{\"marker\": {\"colorbar\": {\"outlinewidth\": 0, \"ticks\": \"\"}}, \"type\": \"scatterpolargl\"}], \"scatterternary\": [{\"marker\": {\"colorbar\": {\"outlinewidth\": 0, \"ticks\": \"\"}}, \"type\": \"scatterternary\"}], \"surface\": [{\"colorbar\": {\"outlinewidth\": 0, \"ticks\": \"\"}, \"colorscale\": [[0.0, \"#0d0887\"], [0.1111111111111111, \"#46039f\"], [0.2222222222222222, \"#7201a8\"], [0.3333333333333333, \"#9c179e\"], [0.4444444444444444, \"#bd3786\"], [0.5555555555555556, \"#d8576b\"], [0.6666666666666666, \"#ed7953\"], [0.7777777777777778, \"#fb9f3a\"], [0.8888888888888888, \"#fdca26\"], [1.0, \"#f0f921\"]], \"type\": \"surface\"}], \"table\": [{\"cells\": {\"fill\": {\"color\": \"#EBF0F8\"}, \"line\": {\"color\": \"white\"}}, \"header\": {\"fill\": {\"color\": \"#C8D4E3\"}, \"line\": {\"color\": \"white\"}}, \"type\": \"table\"}]}, \"layout\": {\"annotationdefaults\": {\"arrowcolor\": \"#2a3f5f\", \"arrowhead\": 0, \"arrowwidth\": 1}, \"coloraxis\": {\"colorbar\": {\"outlinewidth\": 0, \"ticks\": \"\"}}, \"colorscale\": {\"diverging\": [[0, \"#8e0152\"], [0.1, \"#c51b7d\"], [0.2, \"#de77ae\"], [0.3, \"#f1b6da\"], [0.4, \"#fde0ef\"], [0.5, \"#f7f7f7\"], [0.6, \"#e6f5d0\"], [0.7, \"#b8e186\"], [0.8, \"#7fbc41\"], [0.9, \"#4d9221\"], [1, \"#276419\"]], \"sequential\": [[0.0, \"#0d0887\"], [0.1111111111111111, \"#46039f\"], [0.2222222222222222, \"#7201a8\"], [0.3333333333333333, \"#9c179e\"], [0.4444444444444444, \"#bd3786\"], [0.5555555555555556, \"#d8576b\"], [0.6666666666666666, \"#ed7953\"], [0.7777777777777778, \"#fb9f3a\"], [0.8888888888888888, \"#fdca26\"], [1.0, \"#f0f921\"]], \"sequentialminus\": [[0.0, \"#0d0887\"], [0.1111111111111111, \"#46039f\"], [0.2222222222222222, \"#7201a8\"], [0.3333333333333333, \"#9c179e\"], [0.4444444444444444, \"#bd3786\"], [0.5555555555555556, \"#d8576b\"], [0.6666666666666666, \"#ed7953\"], [0.7777777777777778, \"#fb9f3a\"], [0.8888888888888888, \"#fdca26\"], [1.0, \"#f0f921\"]]}, \"colorway\": [\"#636efa\", \"#EF553B\", \"#00cc96\", \"#ab63fa\", \"#FFA15A\", \"#19d3f3\", \"#FF6692\", \"#B6E880\", \"#FF97FF\", \"#FECB52\"], \"font\": {\"color\": \"#2a3f5f\"}, \"geo\": {\"bgcolor\": \"white\", \"lakecolor\": \"white\", \"landcolor\": \"#E5ECF6\", \"showlakes\": true, \"showland\": true, \"subunitcolor\": \"white\"}, \"hoverlabel\": {\"align\": \"left\"}, \"hovermode\": \"closest\", \"mapbox\": {\"style\": \"light\"}, \"paper_bgcolor\": \"white\", \"plot_bgcolor\": \"#E5ECF6\", \"polar\": {\"angularaxis\": {\"gridcolor\": \"white\", \"linecolor\": \"white\", \"ticks\": \"\"}, \"bgcolor\": \"#E5ECF6\", \"radialaxis\": {\"gridcolor\": \"white\", \"linecolor\": \"white\", \"ticks\": \"\"}}, \"scene\": {\"xaxis\": {\"backgroundcolor\": \"#E5ECF6\", \"gridcolor\": \"white\", \"gridwidth\": 2, \"linecolor\": \"white\", \"showbackground\": true, \"ticks\": \"\", \"zerolinecolor\": \"white\"}, \"yaxis\": {\"backgroundcolor\": \"#E5ECF6\", \"gridcolor\": \"white\", \"gridwidth\": 2, \"linecolor\": \"white\", \"showbackground\": true, \"ticks\": \"\", \"zerolinecolor\": \"white\"}, \"zaxis\": {\"backgroundcolor\": \"#E5ECF6\", \"gridcolor\": \"white\", \"gridwidth\": 2, \"linecolor\": \"white\", \"showbackground\": true, \"ticks\": \"\", \"zerolinecolor\": \"white\"}}, \"shapedefaults\": {\"line\": {\"color\": \"#2a3f5f\"}}, \"ternary\": {\"aaxis\": {\"gridcolor\": \"white\", \"linecolor\": \"white\", \"ticks\": \"\"}, \"baxis\": {\"gridcolor\": \"white\", \"linecolor\": \"white\", \"ticks\": \"\"}, \"bgcolor\": \"#E5ECF6\", \"caxis\": {\"gridcolor\": \"white\", \"linecolor\": \"white\", \"ticks\": \"\"}}, \"title\": {\"x\": 0.05}, \"xaxis\": {\"automargin\": true, \"gridcolor\": \"white\", \"linecolor\": \"white\", \"ticks\": \"\", \"title\": {\"standoff\": 15}, \"zerolinecolor\": \"white\", \"zerolinewidth\": 2}, \"yaxis\": {\"automargin\": true, \"gridcolor\": \"white\", \"linecolor\": \"white\", \"ticks\": \"\", \"title\": {\"standoff\": 15}, \"zerolinecolor\": \"white\", \"zerolinewidth\": 2}}}, \"title\": {\"text\": \"DCbias: Center vs HQPC bias<br>Dats965->979: Channel bias ratio = 0.0\"}, \"xaxis\": {\"title\": {\"text\": \"HQPC bias/nA\"}}, \"yaxis\": {\"title\": {\"text\": \"Center /mV (LP*200)\"}}},\n",
       "                        {\"responsive\": true}\n",
       "                    ).then(function(){\n",
       "                            \n",
       "var gd = document.getElementById('b25db2e8-b02d-4e8c-81ff-63d01ec2841d');\n",
       "var x = new MutationObserver(function (mutations, observer) {{\n",
       "        var display = window.getComputedStyle(gd).display;\n",
       "        if (!display || display === 'none') {{\n",
       "            console.log([gd, 'removed!']);\n",
       "            Plotly.purge(gd);\n",
       "            observer.disconnect();\n",
       "        }}\n",
       "}});\n",
       "\n",
       "// Listen for the removal of the full notebook cells\n",
       "var notebookContainer = gd.closest('#notebook-container');\n",
       "if (notebookContainer) {{\n",
       "    x.observe(notebookContainer, {childList: true});\n",
       "}}\n",
       "\n",
       "// Listen for the clearing of the current output cell\n",
       "var outputEl = gd.closest('.output');\n",
       "if (outputEl) {{\n",
       "    x.observe(outputEl, {childList: true});\n",
       "}}\n",
       "\n",
       "                        })\n",
       "                };\n",
       "                });\n",
       "            </script>\n",
       "        </div>"
      ]
     },
     "metadata": {},
     "output_type": "display_data"
    }
   ],
   "source": [
    "# data_key = 'theta'\n",
    "# ylabel = 'Theta /mV (LP*200)'\n",
    "hqpc_biases = set([round(dat.Logs.fds['R2T(10M)']) for dat in dats])\n",
    "\n",
    "for data_key, ylabel, title, fname in zip(['theta', 'mid'], ['Theta /mV (LP*200)', 'Center /mV (LP*200)'], ['DCbias: Theta Vs HQPC bias', 'DCbias: Center vs HQPC bias'], ['ThetaVsHPQC', 'CenterVsHQPC']):\n",
    "    dat_chunks = np.flip(np.reshape(np.array(dats), (int(len(dats)/len(hqpc_biases)), -1)), axis=0)\n",
    "\n",
    "    xs, datas, ids, titles = list(), list(), list(), list()\n",
    "    # for ratio in ratios:\n",
    "    for dat_chunk in dat_chunks:\n",
    "    #     ds = [dat for dat in dats if round(dat.Logs.fds['TC/0.001']/dat.Logs.fds['R2T(10M)'], 2) == ratio]\n",
    "        ds = dat_chunk\n",
    "\n",
    "        ratio = round(np.mean([-1*dat.Logs.fds['TC/0.001']/dat.Logs.fds['R2T(10M)'] if not np.isclose(dat.Logs.fds['R2T(10M)'],0) else 0 for dat in ds]), 4)\n",
    "\n",
    "        datas.append(np.array([getattr(dat.Transition.avg_fit.best_values, data_key) for dat in ds]))\n",
    "        xs.append(np.array([dat.Logs.fds['R2T(10M)']/10 for dat in ds]))\n",
    "        ids.append(ratio)\n",
    "        titles.append(f'{title}<br>Dats{ds[0].datnum}->{ds[-1].datnum}: Channel bias ratio = {ratio}')\n",
    "\n",
    "    fig = PlU.get_figure(datas, xs, ids=ids, titles=titles, labels=None, xlabel='HQPC bias/nA', ylabel=ylabel, plot_kwargs={'mode':'lines+markers'})\n",
    "#     fig.write_html(export_path+f'Dats{dats[0].datnum}-{dats[-1].datnum}{fname}.html')\n",
    "    fig.show()"
   ]
  },
  {
   "cell_type": "code",
   "execution_count": 12,
   "metadata": {},
   "outputs": [
    {
     "name": "stderr",
     "output_type": "stream",
     "text": [
      "<ipython-input-12-69af9adb5453>:21: RuntimeWarning:\n",
      "\n",
      "divide by zero encountered in double_scalars\n",
      "\n"
     ]
    },
    {
     "data": {
      "application/vnd.plotly.v1+json": {
       "config": {
        "plotlyServerURL": "https://plot.ly"
       },
       "data": [
        {
         "mode": "markers",
         "name": "Data",
         "type": "scatter",
         "x": [
          999.79,
          749.84,
          499.89,
          399.79,
          300,
          199.9,
          99.796,
          0,
          -99.793,
          -199.89,
          -299.99,
          -399.78,
          -499.88,
          -749.82,
          -999.76
         ],
         "y": [
          78.20157997856212,
          67.2722264407139,
          56.10695114144249,
          52.08745691495109,
          49.43722297930108,
          45.18474832554991,
          42.84823247840744,
          41.96083537356228,
          43.6385340131798,
          46.1454319072541,
          49.76806169116204,
          52.87208067834114,
          57.29707618998149,
          69.02774489042652,
          79.29644119269632
         ]
        },
        {
         "mode": "lines",
         "name": "Fit",
         "type": "scatter",
         "x": [
          499.89,
          498.8892292292292,
          497.88845845845844,
          496.8876876876877,
          495.8869169169169,
          494.88614614614613,
          493.88537537537536,
          492.8846046046046,
          491.8838338338338,
          490.88306306306305,
          489.8822922922923,
          488.8815215215215,
          487.88075075075074,
          486.87997997997996,
          485.8792092092092,
          484.8784384384384,
          483.87766766766765,
          482.8768968968969,
          481.8761261261261,
          480.87535535535534,
          479.87458458458457,
          478.8738138138138,
          477.873043043043,
          476.87227227227226,
          475.8715015015015,
          474.8707307307307,
          473.86995995995994,
          472.86918918918917,
          471.8684184184184,
          470.86764764764763,
          469.86687687687686,
          468.8661061061061,
          467.8653353353353,
          466.86456456456455,
          465.8637937937938,
          464.863023023023,
          463.86225225225223,
          462.86148148148146,
          461.8607107107107,
          460.8599399399399,
          459.85916916916915,
          458.8583983983984,
          457.8576276276276,
          456.85685685685684,
          455.85608608608607,
          454.8553153153153,
          453.8545445445445,
          452.85377377377375,
          451.853003003003,
          450.8522322322322,
          449.85146146146144,
          448.85069069069067,
          447.8499199199199,
          446.8491491491491,
          445.84837837837836,
          444.8476076076076,
          443.8468368368368,
          442.84606606606604,
          441.8452952952953,
          440.8445245245245,
          439.84375375375373,
          438.84298298298296,
          437.8422122122122,
          436.8414414414414,
          435.84067067067065,
          434.8398998998999,
          433.8391291291291,
          432.83835835835833,
          431.83758758758756,
          430.8368168168168,
          429.836046046046,
          428.83527527527525,
          427.8345045045045,
          426.8337337337337,
          425.83296296296294,
          424.83219219219217,
          423.8314214214214,
          422.8306506506506,
          421.82987987987985,
          420.8291091091091,
          419.8283383383383,
          418.82756756756754,
          417.82679679679677,
          416.826026026026,
          415.82525525525523,
          414.82448448448446,
          413.8237137137137,
          412.8229429429429,
          411.82217217217215,
          410.8214014014014,
          409.8206306306306,
          408.81985985985983,
          407.81908908908906,
          406.8183183183183,
          405.8175475475475,
          404.81677677677675,
          403.816006006006,
          402.81523523523526,
          401.81446446446444,
          400.8136936936937,
          399.8129229229229,
          398.8121521521522,
          397.81138138138135,
          396.81061061061064,
          395.8098398398398,
          394.8090690690691,
          393.80829829829827,
          392.80752752752755,
          391.8067567567567,
          390.805985985986,
          389.8052152152152,
          388.80444444444447,
          387.80367367367364,
          386.80290290290293,
          385.8021321321321,
          384.8013613613614,
          383.80059059059056,
          382.79981981981985,
          381.799049049049,
          380.7982782782783,
          379.7975075075075,
          378.79673673673676,
          377.79596596596593,
          376.7951951951952,
          375.7944244244244,
          374.7936536536537,
          373.79288288288285,
          372.79211211211214,
          371.7913413413413,
          370.7905705705706,
          369.78979979979977,
          368.78902902902905,
          367.7882582582582,
          366.7874874874875,
          365.7867167167167,
          364.78594594594597,
          363.78517517517514,
          362.7844044044044,
          361.7836336336336,
          360.7828628628629,
          359.78209209209206,
          358.78132132132134,
          357.7805505505505,
          356.7797797797798,
          355.779009009009,
          354.77823823823826,
          353.77746746746743,
          352.7766966966967,
          351.7759259259259,
          350.7751551551552,
          349.77438438438435,
          348.77361361361363,
          347.7728428428428,
          346.7720720720721,
          345.77130130130126,
          344.77053053053055,
          343.7697597597597,
          342.768988988989,
          341.7682182182182,
          340.76744744744747,
          339.76667667667664,
          338.7659059059059,
          337.7651351351351,
          336.7643643643644,
          335.76359359359355,
          334.76282282282284,
          333.762052052052,
          332.7612812812813,
          331.76051051051047,
          330.75973973973976,
          329.75896896896893,
          328.7581981981982,
          327.7574274274274,
          326.7566566566567,
          325.75588588588585,
          324.75511511511513,
          323.7543443443443,
          322.7535735735736,
          321.75280280280276,
          320.75203203203205,
          319.7512612612612,
          318.7504904904905,
          317.7497197197197,
          316.74894894894896,
          315.74817817817814,
          314.7474074074074,
          313.7466366366366,
          312.7458658658659,
          311.74509509509505,
          310.74432432432434,
          309.7435535535535,
          308.7427827827828,
          307.742012012012,
          306.74124124124126,
          305.7404704704705,
          304.7396996996997,
          303.73892892892894,
          302.73815815815817,
          301.7373873873874,
          300.73661661661663,
          299.73584584584586,
          298.7350750750751,
          297.7343043043043,
          296.73353353353355,
          295.7327627627628,
          294.731991991992,
          293.73122122122123,
          292.73045045045046,
          291.7296796796797,
          290.7289089089089,
          289.72813813813815,
          288.7273673673674,
          287.7265965965966,
          286.72582582582584,
          285.72505505505507,
          284.7242842842843,
          283.7235135135135,
          282.72274274274275,
          281.721971971972,
          280.7212012012012,
          279.72043043043044,
          278.71965965965967,
          277.7188888888889,
          276.7181181181181,
          275.71734734734736,
          274.7165765765766,
          273.7158058058058,
          272.71503503503504,
          271.7142642642643,
          270.7134934934935,
          269.71272272272273,
          268.71195195195196,
          267.7111811811812,
          266.7104104104104,
          265.70963963963965,
          264.7088688688689,
          263.7080980980981,
          262.70732732732733,
          261.70655655655656,
          260.7057857857858,
          259.705015015015,
          258.70424424424425,
          257.7034734734735,
          256.7027027027027,
          255.70193193193194,
          254.70116116116117,
          253.7003903903904,
          252.69961961961963,
          251.69884884884885,
          250.69807807807808,
          249.6973073073073,
          248.69653653653654,
          247.69576576576577,
          246.694994994995,
          245.69422422422423,
          244.69345345345346,
          243.6926826826827,
          242.69191191191192,
          241.69114114114114,
          240.69037037037037,
          239.6895995995996,
          238.68882882882883,
          237.68805805805806,
          236.6872872872873,
          235.68651651651652,
          234.68574574574575,
          233.68497497497498,
          232.6842042042042,
          231.68343343343344,
          230.68266266266266,
          229.6818918918919,
          228.68112112112112,
          227.68035035035035,
          226.67957957957958,
          225.6788088088088,
          224.67803803803804,
          223.67726726726727,
          222.6764964964965,
          221.67572572572573,
          220.67495495495496,
          219.67418418418418,
          218.6734134134134,
          217.67264264264264,
          216.67187187187187,
          215.6711011011011,
          214.67033033033033,
          213.66955955955956,
          212.6687887887888,
          211.66801801801802,
          210.66724724724725,
          209.66647647647648,
          208.6657057057057,
          207.66493493493493,
          206.66416416416416,
          205.6633933933934,
          204.66262262262262,
          203.66185185185185,
          202.66108108108108,
          201.6603103103103,
          200.65953953953954,
          199.65876876876877,
          198.657997997998,
          197.65722722722722,
          196.65645645645645,
          195.65568568568568,
          194.6549149149149,
          193.65414414414414,
          192.65337337337337,
          191.6526026026026,
          190.65183183183183,
          189.65106106106106,
          188.6502902902903,
          187.64951951951952,
          186.64874874874874,
          185.64797797797797,
          184.6472072072072,
          183.64643643643643,
          182.64566566566566,
          181.6448948948949,
          180.64412412412412,
          179.64335335335335,
          178.64258258258258,
          177.6418118118118,
          176.64104104104103,
          175.64027027027026,
          174.6394994994995,
          173.63872872872872,
          172.63795795795795,
          171.63718718718718,
          170.6364164164164,
          169.63564564564564,
          168.63487487487487,
          167.6341041041041,
          166.63333333333333,
          165.63256256256255,
          164.63179179179178,
          163.631021021021,
          162.63025025025024,
          161.62947947947947,
          160.6287087087087,
          159.62793793793793,
          158.62716716716716,
          157.6263963963964,
          156.62562562562562,
          155.62485485485485,
          154.62408408408407,
          153.6233133133133,
          152.62254254254253,
          151.62177177177176,
          150.621001001001,
          149.62023023023022,
          148.61945945945945,
          147.61868868868868,
          146.6179179179179,
          145.61714714714714,
          144.61637637637637,
          143.6156056056056,
          142.61483483483482,
          141.61406406406405,
          140.61329329329328,
          139.6125225225225,
          138.61175175175174,
          137.61098098098097,
          136.6102102102102,
          135.60943943943943,
          134.60866866866866,
          133.60789789789789,
          132.60712712712711,
          131.60635635635634,
          130.60558558558557,
          129.6048148148148,
          128.60404404404403,
          127.60327327327326,
          126.60250250250249,
          125.60173173173172,
          124.60096096096095,
          123.60019019019018,
          122.5994194194194,
          121.59864864864863,
          120.59787787787786,
          119.59710710710709,
          118.59633633633632,
          117.59556556556555,
          116.59479479479478,
          115.59402402402407,
          114.5932532532533,
          113.59248248248252,
          112.59171171171175,
          111.59094094094098,
          110.59017017017021,
          109.58939939939944,
          108.58862862862867,
          107.5878578578579,
          106.58708708708713,
          105.58631631631636,
          104.58554554554559,
          103.58477477477481,
          102.58400400400404,
          101.58323323323327,
          100.5824624624625,
          99.58169169169173,
          98.58092092092096,
          97.58015015015019,
          96.57937937937942,
          95.57860860860865,
          94.57783783783788,
          93.5770670670671,
          92.57629629629633,
          91.57552552552556,
          90.57475475475479,
          89.57398398398402,
          88.57321321321325,
          87.57244244244248,
          86.57167167167171,
          85.57090090090094,
          84.57013013013017,
          83.5693593593594,
          82.56858858858863,
          81.56781781781785,
          80.56704704704708,
          79.56627627627631,
          78.56550550550554,
          77.56473473473477,
          76.563963963964,
          75.56319319319323,
          74.56242242242246,
          73.56165165165169,
          72.56088088088092,
          71.56011011011014,
          70.55933933933937,
          69.5585685685686,
          68.55779779779783,
          67.55702702702706,
          66.55625625625629,
          65.55548548548552,
          64.55471471471475,
          63.55394394394398,
          62.55317317317321,
          61.552402402402436,
          60.551631631631665,
          59.550860860860894,
          58.55009009009012,
          57.54931931931935,
          56.54854854854858,
          55.54777777777781,
          54.54700700700704,
          53.54623623623627,
          52.5454654654655,
          51.544694694694726,
          50.543923923923955,
          49.543153153153185,
          48.542382382382414,
          47.54161161161164,
          46.54084084084087,
          45.5400700700701,
          44.53929929929933,
          43.53852852852856,
          42.53775775775779,
          41.53698698698702,
          40.536216216216246,
          39.535445445445475,
          38.534674674674704,
          37.53390390390393,
          36.53313313313316,
          35.53236236236239,
          34.53159159159162,
          33.53082082082085,
          32.53005005005008,
          31.529279279279308,
          30.528508508508537,
          29.527737737737766,
          28.526966966966995,
          27.526196196196224,
          26.525425425425453,
          25.524654654654682,
          24.52388388388391,
          23.52311311311314,
          22.52234234234237,
          21.5215715715716,
          20.520800800800828,
          19.520030030030057,
          18.519259259259286,
          17.518488488488515,
          16.517717717717744,
          15.516946946946973,
          14.516176176176202,
          13.515405405405431,
          12.51463463463466,
          11.51386386386389,
          10.513093093093119,
          9.512322322322348,
          8.511551551551577,
          7.510780780780806,
          6.510010010010035,
          5.509239239239264,
          4.508468468468493,
          3.507697697697722,
          2.506926926926951,
          1.5061561561561803,
          0.5053853853854093,
          -0.4953853853853616,
          -1.4961561561561325,
          -2.4969269269269034,
          -3.4976976976976744,
          -4.498468468468445,
          -5.499239239239216,
          -6.500010010009987,
          -7.500780780780758,
          -8.501551551551529,
          -9.5023223223223,
          -10.50309309309307,
          -11.503863863863842,
          -12.504634634634613,
          -13.505405405405327,
          -14.506176176176155,
          -15.506946946946869,
          -16.507717717717696,
          -17.50848848848841,
          -18.509259259259238,
          -19.510030030029952,
          -20.51080080080078,
          -21.511571571571494,
          -22.512342342342322,
          -23.513113113113036,
          -24.513883883883864,
          -25.514654654654578,
          -26.515425425425406,
          -27.51619619619612,
          -28.516966966966947,
          -29.51773773773766,
          -30.51850850850849,
          -31.519279279279203,
          -32.52005005005003,
          -33.520820820820745,
          -34.52159159159157,
          -35.52236236236229,
          -36.523133133133115,
          -37.52390390390383,
          -38.52467467467466,
          -39.52544544544537,
          -40.5262162162162,
          -41.52698698698691,
          -42.52775775775774,
          -43.528528528528454,
          -44.52929929929928,
          -45.530070070069996,
          -46.530840840840824,
          -47.53161161161154,
          -48.532382382382366,
          -49.53315315315308,
          -50.53392392392391,
          -51.53469469469462,
          -52.53546546546545,
          -53.536236236236164,
          -54.53700700700699,
          -55.537777777777706,
          -56.53854854854853,
          -57.53931931931925,
          -58.540090090090075,
          -59.54086086086079,
          -60.54163163163162,
          -61.54240240240233,
          -62.54317317317316,
          -63.54394394394387,
          -64.5447147147147,
          -65.54548548548541,
          -66.54625625625624,
          -67.54702702702696,
          -68.54779779779778,
          -69.5485685685685,
          -70.54933933933933,
          -71.55011011011004,
          -72.55088088088087,
          -73.55165165165158,
          -74.55242242242241,
          -75.55319319319312,
          -76.55396396396395,
          -77.55473473473467,
          -78.5555055055055,
          -79.55627627627621,
          -80.55704704704704,
          -81.55781781781775,
          -82.55858858858858,
          -83.55935935935929,
          -84.56013013013012,
          -85.56090090090083,
          -86.56167167167166,
          -87.56244244244238,
          -88.5632132132132,
          -89.56398398398392,
          -90.56475475475474,
          -91.56552552552546,
          -92.56629629629629,
          -93.567067067067,
          -94.56783783783783,
          -95.56860860860854,
          -96.56937937937937,
          -97.57015015015008,
          -98.57092092092091,
          -99.57169169169163,
          -100.57246246246245,
          -101.57323323323317,
          -102.574004004004,
          -103.57477477477471,
          -104.57554554554554,
          -105.57631631631625,
          -106.57708708708708,
          -107.5778578578578,
          -108.57862862862862,
          -109.57939939939934,
          -110.58017017017016,
          -111.58094094094088,
          -112.5817117117117,
          -113.58248248248242,
          -114.58325325325325,
          -115.58402402402396,
          -116.58479479479479,
          -117.5855655655655,
          -118.58633633633633,
          -119.58710710710704,
          -120.58787787787787,
          -121.58864864864859,
          -122.58941941941941,
          -123.59019019019013,
          -124.59096096096096,
          -125.59173173173167,
          -126.5925025025025,
          -127.59327327327321,
          -128.59404404404404,
          -129.59481481481475,
          -130.59558558558558,
          -131.5963563563563,
          -132.59712712712712,
          -133.59789789789784,
          -134.59866866866867,
          -135.59943943943938,
          -136.6002102102102,
          -137.60098098098092,
          -138.60175175175175,
          -139.60252252252246,
          -140.6032932932933,
          -141.604064064064,
          -142.60483483483483,
          -143.60560560560555,
          -144.60637637637637,
          -145.6071471471471,
          -146.60791791791792,
          -147.60868868868863,
          -148.60945945945946,
          -149.61023023023017,
          -150.611001001001,
          -151.6117717717717,
          -152.61254254254254,
          -153.61331331331326,
          -154.61408408408408,
          -155.6148548548548,
          -156.61562562562563,
          -157.61639639639634,
          -158.61716716716717,
          -159.61793793793788,
          -160.6187087087087,
          -161.61947947947942,
          -162.62025025025025,
          -163.62102102102097,
          -164.6217917917918,
          -165.6225625625625,
          -166.62333333333333,
          -167.62410410410405,
          -168.62487487487488,
          -169.6256456456456,
          -170.62641641641642,
          -171.62718718718713,
          -172.62795795795796,
          -173.62872872872867,
          -174.6294994994995,
          -175.63027027027022,
          -176.63104104104104,
          -177.63181181181176,
          -178.6325825825826,
          -179.6333533533533,
          -180.63412412412413,
          -181.63489489489484,
          -182.63566566566567,
          -183.63643643643638,
          -184.6372072072072,
          -185.63797797797793,
          -186.63874874874875,
          -187.63951951951947,
          -188.6402902902903,
          -189.641061061061,
          -190.64183183183184,
          -191.64260260260255,
          -192.64337337337338,
          -193.6441441441441,
          -194.64491491491492,
          -195.64568568568563,
          -196.64645645645646,
          -197.64722722722718,
          -198.647997997998,
          -199.64876876876872,
          -200.64953953953955,
          -201.65031031031026,
          -202.6510810810811,
          -203.6518518518518,
          -204.65262262262263,
          -205.65339339339334,
          -206.65416416416417,
          -207.6549349349349,
          -208.6557057057057,
          -209.65647647647643,
          -210.65724724724726,
          -211.65801801801797,
          -212.6587887887888,
          -213.6595595595595,
          -214.66033033033034,
          -215.66110110110105,
          -216.66187187187188,
          -217.6626426426426,
          -218.66341341341342,
          -219.66418418418414,
          -220.66495495495496,
          -221.66572572572568,
          -222.6664964964965,
          -223.66726726726722,
          -224.66803803803805,
          -225.66880880880876,
          -226.6695795795796,
          -227.6703503503503,
          -228.67112112112113,
          -229.67189189189185,
          -230.67266266266267,
          -231.6734334334334,
          -232.67420420420422,
          -233.67497497497493,
          -234.67574574574576,
          -235.67651651651647,
          -236.6772872872873,
          -237.678058058058,
          -238.67882882882884,
          -239.67959959959956,
          -240.68037037037038,
          -241.6811411411411,
          -242.68191191191193,
          -243.68268268268264,
          -244.68345345345347,
          -245.68422422422418,
          -246.684994994995,
          -247.68576576576572,
          -248.68653653653655,
          -249.68730730730726,
          -250.6880780780781,
          -251.6888488488488,
          -252.68961961961963,
          -253.69039039039035,
          -254.69116116116118,
          -255.6919319319319,
          -256.6927027027027,
          -257.69347347347343,
          -258.69424424424426,
          -259.695015015015,
          -260.6957857857858,
          -261.6965565565565,
          -262.69732732732734,
          -263.69809809809806,
          -264.6988688688689,
          -265.6996396396396,
          -266.7004104104104,
          -267.70118118118114,
          -268.70195195195186,
          -269.7027227227227,
          -270.7034934934934,
          -271.7042642642642,
          -272.70503503503494,
          -273.70580580580577,
          -274.7065765765765,
          -275.7073473473473,
          -276.708118118118,
          -277.70888888888885,
          -278.70965965965956,
          -279.7104304304304,
          -280.7112012012011,
          -281.71197197197193,
          -282.71274274274265,
          -283.7135135135135,
          -284.7142842842842,
          -285.715055055055,
          -286.71582582582573,
          -287.71659659659656,
          -288.7173673673673,
          -289.7181381381381,
          -290.7189089089088,
          -291.71967967967964,
          -292.72045045045036,
          -293.7212212212212,
          -294.7219919919919,
          -295.7227627627627,
          -296.72353353353344,
          -297.72430430430427,
          -298.725075075075,
          -299.7258458458458,
          -300.7266166166165,
          -301.72738738738735,
          -302.72815815815807,
          -303.7289289289289,
          -304.7296996996996,
          -305.73047047047044,
          -306.73124124124115,
          -307.732012012012,
          -308.7327827827827,
          -309.7335535535535,
          -310.73432432432423,
          -311.73509509509506,
          -312.7358658658658,
          -313.7366366366366,
          -314.7374074074073,
          -315.73817817817815,
          -316.73894894894886,
          -317.7397197197197,
          -318.7404904904904,
          -319.74126126126123,
          -320.74203203203194,
          -321.74280280280277,
          -322.7435735735735,
          -323.7443443443443,
          -324.745115115115,
          -325.74588588588585,
          -326.74665665665657,
          -327.7474274274274,
          -328.7481981981981,
          -329.74896896896894,
          -330.74973973973965,
          -331.7505105105105,
          -332.7512812812812,
          -333.752052052052,
          -334.75282282282274,
          -335.75359359359356,
          -336.7543643643643,
          -337.7551351351351,
          -338.7559059059058,
          -339.75667667667665,
          -340.75744744744736,
          -341.7582182182182,
          -342.7589889889889,
          -343.75975975975973,
          -344.76053053053045,
          -345.7613013013013,
          -346.762072072072,
          -347.7628428428428,
          -348.76361361361353,
          -349.76438438438436,
          -350.76515515515507,
          -351.7659259259259,
          -352.7666966966966,
          -353.76746746746744,
          -354.76823823823815,
          -355.769009009009,
          -356.7697797797797,
          -357.7705505505505,
          -358.77132132132124,
          -359.77209209209207,
          -360.7728628628628,
          -361.7736336336336,
          -362.7744044044043,
          -363.77517517517515,
          -364.77594594594586,
          -365.7767167167167,
          -366.7774874874874,
          -367.77825825825823,
          -368.77902902902895,
          -369.7797997997998,
          -370.7805705705705,
          -371.7813413413413,
          -372.78211211211203,
          -373.78288288288286,
          -374.7836536536536,
          -375.7844244244244,
          -376.7851951951951,
          -377.78596596596594,
          -378.78673673673666,
          -379.7875075075075,
          -380.7882782782782,
          -381.789049049049,
          -382.78981981981974,
          -383.79059059059057,
          -384.7913613613613,
          -385.7921321321321,
          -386.7929029029028,
          -387.79367367367365,
          -388.79444444444437,
          -389.7952152152152,
          -390.7959859859859,
          -391.79675675675674,
          -392.79752752752745,
          -393.7982982982983,
          -394.799069069069,
          -395.7998398398398,
          -396.80061061061053,
          -397.80138138138136,
          -398.8021521521521,
          -399.8029229229229,
          -400.8036936936936,
          -401.80446446446444,
          -402.80523523523516,
          -403.806006006006,
          -404.8067767767767,
          -405.80754754754753,
          -406.80831831831824,
          -407.80908908908907,
          -408.8098598598598,
          -409.8106306306306,
          -410.8114014014013,
          -411.81217217217215,
          -412.81294294294287,
          -413.8137137137137,
          -414.8144844844844,
          -415.81525525525524,
          -416.81602602602595,
          -417.8167967967968,
          -418.8175675675675,
          -419.8183383383383,
          -420.81910910910904,
          -421.81987987987986,
          -422.8206506506506,
          -423.8214214214214,
          -424.8221921921921,
          -425.82296296296295,
          -426.82373373373366,
          -427.8245045045045,
          -428.8252752752752,
          -429.82604604604603,
          -430.82681681681674,
          -431.8275875875876,
          -432.8283583583583,
          -433.8291291291291,
          -434.82989989989983,
          -435.83067067067066,
          -436.83144144144137,
          -437.8322122122122,
          -438.8329829829829,
          -439.83375375375374,
          -440.83452452452445,
          -441.8352952952953,
          -442.836066066066,
          -443.8368368368368,
          -444.83760760760754,
          -445.83837837837837,
          -446.8391491491491,
          -447.8399199199199,
          -448.8406906906906,
          -449.84146146146145,
          -450.84223223223216,
          -451.843003003003,
          -452.8437737737737,
          -453.84454454454453,
          -454.84531531531525,
          -455.8460860860861,
          -456.8468568568568,
          -457.8476276276276,
          -458.84839839839833,
          -459.84916916916916,
          -460.8499399399399,
          -461.8507107107107,
          -462.8514814814814,
          -463.85225225225224,
          -464.85302302302296,
          -465.8537937937938,
          -466.8545645645645,
          -467.8553353353353,
          -468.85610610610604,
          -469.85687687687687,
          -470.8576476476476,
          -471.8584184184184,
          -472.8591891891891,
          -473.85995995995995,
          -474.86073073073067,
          -475.8615015015015,
          -476.8622722722722,
          -477.86304304304304,
          -478.86381381381375,
          -479.8645845845846,
          -480.8653553553553,
          -481.8661261261261,
          -482.86689689689683,
          -483.86766766766766,
          -484.8684384384384,
          -485.8692092092092,
          -486.8699799799799,
          -487.87075075075074,
          -488.87152152152146,
          -489.8722922922923,
          -490.873063063063,
          -491.8738338338338,
          -492.87460460460454,
          -493.87537537537537,
          -494.8761461461461,
          -495.8769169169169,
          -496.8776876876876,
          -497.87845845845845,
          -498.87922922922917,
          -499.88
         ],
         "y": [
          56.76012627464188,
          56.70468580881082,
          56.64935877914071,
          56.59414518563153,
          56.53904502828328,
          56.48405830709598,
          56.4291850220696,
          56.37442517320416,
          56.31977876049965,
          56.26524578395609,
          56.21082624357345,
          56.15652013935175,
          56.102327471290984,
          56.04824823939116,
          55.99428244365226,
          55.94043008407429,
          55.88669116065727,
          55.83306567340118,
          55.779553622306025,
          55.7261550073718,
          55.67286982859852,
          55.619698085986165,
          55.56663977953475,
          55.51369490924427,
          55.46086347511472,
          55.408145477146114,
          55.35554091533844,
          55.3030497896917,
          55.25067210020589,
          55.19840784688102,
          55.14625702971708,
          55.09421964871407,
          55.042295703872014,
          54.99048519519088,
          54.93878812267069,
          54.88720448631142,
          54.835734286113095,
          54.7843775220757,
          54.733134194199245,
          54.68200430248372,
          54.63098784692914,
          54.58008482753549,
          54.529295244302766,
          54.47861909723098,
          54.42805638632014,
          54.37760711157022,
          54.32727127298125,
          54.2770488705532,
          54.2269399042861,
          54.176944374179925,
          54.12706228023469,
          54.077293622450384,
          54.027638400827016,
          53.978096615364585,
          53.928668266063085,
          53.87935335292252,
          53.830151875942896,
          53.7810638351242,
          53.73208923046644,
          53.683228061969615,
          53.63448032963373,
          53.58584603345878,
          53.537325173444756,
          53.48891774959168,
          53.44062376189953,
          53.39244321036831,
          53.34437609499804,
          53.2964224157887,
          53.248582172740285,
          53.20085536585281,
          53.15324199512627,
          53.105742060560665,
          53.058355562155995,
          53.01108249991226,
          52.96392287382947,
          52.9168766839076,
          52.869943930146675,
          52.82312461254668,
          52.77641873110762,
          52.729826285829496,
          52.683347276712304,
          52.63698170375605,
          52.59072956696073,
          52.544590866326345,
          52.498565601852896,
          52.45265377354038,
          52.4068553813888,
          52.36117042539816,
          52.31559890556845,
          52.27014082189967,
          52.224796174391834,
          52.179564963044925,
          52.13444718785895,
          52.089442848833926,
          52.04455194596982,
          51.999774479266655,
          51.955110448724426,
          51.910559854343134,
          51.86612269612277,
          51.82179897406335,
          51.777588688164855,
          51.7334918384273,
          51.68950842485068,
          51.645638447435,
          51.60188190618024,
          51.55823880108643,
          51.51470913215355,
          51.4712928993816,
          51.427990102770586,
          51.384800742320515,
          51.34172481803137,
          51.29876232990317,
          51.25591327793589,
          51.21317766212956,
          51.170555482484154,
          51.12804673899969,
          51.085651431676155,
          51.04336956051357,
          51.001201125511905,
          50.95914612667117,
          50.91720456399138,
          50.875376437472525,
          50.833661747114604,
          50.79206049291762,
          50.75057267488157,
          50.70919829300645,
          50.667937347292266,
          50.626789837739025,
          50.58575576434671,
          50.544835127115334,
          50.504027926044884,
          50.463334161135386,
          50.42275383238681,
          50.38228693979917,
          50.34193348337247,
          50.3016934631067,
          50.26156687900187,
          50.22155373105797,
          50.18165401927501,
          50.14186774365298,
          50.10219490419189,
          50.06263550089173,
          50.02318953375251,
          49.98385700277422,
          49.94463790795687,
          49.90553224930045,
          49.86654002680496,
          49.82766124047042,
          49.7888958902968,
          49.750243976284125,
          49.71170549843238,
          49.67328045674157,
          49.634968851211696,
          49.59677068184276,
          49.55868594863476,
          49.52071465158769,
          49.482856790701554,
          49.44511236597636,
          49.40748137741209,
          49.36996382500877,
          49.33255970876637,
          49.29526902868491,
          49.25809178476439,
          49.2210279770048,
          49.184077605406145,
          49.147240669968426,
          49.11051717069164,
          49.07390710757579,
          49.03741048062088,
          49.0010272898269,
          48.964757535193854,
          48.928601216721745,
          48.892558334410566,
          48.85662888826033,
          48.82081287827103,
          48.785110304442654,
          48.74952116677522,
          48.71404546526872,
          48.67868319992316,
          48.643434370738525,
          48.60829897771483,
          48.573277020852075,
          48.53836850015024,
          48.50357341560935,
          48.4688917672294,
          48.43432355501038,
          48.399868778952296,
          48.36552743905514,
          48.33129953531893,
          48.29718506774365,
          48.2631840363293,
          48.22929644107589,
          48.195522281983415,
          48.16186155905187,
          48.12831427228127,
          48.0948804216716,
          48.061560007222866,
          48.02835302893506,
          47.995259486808195,
          47.96227938084226,
          47.929412711037266,
          47.89665947739321,
          47.86401967991008,
          47.83149331858789,
          47.799080393426635,
          47.76678090442631,
          47.73459485158693,
          47.70252223490847,
          47.67056305439095,
          47.63871731003437,
          47.60698500183873,
          47.57536612980402,
          47.54386069393024,
          47.5124686942174,
          47.48119013066549,
          47.45002500327452,
          47.41897331204448,
          47.388035056975376,
          47.35721023806721,
          47.32649885531998,
          47.295900908733685,
          47.26541639830832,
          47.235045324043895,
          47.2047876859404,
          47.17464348399784,
          47.14461271821622,
          47.11469538859553,
          47.08489149513578,
          47.05520103783696,
          47.025624016699076,
          46.99616043172213,
          46.96681028290612,
          46.93757357025104,
          46.9084502937569,
          46.87944045342369,
          46.85054404925142,
          46.821761081240076,
          46.79309154938967,
          46.764535453700205,
          46.736092794171675,
          46.707763570804076,
          46.67954778359741,
          46.65144543255168,
          46.62345651766689,
          46.59558103894303,
          46.567818996380105,
          46.540170389978115,
          46.512635219737064,
          46.48521348565694,
          46.45790518773776,
          46.43071032597951,
          46.403628900382195,
          46.376660910945816,
          46.349806357670374,
          46.32306524055586,
          46.29643755960229,
          46.26992331480965,
          46.243522506177946,
          46.21723513370718,
          46.19106119739734,
          46.165000697248445,
          46.139053633260474,
          46.11322000543345,
          46.08749981376735,
          46.06189305826219,
          46.03639973891797,
          46.01101985573468,
          45.98575340871233,
          45.960600397850904,
          45.93556082315042,
          45.91063468461087,
          45.88582198223225,
          45.86112271601457,
          45.83653688595783,
          45.812064492062014,
          45.78770553432714,
          45.7634600127532,
          45.7393279273402,
          45.71530927808813,
          45.69140406499699,
          45.66761228806679,
          45.64393394729752,
          45.62036904268919,
          45.59691757424179,
          45.57357954195533,
          45.55035494582981,
          45.52724378586522,
          45.50424606206156,
          45.48136177441884,
          45.458590922937056,
          45.435933507616205,
          45.413389528456285,
          45.3909589854573,
          45.36864187861926,
          45.34643820794215,
          45.32434797342597,
          45.30237117507073,
          45.28050781287642,
          45.25875788684305,
          45.237121396970615,
          45.21559834325911,
          45.19418872570854,
          45.17289254431891,
          45.15170979909021,
          45.13064049002245,
          45.109684617115626,
          45.08884218036973,
          45.068113179784774,
          45.047497615360754,
          45.026995487097665,
          45.00660679499551,
          44.9863315390543,
          44.96616971927401,
          44.94612133565467,
          44.92618638819626,
          44.90636487689878,
          44.886656801762236,
          44.867062162786624,
          44.84758095997195,
          44.82821319331821,
          44.80895886282541,
          44.789817968493544,
          44.77079051032261,
          44.75187648831261,
          44.73307590246355,
          44.71438875277542,
          44.69581503924823,
          44.67735476188197,
          44.65900792067664,
          44.64077451563226,
          44.622654546748805,
          44.60464801402629,
          44.5867549174647,
          44.568975257064054,
          44.55130903282434,
          44.53375624474556,
          44.51631689282772,
          44.498990977070804,
          44.481778497474835,
          44.464679454039796,
          44.44769384676569,
          44.430821675652524,
          44.41406294070029,
          44.39741764190899,
          44.38088577927862,
          44.36446735280919,
          44.3481623625007,
          44.33197080835314,
          44.31589269036652,
          44.299928008540824,
          44.28407676287607,
          44.26833895337225,
          44.25271458002937,
          44.23720364284742,
          44.2218061418264,
          44.20652207696632,
          44.19135144826718,
          44.17629425572897,
          44.16135049935169,
          44.14652017913535,
          44.13180329507995,
          44.117199847185475,
          44.10270983545194,
          44.08833325987934,
          44.074070120467674,
          44.059920417216944,
          44.04588415012715,
          44.03196131919829,
          44.01815192443036,
          44.00445596582337,
          43.99087344337732,
          43.97740435709219,
          43.96404870696801,
          43.950806493004755,
          43.93767771520244,
          43.92466237356106,
          43.911760468080615,
          43.898971998761105,
          43.886296965602526,
          43.87373536860488,
          43.86128720776818,
          43.848952483092404,
          43.83673119457757,
          43.82462334222367,
          43.812628926030705,
          43.80074794599867,
          43.78898040212757,
          43.77732629441741,
          43.76578562286819,
          43.7543583874799,
          43.74304458825254,
          43.731844225186116,
          43.72075729828063,
          43.70978380753608,
          43.69892375295246,
          43.688177134529774,
          43.67754395226803,
          43.66702420616722,
          43.65661789622734,
          43.646325022448394,
          43.63614558483039,
          43.62607958337332,
          43.61612701807718,
          43.60628788894198,
          43.59656219596771,
          43.58694993915437,
          43.577451118501976,
          43.56806573401052,
          43.55879378567999,
          43.54963527351039,
          43.540590197501736,
          43.53165855765401,
          43.522840353967226,
          43.51413558644137,
          43.50554425507645,
          43.49706635987247,
          43.48870190082942,
          43.480450877947305,
          43.47231329122613,
          43.46428914066588,
          43.456378426266575,
          43.448581148028204,
          43.44089730595076,
          43.43332690003426,
          43.425869930278694,
          43.41852639668406,
          43.41129629925036,
          43.40417963797759,
          43.39717641286576,
          43.39028662391487,
          43.38351027112491,
          43.37684735449589,
          43.3702978740278,
          43.36386182972064,
          43.35753922157442,
          43.35133004958914,
          43.34523431376479,
          43.339252014101376,
          43.3333831505989,
          43.32762772325735,
          43.32198573207674,
          43.31645717705707,
          43.311042058198325,
          43.30574037550052,
          43.30055212896365,
          43.295477318587714,
          43.290515944372714,
          43.28566800631865,
          43.28093350442552,
          43.276312438693324,
          43.27180480912207,
          43.26741061571174,
          43.26312985846235,
          43.25896253737389,
          43.254908652446375,
          43.25096820367979,
          43.247141191074135,
          43.24342761462942,
          43.23982747434564,
          43.236340770222796,
          43.232967502260884,
          43.22970767045991,
          43.226561274819865,
          43.22352831534076,
          43.22060879202259,
          43.21780270486535,
          43.21511005386905,
          43.21253083903368,
          43.210065060359256,
          43.20771271784576,
          43.20547381149319,
          43.20334834130157,
          43.20133630727088,
          43.19943770940112,
          43.1976525476923,
          43.19598082214441,
          43.19442253275746,
          43.192977679531445,
          43.191646262466364,
          43.19042828156221,
          43.189323736819,
          43.18833262823672,
          43.18745495581538,
          43.186690719554974,
          43.1860399194555,
          43.18550255551696,
          43.185078627739365,
          43.18476813612269,
          43.18457108066696,
          43.184487461372164,
          43.1845172782383,
          43.18466053126537,
          43.18491722045338,
          43.18528734580232,
          43.185770907312204,
          43.186367904983015,
          43.18707833881476,
          43.187902208807444,
          43.18883951496106,
          43.189890257275614,
          43.1910544357511,
          43.19233205038752,
          43.19372310118488,
          43.19522758814317,
          43.196845511262396,
          43.19857687054255,
          43.200421665983654,
          43.202379897585686,
          43.20445156534865,
          43.20663666927255,
          43.208935209357385,
          43.21134718560316,
          43.213872598009864,
          43.216511446577506,
          43.21926373130608,
          43.222129452195595,
          43.225108609246035,
          43.22820120245742,
          43.231407231829735,
          43.23472669736299,
          43.23815959905717,
          43.24170593691229,
          43.24536571092835,
          43.249138921105335,
          43.25302556744327,
          43.25702564994212,
          43.26113916860192,
          43.26536612342265,
          43.26970651440431,
          43.27416034154692,
          43.27872760485045,
          43.28340830431492,
          43.28820243994033,
          43.29311001172667,
          43.29813101967394,
          43.30326546378215,
          43.30851334405129,
          43.313874660481375,
          43.31934941307239,
          43.32493760182434,
          43.330639226737226,
          43.336454287811044,
          43.3423827850458,
          43.348424718441485,
          43.35458008799811,
          43.36084889371567,
          43.36723113559416,
          43.373726813633596,
          43.380335927833954,
          43.38705847819526,
          43.39389446471749,
          43.40084388740066,
          43.40790674624476,
          43.4150830412498,
          43.42237277241578,
          43.42977593974268,
          43.43729254323053,
          43.44492258287931,
          43.45266605868902,
          43.46052297065967,
          43.46849331879125,
          43.47657710308377,
          43.48477432353722,
          43.49308498015161,
          43.501509072926936,
          43.510046601863195,
          43.518697566960384,
          43.52746196821851,
          43.536339805637574,
          43.545331079217576,
          43.55443578895851,
          43.563653934860376,
          43.572985516923175,
          43.58243053514691,
          43.591988989531586,
          43.6016608800772,
          43.61144620678374,
          43.62134496965121,
          43.63135716867963,
          43.641482803868975,
          43.65172187521926,
          43.662074382730474,
          43.672540326402626,
          43.683119706235715,
          43.693812522229734,
          43.70461877438469,
          43.715538462700586,
          43.72657158717741,
          43.73771814781517,
          43.74897814461387,
          43.7603515775735,
          43.77183844669407,
          43.78343875197557,
          43.79515249341801,
          43.80697967102138,
          43.81892028478568,
          43.83097433471092,
          43.8431418207971,
          43.855422743044215,
          43.86781710145226,
          43.88032489602124,
          43.892946126751156,
          43.905680793642006,
          43.91852889669379,
          43.93149043590651,
          43.944565411280166,
          43.95775382281476,
          43.97105567051028,
          43.98447095436675,
          43.99799967438414,
          44.011641830562475,
          44.02539742290174,
          44.039266451401936,
          44.053248916063076,
          44.06734481688515,
          44.08155415386815,
          44.09587692701209,
          44.11031313631696,
          44.124862781782774,
          44.13952586340952,
          44.1543023811972,
          44.169192335145816,
          44.184195725255364,
          44.19931255152585,
          44.214542813957266,
          44.229886512549626,
          44.24534364730292,
          44.26091421821714,
          44.2765982252923,
          44.29239566852839,
          44.30830654792542,
          44.32433086348338,
          44.34046861520228,
          44.35671980308212,
          44.37308442712289,
          44.38956248732459,
          44.40615398368723,
          44.42285891621081,
          44.43967728489532,
          44.45660908974076,
          44.47365433074714,
          44.490813007914454,
          44.5080851212427,
          44.525470670731885,
          44.542969656382006,
          44.56058207819306,
          44.57830793616505,
          44.596147230297966,
          44.61409996059183,
          44.63216612704662,
          44.65034572966235,
          44.66863876843901,
          44.68704524337661,
          44.70556515447514,
          44.72419850173461,
          44.74294528515501,
          44.76180550473635,
          44.78077916047862,
          44.79986625238183,
          44.81906678044597,
          44.838380744671056,
          44.857808145057064,
          44.877348981604015,
          44.8970032543119,
          44.91677096318071,
          44.93665210821047,
          44.956646689401154,
          44.97675470675277,
          44.99697616026533,
          45.017311049938826,
          45.03775937577325,
          45.058321137768615,
          45.07899633592491,
          45.09978497024214,
          45.12068704072031,
          45.14170254735941,
          45.16283149015945,
          45.18407386912042,
          45.205429684242326,
          45.22689893552517,
          45.248481622968946,
          45.27017774657366,
          45.2919873063393,
          45.31391030226588,
          45.3359467343534,
          45.35809660260185,
          45.38035990701124,
          45.402736647581555,
          45.425226824312816,
          45.447830437205006,
          45.470547486258134,
          45.49337797147219,
          45.51632189284719,
          45.53937925038312,
          45.562550044079984,
          45.585834273937785,
          45.60923193995652,
          45.63274304213619,
          45.6563675804768,
          45.68010555497834,
          45.70395696564081,
          45.727921812464224,
          45.75200009544857,
          45.77619181459385,
          45.80049696990007,
          45.82491556136721,
          45.849447588995304,
          45.87409305278432,
          45.898851952734276,
          45.923724288845165,
          45.94871006111699,
          45.97380926954975,
          45.99902191414345,
          46.02434799489807,
          46.04978751181364,
          46.07534046489014,
          46.101006854127576,
          46.12678667952594,
          46.152679941085246,
          46.17868663880549,
          46.20480677268666,
          46.23104034272877,
          46.257387348931815,
          46.28384779129579,
          46.310421669820705,
          46.33710898450656,
          46.36390973535334,
          46.39082392236106,
          46.417851545529714,
          46.4449926048593,
          46.472247100349826,
          46.49961503200129,
          46.52709639981368,
          46.55469120378701,
          46.58239944392127,
          46.610221120216465,
          46.6381562326726,
          46.66620478128967,
          46.694366766067674,
          46.72264218700661,
          46.75103104410648,
          46.77953333736729,
          46.808149066789035,
          46.83687823237172,
          46.86572083411533,
          46.89467687201987,
          46.92374634608536,
          46.952929256311776,
          46.98222560269913,
          47.011635385247416,
          47.04115860395664,
          47.0707952588268,
          47.10054534985789,
          47.130408877049916,
          47.16038584040288,
          47.19047623991678,
          47.22068007559161,
          47.25099734742737,
          47.28142805542408,
          47.31197219958172,
          47.342629779900285,
          47.37340079637979,
          47.40428524902023,
          47.435283137821614,
          47.466394462783924,
          47.49761922390717,
          47.52895742119135,
          47.560409054636466,
          47.59197412424252,
          47.62365263000951,
          47.65544457193742,
          47.68734995002629,
          47.719368764276076,
          47.7515010146868,
          47.783746701258465,
          47.81610582399106,
          47.84857838288459,
          47.88116437793906,
          47.913863809154456,
          47.94667667653079,
          47.979602980068066,
          48.01264271976627,
          48.04579589562541,
          48.07906250764549,
          48.1124425558265,
          48.14593604016844,
          48.17954296067132,
          48.21326331733514,
          48.247097110159885,
          48.28104433914557,
          48.31510500429219,
          48.34927910559975,
          48.383566643068235,
          48.417967616697666,
          48.45248202648803,
          48.48710987243932,
          48.52185115455155,
          48.556705872824715,
          48.59167402725882,
          48.62675561785385,
          48.66195064460982,
          48.697259107526726,
          48.732681006604565,
          48.76821634184334,
          48.80386511324305,
          48.83962732080369,
          48.87550296452527,
          48.91149204440779,
          48.947594560451236,
          48.98381051265562,
          49.02013990102094,
          49.056582725547194,
          49.09313898623438,
          49.12980868308251,
          49.16659181609157,
          49.20348838526156,
          49.240498390592485,
          49.27762183208435,
          49.31485870973715,
          49.352209023550884,
          49.389672773525554,
          49.42724995966116,
          49.46494058195769,
          49.50274464041517,
          49.54066213503358,
          49.57869306581292,
          49.6168374327532,
          49.65509523585441,
          49.69346647511656,
          49.73195115053964,
          49.77054926212366,
          49.80926080986862,
          49.8480857937745,
          49.88702421384133,
          49.92607607006908,
          49.965241362457775,
          50.0045200910074,
          50.04391225571797,
          50.08341785658946,
          50.1230368936219,
          50.16276936681526,
          50.20261527616957,
          50.2425746216848,
          50.282647403360976,
          50.322833621198086,
          50.36313327519613,
          50.403546365355105,
          50.44407289167501,
          50.48471285415586,
          50.52546625279764,
          50.566333087600356,
          50.607313358564014,
          50.6484070656886,
          50.68961420897412,
          50.730934788420576,
          50.77236880402797,
          50.81391625579629,
          50.85557714372556,
          50.89735146781575,
          50.93923922806689,
          50.98124042447895,
          51.02335505705196,
          51.065583125785885,
          51.10792463068076,
          51.150379571736565,
          51.19294794895331,
          51.23562976233099,
          51.278425011869594,
          51.32133369756914,
          51.36435581942962,
          51.40749137745104,
          51.45074037163339,
          51.49410280197667,
          51.5375786684809,
          51.58116797114605,
          51.62487070997214,
          51.668686884959165,
          51.71261649610713,
          51.75665954341602,
          51.800816026885855,
          51.84508594651662,
          51.88946930230832,
          51.93396609426095,
          51.97857632237452,
          52.02329998664902,
          52.068137087084466,
          52.11308762368084,
          52.15815159643815,
          52.203329005356395,
          52.248619850435574,
          52.29402413167569,
          52.33954184907674,
          52.38517300263872,
          52.430917592361645,
          52.4767756182455,
          52.52274708029029,
          52.56883197849601,
          52.61503031286267,
          52.66134208339027,
          52.70776729007879,
          52.75430593292826,
          52.80095801193866,
          52.84772352710999,
          52.894602478442266,
          52.941594865935464,
          52.988700689589606,
          53.03591994940467,
          53.08325264538069,
          53.13069877751763,
          53.17825834581551,
          53.22593135027432,
          53.273717790894075,
          53.32161766767475,
          53.36963098061638,
          53.41775772971893,
          53.46599791498242,
          53.514351536406835,
          53.5628185939922,
          53.61139908773849,
          53.66009301764572,
          53.70890038371388,
          53.75782118594298,
          53.80685542433301,
          53.85600309888398,
          53.90526420959588,
          53.954638756468725,
          54.00412673950249,
          54.0537281586972,
          54.10344301405284,
          54.15327130556942,
          54.203213033246925,
          54.253268197085376,
          54.30343679708476,
          54.35371883324508,
          54.40411430556633,
          54.45462321404852,
          54.50524555869164,
          54.5559813394957,
          54.606830556460686,
          54.657793209586615,
          54.70886929887347,
          54.76005882432128,
          54.81136178593,
          54.862778183699675,
          54.914308017630276,
          54.965951287721815,
          55.017707993974284,
          55.06957813638769,
          55.12156171496203,
          55.17365872969731,
          55.22586918059352,
          55.27819306765066,
          55.33063039086874,
          55.383181150247765,
          55.43584534578771,
          55.4886229774886,
          55.54151404535042,
          55.59451854937318,
          55.64763648955687,
          55.70086786590149,
          55.75421267840705,
          55.807670927073545,
          55.86124261190098,
          55.914927732889346,
          55.968726290038646,
          56.02263828334888,
          56.07666371282005,
          56.130802578452155,
          56.18505488024519,
          56.23942061819917,
          56.29389979231408,
          56.348492402589926,
          56.4031984490267,
          56.458017931624426,
          56.51295085038307,
          56.56799720530266,
          56.62315699638317,
          56.67843022362463,
          56.73381688702702,
          56.78931698659034,
          56.8449305223146,
          56.9006574941998,
          56.95649790224593,
          57.012451746452996,
          57.068519026820994,
          57.12469974334993,
          57.180993896039794,
          57.2374014848906,
          57.29392250990234,
          57.350556971075015,
          57.407304868408616,
          57.46416620190317,
          57.52114097155864,
          57.57822917737506,
          57.63543081935241,
          57.692745897490695,
          57.75017441178991,
          57.80771636225006,
          57.86537174887115,
          57.92314057165318
         ]
        }
       ],
       "layout": {
        "autosize": true,
        "template": {
         "data": {
          "bar": [
           {
            "error_x": {
             "color": "#2a3f5f"
            },
            "error_y": {
             "color": "#2a3f5f"
            },
            "marker": {
             "line": {
              "color": "#E5ECF6",
              "width": 0.5
             }
            },
            "type": "bar"
           }
          ],
          "barpolar": [
           {
            "marker": {
             "line": {
              "color": "#E5ECF6",
              "width": 0.5
             }
            },
            "type": "barpolar"
           }
          ],
          "carpet": [
           {
            "aaxis": {
             "endlinecolor": "#2a3f5f",
             "gridcolor": "white",
             "linecolor": "white",
             "minorgridcolor": "white",
             "startlinecolor": "#2a3f5f"
            },
            "baxis": {
             "endlinecolor": "#2a3f5f",
             "gridcolor": "white",
             "linecolor": "white",
             "minorgridcolor": "white",
             "startlinecolor": "#2a3f5f"
            },
            "type": "carpet"
           }
          ],
          "choropleth": [
           {
            "colorbar": {
             "outlinewidth": 0,
             "ticks": ""
            },
            "type": "choropleth"
           }
          ],
          "contour": [
           {
            "colorbar": {
             "outlinewidth": 0,
             "ticks": ""
            },
            "colorscale": [
             [
              0,
              "#0d0887"
             ],
             [
              0.1111111111111111,
              "#46039f"
             ],
             [
              0.2222222222222222,
              "#7201a8"
             ],
             [
              0.3333333333333333,
              "#9c179e"
             ],
             [
              0.4444444444444444,
              "#bd3786"
             ],
             [
              0.5555555555555556,
              "#d8576b"
             ],
             [
              0.6666666666666666,
              "#ed7953"
             ],
             [
              0.7777777777777778,
              "#fb9f3a"
             ],
             [
              0.8888888888888888,
              "#fdca26"
             ],
             [
              1,
              "#f0f921"
             ]
            ],
            "type": "contour"
           }
          ],
          "contourcarpet": [
           {
            "colorbar": {
             "outlinewidth": 0,
             "ticks": ""
            },
            "type": "contourcarpet"
           }
          ],
          "heatmap": [
           {
            "colorbar": {
             "outlinewidth": 0,
             "ticks": ""
            },
            "colorscale": [
             [
              0,
              "#0d0887"
             ],
             [
              0.1111111111111111,
              "#46039f"
             ],
             [
              0.2222222222222222,
              "#7201a8"
             ],
             [
              0.3333333333333333,
              "#9c179e"
             ],
             [
              0.4444444444444444,
              "#bd3786"
             ],
             [
              0.5555555555555556,
              "#d8576b"
             ],
             [
              0.6666666666666666,
              "#ed7953"
             ],
             [
              0.7777777777777778,
              "#fb9f3a"
             ],
             [
              0.8888888888888888,
              "#fdca26"
             ],
             [
              1,
              "#f0f921"
             ]
            ],
            "type": "heatmap"
           }
          ],
          "heatmapgl": [
           {
            "colorbar": {
             "outlinewidth": 0,
             "ticks": ""
            },
            "colorscale": [
             [
              0,
              "#0d0887"
             ],
             [
              0.1111111111111111,
              "#46039f"
             ],
             [
              0.2222222222222222,
              "#7201a8"
             ],
             [
              0.3333333333333333,
              "#9c179e"
             ],
             [
              0.4444444444444444,
              "#bd3786"
             ],
             [
              0.5555555555555556,
              "#d8576b"
             ],
             [
              0.6666666666666666,
              "#ed7953"
             ],
             [
              0.7777777777777778,
              "#fb9f3a"
             ],
             [
              0.8888888888888888,
              "#fdca26"
             ],
             [
              1,
              "#f0f921"
             ]
            ],
            "type": "heatmapgl"
           }
          ],
          "histogram": [
           {
            "marker": {
             "colorbar": {
              "outlinewidth": 0,
              "ticks": ""
             }
            },
            "type": "histogram"
           }
          ],
          "histogram2d": [
           {
            "colorbar": {
             "outlinewidth": 0,
             "ticks": ""
            },
            "colorscale": [
             [
              0,
              "#0d0887"
             ],
             [
              0.1111111111111111,
              "#46039f"
             ],
             [
              0.2222222222222222,
              "#7201a8"
             ],
             [
              0.3333333333333333,
              "#9c179e"
             ],
             [
              0.4444444444444444,
              "#bd3786"
             ],
             [
              0.5555555555555556,
              "#d8576b"
             ],
             [
              0.6666666666666666,
              "#ed7953"
             ],
             [
              0.7777777777777778,
              "#fb9f3a"
             ],
             [
              0.8888888888888888,
              "#fdca26"
             ],
             [
              1,
              "#f0f921"
             ]
            ],
            "type": "histogram2d"
           }
          ],
          "histogram2dcontour": [
           {
            "colorbar": {
             "outlinewidth": 0,
             "ticks": ""
            },
            "colorscale": [
             [
              0,
              "#0d0887"
             ],
             [
              0.1111111111111111,
              "#46039f"
             ],
             [
              0.2222222222222222,
              "#7201a8"
             ],
             [
              0.3333333333333333,
              "#9c179e"
             ],
             [
              0.4444444444444444,
              "#bd3786"
             ],
             [
              0.5555555555555556,
              "#d8576b"
             ],
             [
              0.6666666666666666,
              "#ed7953"
             ],
             [
              0.7777777777777778,
              "#fb9f3a"
             ],
             [
              0.8888888888888888,
              "#fdca26"
             ],
             [
              1,
              "#f0f921"
             ]
            ],
            "type": "histogram2dcontour"
           }
          ],
          "mesh3d": [
           {
            "colorbar": {
             "outlinewidth": 0,
             "ticks": ""
            },
            "type": "mesh3d"
           }
          ],
          "parcoords": [
           {
            "line": {
             "colorbar": {
              "outlinewidth": 0,
              "ticks": ""
             }
            },
            "type": "parcoords"
           }
          ],
          "pie": [
           {
            "automargin": true,
            "type": "pie"
           }
          ],
          "scatter": [
           {
            "marker": {
             "colorbar": {
              "outlinewidth": 0,
              "ticks": ""
             }
            },
            "type": "scatter"
           }
          ],
          "scatter3d": [
           {
            "line": {
             "colorbar": {
              "outlinewidth": 0,
              "ticks": ""
             }
            },
            "marker": {
             "colorbar": {
              "outlinewidth": 0,
              "ticks": ""
             }
            },
            "type": "scatter3d"
           }
          ],
          "scattercarpet": [
           {
            "marker": {
             "colorbar": {
              "outlinewidth": 0,
              "ticks": ""
             }
            },
            "type": "scattercarpet"
           }
          ],
          "scattergeo": [
           {
            "marker": {
             "colorbar": {
              "outlinewidth": 0,
              "ticks": ""
             }
            },
            "type": "scattergeo"
           }
          ],
          "scattergl": [
           {
            "marker": {
             "colorbar": {
              "outlinewidth": 0,
              "ticks": ""
             }
            },
            "type": "scattergl"
           }
          ],
          "scattermapbox": [
           {
            "marker": {
             "colorbar": {
              "outlinewidth": 0,
              "ticks": ""
             }
            },
            "type": "scattermapbox"
           }
          ],
          "scatterpolar": [
           {
            "marker": {
             "colorbar": {
              "outlinewidth": 0,
              "ticks": ""
             }
            },
            "type": "scatterpolar"
           }
          ],
          "scatterpolargl": [
           {
            "marker": {
             "colorbar": {
              "outlinewidth": 0,
              "ticks": ""
             }
            },
            "type": "scatterpolargl"
           }
          ],
          "scatterternary": [
           {
            "marker": {
             "colorbar": {
              "outlinewidth": 0,
              "ticks": ""
             }
            },
            "type": "scatterternary"
           }
          ],
          "surface": [
           {
            "colorbar": {
             "outlinewidth": 0,
             "ticks": ""
            },
            "colorscale": [
             [
              0,
              "#0d0887"
             ],
             [
              0.1111111111111111,
              "#46039f"
             ],
             [
              0.2222222222222222,
              "#7201a8"
             ],
             [
              0.3333333333333333,
              "#9c179e"
             ],
             [
              0.4444444444444444,
              "#bd3786"
             ],
             [
              0.5555555555555556,
              "#d8576b"
             ],
             [
              0.6666666666666666,
              "#ed7953"
             ],
             [
              0.7777777777777778,
              "#fb9f3a"
             ],
             [
              0.8888888888888888,
              "#fdca26"
             ],
             [
              1,
              "#f0f921"
             ]
            ],
            "type": "surface"
           }
          ],
          "table": [
           {
            "cells": {
             "fill": {
              "color": "#EBF0F8"
             },
             "line": {
              "color": "white"
             }
            },
            "header": {
             "fill": {
              "color": "#C8D4E3"
             },
             "line": {
              "color": "white"
             }
            },
            "type": "table"
           }
          ]
         },
         "layout": {
          "annotationdefaults": {
           "arrowcolor": "#2a3f5f",
           "arrowhead": 0,
           "arrowwidth": 1
          },
          "coloraxis": {
           "colorbar": {
            "outlinewidth": 0,
            "ticks": ""
           }
          },
          "colorscale": {
           "diverging": [
            [
             0,
             "#8e0152"
            ],
            [
             0.1,
             "#c51b7d"
            ],
            [
             0.2,
             "#de77ae"
            ],
            [
             0.3,
             "#f1b6da"
            ],
            [
             0.4,
             "#fde0ef"
            ],
            [
             0.5,
             "#f7f7f7"
            ],
            [
             0.6,
             "#e6f5d0"
            ],
            [
             0.7,
             "#b8e186"
            ],
            [
             0.8,
             "#7fbc41"
            ],
            [
             0.9,
             "#4d9221"
            ],
            [
             1,
             "#276419"
            ]
           ],
           "sequential": [
            [
             0,
             "#0d0887"
            ],
            [
             0.1111111111111111,
             "#46039f"
            ],
            [
             0.2222222222222222,
             "#7201a8"
            ],
            [
             0.3333333333333333,
             "#9c179e"
            ],
            [
             0.4444444444444444,
             "#bd3786"
            ],
            [
             0.5555555555555556,
             "#d8576b"
            ],
            [
             0.6666666666666666,
             "#ed7953"
            ],
            [
             0.7777777777777778,
             "#fb9f3a"
            ],
            [
             0.8888888888888888,
             "#fdca26"
            ],
            [
             1,
             "#f0f921"
            ]
           ],
           "sequentialminus": [
            [
             0,
             "#0d0887"
            ],
            [
             0.1111111111111111,
             "#46039f"
            ],
            [
             0.2222222222222222,
             "#7201a8"
            ],
            [
             0.3333333333333333,
             "#9c179e"
            ],
            [
             0.4444444444444444,
             "#bd3786"
            ],
            [
             0.5555555555555556,
             "#d8576b"
            ],
            [
             0.6666666666666666,
             "#ed7953"
            ],
            [
             0.7777777777777778,
             "#fb9f3a"
            ],
            [
             0.8888888888888888,
             "#fdca26"
            ],
            [
             1,
             "#f0f921"
            ]
           ]
          },
          "colorway": [
           "#636efa",
           "#EF553B",
           "#00cc96",
           "#ab63fa",
           "#FFA15A",
           "#19d3f3",
           "#FF6692",
           "#B6E880",
           "#FF97FF",
           "#FECB52"
          ],
          "font": {
           "color": "#2a3f5f"
          },
          "geo": {
           "bgcolor": "white",
           "lakecolor": "white",
           "landcolor": "#E5ECF6",
           "showlakes": true,
           "showland": true,
           "subunitcolor": "white"
          },
          "hoverlabel": {
           "align": "left"
          },
          "hovermode": "closest",
          "mapbox": {
           "style": "light"
          },
          "paper_bgcolor": "white",
          "plot_bgcolor": "#E5ECF6",
          "polar": {
           "angularaxis": {
            "gridcolor": "white",
            "linecolor": "white",
            "ticks": ""
           },
           "bgcolor": "#E5ECF6",
           "radialaxis": {
            "gridcolor": "white",
            "linecolor": "white",
            "ticks": ""
           }
          },
          "scene": {
           "xaxis": {
            "backgroundcolor": "#E5ECF6",
            "gridcolor": "white",
            "gridwidth": 2,
            "linecolor": "white",
            "showbackground": true,
            "ticks": "",
            "zerolinecolor": "white"
           },
           "yaxis": {
            "backgroundcolor": "#E5ECF6",
            "gridcolor": "white",
            "gridwidth": 2,
            "linecolor": "white",
            "showbackground": true,
            "ticks": "",
            "zerolinecolor": "white"
           },
           "zaxis": {
            "backgroundcolor": "#E5ECF6",
            "gridcolor": "white",
            "gridwidth": 2,
            "linecolor": "white",
            "showbackground": true,
            "ticks": "",
            "zerolinecolor": "white"
           }
          },
          "shapedefaults": {
           "line": {
            "color": "#2a3f5f"
           }
          },
          "ternary": {
           "aaxis": {
            "gridcolor": "white",
            "linecolor": "white",
            "ticks": ""
           },
           "baxis": {
            "gridcolor": "white",
            "linecolor": "white",
            "ticks": ""
           },
           "bgcolor": "#E5ECF6",
           "caxis": {
            "gridcolor": "white",
            "linecolor": "white",
            "ticks": ""
           }
          },
          "title": {
           "x": 0.05
          },
          "xaxis": {
           "automargin": true,
           "gridcolor": "white",
           "linecolor": "white",
           "ticks": "",
           "title": {
            "standoff": 15
           },
           "zerolinecolor": "white",
           "zerolinewidth": 2
          },
          "yaxis": {
           "automargin": true,
           "gridcolor": "white",
           "linecolor": "white",
           "ticks": "",
           "title": {
            "standoff": 15
           },
           "zerolinecolor": "white",
           "zerolinewidth": 2
          }
         }
        },
        "title": {
         "text": "Dats965->979: DCbias with fit. Balance ratio = inf"
        },
        "xaxis": {
         "autorange": true,
         "range": [
          -1117.6445267237862,
          1117.6745267237861
         ],
         "title": {
          "text": "HQPC Bias /mV"
         },
         "type": "linear"
        },
        "yaxis": {
         "autorange": true,
         "range": [
          39.22606169891234,
          82.03121486734626
         ],
         "title": {
          "text": "Theta /mV (LP*200)"
         },
         "type": "linear"
        }
       }
      },
      "image/png": "[encoded data removed]",
      "text/html": [
       "<div>\n",
       "        \n",
       "        \n",
       "            <div id=\"916c45cc-dc20-4975-b83a-43facb66361b\" class=\"plotly-graph-div\" style=\"height:525px; width:100%;\"></div>\n",
       "            <script type=\"text/javascript\">\n",
       "                require([\"plotly\"], function(Plotly) {\n",
       "                    window.PLOTLYENV=window.PLOTLYENV || {};\n",
       "                    \n",
       "                if (document.getElementById(\"916c45cc-dc20-4975-b83a-43facb66361b\")) {\n",
       "                    Plotly.newPlot(\n",
       "                        '916c45cc-dc20-4975-b83a-43facb66361b',\n",
       "                        [{\"mode\": \"markers\", \"name\": \"Data\", \"type\": \"scatter\", \"x\": [999.79, 749.84, 499.89, 399.79, 300, 199.9, 99.796, 0, -99.793, -199.89, -299.99, -399.78, -499.88, -749.82, -999.76], \"y\": [78.20157997856212, 67.2722264407139, 56.10695114144249, 52.08745691495109, 49.43722297930108, 45.18474832554991, 42.84823247840744, 41.96083537356228, 43.6385340131798, 46.1454319072541, 49.76806169116204, 52.87208067834114, 57.29707618998149, 69.02774489042652, 79.29644119269632]}, {\"mode\": \"lines\", \"name\": \"Fit\", \"type\": \"scatter\", \"x\": [499.89, 498.8892292292292, 497.88845845845844, 496.8876876876877, 495.8869169169169, 494.88614614614613, 493.88537537537536, 492.8846046046046, 491.8838338338338, 490.88306306306305, 489.8822922922923, 488.8815215215215, 487.88075075075074, 486.87997997997996, 485.8792092092092, 484.8784384384384, 483.87766766766765, 482.8768968968969, 481.8761261261261, 480.87535535535534, 479.87458458458457, 478.8738138138138, 477.873043043043, 476.87227227227226, 475.8715015015015, 474.8707307307307, 473.86995995995994, 472.86918918918917, 471.8684184184184, 470.86764764764763, 469.86687687687686, 468.8661061061061, 467.8653353353353, 466.86456456456455, 465.8637937937938, 464.863023023023, 463.86225225225223, 462.86148148148146, 461.8607107107107, 460.8599399399399, 459.85916916916915, 458.8583983983984, 457.8576276276276, 456.85685685685684, 455.85608608608607, 454.8553153153153, 453.8545445445445, 452.85377377377375, 451.853003003003, 450.8522322322322, 449.85146146146144, 448.85069069069067, 447.8499199199199, 446.8491491491491, 445.84837837837836, 444.8476076076076, 443.8468368368368, 442.84606606606604, 441.8452952952953, 440.8445245245245, 439.84375375375373, 438.84298298298296, 437.8422122122122, 436.8414414414414, 435.84067067067065, 434.8398998998999, 433.8391291291291, 432.83835835835833, 431.83758758758756, 430.8368168168168, 429.836046046046, 428.83527527527525, 427.8345045045045, 426.8337337337337, 425.83296296296294, 424.83219219219217, 423.8314214214214, 422.8306506506506, 421.82987987987985, 420.8291091091091, 419.8283383383383, 418.82756756756754, 417.82679679679677, 416.826026026026, 415.82525525525523, 414.82448448448446, 413.8237137137137, 412.8229429429429, 411.82217217217215, 410.8214014014014, 409.8206306306306, 408.81985985985983, 407.81908908908906, 406.8183183183183, 405.8175475475475, 404.81677677677675, 403.816006006006, 402.81523523523526, 401.81446446446444, 400.8136936936937, 399.8129229229229, 398.8121521521522, 397.81138138138135, 396.81061061061064, 395.8098398398398, 394.8090690690691, 393.80829829829827, 392.80752752752755, 391.8067567567567, 390.805985985986, 389.8052152152152, 388.80444444444447, 387.80367367367364, 386.80290290290293, 385.8021321321321, 384.8013613613614, 383.80059059059056, 382.79981981981985, 381.799049049049, 380.7982782782783, 379.7975075075075, 378.79673673673676, 377.79596596596593, 376.7951951951952, 375.7944244244244, 374.7936536536537, 373.79288288288285, 372.79211211211214, 371.7913413413413, 370.7905705705706, 369.78979979979977, 368.78902902902905, 367.7882582582582, 366.7874874874875, 365.7867167167167, 364.78594594594597, 363.78517517517514, 362.7844044044044, 361.7836336336336, 360.7828628628629, 359.78209209209206, 358.78132132132134, 357.7805505505505, 356.7797797797798, 355.779009009009, 354.77823823823826, 353.77746746746743, 352.7766966966967, 351.7759259259259, 350.7751551551552, 349.77438438438435, 348.77361361361363, 347.7728428428428, 346.7720720720721, 345.77130130130126, 344.77053053053055, 343.7697597597597, 342.768988988989, 341.7682182182182, 340.76744744744747, 339.76667667667664, 338.7659059059059, 337.7651351351351, 336.7643643643644, 335.76359359359355, 334.76282282282284, 333.762052052052, 332.7612812812813, 331.76051051051047, 330.75973973973976, 329.75896896896893, 328.7581981981982, 327.7574274274274, 326.7566566566567, 325.75588588588585, 324.75511511511513, 323.7543443443443, 322.7535735735736, 321.75280280280276, 320.75203203203205, 319.7512612612612, 318.7504904904905, 317.7497197197197, 316.74894894894896, 315.74817817817814, 314.7474074074074, 313.7466366366366, 312.7458658658659, 311.74509509509505, 310.74432432432434, 309.7435535535535, 308.7427827827828, 307.742012012012, 306.74124124124126, 305.7404704704705, 304.7396996996997, 303.73892892892894, 302.73815815815817, 301.7373873873874, 300.73661661661663, 299.73584584584586, 298.7350750750751, 297.7343043043043, 296.73353353353355, 295.7327627627628, 294.731991991992, 293.73122122122123, 292.73045045045046, 291.7296796796797, 290.7289089089089, 289.72813813813815, 288.7273673673674, 287.7265965965966, 286.72582582582584, 285.72505505505507, 284.7242842842843, 283.7235135135135, 282.72274274274275, 281.721971971972, 280.7212012012012, 279.72043043043044, 278.71965965965967, 277.7188888888889, 276.7181181181181, 275.71734734734736, 274.7165765765766, 273.7158058058058, 272.71503503503504, 271.7142642642643, 270.7134934934935, 269.71272272272273, 268.71195195195196, 267.7111811811812, 266.7104104104104, 265.70963963963965, 264.7088688688689, 263.7080980980981, 262.70732732732733, 261.70655655655656, 260.7057857857858, 259.705015015015, 258.70424424424425, 257.7034734734735, 256.7027027027027, 255.70193193193194, 254.70116116116117, 253.7003903903904, 252.69961961961963, 251.69884884884885, 250.69807807807808, 249.6973073073073, 248.69653653653654, 247.69576576576577, 246.694994994995, 245.69422422422423, 244.69345345345346, 243.6926826826827, 242.69191191191192, 241.69114114114114, 240.69037037037037, 239.6895995995996, 238.68882882882883, 237.68805805805806, 236.6872872872873, 235.68651651651652, 234.68574574574575, 233.68497497497498, 232.6842042042042, 231.68343343343344, 230.68266266266266, 229.6818918918919, 228.68112112112112, 227.68035035035035, 226.67957957957958, 225.6788088088088, 224.67803803803804, 223.67726726726727, 222.6764964964965, 221.67572572572573, 220.67495495495496, 219.67418418418418, 218.6734134134134, 217.67264264264264, 216.67187187187187, 215.6711011011011, 214.67033033033033, 213.66955955955956, 212.6687887887888, 211.66801801801802, 210.66724724724725, 209.66647647647648, 208.6657057057057, 207.66493493493493, 206.66416416416416, 205.6633933933934, 204.66262262262262, 203.66185185185185, 202.66108108108108, 201.6603103103103, 200.65953953953954, 199.65876876876877, 198.657997997998, 197.65722722722722, 196.65645645645645, 195.65568568568568, 194.6549149149149, 193.65414414414414, 192.65337337337337, 191.6526026026026, 190.65183183183183, 189.65106106106106, 188.6502902902903, 187.64951951951952, 186.64874874874874, 185.64797797797797, 184.6472072072072, 183.64643643643643, 182.64566566566566, 181.6448948948949, 180.64412412412412, 179.64335335335335, 178.64258258258258, 177.6418118118118, 176.64104104104103, 175.64027027027026, 174.6394994994995, 173.63872872872872, 172.63795795795795, 171.63718718718718, 170.6364164164164, 169.63564564564564, 168.63487487487487, 167.6341041041041, 166.63333333333333, 165.63256256256255, 164.63179179179178, 163.631021021021, 162.63025025025024, 161.62947947947947, 160.6287087087087, 159.62793793793793, 158.62716716716716, 157.6263963963964, 156.62562562562562, 155.62485485485485, 154.62408408408407, 153.6233133133133, 152.62254254254253, 151.62177177177176, 150.621001001001, 149.62023023023022, 148.61945945945945, 147.61868868868868, 146.6179179179179, 145.61714714714714, 144.61637637637637, 143.6156056056056, 142.61483483483482, 141.61406406406405, 140.61329329329328, 139.6125225225225, 138.61175175175174, 137.61098098098097, 136.6102102102102, 135.60943943943943, 134.60866866866866, 133.60789789789789, 132.60712712712711, 131.60635635635634, 130.60558558558557, 129.6048148148148, 128.60404404404403, 127.60327327327326, 126.60250250250249, 125.60173173173172, 124.60096096096095, 123.60019019019018, 122.5994194194194, 121.59864864864863, 120.59787787787786, 119.59710710710709, 118.59633633633632, 117.59556556556555, 116.59479479479478, 115.59402402402407, 114.5932532532533, 113.59248248248252, 112.59171171171175, 111.59094094094098, 110.59017017017021, 109.58939939939944, 108.58862862862867, 107.5878578578579, 106.58708708708713, 105.58631631631636, 104.58554554554559, 103.58477477477481, 102.58400400400404, 101.58323323323327, 100.5824624624625, 99.58169169169173, 98.58092092092096, 97.58015015015019, 96.57937937937942, 95.57860860860865, 94.57783783783788, 93.5770670670671, 92.57629629629633, 91.57552552552556, 90.57475475475479, 89.57398398398402, 88.57321321321325, 87.57244244244248, 86.57167167167171, 85.57090090090094, 84.57013013013017, 83.5693593593594, 82.56858858858863, 81.56781781781785, 80.56704704704708, 79.56627627627631, 78.56550550550554, 77.56473473473477, 76.563963963964, 75.56319319319323, 74.56242242242246, 73.56165165165169, 72.56088088088092, 71.56011011011014, 70.55933933933937, 69.5585685685686, 68.55779779779783, 67.55702702702706, 66.55625625625629, 65.55548548548552, 64.55471471471475, 63.55394394394398, 62.55317317317321, 61.552402402402436, 60.551631631631665, 59.550860860860894, 58.55009009009012, 57.54931931931935, 56.54854854854858, 55.54777777777781, 54.54700700700704, 53.54623623623627, 52.5454654654655, 51.544694694694726, 50.543923923923955, 49.543153153153185, 48.542382382382414, 47.54161161161164, 46.54084084084087, 45.5400700700701, 44.53929929929933, 43.53852852852856, 42.53775775775779, 41.53698698698702, 40.536216216216246, 39.535445445445475, 38.534674674674704, 37.53390390390393, 36.53313313313316, 35.53236236236239, 34.53159159159162, 33.53082082082085, 32.53005005005008, 31.529279279279308, 30.528508508508537, 29.527737737737766, 28.526966966966995, 27.526196196196224, 26.525425425425453, 25.524654654654682, 24.52388388388391, 23.52311311311314, 22.52234234234237, 21.5215715715716, 20.520800800800828, 19.520030030030057, 18.519259259259286, 17.518488488488515, 16.517717717717744, 15.516946946946973, 14.516176176176202, 13.515405405405431, 12.51463463463466, 11.51386386386389, 10.513093093093119, 9.512322322322348, 8.511551551551577, 7.510780780780806, 6.510010010010035, 5.509239239239264, 4.508468468468493, 3.507697697697722, 2.506926926926951, 1.5061561561561803, 0.5053853853854093, -0.4953853853853616, -1.4961561561561325, -2.4969269269269034, -3.4976976976976744, -4.498468468468445, -5.499239239239216, -6.500010010009987, -7.500780780780758, -8.501551551551529, -9.5023223223223, -10.50309309309307, -11.503863863863842, -12.504634634634613, -13.505405405405327, -14.506176176176155, -15.506946946946869, -16.507717717717696, -17.50848848848841, -18.509259259259238, -19.510030030029952, -20.51080080080078, -21.511571571571494, -22.512342342342322, -23.513113113113036, -24.513883883883864, -25.514654654654578, -26.515425425425406, -27.51619619619612, -28.516966966966947, -29.51773773773766, -30.51850850850849, -31.519279279279203, -32.52005005005003, -33.520820820820745, -34.52159159159157, -35.52236236236229, -36.523133133133115, -37.52390390390383, -38.52467467467466, -39.52544544544537, -40.5262162162162, -41.52698698698691, -42.52775775775774, -43.528528528528454, -44.52929929929928, -45.530070070069996, -46.530840840840824, -47.53161161161154, -48.532382382382366, -49.53315315315308, -50.53392392392391, -51.53469469469462, -52.53546546546545, -53.536236236236164, -54.53700700700699, -55.537777777777706, -56.53854854854853, -57.53931931931925, -58.540090090090075, -59.54086086086079, -60.54163163163162, -61.54240240240233, -62.54317317317316, -63.54394394394387, -64.5447147147147, -65.54548548548541, -66.54625625625624, -67.54702702702696, -68.54779779779778, -69.5485685685685, -70.54933933933933, -71.55011011011004, -72.55088088088087, -73.55165165165158, -74.55242242242241, -75.55319319319312, -76.55396396396395, -77.55473473473467, -78.5555055055055, -79.55627627627621, -80.55704704704704, -81.55781781781775, -82.55858858858858, -83.55935935935929, -84.56013013013012, -85.56090090090083, -86.56167167167166, -87.56244244244238, -88.5632132132132, -89.56398398398392, -90.56475475475474, -91.56552552552546, -92.56629629629629, -93.567067067067, -94.56783783783783, -95.56860860860854, -96.56937937937937, -97.57015015015008, -98.57092092092091, -99.57169169169163, -100.57246246246245, -101.57323323323317, -102.574004004004, -103.57477477477471, -104.57554554554554, -105.57631631631625, -106.57708708708708, -107.5778578578578, -108.57862862862862, -109.57939939939934, -110.58017017017016, -111.58094094094088, -112.5817117117117, -113.58248248248242, -114.58325325325325, -115.58402402402396, -116.58479479479479, -117.5855655655655, -118.58633633633633, -119.58710710710704, -120.58787787787787, -121.58864864864859, -122.58941941941941, -123.59019019019013, -124.59096096096096, -125.59173173173167, -126.5925025025025, -127.59327327327321, -128.59404404404404, -129.59481481481475, -130.59558558558558, -131.5963563563563, -132.59712712712712, -133.59789789789784, -134.59866866866867, -135.59943943943938, -136.6002102102102, -137.60098098098092, -138.60175175175175, -139.60252252252246, -140.6032932932933, -141.604064064064, -142.60483483483483, -143.60560560560555, -144.60637637637637, -145.6071471471471, -146.60791791791792, -147.60868868868863, -148.60945945945946, -149.61023023023017, -150.611001001001, -151.6117717717717, -152.61254254254254, -153.61331331331326, -154.61408408408408, -155.6148548548548, -156.61562562562563, -157.61639639639634, -158.61716716716717, -159.61793793793788, -160.6187087087087, -161.61947947947942, -162.62025025025025, -163.62102102102097, -164.6217917917918, -165.6225625625625, -166.62333333333333, -167.62410410410405, -168.62487487487488, -169.6256456456456, -170.62641641641642, -171.62718718718713, -172.62795795795796, -173.62872872872867, -174.6294994994995, -175.63027027027022, -176.63104104104104, -177.63181181181176, -178.6325825825826, -179.6333533533533, -180.63412412412413, -181.63489489489484, -182.63566566566567, -183.63643643643638, -184.6372072072072, -185.63797797797793, -186.63874874874875, -187.63951951951947, -188.6402902902903, -189.641061061061, -190.64183183183184, -191.64260260260255, -192.64337337337338, -193.6441441441441, -194.64491491491492, -195.64568568568563, -196.64645645645646, -197.64722722722718, -198.647997997998, -199.64876876876872, -200.64953953953955, -201.65031031031026, -202.6510810810811, -203.6518518518518, -204.65262262262263, -205.65339339339334, -206.65416416416417, -207.6549349349349, -208.6557057057057, -209.65647647647643, -210.65724724724726, -211.65801801801797, -212.6587887887888, -213.6595595595595, -214.66033033033034, -215.66110110110105, -216.66187187187188, -217.6626426426426, -218.66341341341342, -219.66418418418414, -220.66495495495496, -221.66572572572568, -222.6664964964965, -223.66726726726722, -224.66803803803805, -225.66880880880876, -226.6695795795796, -227.6703503503503, -228.67112112112113, -229.67189189189185, -230.67266266266267, -231.6734334334334, -232.67420420420422, -233.67497497497493, -234.67574574574576, -235.67651651651647, -236.6772872872873, -237.678058058058, -238.67882882882884, -239.67959959959956, -240.68037037037038, -241.6811411411411, -242.68191191191193, -243.68268268268264, -244.68345345345347, -245.68422422422418, -246.684994994995, -247.68576576576572, -248.68653653653655, -249.68730730730726, -250.6880780780781, -251.6888488488488, -252.68961961961963, -253.69039039039035, -254.69116116116118, -255.6919319319319, -256.6927027027027, -257.69347347347343, -258.69424424424426, -259.695015015015, -260.6957857857858, -261.6965565565565, -262.69732732732734, -263.69809809809806, -264.6988688688689, -265.6996396396396, -266.7004104104104, -267.70118118118114, -268.70195195195186, -269.7027227227227, -270.7034934934934, -271.7042642642642, -272.70503503503494, -273.70580580580577, -274.7065765765765, -275.7073473473473, -276.708118118118, -277.70888888888885, -278.70965965965956, -279.7104304304304, -280.7112012012011, -281.71197197197193, -282.71274274274265, -283.7135135135135, -284.7142842842842, -285.715055055055, -286.71582582582573, -287.71659659659656, -288.7173673673673, -289.7181381381381, -290.7189089089088, -291.71967967967964, -292.72045045045036, -293.7212212212212, -294.7219919919919, -295.7227627627627, -296.72353353353344, -297.72430430430427, -298.725075075075, -299.7258458458458, -300.7266166166165, -301.72738738738735, -302.72815815815807, -303.7289289289289, -304.7296996996996, -305.73047047047044, -306.73124124124115, -307.732012012012, -308.7327827827827, -309.7335535535535, -310.73432432432423, -311.73509509509506, -312.7358658658658, -313.7366366366366, -314.7374074074073, -315.73817817817815, -316.73894894894886, -317.7397197197197, -318.7404904904904, -319.74126126126123, -320.74203203203194, -321.74280280280277, -322.7435735735735, -323.7443443443443, -324.745115115115, -325.74588588588585, -326.74665665665657, -327.7474274274274, -328.7481981981981, -329.74896896896894, -330.74973973973965, -331.7505105105105, -332.7512812812812, -333.752052052052, -334.75282282282274, -335.75359359359356, -336.7543643643643, -337.7551351351351, -338.7559059059058, -339.75667667667665, -340.75744744744736, -341.7582182182182, -342.7589889889889, -343.75975975975973, -344.76053053053045, -345.7613013013013, -346.762072072072, -347.7628428428428, -348.76361361361353, -349.76438438438436, -350.76515515515507, -351.7659259259259, -352.7666966966966, -353.76746746746744, -354.76823823823815, -355.769009009009, -356.7697797797797, -357.7705505505505, -358.77132132132124, -359.77209209209207, -360.7728628628628, -361.7736336336336, -362.7744044044043, -363.77517517517515, -364.77594594594586, -365.7767167167167, -366.7774874874874, -367.77825825825823, -368.77902902902895, -369.7797997997998, -370.7805705705705, -371.7813413413413, -372.78211211211203, -373.78288288288286, -374.7836536536536, -375.7844244244244, -376.7851951951951, -377.78596596596594, -378.78673673673666, -379.7875075075075, -380.7882782782782, -381.789049049049, -382.78981981981974, -383.79059059059057, -384.7913613613613, -385.7921321321321, -386.7929029029028, -387.79367367367365, -388.79444444444437, -389.7952152152152, -390.7959859859859, -391.79675675675674, -392.79752752752745, -393.7982982982983, -394.799069069069, -395.7998398398398, -396.80061061061053, -397.80138138138136, -398.8021521521521, -399.8029229229229, -400.8036936936936, -401.80446446446444, -402.80523523523516, -403.806006006006, -404.8067767767767, -405.80754754754753, -406.80831831831824, -407.80908908908907, -408.8098598598598, -409.8106306306306, -410.8114014014013, -411.81217217217215, -412.81294294294287, -413.8137137137137, -414.8144844844844, -415.81525525525524, -416.81602602602595, -417.8167967967968, -418.8175675675675, -419.8183383383383, -420.81910910910904, -421.81987987987986, -422.8206506506506, -423.8214214214214, -424.8221921921921, -425.82296296296295, -426.82373373373366, -427.8245045045045, -428.8252752752752, -429.82604604604603, -430.82681681681674, -431.8275875875876, -432.8283583583583, -433.8291291291291, -434.82989989989983, -435.83067067067066, -436.83144144144137, -437.8322122122122, -438.8329829829829, -439.83375375375374, -440.83452452452445, -441.8352952952953, -442.836066066066, -443.8368368368368, -444.83760760760754, -445.83837837837837, -446.8391491491491, -447.8399199199199, -448.8406906906906, -449.84146146146145, -450.84223223223216, -451.843003003003, -452.8437737737737, -453.84454454454453, -454.84531531531525, -455.8460860860861, -456.8468568568568, -457.8476276276276, -458.84839839839833, -459.84916916916916, -460.8499399399399, -461.8507107107107, -462.8514814814814, -463.85225225225224, -464.85302302302296, -465.8537937937938, -466.8545645645645, -467.8553353353353, -468.85610610610604, -469.85687687687687, -470.8576476476476, -471.8584184184184, -472.8591891891891, -473.85995995995995, -474.86073073073067, -475.8615015015015, -476.8622722722722, -477.86304304304304, -478.86381381381375, -479.8645845845846, -480.8653553553553, -481.8661261261261, -482.86689689689683, -483.86766766766766, -484.8684384384384, -485.8692092092092, -486.8699799799799, -487.87075075075074, -488.87152152152146, -489.8722922922923, -490.873063063063, -491.8738338338338, -492.87460460460454, -493.87537537537537, -494.8761461461461, -495.8769169169169, -496.8776876876876, -497.87845845845845, -498.87922922922917, -499.88], \"y\": [56.76012627464188, 56.70468580881082, 56.64935877914071, 56.59414518563153, 56.53904502828328, 56.48405830709598, 56.4291850220696, 56.37442517320416, 56.31977876049965, 56.26524578395609, 56.21082624357345, 56.15652013935175, 56.102327471290984, 56.04824823939116, 55.99428244365226, 55.94043008407429, 55.88669116065727, 55.83306567340118, 55.779553622306025, 55.7261550073718, 55.67286982859852, 55.619698085986165, 55.56663977953475, 55.51369490924427, 55.46086347511472, 55.408145477146114, 55.35554091533844, 55.3030497896917, 55.25067210020589, 55.19840784688102, 55.14625702971708, 55.09421964871407, 55.042295703872014, 54.99048519519088, 54.93878812267069, 54.88720448631142, 54.835734286113095, 54.7843775220757, 54.733134194199245, 54.68200430248372, 54.63098784692914, 54.58008482753549, 54.529295244302766, 54.47861909723098, 54.42805638632014, 54.37760711157022, 54.32727127298125, 54.2770488705532, 54.2269399042861, 54.176944374179925, 54.12706228023469, 54.077293622450384, 54.027638400827016, 53.978096615364585, 53.928668266063085, 53.87935335292252, 53.830151875942896, 53.7810638351242, 53.73208923046644, 53.683228061969615, 53.63448032963373, 53.58584603345878, 53.537325173444756, 53.48891774959168, 53.44062376189953, 53.39244321036831, 53.34437609499804, 53.2964224157887, 53.248582172740285, 53.20085536585281, 53.15324199512627, 53.105742060560665, 53.058355562155995, 53.01108249991226, 52.96392287382947, 52.9168766839076, 52.869943930146675, 52.82312461254668, 52.77641873110762, 52.729826285829496, 52.683347276712304, 52.63698170375605, 52.59072956696073, 52.544590866326345, 52.498565601852896, 52.45265377354038, 52.4068553813888, 52.36117042539816, 52.31559890556845, 52.27014082189967, 52.224796174391834, 52.179564963044925, 52.13444718785895, 52.089442848833926, 52.04455194596982, 51.999774479266655, 51.955110448724426, 51.910559854343134, 51.86612269612277, 51.82179897406335, 51.777588688164855, 51.7334918384273, 51.68950842485068, 51.645638447435, 51.60188190618024, 51.55823880108643, 51.51470913215355, 51.4712928993816, 51.427990102770586, 51.384800742320515, 51.34172481803137, 51.29876232990317, 51.25591327793589, 51.21317766212956, 51.170555482484154, 51.12804673899969, 51.085651431676155, 51.04336956051357, 51.001201125511905, 50.95914612667117, 50.91720456399138, 50.875376437472525, 50.833661747114604, 50.79206049291762, 50.75057267488157, 50.70919829300645, 50.667937347292266, 50.626789837739025, 50.58575576434671, 50.544835127115334, 50.504027926044884, 50.463334161135386, 50.42275383238681, 50.38228693979917, 50.34193348337247, 50.3016934631067, 50.26156687900187, 50.22155373105797, 50.18165401927501, 50.14186774365298, 50.10219490419189, 50.06263550089173, 50.02318953375251, 49.98385700277422, 49.94463790795687, 49.90553224930045, 49.86654002680496, 49.82766124047042, 49.7888958902968, 49.750243976284125, 49.71170549843238, 49.67328045674157, 49.634968851211696, 49.59677068184276, 49.55868594863476, 49.52071465158769, 49.482856790701554, 49.44511236597636, 49.40748137741209, 49.36996382500877, 49.33255970876637, 49.29526902868491, 49.25809178476439, 49.2210279770048, 49.184077605406145, 49.147240669968426, 49.11051717069164, 49.07390710757579, 49.03741048062088, 49.0010272898269, 48.964757535193854, 48.928601216721745, 48.892558334410566, 48.85662888826033, 48.82081287827103, 48.785110304442654, 48.74952116677522, 48.71404546526872, 48.67868319992316, 48.643434370738525, 48.60829897771483, 48.573277020852075, 48.53836850015024, 48.50357341560935, 48.4688917672294, 48.43432355501038, 48.399868778952296, 48.36552743905514, 48.33129953531893, 48.29718506774365, 48.2631840363293, 48.22929644107589, 48.195522281983415, 48.16186155905187, 48.12831427228127, 48.0948804216716, 48.061560007222866, 48.02835302893506, 47.995259486808195, 47.96227938084226, 47.929412711037266, 47.89665947739321, 47.86401967991008, 47.83149331858789, 47.799080393426635, 47.76678090442631, 47.73459485158693, 47.70252223490847, 47.67056305439095, 47.63871731003437, 47.60698500183873, 47.57536612980402, 47.54386069393024, 47.5124686942174, 47.48119013066549, 47.45002500327452, 47.41897331204448, 47.388035056975376, 47.35721023806721, 47.32649885531998, 47.295900908733685, 47.26541639830832, 47.235045324043895, 47.2047876859404, 47.17464348399784, 47.14461271821622, 47.11469538859553, 47.08489149513578, 47.05520103783696, 47.025624016699076, 46.99616043172213, 46.96681028290612, 46.93757357025104, 46.9084502937569, 46.87944045342369, 46.85054404925142, 46.821761081240076, 46.79309154938967, 46.764535453700205, 46.736092794171675, 46.707763570804076, 46.67954778359741, 46.65144543255168, 46.62345651766689, 46.59558103894303, 46.567818996380105, 46.540170389978115, 46.512635219737064, 46.48521348565694, 46.45790518773776, 46.43071032597951, 46.403628900382195, 46.376660910945816, 46.349806357670374, 46.32306524055586, 46.29643755960229, 46.26992331480965, 46.243522506177946, 46.21723513370718, 46.19106119739734, 46.165000697248445, 46.139053633260474, 46.11322000543345, 46.08749981376735, 46.06189305826219, 46.03639973891797, 46.01101985573468, 45.98575340871233, 45.960600397850904, 45.93556082315042, 45.91063468461087, 45.88582198223225, 45.86112271601457, 45.83653688595783, 45.812064492062014, 45.78770553432714, 45.7634600127532, 45.7393279273402, 45.71530927808813, 45.69140406499699, 45.66761228806679, 45.64393394729752, 45.62036904268919, 45.59691757424179, 45.57357954195533, 45.55035494582981, 45.52724378586522, 45.50424606206156, 45.48136177441884, 45.458590922937056, 45.435933507616205, 45.413389528456285, 45.3909589854573, 45.36864187861926, 45.34643820794215, 45.32434797342597, 45.30237117507073, 45.28050781287642, 45.25875788684305, 45.237121396970615, 45.21559834325911, 45.19418872570854, 45.17289254431891, 45.15170979909021, 45.13064049002245, 45.109684617115626, 45.08884218036973, 45.068113179784774, 45.047497615360754, 45.026995487097665, 45.00660679499551, 44.9863315390543, 44.96616971927401, 44.94612133565467, 44.92618638819626, 44.90636487689878, 44.886656801762236, 44.867062162786624, 44.84758095997195, 44.82821319331821, 44.80895886282541, 44.789817968493544, 44.77079051032261, 44.75187648831261, 44.73307590246355, 44.71438875277542, 44.69581503924823, 44.67735476188197, 44.65900792067664, 44.64077451563226, 44.622654546748805, 44.60464801402629, 44.5867549174647, 44.568975257064054, 44.55130903282434, 44.53375624474556, 44.51631689282772, 44.498990977070804, 44.481778497474835, 44.464679454039796, 44.44769384676569, 44.430821675652524, 44.41406294070029, 44.39741764190899, 44.38088577927862, 44.36446735280919, 44.3481623625007, 44.33197080835314, 44.31589269036652, 44.299928008540824, 44.28407676287607, 44.26833895337225, 44.25271458002937, 44.23720364284742, 44.2218061418264, 44.20652207696632, 44.19135144826718, 44.17629425572897, 44.16135049935169, 44.14652017913535, 44.13180329507995, 44.117199847185475, 44.10270983545194, 44.08833325987934, 44.074070120467674, 44.059920417216944, 44.04588415012715, 44.03196131919829, 44.01815192443036, 44.00445596582337, 43.99087344337732, 43.97740435709219, 43.96404870696801, 43.950806493004755, 43.93767771520244, 43.92466237356106, 43.911760468080615, 43.898971998761105, 43.886296965602526, 43.87373536860488, 43.86128720776818, 43.848952483092404, 43.83673119457757, 43.82462334222367, 43.812628926030705, 43.80074794599867, 43.78898040212757, 43.77732629441741, 43.76578562286819, 43.7543583874799, 43.74304458825254, 43.731844225186116, 43.72075729828063, 43.70978380753608, 43.69892375295246, 43.688177134529774, 43.67754395226803, 43.66702420616722, 43.65661789622734, 43.646325022448394, 43.63614558483039, 43.62607958337332, 43.61612701807718, 43.60628788894198, 43.59656219596771, 43.58694993915437, 43.577451118501976, 43.56806573401052, 43.55879378567999, 43.54963527351039, 43.540590197501736, 43.53165855765401, 43.522840353967226, 43.51413558644137, 43.50554425507645, 43.49706635987247, 43.48870190082942, 43.480450877947305, 43.47231329122613, 43.46428914066588, 43.456378426266575, 43.448581148028204, 43.44089730595076, 43.43332690003426, 43.425869930278694, 43.41852639668406, 43.41129629925036, 43.40417963797759, 43.39717641286576, 43.39028662391487, 43.38351027112491, 43.37684735449589, 43.3702978740278, 43.36386182972064, 43.35753922157442, 43.35133004958914, 43.34523431376479, 43.339252014101376, 43.3333831505989, 43.32762772325735, 43.32198573207674, 43.31645717705707, 43.311042058198325, 43.30574037550052, 43.30055212896365, 43.295477318587714, 43.290515944372714, 43.28566800631865, 43.28093350442552, 43.276312438693324, 43.27180480912207, 43.26741061571174, 43.26312985846235, 43.25896253737389, 43.254908652446375, 43.25096820367979, 43.247141191074135, 43.24342761462942, 43.23982747434564, 43.236340770222796, 43.232967502260884, 43.22970767045991, 43.226561274819865, 43.22352831534076, 43.22060879202259, 43.21780270486535, 43.21511005386905, 43.21253083903368, 43.210065060359256, 43.20771271784576, 43.20547381149319, 43.20334834130157, 43.20133630727088, 43.19943770940112, 43.1976525476923, 43.19598082214441, 43.19442253275746, 43.192977679531445, 43.191646262466364, 43.19042828156221, 43.189323736819, 43.18833262823672, 43.18745495581538, 43.186690719554974, 43.1860399194555, 43.18550255551696, 43.185078627739365, 43.18476813612269, 43.18457108066696, 43.184487461372164, 43.1845172782383, 43.18466053126537, 43.18491722045338, 43.18528734580232, 43.185770907312204, 43.186367904983015, 43.18707833881476, 43.187902208807444, 43.18883951496106, 43.189890257275614, 43.1910544357511, 43.19233205038752, 43.19372310118488, 43.19522758814317, 43.196845511262396, 43.19857687054255, 43.200421665983654, 43.202379897585686, 43.20445156534865, 43.20663666927255, 43.208935209357385, 43.21134718560316, 43.213872598009864, 43.216511446577506, 43.21926373130608, 43.222129452195595, 43.225108609246035, 43.22820120245742, 43.231407231829735, 43.23472669736299, 43.23815959905717, 43.24170593691229, 43.24536571092835, 43.249138921105335, 43.25302556744327, 43.25702564994212, 43.26113916860192, 43.26536612342265, 43.26970651440431, 43.27416034154692, 43.27872760485045, 43.28340830431492, 43.28820243994033, 43.29311001172667, 43.29813101967394, 43.30326546378215, 43.30851334405129, 43.313874660481375, 43.31934941307239, 43.32493760182434, 43.330639226737226, 43.336454287811044, 43.3423827850458, 43.348424718441485, 43.35458008799811, 43.36084889371567, 43.36723113559416, 43.373726813633596, 43.380335927833954, 43.38705847819526, 43.39389446471749, 43.40084388740066, 43.40790674624476, 43.4150830412498, 43.42237277241578, 43.42977593974268, 43.43729254323053, 43.44492258287931, 43.45266605868902, 43.46052297065967, 43.46849331879125, 43.47657710308377, 43.48477432353722, 43.49308498015161, 43.501509072926936, 43.510046601863195, 43.518697566960384, 43.52746196821851, 43.536339805637574, 43.545331079217576, 43.55443578895851, 43.563653934860376, 43.572985516923175, 43.58243053514691, 43.591988989531586, 43.6016608800772, 43.61144620678374, 43.62134496965121, 43.63135716867963, 43.641482803868975, 43.65172187521926, 43.662074382730474, 43.672540326402626, 43.683119706235715, 43.693812522229734, 43.70461877438469, 43.715538462700586, 43.72657158717741, 43.73771814781517, 43.74897814461387, 43.7603515775735, 43.77183844669407, 43.78343875197557, 43.79515249341801, 43.80697967102138, 43.81892028478568, 43.83097433471092, 43.8431418207971, 43.855422743044215, 43.86781710145226, 43.88032489602124, 43.892946126751156, 43.905680793642006, 43.91852889669379, 43.93149043590651, 43.944565411280166, 43.95775382281476, 43.97105567051028, 43.98447095436675, 43.99799967438414, 44.011641830562475, 44.02539742290174, 44.039266451401936, 44.053248916063076, 44.06734481688515, 44.08155415386815, 44.09587692701209, 44.11031313631696, 44.124862781782774, 44.13952586340952, 44.1543023811972, 44.169192335145816, 44.184195725255364, 44.19931255152585, 44.214542813957266, 44.229886512549626, 44.24534364730292, 44.26091421821714, 44.2765982252923, 44.29239566852839, 44.30830654792542, 44.32433086348338, 44.34046861520228, 44.35671980308212, 44.37308442712289, 44.38956248732459, 44.40615398368723, 44.42285891621081, 44.43967728489532, 44.45660908974076, 44.47365433074714, 44.490813007914454, 44.5080851212427, 44.525470670731885, 44.542969656382006, 44.56058207819306, 44.57830793616505, 44.596147230297966, 44.61409996059183, 44.63216612704662, 44.65034572966235, 44.66863876843901, 44.68704524337661, 44.70556515447514, 44.72419850173461, 44.74294528515501, 44.76180550473635, 44.78077916047862, 44.79986625238183, 44.81906678044597, 44.838380744671056, 44.857808145057064, 44.877348981604015, 44.8970032543119, 44.91677096318071, 44.93665210821047, 44.956646689401154, 44.97675470675277, 44.99697616026533, 45.017311049938826, 45.03775937577325, 45.058321137768615, 45.07899633592491, 45.09978497024214, 45.12068704072031, 45.14170254735941, 45.16283149015945, 45.18407386912042, 45.205429684242326, 45.22689893552517, 45.248481622968946, 45.27017774657366, 45.2919873063393, 45.31391030226588, 45.3359467343534, 45.35809660260185, 45.38035990701124, 45.402736647581555, 45.425226824312816, 45.447830437205006, 45.470547486258134, 45.49337797147219, 45.51632189284719, 45.53937925038312, 45.562550044079984, 45.585834273937785, 45.60923193995652, 45.63274304213619, 45.6563675804768, 45.68010555497834, 45.70395696564081, 45.727921812464224, 45.75200009544857, 45.77619181459385, 45.80049696990007, 45.82491556136721, 45.849447588995304, 45.87409305278432, 45.898851952734276, 45.923724288845165, 45.94871006111699, 45.97380926954975, 45.99902191414345, 46.02434799489807, 46.04978751181364, 46.07534046489014, 46.101006854127576, 46.12678667952594, 46.152679941085246, 46.17868663880549, 46.20480677268666, 46.23104034272877, 46.257387348931815, 46.28384779129579, 46.310421669820705, 46.33710898450656, 46.36390973535334, 46.39082392236106, 46.417851545529714, 46.4449926048593, 46.472247100349826, 46.49961503200129, 46.52709639981368, 46.55469120378701, 46.58239944392127, 46.610221120216465, 46.6381562326726, 46.66620478128967, 46.694366766067674, 46.72264218700661, 46.75103104410648, 46.77953333736729, 46.808149066789035, 46.83687823237172, 46.86572083411533, 46.89467687201987, 46.92374634608536, 46.952929256311776, 46.98222560269913, 47.011635385247416, 47.04115860395664, 47.0707952588268, 47.10054534985789, 47.130408877049916, 47.16038584040288, 47.19047623991678, 47.22068007559161, 47.25099734742737, 47.28142805542408, 47.31197219958172, 47.342629779900285, 47.37340079637979, 47.40428524902023, 47.435283137821614, 47.466394462783924, 47.49761922390717, 47.52895742119135, 47.560409054636466, 47.59197412424252, 47.62365263000951, 47.65544457193742, 47.68734995002629, 47.719368764276076, 47.7515010146868, 47.783746701258465, 47.81610582399106, 47.84857838288459, 47.88116437793906, 47.913863809154456, 47.94667667653079, 47.979602980068066, 48.01264271976627, 48.04579589562541, 48.07906250764549, 48.1124425558265, 48.14593604016844, 48.17954296067132, 48.21326331733514, 48.247097110159885, 48.28104433914557, 48.31510500429219, 48.34927910559975, 48.383566643068235, 48.417967616697666, 48.45248202648803, 48.48710987243932, 48.52185115455155, 48.556705872824715, 48.59167402725882, 48.62675561785385, 48.66195064460982, 48.697259107526726, 48.732681006604565, 48.76821634184334, 48.80386511324305, 48.83962732080369, 48.87550296452527, 48.91149204440779, 48.947594560451236, 48.98381051265562, 49.02013990102094, 49.056582725547194, 49.09313898623438, 49.12980868308251, 49.16659181609157, 49.20348838526156, 49.240498390592485, 49.27762183208435, 49.31485870973715, 49.352209023550884, 49.389672773525554, 49.42724995966116, 49.46494058195769, 49.50274464041517, 49.54066213503358, 49.57869306581292, 49.6168374327532, 49.65509523585441, 49.69346647511656, 49.73195115053964, 49.77054926212366, 49.80926080986862, 49.8480857937745, 49.88702421384133, 49.92607607006908, 49.965241362457775, 50.0045200910074, 50.04391225571797, 50.08341785658946, 50.1230368936219, 50.16276936681526, 50.20261527616957, 50.2425746216848, 50.282647403360976, 50.322833621198086, 50.36313327519613, 50.403546365355105, 50.44407289167501, 50.48471285415586, 50.52546625279764, 50.566333087600356, 50.607313358564014, 50.6484070656886, 50.68961420897412, 50.730934788420576, 50.77236880402797, 50.81391625579629, 50.85557714372556, 50.89735146781575, 50.93923922806689, 50.98124042447895, 51.02335505705196, 51.065583125785885, 51.10792463068076, 51.150379571736565, 51.19294794895331, 51.23562976233099, 51.278425011869594, 51.32133369756914, 51.36435581942962, 51.40749137745104, 51.45074037163339, 51.49410280197667, 51.5375786684809, 51.58116797114605, 51.62487070997214, 51.668686884959165, 51.71261649610713, 51.75665954341602, 51.800816026885855, 51.84508594651662, 51.88946930230832, 51.93396609426095, 51.97857632237452, 52.02329998664902, 52.068137087084466, 52.11308762368084, 52.15815159643815, 52.203329005356395, 52.248619850435574, 52.29402413167569, 52.33954184907674, 52.38517300263872, 52.430917592361645, 52.4767756182455, 52.52274708029029, 52.56883197849601, 52.61503031286267, 52.66134208339027, 52.70776729007879, 52.75430593292826, 52.80095801193866, 52.84772352710999, 52.894602478442266, 52.941594865935464, 52.988700689589606, 53.03591994940467, 53.08325264538069, 53.13069877751763, 53.17825834581551, 53.22593135027432, 53.273717790894075, 53.32161766767475, 53.36963098061638, 53.41775772971893, 53.46599791498242, 53.514351536406835, 53.5628185939922, 53.61139908773849, 53.66009301764572, 53.70890038371388, 53.75782118594298, 53.80685542433301, 53.85600309888398, 53.90526420959588, 53.954638756468725, 54.00412673950249, 54.0537281586972, 54.10344301405284, 54.15327130556942, 54.203213033246925, 54.253268197085376, 54.30343679708476, 54.35371883324508, 54.40411430556633, 54.45462321404852, 54.50524555869164, 54.5559813394957, 54.606830556460686, 54.657793209586615, 54.70886929887347, 54.76005882432128, 54.81136178593, 54.862778183699675, 54.914308017630276, 54.965951287721815, 55.017707993974284, 55.06957813638769, 55.12156171496203, 55.17365872969731, 55.22586918059352, 55.27819306765066, 55.33063039086874, 55.383181150247765, 55.43584534578771, 55.4886229774886, 55.54151404535042, 55.59451854937318, 55.64763648955687, 55.70086786590149, 55.75421267840705, 55.807670927073545, 55.86124261190098, 55.914927732889346, 55.968726290038646, 56.02263828334888, 56.07666371282005, 56.130802578452155, 56.18505488024519, 56.23942061819917, 56.29389979231408, 56.348492402589926, 56.4031984490267, 56.458017931624426, 56.51295085038307, 56.56799720530266, 56.62315699638317, 56.67843022362463, 56.73381688702702, 56.78931698659034, 56.8449305223146, 56.9006574941998, 56.95649790224593, 57.012451746452996, 57.068519026820994, 57.12469974334993, 57.180993896039794, 57.2374014848906, 57.29392250990234, 57.350556971075015, 57.407304868408616, 57.46416620190317, 57.52114097155864, 57.57822917737506, 57.63543081935241, 57.692745897490695, 57.75017441178991, 57.80771636225006, 57.86537174887115, 57.92314057165318]}],\n",
       "                        {\"template\": {\"data\": {\"bar\": [{\"error_x\": {\"color\": \"#2a3f5f\"}, \"error_y\": {\"color\": \"#2a3f5f\"}, \"marker\": {\"line\": {\"color\": \"#E5ECF6\", \"width\": 0.5}}, \"type\": \"bar\"}], \"barpolar\": [{\"marker\": {\"line\": {\"color\": \"#E5ECF6\", \"width\": 0.5}}, \"type\": \"barpolar\"}], \"carpet\": [{\"aaxis\": {\"endlinecolor\": \"#2a3f5f\", \"gridcolor\": \"white\", \"linecolor\": \"white\", \"minorgridcolor\": \"white\", \"startlinecolor\": \"#2a3f5f\"}, \"baxis\": {\"endlinecolor\": \"#2a3f5f\", \"gridcolor\": \"white\", \"linecolor\": \"white\", \"minorgridcolor\": \"white\", \"startlinecolor\": \"#2a3f5f\"}, \"type\": \"carpet\"}], \"choropleth\": [{\"colorbar\": {\"outlinewidth\": 0, \"ticks\": \"\"}, \"type\": \"choropleth\"}], \"contour\": [{\"colorbar\": {\"outlinewidth\": 0, \"ticks\": \"\"}, \"colorscale\": [[0.0, \"#0d0887\"], [0.1111111111111111, \"#46039f\"], [0.2222222222222222, \"#7201a8\"], [0.3333333333333333, \"#9c179e\"], [0.4444444444444444, \"#bd3786\"], [0.5555555555555556, \"#d8576b\"], [0.6666666666666666, \"#ed7953\"], [0.7777777777777778, \"#fb9f3a\"], [0.8888888888888888, \"#fdca26\"], [1.0, \"#f0f921\"]], \"type\": \"contour\"}], \"contourcarpet\": [{\"colorbar\": {\"outlinewidth\": 0, \"ticks\": \"\"}, \"type\": \"contourcarpet\"}], \"heatmap\": [{\"colorbar\": {\"outlinewidth\": 0, \"ticks\": \"\"}, \"colorscale\": [[0.0, \"#0d0887\"], [0.1111111111111111, \"#46039f\"], [0.2222222222222222, \"#7201a8\"], [0.3333333333333333, \"#9c179e\"], [0.4444444444444444, \"#bd3786\"], [0.5555555555555556, \"#d8576b\"], [0.6666666666666666, \"#ed7953\"], [0.7777777777777778, \"#fb9f3a\"], [0.8888888888888888, \"#fdca26\"], [1.0, \"#f0f921\"]], \"type\": \"heatmap\"}], \"heatmapgl\": [{\"colorbar\": {\"outlinewidth\": 0, \"ticks\": \"\"}, \"colorscale\": [[0.0, \"#0d0887\"], [0.1111111111111111, \"#46039f\"], [0.2222222222222222, \"#7201a8\"], [0.3333333333333333, \"#9c179e\"], [0.4444444444444444, \"#bd3786\"], [0.5555555555555556, \"#d8576b\"], [0.6666666666666666, \"#ed7953\"], [0.7777777777777778, \"#fb9f3a\"], [0.8888888888888888, \"#fdca26\"], [1.0, \"#f0f921\"]], \"type\": \"heatmapgl\"}], \"histogram\": [{\"marker\": {\"colorbar\": {\"outlinewidth\": 0, \"ticks\": \"\"}}, \"type\": \"histogram\"}], \"histogram2d\": [{\"colorbar\": {\"outlinewidth\": 0, \"ticks\": \"\"}, \"colorscale\": [[0.0, \"#0d0887\"], [0.1111111111111111, \"#46039f\"], [0.2222222222222222, \"#7201a8\"], [0.3333333333333333, \"#9c179e\"], [0.4444444444444444, \"#bd3786\"], [0.5555555555555556, \"#d8576b\"], [0.6666666666666666, \"#ed7953\"], [0.7777777777777778, \"#fb9f3a\"], [0.8888888888888888, \"#fdca26\"], [1.0, \"#f0f921\"]], \"type\": \"histogram2d\"}], \"histogram2dcontour\": [{\"colorbar\": {\"outlinewidth\": 0, \"ticks\": \"\"}, \"colorscale\": [[0.0, \"#0d0887\"], [0.1111111111111111, \"#46039f\"], [0.2222222222222222, \"#7201a8\"], [0.3333333333333333, \"#9c179e\"], [0.4444444444444444, \"#bd3786\"], [0.5555555555555556, \"#d8576b\"], [0.6666666666666666, \"#ed7953\"], [0.7777777777777778, \"#fb9f3a\"], [0.8888888888888888, \"#fdca26\"], [1.0, \"#f0f921\"]], \"type\": \"histogram2dcontour\"}], \"mesh3d\": [{\"colorbar\": {\"outlinewidth\": 0, \"ticks\": \"\"}, \"type\": \"mesh3d\"}], \"parcoords\": [{\"line\": {\"colorbar\": {\"outlinewidth\": 0, \"ticks\": \"\"}}, \"type\": \"parcoords\"}], \"pie\": [{\"automargin\": true, \"type\": \"pie\"}], \"scatter\": [{\"marker\": {\"colorbar\": {\"outlinewidth\": 0, \"ticks\": \"\"}}, \"type\": \"scatter\"}], \"scatter3d\": [{\"line\": {\"colorbar\": {\"outlinewidth\": 0, \"ticks\": \"\"}}, \"marker\": {\"colorbar\": {\"outlinewidth\": 0, \"ticks\": \"\"}}, \"type\": \"scatter3d\"}], \"scattercarpet\": [{\"marker\": {\"colorbar\": {\"outlinewidth\": 0, \"ticks\": \"\"}}, \"type\": \"scattercarpet\"}], \"scattergeo\": [{\"marker\": {\"colorbar\": {\"outlinewidth\": 0, \"ticks\": \"\"}}, \"type\": \"scattergeo\"}], \"scattergl\": [{\"marker\": {\"colorbar\": {\"outlinewidth\": 0, \"ticks\": \"\"}}, \"type\": \"scattergl\"}], \"scattermapbox\": [{\"marker\": {\"colorbar\": {\"outlinewidth\": 0, \"ticks\": \"\"}}, \"type\": \"scattermapbox\"}], \"scatterpolar\": [{\"marker\": {\"colorbar\": {\"outlinewidth\": 0, \"ticks\": \"\"}}, \"type\": \"scatterpolar\"}], \"scatterpolargl\": [{\"marker\": {\"colorbar\": {\"outlinewidth\": 0, \"ticks\": \"\"}}, \"type\": \"scatterpolargl\"}], \"scatterternary\": [{\"marker\": {\"colorbar\": {\"outlinewidth\": 0, \"ticks\": \"\"}}, \"type\": \"scatterternary\"}], \"surface\": [{\"colorbar\": {\"outlinewidth\": 0, \"ticks\": \"\"}, \"colorscale\": [[0.0, \"#0d0887\"], [0.1111111111111111, \"#46039f\"], [0.2222222222222222, \"#7201a8\"], [0.3333333333333333, \"#9c179e\"], [0.4444444444444444, \"#bd3786\"], [0.5555555555555556, \"#d8576b\"], [0.6666666666666666, \"#ed7953\"], [0.7777777777777778, \"#fb9f3a\"], [0.8888888888888888, \"#fdca26\"], [1.0, \"#f0f921\"]], \"type\": \"surface\"}], \"table\": [{\"cells\": {\"fill\": {\"color\": \"#EBF0F8\"}, \"line\": {\"color\": \"white\"}}, \"header\": {\"fill\": {\"color\": \"#C8D4E3\"}, \"line\": {\"color\": \"white\"}}, \"type\": \"table\"}]}, \"layout\": {\"annotationdefaults\": {\"arrowcolor\": \"#2a3f5f\", \"arrowhead\": 0, \"arrowwidth\": 1}, \"coloraxis\": {\"colorbar\": {\"outlinewidth\": 0, \"ticks\": \"\"}}, \"colorscale\": {\"diverging\": [[0, \"#8e0152\"], [0.1, \"#c51b7d\"], [0.2, \"#de77ae\"], [0.3, \"#f1b6da\"], [0.4, \"#fde0ef\"], [0.5, \"#f7f7f7\"], [0.6, \"#e6f5d0\"], [0.7, \"#b8e186\"], [0.8, \"#7fbc41\"], [0.9, \"#4d9221\"], [1, \"#276419\"]], \"sequential\": [[0.0, \"#0d0887\"], [0.1111111111111111, \"#46039f\"], [0.2222222222222222, \"#7201a8\"], [0.3333333333333333, \"#9c179e\"], [0.4444444444444444, \"#bd3786\"], [0.5555555555555556, \"#d8576b\"], [0.6666666666666666, \"#ed7953\"], [0.7777777777777778, \"#fb9f3a\"], [0.8888888888888888, \"#fdca26\"], [1.0, \"#f0f921\"]], \"sequentialminus\": [[0.0, \"#0d0887\"], [0.1111111111111111, \"#46039f\"], [0.2222222222222222, \"#7201a8\"], [0.3333333333333333, \"#9c179e\"], [0.4444444444444444, \"#bd3786\"], [0.5555555555555556, \"#d8576b\"], [0.6666666666666666, \"#ed7953\"], [0.7777777777777778, \"#fb9f3a\"], [0.8888888888888888, \"#fdca26\"], [1.0, \"#f0f921\"]]}, \"colorway\": [\"#636efa\", \"#EF553B\", \"#00cc96\", \"#ab63fa\", \"#FFA15A\", \"#19d3f3\", \"#FF6692\", \"#B6E880\", \"#FF97FF\", \"#FECB52\"], \"font\": {\"color\": \"#2a3f5f\"}, \"geo\": {\"bgcolor\": \"white\", \"lakecolor\": \"white\", \"landcolor\": \"#E5ECF6\", \"showlakes\": true, \"showland\": true, \"subunitcolor\": \"white\"}, \"hoverlabel\": {\"align\": \"left\"}, \"hovermode\": \"closest\", \"mapbox\": {\"style\": \"light\"}, \"paper_bgcolor\": \"white\", \"plot_bgcolor\": \"#E5ECF6\", \"polar\": {\"angularaxis\": {\"gridcolor\": \"white\", \"linecolor\": \"white\", \"ticks\": \"\"}, \"bgcolor\": \"#E5ECF6\", \"radialaxis\": {\"gridcolor\": \"white\", \"linecolor\": \"white\", \"ticks\": \"\"}}, \"scene\": {\"xaxis\": {\"backgroundcolor\": \"#E5ECF6\", \"gridcolor\": \"white\", \"gridwidth\": 2, \"linecolor\": \"white\", \"showbackground\": true, \"ticks\": \"\", \"zerolinecolor\": \"white\"}, \"yaxis\": {\"backgroundcolor\": \"#E5ECF6\", \"gridcolor\": \"white\", \"gridwidth\": 2, \"linecolor\": \"white\", \"showbackground\": true, \"ticks\": \"\", \"zerolinecolor\": \"white\"}, \"zaxis\": {\"backgroundcolor\": \"#E5ECF6\", \"gridcolor\": \"white\", \"gridwidth\": 2, \"linecolor\": \"white\", \"showbackground\": true, \"ticks\": \"\", \"zerolinecolor\": \"white\"}}, \"shapedefaults\": {\"line\": {\"color\": \"#2a3f5f\"}}, \"ternary\": {\"aaxis\": {\"gridcolor\": \"white\", \"linecolor\": \"white\", \"ticks\": \"\"}, \"baxis\": {\"gridcolor\": \"white\", \"linecolor\": \"white\", \"ticks\": \"\"}, \"bgcolor\": \"#E5ECF6\", \"caxis\": {\"gridcolor\": \"white\", \"linecolor\": \"white\", \"ticks\": \"\"}}, \"title\": {\"x\": 0.05}, \"xaxis\": {\"automargin\": true, \"gridcolor\": \"white\", \"linecolor\": \"white\", \"ticks\": \"\", \"title\": {\"standoff\": 15}, \"zerolinecolor\": \"white\", \"zerolinewidth\": 2}, \"yaxis\": {\"automargin\": true, \"gridcolor\": \"white\", \"linecolor\": \"white\", \"ticks\": \"\", \"title\": {\"standoff\": 15}, \"zerolinecolor\": \"white\", \"zerolinewidth\": 2}}}, \"title\": {\"text\": \"Dats965->979: DCbias with fit. Balance ratio = inf\"}, \"xaxis\": {\"title\": {\"text\": \"HQPC Bias /mV\"}}, \"yaxis\": {\"title\": {\"text\": \"Theta /mV (LP*200)\"}}},\n",
       "                        {\"responsive\": true}\n",
       "                    ).then(function(){\n",
       "                            \n",
       "var gd = document.getElementById('916c45cc-dc20-4975-b83a-43facb66361b');\n",
       "var x = new MutationObserver(function (mutations, observer) {{\n",
       "        var display = window.getComputedStyle(gd).display;\n",
       "        if (!display || display === 'none') {{\n",
       "            console.log([gd, 'removed!']);\n",
       "            Plotly.purge(gd);\n",
       "            observer.disconnect();\n",
       "        }}\n",
       "}});\n",
       "\n",
       "// Listen for the removal of the full notebook cells\n",
       "var notebookContainer = gd.closest('#notebook-container');\n",
       "if (notebookContainer) {{\n",
       "    x.observe(notebookContainer, {childList: true});\n",
       "}}\n",
       "\n",
       "// Listen for the clearing of the current output cell\n",
       "var outputEl = gd.closest('.output');\n",
       "if (outputEl) {{\n",
       "    x.observe(outputEl, {childList: true});\n",
       "}}\n",
       "\n",
       "                        })\n",
       "                };\n",
       "                });\n",
       "            </script>\n",
       "        </div>"
      ]
     },
     "metadata": {},
     "output_type": "display_data"
    }
   ],
   "source": [
    "# dats = get_dats(range(735, 749+1))  # Best of Correct Channel biases and HQPC at half first plateau\n",
    "dats = get_dats(range(965, 979+1))  # HQPC in 1st plateau\n",
    "\n",
    "\n",
    "thetas = [dat.Transition.avg_fit.best_values.theta for dat in dats]\n",
    "bias = [dat.Logs.fds['R2T(10M)'] for dat in dats]\n",
    "\n",
    "idxs = CU.get_data_index(bias, [500, -500])\n",
    "\n",
    "quad = lm.models.QuadraticModel()\n",
    "pars = quad.make_params()\n",
    "pars['b'].value = 0\n",
    "pars['b'].vary = True\n",
    "ftheta = thetas[idxs[0]:idxs[1]+1]\n",
    "fbias= bias[idxs[0]:idxs[1]+1]\n",
    "fit = quad.fit(ftheta, x=fbias, params=pars)\n",
    "\n",
    "fig = go.Figure()\n",
    "fig.add_trace(go.Scatter(x=bias, y=thetas, name='Data', mode='markers'))\n",
    "x = np.linspace(fbias[0], fbias[-1], 1000)\n",
    "fig.add_trace(go.Scatter(x=x, y=fit.eval(x=x), name='Fit', mode='lines'))\n",
    "fig.update_layout(xaxis_title='HQPC Bias /mV', yaxis_title='Theta /mV (LP*200)', title=f'Dats{dats[0].datnum}->{dats[-1].datnum}: DCbias with fit. Balance ratio = {dats[0].Logs.fds[\"R2T(10M)\"]/dats[0].Logs.fds[\"TC/0.001\"]:.4f}')\n",
    "fig.write_html(export_path+f'Dats{dats[0].datnum}-{dats[-1].datnum}DCbiasWithFit.html')\n",
    "fig.show()"
   ]
  },
  {
   "cell_type": "code",
   "execution_count": 11,
   "metadata": {},
   "outputs": [
    {
     "name": "stdout",
     "output_type": "stream",
     "text": [
      "[[Model]]\n",
      "    Model(linear)\n",
      "[[Fit Statistics]]\n",
      "    # fitting method   = leastsq\n",
      "    # function evals   = 6\n",
      "    # data points      = 15\n",
      "    # variables        = 2\n",
      "    chi-square         = 2986.47520\n",
      "    reduced chi-square = 229.728862\n",
      "    Akaike info crit   = 83.4069836\n",
      "    Bayesian info crit = 84.8230840\n",
      "[[Variables]]\n",
      "    slope:      0.05188251 +/- 0.00737573 (14.22%) (init = 1)\n",
      "    intercept: -43.5850445 +/- 3.91347130 (8.98%) (init = 0)\n"
     ]
    }
   ],
   "source": [
    "mids = [dat.Transition.avg_fit.best_values.mid for dat in dats]\n",
    "bias = [dat.Logs.fds['R2T(10M)'] for dat in dats]\n",
    "\n",
    "line = lm.models.LinearModel()\n",
    "\n",
    "fit = line.fit(mids, x=bias)\n",
    "print(fit.fit_report())\n"
   ]
  },
  {
   "cell_type": "code",
   "execution_count": 14,
   "metadata": {},
   "outputs": [
    {
     "data": {
      "text/plain": [
       "'Tuesday, August 18, 2020 15:49:04'"
      ]
     },
     "execution_count": 14,
     "metadata": {},
     "output_type": "execute_result"
    }
   ],
   "source": [
    "dat = get_dat(465)\n",
    "dat.Logs.time_completed"
   ]
  },
  {
   "cell_type": "code",
   "execution_count": null,
   "metadata": {},
   "outputs": [],
   "source": []
  },
  {
   "cell_type": "code",
   "execution_count": 6,
   "metadata": {},
   "outputs": [],
   "source": [
    "dats = get_dats(range(735, 749+1))\n",
    "\n",
    "hqpcs = [dat.Logs.fds['R2T(10M)']/10 for dat in dats]\n",
    "centers = [dat.Transition.avg_fit.best_values.mid for dat in dats]\n",
    "\n",
    "ndat = get_dat(484)\n",
    "nhqpcs = ndat.Data.y_array[:]/10\n",
    "ncenters = [fit.best_values.mid for fit in ndat.Transition.all_fits]\n",
    "\n",
    "%matplotlib qt\n",
    "fig, ax = plt.subplots(1,1)\n",
    "\n",
    "ax.plot(hqpcs, centers, label=f'Dats{dats[0].datnum}->{dats[-1].datnum}')\n",
    "ax.plot(nhqpcs, ncenters, label=f'Dat{ndat.datnum}')\n",
    "\n",
    "P.ax_setup(ax, f'Comparing Older DCbias vs Newer DCbias', 'HQPC bias /nA', 'Transition Center (LP*200) /mV', legend=True)\n",
    "\n",
    "plt.tight_layout();"
   ]
  },
  {
   "cell_type": "code",
   "execution_count": null,
   "metadata": {},
   "outputs": [],
   "source": []
  }
 ],
 "metadata": {
  "kernelspec": {
   "display_name": "PyDatKernel",
   "language": "python",
   "name": "pydatkernel"
  },
  "language_info": {
   "codemirror_mode": {
    "name": "ipython",
    "version": 3
   },
   "file_extension": ".py",
   "mimetype": "text/x-python",
   "name": "python",
   "nbconvert_exporter": "python",
   "pygments_lexer": "ipython3",
   "version": "3.8.5"
  }
 },
 "nbformat": 4,
 "nbformat_minor": 4
}
