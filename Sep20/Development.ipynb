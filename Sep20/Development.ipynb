{
 "cells": [
  {
   "cell_type": "code",
   "execution_count": 2,
   "metadata": {},
   "outputs": [],
   "source": [
    "import abc\n",
    "import h5py\n",
    "from dataclasses import dataclass\n",
    "import numpy as np\n",
    "import os\n",
    "import sys\n",
    "import logging\n",
    "from typing import List, Tuple, Union, Optional\n",
    "logger = logging.getLogger(__name__)\n",
    "sys.path.insert(1, r'D:\\OneDrive\\UBC LAB\\GitHub\\Python\\PyDatAnalysis')\n",
    "import src.HDF_Util as HDU\n",
    "import src.CoreUtil as CU"
   ]
  },
  {
   "cell_type": "code",
   "execution_count": null,
   "metadata": {},
   "outputs": [],
   "source": [
    "## Possible fix for an overlapping 'efit_info' empty attr in EA_values group which prevents the true 'efit_info' from loading\n",
    "\n",
    "for dat in dats:\n",
    "    g = dat.Other.group\n",
    "    if (vg := g.get('EA_values', None)) is not None:\n",
    "        if 'efit_info' in vg.attrs.keys():\n",
    "            del vg.attrs['efit_info']\n",
    "            print(f'deleted efit_info in dat{dat.datnum}')\n",
    "            g.file.flush()"
   ]
  },
  {
   "cell_type": "code",
   "execution_count": 20,
   "metadata": {},
   "outputs": [
    {
     "data": {
      "text/plain": [
       "([<function __main__.<lambda>(dat)>, <function __main__.<lambda>(dat)>],\n",
       " 'LCSS=%{customdata[1:.2f]}mV<br>LCB=%{customdata[2:.2f]}mV')"
      ]
     },
     "execution_count": 20,
     "metadata": {},
     "output_type": "execute_result"
    }
   ],
   "source": [
    "d = [\n",
    "    dict(name='LCSS', func=lambda dat: dat.Logs.fds['LCSS'], precision='.2f', units='mV', position=0),\n",
    "    dict(name='LCB',  func=lambda dat: dat.Logs.fds['LCB'], precision='.2f', units='mV', position=1),\n",
    "]\n",
    "\n",
    "\n",
    "\n"
   ]
  },
  {
   "cell_type": "code",
   "execution_count": null,
   "metadata": {},
   "outputs": [],
   "source": [
    "\n"
   ]
  }
 ],
 "metadata": {
  "kernelspec": {
   "display_name": "PyDatKernel",
   "language": "python",
   "name": "pydatkernel"
  },
  "language_info": {
   "codemirror_mode": {
    "name": "ipython",
    "version": 3
   },
   "file_extension": ".py",
   "mimetype": "text/x-python",
   "name": "python",
   "nbconvert_exporter": "python",
   "pygments_lexer": "ipython3",
   "version": "3.8.5"
  }
 },
 "nbformat": 4,
 "nbformat_minor": 4
}
